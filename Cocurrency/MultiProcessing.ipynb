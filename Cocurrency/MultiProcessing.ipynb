{
 "cells": [
  {
   "cell_type": "markdown",
   "metadata": {},
   "source": [
    "# 1 Basic"
   ]
  },
  {
   "cell_type": "code",
   "execution_count": 1,
   "metadata": {
    "collapsed": false
   },
   "outputs": [
    {
     "name": "stdout",
     "output_type": "stream",
     "text": [
      "Worker\n",
      "Worker\n",
      "Worker\n",
      "Worker\n",
      "Worker\n"
     ]
    }
   ],
   "source": [
    "import multiprocessing\n",
    "\n",
    "\n",
    "def worker():\n",
    "    \"\"\"worker function\"\"\"\n",
    "    print('Worker')\n",
    "\n",
    "\n",
    "if __name__ == '__main__':\n",
    "    jobs = []\n",
    "    for i in range(5):\n",
    "        p = multiprocessing.Process(target=worker)\n",
    "        jobs.append(p)\n",
    "        p.start()\n"
   ]
  },
  {
   "cell_type": "markdown",
   "metadata": {},
   "source": [
    "# 2 Determining the Current Process"
   ]
  },
  {
   "cell_type": "code",
   "execution_count": 2,
   "metadata": {
    "collapsed": false
   },
   "outputs": [
    {
     "name": "stdout",
     "output_type": "stream",
     "text": [
      "Process-8 Starting\n",
      "worker 1 Starting\n",
      "my_service Starting\n",
      "Process-8 Exiting\n",
      "worker 1 Exiting\n",
      "my_service Exiting\n"
     ]
    }
   ],
   "source": [
    "import multiprocessing\n",
    "import time\n",
    "\n",
    "\n",
    "def worker():\n",
    "    name = multiprocessing.current_process().name\n",
    "    print(name, 'Starting')\n",
    "    time.sleep(2)\n",
    "    print(name, 'Exiting')\n",
    "\n",
    "\n",
    "def my_service():\n",
    "    name = multiprocessing.current_process().name\n",
    "    print(name, 'Starting')\n",
    "    time.sleep(3)\n",
    "    print(name, 'Exiting')\n",
    "\n",
    "\n",
    "if __name__ == '__main__':\n",
    "    service = multiprocessing.Process(\n",
    "        name='my_service',\n",
    "        target=my_service,\n",
    "    )\n",
    "    worker_1 = multiprocessing.Process(\n",
    "        name='worker 1',\n",
    "        target=worker,\n",
    "    )\n",
    "    worker_2 = multiprocessing.Process(  # default name\n",
    "        target=worker,\n",
    "    )\n",
    "\n",
    "    worker_1.start()\n",
    "    worker_2.start()\n",
    "    service.start()"
   ]
  },
  {
   "cell_type": "markdown",
   "metadata": {},
   "source": [
    "# 3 Daemon Process"
   ]
  },
  {
   "cell_type": "code",
   "execution_count": 3,
   "metadata": {
    "collapsed": false
   },
   "outputs": [
    {
     "name": "stdout",
     "output_type": "stream",
     "text": [
      "Starting: daemon 38548\n",
      "Starting: non-daemon 38549\n",
      "Exiting: non-daemon 38549\n",
      "Exiting: daemon 38548\n"
     ]
    }
   ],
   "source": [
    "import multiprocessing\n",
    "import time\n",
    "import sys\n",
    "def daemon():\n",
    "    p = multiprocessing.current_process()\n",
    "    print('Starting:',p.name, p.pid)\n",
    "    sys.stdout.flush()\n",
    "    time.sleep(2)\n",
    "    print('Exiting:', p.name, p.pid)\n",
    "    sys.stdout.flush()\n",
    "    return\n",
    "\n",
    "def non_daemon():\n",
    "    p = multiprocessing.current_process()\n",
    "    print('Starting:',p.name,p.pid)\n",
    "    sys.stdout.flush()\n",
    "    print('Exiting:',p.name,p.pid)\n",
    "    sys.stdout.flush()\n",
    "if __name__ == '__main__':\n",
    "    d = multiprocessing.Process(\n",
    "    name='daemon',target=daemon)\n",
    "    d.daemon=True\n",
    "    \n",
    "    n = multiprocessing.Process(\n",
    "    name='non-daemon', target=non_daemon)\n",
    "    n.daemon=False\n",
    "    d.start()\n",
    "    time.sleep(1)\n",
    "    n.start()"
   ]
  },
  {
   "cell_type": "markdown",
   "metadata": {},
   "source": [
    "# 4 Terminating Process"
   ]
  },
  {
   "cell_type": "code",
   "execution_count": 5,
   "metadata": {
    "collapsed": false
   },
   "outputs": [
    {
     "name": "stdout",
     "output_type": "stream",
     "text": [
      "Before <Process(Process-11, initial)> False\n",
      "During <Process(Process-11, started)> True\n",
      "Terminate: <Process(Process-11, started)> True\n",
      "Join <Process(Process-11, stopped[SIGTERM])> False\n"
     ]
    }
   ],
   "source": [
    "import multiprocessing\n",
    "import time\n",
    "def slow_worker():\n",
    "    print('Starting worker')\n",
    "    time.sleep(0.1)\n",
    "    print('Fininsh worker')\n",
    "    return\n",
    "\n",
    "if __name__ == '__main__':\n",
    "    p = multiprocessing.Process(target=slow_worker)\n",
    "    print('Before', p, p.is_alive())\n",
    "    \n",
    "    p.start()\n",
    "    print('During',p, p.is_alive())\n",
    "    \n",
    "    p.terminate()\n",
    "    print('Terminate:',p, p.is_alive())\n",
    "    \n",
    "    p.join()\n",
    "    print('Join', p, p.is_alive())"
   ]
  },
  {
   "cell_type": "markdown",
   "metadata": {},
   "source": [
    "# 5 SubClassing Process"
   ]
  },
  {
   "cell_type": "code",
   "execution_count": 7,
   "metadata": {
    "collapsed": false
   },
   "outputs": [
    {
     "name": "stdout",
     "output_type": "stream",
     "text": [
      "In Worker-12\n",
      "In Worker-14\n",
      "In Worker-13\n",
      "In Worker-15\n",
      "In Worker-16\n"
     ]
    }
   ],
   "source": [
    "import multiprocessing\n",
    "class Worker(multiprocessing.Process):\n",
    "    def run(self):\n",
    "        print('In {}'.format(self.name))\n",
    "        return\n",
    "\n",
    "if __name__ == '__main__':\n",
    "    jobs = []\n",
    "    for i in range(5):\n",
    "        p = Worker()\n",
    "        jobs.append(p)\n",
    "        p.start()\n",
    "    for j in jobs:\n",
    "        j.join()"
   ]
  },
  {
   "cell_type": "code",
   "execution_count": null,
   "metadata": {
    "collapsed": true
   },
   "outputs": [],
   "source": []
  }
 ],
 "metadata": {
  "kernelspec": {
   "display_name": "Python 3",
   "language": "python",
   "name": "python3"
  },
  "language_info": {
   "codemirror_mode": {
    "name": "ipython",
    "version": 3
   },
   "file_extension": ".py",
   "mimetype": "text/x-python",
   "name": "python",
   "nbconvert_exporter": "python",
   "pygments_lexer": "ipython3",
   "version": "3.6.0"
  }
 },
 "nbformat": 4,
 "nbformat_minor": 2
}
