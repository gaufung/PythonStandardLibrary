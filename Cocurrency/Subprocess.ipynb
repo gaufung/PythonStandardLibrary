{
 "cells": [
  {
   "cell_type": "code",
   "execution_count": 2,
   "metadata": {
    "collapsed": false
   },
   "outputs": [
    {
     "name": "stdout",
     "output_type": "stream",
     "text": [
      "returncode: 0\n"
     ]
    }
   ],
   "source": [
    "import subprocess\n",
    "completed = subprocess.run(['ls','-l'])\n",
    "print('returncode:', completed.returncode)"
   ]
  },
  {
   "cell_type": "code",
   "execution_count": 3,
   "metadata": {
    "collapsed": false
   },
   "outputs": [
    {
     "name": "stdout",
     "output_type": "stream",
     "text": [
      "returncode: 0\n"
     ]
    }
   ],
   "source": [
    "import subprocess\n",
    "\n",
    "completed = subprocess.run('echo $HOME', shell=True)\n",
    "print('returncode:', completed.returncode)"
   ]
  },
  {
   "cell_type": "code",
   "execution_count": 4,
   "metadata": {
    "collapsed": false
   },
   "outputs": [
    {
     "name": "stdout",
     "output_type": "stream",
     "text": [
      "returncode: 0\n",
      "Have 17 bytes in stdout:\n",
      "Subprocess.ipynb\n",
      "\n"
     ]
    }
   ],
   "source": [
    "import subprocess\n",
    "\n",
    "completed = subprocess.run(\n",
    "    ['ls', '-1'],\n",
    "    stdout=subprocess.PIPE,\n",
    ")\n",
    "print('returncode:', completed.returncode)\n",
    "print('Have {} bytes in stdout:\\n{}'.format(\n",
    "    len(completed.stdout),\n",
    "    completed.stdout.decode('utf-8'))\n",
    ")"
   ]
  },
  {
   "cell_type": "code",
   "execution_count": null,
   "metadata": {
    "collapsed": true
   },
   "outputs": [],
   "source": []
  }
 ],
 "metadata": {
  "kernelspec": {
   "display_name": "Python 3",
   "language": "python",
   "name": "python3"
  },
  "language_info": {
   "codemirror_mode": {
    "name": "ipython",
    "version": 3
   },
   "file_extension": ".py",
   "mimetype": "text/x-python",
   "name": "python",
   "nbconvert_exporter": "python",
   "pygments_lexer": "ipython3",
   "version": "3.6.0"
  }
 },
 "nbformat": 4,
 "nbformat_minor": 2
}
