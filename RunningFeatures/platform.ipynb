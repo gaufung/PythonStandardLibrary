{
 "cells": [
  {
   "cell_type": "markdown",
   "metadata": {},
   "source": [
    "# Interpreter"
   ]
  },
  {
   "cell_type": "code",
   "execution_count": 2,
   "metadata": {
    "collapsed": false
   },
   "outputs": [
    {
     "name": "stdout",
     "output_type": "stream",
     "text": [
      "Version: 3.6.0\n",
      "Version tuple: ('3', '6', '0')\n",
      "Compiler: GCC 4.2.1 Compatible Apple LLVM 6.0 (clang-600.0.57)\n",
      "Buil: ('default', 'Dec 23 2016 13:19:00')\n"
     ]
    }
   ],
   "source": [
    "import platform\n",
    "print('Version:', platform.python_version())\n",
    "print('Version tuple:', platform.python_version_tuple())\n",
    "print('Compiler:', platform.python_compiler())\n",
    "print('Buil:', platform.python_build())"
   ]
  },
  {
   "cell_type": "markdown",
   "metadata": {},
   "source": [
    "# Platform"
   ]
  },
  {
   "cell_type": "code",
   "execution_count": 3,
   "metadata": {
    "collapsed": false
   },
   "outputs": [
    {
     "name": "stdout",
     "output_type": "stream",
     "text": [
      "Normal: Darwin-16.5.0-x86_64-i386-64bit\n",
      "Aliased: Darwin-16.5.0-x86_64-i386-64bit\n",
      "Terse: Darwin-16.5.0\n"
     ]
    }
   ],
   "source": [
    "import platform\n",
    "print('Normal:', platform.platform())\n",
    "print('Aliased:', platform.platform(aliased=True))\n",
    "print('Terse:', platform.platform(terse=True))"
   ]
  },
  {
   "cell_type": "markdown",
   "metadata": {},
   "source": [
    "# Operating System and Handware Info"
   ]
  },
  {
   "cell_type": "code",
   "execution_count": 4,
   "metadata": {
    "collapsed": false
   },
   "outputs": [
    {
     "name": "stdout",
     "output_type": "stream",
     "text": [
      "uname: uname_result(system='Darwin', node='gaofeng.local', release='16.5.0', version='Darwin Kernel Version 16.5.0: Fri Mar  3 16:52:33 PST 2017; root:xnu-3789.51.2~3/RELEASE_X86_64', machine='x86_64', processor='i386')\n",
      "\n",
      "system   : Darwin\n",
      "node     : gaofeng.local\n",
      "release  : 16.5.0\n",
      "version  : Darwin Kernel Version 16.5.0: Fri Mar  3 16:52:33 PST 2017; root:xnu-3789.51.2~3/RELEASE_X86_64\n",
      "machine  : x86_64\n",
      "processor: i386\n"
     ]
    }
   ],
   "source": [
    "import platform\n",
    "\n",
    "print('uname:', platform.uname())\n",
    "\n",
    "print()\n",
    "print('system   :', platform.system())\n",
    "print('node     :', platform.node())\n",
    "print('release  :', platform.release())\n",
    "print('version  :', platform.version())\n",
    "print('machine  :', platform.machine())\n",
    "print('processor:', platform.processor())"
   ]
  },
  {
   "cell_type": "markdown",
   "metadata": {},
   "source": [
    "# Executable Architecture"
   ]
  },
  {
   "cell_type": "code",
   "execution_count": 5,
   "metadata": {
    "collapsed": false
   },
   "outputs": [
    {
     "name": "stdout",
     "output_type": "stream",
     "text": [
      "interpreter: ('64bit', '')\n",
      "/bin/ls    : ('64bit', '')\n"
     ]
    }
   ],
   "source": [
    "import platform\n",
    "\n",
    "print('interpreter:', platform.architecture())\n",
    "print('/bin/ls    :', platform.architecture('/bin/ls'))"
   ]
  }
 ],
 "metadata": {
  "kernelspec": {
   "display_name": "Python 3",
   "language": "python",
   "name": "python3"
  },
  "language_info": {
   "codemirror_mode": {
    "name": "ipython",
    "version": 3
   },
   "file_extension": ".py",
   "mimetype": "text/x-python",
   "name": "python",
   "nbconvert_exporter": "python",
   "pygments_lexer": "ipython3",
   "version": "3.6.0"
  }
 },
 "nbformat": 4,
 "nbformat_minor": 2
}
