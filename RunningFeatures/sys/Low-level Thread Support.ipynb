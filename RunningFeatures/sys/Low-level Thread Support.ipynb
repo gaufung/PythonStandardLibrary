{
 "cells": [
  {
   "cell_type": "markdown",
   "metadata": {},
   "source": [
    "# Switch Interval"
   ]
  },
  {
   "cell_type": "code",
   "execution_count": 2,
   "metadata": {
    "collapsed": false
   },
   "outputs": [
    {
     "name": "stdout",
     "output_type": "stream",
     "text": [
      "interval = 0.001\n",
      "T0 T1 T2 T0 T1 T2 T0 T1 T2 T0 T1 T2 T1 T0 T2 \n",
      "\n",
      "interval = 0.100\n",
      "T0 T0 T0 T0 T0 T1 T1 T1 T1 T1 T2 T2 T2 T2 T2 \n",
      "\n"
     ]
    }
   ],
   "source": [
    "import sys\n",
    "import threading\n",
    "from queue import Queue\n",
    "\n",
    "\n",
    "def show_thread(q):\n",
    "    for i in range(5):\n",
    "        for j in range(1000000):\n",
    "            pass\n",
    "        q.put(threading.current_thread().name)\n",
    "    return\n",
    "\n",
    "\n",
    "def run_threads():\n",
    "    interval = sys.getswitchinterval()\n",
    "    print('interval = {:0.3f}'.format(interval))\n",
    "    q = Queue()\n",
    "    threads = [\n",
    "        threading.Thread(target=show_thread,\n",
    "                         name='T{}'.format(i),\n",
    "                         args=(q,))\n",
    "        for i in range(3)\n",
    "    ]\n",
    "    for t in threads:\n",
    "        t.setDaemon(True)\n",
    "        t.start()\n",
    "    for t in threads:\n",
    "        t.join()\n",
    "    while not q.empty():\n",
    "        print(q.get(), end=' ')\n",
    "    print()\n",
    "    return\n",
    "\n",
    "\n",
    "for interval in [0.001, 0.1]:\n",
    "    sys.setswitchinterval(interval)\n",
    "    run_threads()\n",
    "    print()"
   ]
  }
 ],
 "metadata": {
  "kernelspec": {
   "display_name": "Python 3",
   "language": "python",
   "name": "python3"
  },
  "language_info": {
   "codemirror_mode": {
    "name": "ipython",
    "version": 3
   },
   "file_extension": ".py",
   "mimetype": "text/x-python",
   "name": "python",
   "nbconvert_exporter": "python",
   "pygments_lexer": "ipython3",
   "version": "3.6.0"
  }
 },
 "nbformat": 4,
 "nbformat_minor": 2
}
