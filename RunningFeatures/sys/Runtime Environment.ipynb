{
 "cells": [
  {
   "cell_type": "markdown",
   "metadata": {},
   "source": [
    "# command line Arguments"
   ]
  },
  {
   "cell_type": "code",
   "execution_count": 1,
   "metadata": {
    "collapsed": false
   },
   "outputs": [
    {
     "name": "stdout",
     "output_type": "stream",
     "text": [
      "Arguments ['/Users/gaufung/anaconda/lib/python3.6/site-packages/ipykernel/__main__.py', '-f', '/Users/gaufung/Library/Jupyter/runtime/kernel-81a8c2d9-1ddf-400d-8809-efb9a497ddc8.json']\n"
     ]
    }
   ],
   "source": [
    "import sys\n",
    "print('Arguments', sys.argv)"
   ]
  },
  {
   "cell_type": "markdown",
   "metadata": {},
   "source": [
    "# input and output streams"
   ]
  },
  {
   "cell_type": "code",
   "execution_count": 2,
   "metadata": {
    "collapsed": false
   },
   "outputs": [
    {
     "name": "stderr",
     "output_type": "stream",
     "text": [
      "STATUS: Reading from stdin\n",
      "STATUS: Writing data to stdout\n",
      "STATUS: Done\n"
     ]
    }
   ],
   "source": [
    "import sys\n",
    "\n",
    "print('STATUS: Reading from stdin', file=sys.stderr)\n",
    "\n",
    "data = sys.stdin.read()\n",
    "\n",
    "print('STATUS: Writing data to stdout', file=sys.stderr)\n",
    "\n",
    "sys.stdout.write(data)\n",
    "sys.stdout.flush()\n",
    "\n",
    "print('STATUS: Done', file=sys.stderr)"
   ]
  }
 ],
 "metadata": {
  "kernelspec": {
   "display_name": "Python 3",
   "language": "python",
   "name": "python3"
  },
  "language_info": {
   "codemirror_mode": {
    "name": "ipython",
    "version": 3
   },
   "file_extension": ".py",
   "mimetype": "text/x-python",
   "name": "python",
   "nbconvert_exporter": "python",
   "pygments_lexer": "ipython3",
   "version": "3.6.0"
  }
 },
 "nbformat": 4,
 "nbformat_minor": 2
}
