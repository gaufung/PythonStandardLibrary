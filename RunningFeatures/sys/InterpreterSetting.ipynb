{
 "cells": [
  {
   "cell_type": "markdown",
   "metadata": {},
   "source": [
    "# Build-Time Version Information"
   ]
  },
  {
   "cell_type": "code",
   "execution_count": 1,
   "metadata": {
    "collapsed": false
   },
   "outputs": [
    {
     "name": "stdout",
     "output_type": "stream",
     "text": [
      "Version info:\n",
      "\n",
      "sys.version      = '3.6.0 |Anaconda custom (x86_64)| (default, Dec 23 2016, 13:19:00) \\n[GCC 4.2.1 Compatible Apple LLVM 6.0 (clang-600.0.57)]'\n",
      "sys.version_info = sys.version_info(major=3, minor=6, micro=0, releaselevel='final', serial=0)\n",
      "sys.hexversion   = 0x30600f0\n",
      "sys.api_version  = 1013\n"
     ]
    }
   ],
   "source": [
    "import sys\n",
    "print('Version info:')\n",
    "print()\n",
    "print('sys.version      =', repr(sys.version))\n",
    "print('sys.version_info =', sys.version_info)\n",
    "print('sys.hexversion   =', hex(sys.hexversion))\n",
    "print('sys.api_version  =', sys.api_version)"
   ]
  },
  {
   "cell_type": "code",
   "execution_count": 2,
   "metadata": {
    "collapsed": false
   },
   "outputs": [
    {
     "name": "stdout",
     "output_type": "stream",
     "text": [
      "This is interpreter was built for: darwin\n"
     ]
    }
   ],
   "source": [
    "print('This is interpreter was built for:', sys.platform)"
   ]
  },
  {
   "cell_type": "markdown",
   "metadata": {},
   "source": [
    "# Interpreter Implementation"
   ]
  },
  {
   "cell_type": "code",
   "execution_count": 3,
   "metadata": {
    "collapsed": false
   },
   "outputs": [
    {
     "name": "stdout",
     "output_type": "stream",
     "text": [
      "Name: cpython\n",
      "Version: sys.version_info(major=3, minor=6, micro=0, releaselevel='final', serial=0)\n",
      "Cache tag: cpython-36\n"
     ]
    }
   ],
   "source": [
    "import sys\n",
    "\n",
    "print('Name:', sys.implementation.name)\n",
    "print('Version:', sys.implementation.version)\n",
    "print('Cache tag:', sys.implementation.cache_tag)"
   ]
  },
  {
   "cell_type": "markdown",
   "metadata": {},
   "source": [
    "# Unicode Defaults"
   ]
  },
  {
   "cell_type": "code",
   "execution_count": 4,
   "metadata": {
    "collapsed": false
   },
   "outputs": [
    {
     "name": "stdout",
     "output_type": "stream",
     "text": [
      "Default encoding:  utf-8\n",
      "File System encoding: utf-8\n"
     ]
    }
   ],
   "source": [
    "import sys\n",
    "print('Default encoding: ', sys.getdefaultencoding())\n",
    "print('File System encoding:', sys.getfilesystemencoding())"
   ]
  },
  {
   "cell_type": "markdown",
   "metadata": {},
   "source": [
    "# Interactive Prompts"
   ]
  },
  {
   "cell_type": "code",
   "execution_count": 5,
   "metadata": {
    "collapsed": false
   },
   "outputs": [
    {
     "name": "stdout",
     "output_type": "stream",
     "text": [
      "In : \n"
     ]
    }
   ],
   "source": [
    "import sys\n",
    "print(sys.ps1)"
   ]
  },
  {
   "cell_type": "code",
   "execution_count": 6,
   "metadata": {
    "collapsed": false
   },
   "outputs": [
    {
     "name": "stdout",
     "output_type": "stream",
     "text": [
      "...: \n"
     ]
    }
   ],
   "source": [
    "print(sys.ps2)"
   ]
  },
  {
   "cell_type": "code",
   "execution_count": 7,
   "metadata": {
    "collapsed": false
   },
   "outputs": [
    {
     "name": "stdout",
     "output_type": "stream",
     "text": [
      ":::\n"
     ]
    }
   ],
   "source": [
    "sys.ps1=':::'\n",
    "sys.ps2='~~~'\n",
    "print(sys.ps1)"
   ]
  },
  {
   "cell_type": "markdown",
   "metadata": {},
   "source": [
    "# Install Location"
   ]
  },
  {
   "cell_type": "code",
   "execution_count": 8,
   "metadata": {
    "collapsed": false
   },
   "outputs": [
    {
     "name": "stdout",
     "output_type": "stream",
     "text": [
      "Interpreter executable:\n",
      "/Users/gaufung/anaconda/bin/python\n",
      "\n",
      "Installation prefix:\n",
      "/Users/gaufung/anaconda\n"
     ]
    }
   ],
   "source": [
    "import sys\n",
    "print('Interpreter executable:')\n",
    "print(sys.executable)\n",
    "print('\\nInstallation prefix:')\n",
    "print(sys.prefix)"
   ]
  }
 ],
 "metadata": {
  "kernelspec": {
   "display_name": "Python 3",
   "language": "python",
   "name": "python3"
  },
  "language_info": {
   "codemirror_mode": {
    "name": "ipython",
    "version": 3
   },
   "file_extension": ".py",
   "mimetype": "text/x-python",
   "name": "python",
   "nbconvert_exporter": "python",
   "pygments_lexer": "ipython3",
   "version": "3.6.0"
  }
 },
 "nbformat": 4,
 "nbformat_minor": 2
}
