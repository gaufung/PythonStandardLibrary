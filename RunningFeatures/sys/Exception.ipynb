{
 "cells": [
  {
   "cell_type": "markdown",
   "metadata": {},
   "source": [
    "# Unhandle Exception"
   ]
  },
  {
   "cell_type": "code",
   "execution_count": 2,
   "metadata": {
    "collapsed": false
   },
   "outputs": [
    {
     "name": "stdout",
     "output_type": "stream",
     "text": [
      "Before exception\n"
     ]
    },
    {
     "ename": "RuntimeError",
     "evalue": "This is the error message",
     "output_type": "error",
     "traceback": [
      "\u001b[0;31m---------------------------------------------------------------------------\u001b[0m",
      "\u001b[0;31mRuntimeError\u001b[0m                              Traceback (most recent call last)",
      "\u001b[0;32m<ipython-input-2-58eb8ab1936b>\u001b[0m in \u001b[0;36m<module>\u001b[0;34m()\u001b[0m\n\u001b[1;32m     10\u001b[0m \u001b[0mprint\u001b[0m\u001b[0;34m(\u001b[0m\u001b[0;34m'Before exception'\u001b[0m\u001b[0;34m)\u001b[0m\u001b[0;34m\u001b[0m\u001b[0m\n\u001b[1;32m     11\u001b[0m \u001b[0;34m\u001b[0m\u001b[0m\n\u001b[0;32m---> 12\u001b[0;31m \u001b[0;32mraise\u001b[0m \u001b[0mRuntimeError\u001b[0m\u001b[0;34m(\u001b[0m\u001b[0;34m'This is the error message'\u001b[0m\u001b[0;34m)\u001b[0m\u001b[0;34m\u001b[0m\u001b[0m\n\u001b[0m\u001b[1;32m     13\u001b[0m \u001b[0;34m\u001b[0m\u001b[0m\n\u001b[1;32m     14\u001b[0m \u001b[0mprint\u001b[0m\u001b[0;34m(\u001b[0m\u001b[0;34m'After exception'\u001b[0m\u001b[0;34m)\u001b[0m\u001b[0;34m\u001b[0m\u001b[0m\n",
      "\u001b[0;31mRuntimeError\u001b[0m: This is the error message"
     ]
    }
   ],
   "source": [
    "import sys\n",
    "\n",
    "\n",
    "def my_excepthook(type, value, traceback):\n",
    "    print('Unhandled error:', type, value)\n",
    "\n",
    "\n",
    "sys.excepthook = my_excepthook\n",
    "\n",
    "print('Before exception')\n",
    "\n",
    "raise RuntimeError('This is the error message')\n",
    "\n",
    "print('After exception')"
   ]
  },
  {
   "cell_type": "markdown",
   "metadata": {},
   "source": [
    "# Current Exception"
   ]
  },
  {
   "cell_type": "code",
   "execution_count": 3,
   "metadata": {
    "collapsed": false
   },
   "outputs": [
    {
     "name": "stdout",
     "output_type": "stream",
     "text": [
      "Handling RuntimeError exception with message \"This is the error message\" in Thread-5\n",
      "Handling RuntimeError exception with message \"This is the error message\" in Thread-4\n"
     ]
    }
   ],
   "source": [
    "import sys\n",
    "import threading\n",
    "import time\n",
    "\n",
    "\n",
    "def do_something_with_exception():\n",
    "    exc_type, exc_value = sys.exc_info()[:2]\n",
    "    print('Handling {} exception with message \"{}\" in {}'.format(\n",
    "        exc_type.__name__, exc_value,\n",
    "        threading.current_thread().name))\n",
    "\n",
    "\n",
    "def cause_exception(delay):\n",
    "    time.sleep(delay)\n",
    "    raise RuntimeError('This is the error message')\n",
    "\n",
    "\n",
    "def thread_target(delay):\n",
    "    try:\n",
    "        cause_exception(delay)\n",
    "    except:\n",
    "        do_something_with_exception()\n",
    "\n",
    "\n",
    "threads = [\n",
    "    threading.Thread(target=thread_target, args=(0.3,)),\n",
    "    threading.Thread(target=thread_target, args=(0.1,)),\n",
    "]\n",
    "\n",
    "for t in threads:\n",
    "    t.start()\n",
    "for t in threads:\n",
    "    t.join()"
   ]
  }
 ],
 "metadata": {
  "kernelspec": {
   "display_name": "Python 3",
   "language": "python",
   "name": "python3"
  },
  "language_info": {
   "codemirror_mode": {
    "name": "ipython",
    "version": 3
   },
   "file_extension": ".py",
   "mimetype": "text/x-python",
   "name": "python",
   "nbconvert_exporter": "python",
   "pygments_lexer": "ipython3",
   "version": "3.6.0"
  }
 },
 "nbformat": 4,
 "nbformat_minor": 2
}
