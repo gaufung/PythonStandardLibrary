{
 "cells": [
  {
   "cell_type": "markdown",
   "metadata": {},
   "source": [
    "# Current Usage"
   ]
  },
  {
   "cell_type": "code",
   "execution_count": 1,
   "metadata": {
    "collapsed": false
   },
   "outputs": [
    {
     "name": "stdout",
     "output_type": "stream",
     "text": [
      "User time                 (ru_utime  ) = 0.9065449999999999\n",
      "System time               (ru_stime  ) = 0.25634999999999997\n",
      "Max. Resident Set Size    (ru_maxrss ) = 41164800\n",
      "Shared Memory Size        (ru_ixrss  ) = 0\n",
      "Unshared Memory Size      (ru_idrss  ) = 0\n",
      "Stack Size                (ru_isrss  ) = 0\n",
      "Block inputs              (ru_inblock) = 438\n",
      "Block outputs             (ru_oublock) = 1\n"
     ]
    }
   ],
   "source": [
    "import resource\n",
    "import time\n",
    "\n",
    "RESOURCES = [\n",
    "    ('ru_utime', 'User time'),\n",
    "    ('ru_stime', 'System time'),\n",
    "    ('ru_maxrss', 'Max. Resident Set Size'),\n",
    "    ('ru_ixrss', 'Shared Memory Size'),\n",
    "    ('ru_idrss', 'Unshared Memory Size'),\n",
    "    ('ru_isrss', 'Stack Size'),\n",
    "    ('ru_inblock', 'Block inputs'),\n",
    "    ('ru_oublock', 'Block outputs'),\n",
    "]\n",
    "\n",
    "usage = resource.getrusage(resource.RUSAGE_SELF)\n",
    "\n",
    "for name, desc in RESOURCES:\n",
    "    print('{:<25} ({:<10}) = {}'.format(\n",
    "        desc, name, getattr(usage, name)))"
   ]
  },
  {
   "cell_type": "markdown",
   "metadata": {},
   "source": [
    "# Resources Limits"
   ]
  },
  {
   "cell_type": "code",
   "execution_count": 2,
   "metadata": {
    "collapsed": false
   },
   "outputs": [
    {
     "name": "stdout",
     "output_type": "stream",
     "text": [
      "Resource limits (soft/hard):\n",
      "core file size          0/9223372036854775807\n",
      "CPU time                9223372036854775807/9223372036854775807\n",
      "file size               9223372036854775807/9223372036854775807\n",
      "heap size               9223372036854775807/9223372036854775807\n",
      "stack size              8388608/67104768\n",
      "resident set size       9223372036854775807/9223372036854775807\n",
      "number of processes     709/1064\n",
      "number of open files    256/9223372036854775807\n",
      "lockable memory address 9223372036854775807/9223372036854775807\n"
     ]
    }
   ],
   "source": [
    "import resource\n",
    "\n",
    "LIMITS = [\n",
    "    ('RLIMIT_CORE', 'core file size'),\n",
    "    ('RLIMIT_CPU', 'CPU time'),\n",
    "    ('RLIMIT_FSIZE', 'file size'),\n",
    "    ('RLIMIT_DATA', 'heap size'),\n",
    "    ('RLIMIT_STACK', 'stack size'),\n",
    "    ('RLIMIT_RSS', 'resident set size'),\n",
    "    ('RLIMIT_NPROC', 'number of processes'),\n",
    "    ('RLIMIT_NOFILE', 'number of open files'),\n",
    "    ('RLIMIT_MEMLOCK', 'lockable memory address'),\n",
    "]\n",
    "\n",
    "print('Resource limits (soft/hard):')\n",
    "for name, desc in LIMITS:\n",
    "    limit_num = getattr(resource, name)\n",
    "    soft, hard = resource.getrlimit(limit_num)\n",
    "    print('{:<23} {}/{}'.format(desc, soft, hard))"
   ]
  },
  {
   "cell_type": "code",
   "execution_count": 3,
   "metadata": {
    "collapsed": false
   },
   "outputs": [
    {
     "name": "stderr",
     "output_type": "stream",
     "text": [
      "ERROR:root:Internal Python error in the inspect module.\n",
      "Below is the traceback from this internal error.\n",
      "\n"
     ]
    },
    {
     "name": "stdout",
     "output_type": "stream",
     "text": [
      "Soft limit starts as  : 256\n",
      "Soft limit changed to : 4\n",
      "Traceback (most recent call last):\n",
      "  File \"/Users/gaufung/anaconda/lib/python3.6/site-packages/IPython/core/interactiveshell.py\", line 2881, in run_code\n",
      "  File \"<ipython-input-3-c5d94b513c7e>\", line 12, in <module>\n",
      "    random = open('/dev/random', 'r')\n",
      "OSError: [Errno 24] Too many open files: '/dev/random'\n",
      "\n",
      "During handling of the above exception, another exception occurred:\n",
      "\n",
      "Traceback (most recent call last):\n",
      "  File \"/Users/gaufung/anaconda/lib/python3.6/site-packages/IPython/core/interactiveshell.py\", line 1821, in showtraceback\n",
      "AttributeError: 'OSError' object has no attribute '_render_traceback_'\n",
      "\n",
      "During handling of the above exception, another exception occurred:\n",
      "\n",
      "Traceback (most recent call last):\n",
      "  File \"/Users/gaufung/anaconda/lib/python3.6/site-packages/IPython/core/ultratb.py\", line 1132, in get_records\n",
      "  File \"/Users/gaufung/anaconda/lib/python3.6/site-packages/IPython/core/ultratb.py\", line 313, in wrapped\n",
      "  File \"/Users/gaufung/anaconda/lib/python3.6/site-packages/IPython/core/ultratb.py\", line 358, in _fixed_getinnerframes\n",
      "  File \"/Users/gaufung/anaconda/lib/python3.6/inspect.py\", line 1454, in getinnerframes\n",
      "  File \"/Users/gaufung/anaconda/lib/python3.6/inspect.py\", line 1411, in getframeinfo\n",
      "  File \"/Users/gaufung/anaconda/lib/python3.6/inspect.py\", line 666, in getsourcefile\n",
      "  File \"/Users/gaufung/anaconda/lib/python3.6/inspect.py\", line 695, in getmodule\n",
      "  File \"/Users/gaufung/anaconda/lib/python3.6/inspect.py\", line 679, in getabsfile\n",
      "  File \"/Users/gaufung/anaconda/lib/python3.6/posixpath.py\", line 374, in abspath\n",
      "OSError: [Errno 24] Too many open files\n"
     ]
    },
    {
     "ename": "OSError",
     "evalue": "[Errno 24] Too many open files: '/dev/random'",
     "output_type": "error",
     "traceback": [
      "\u001b[0;31m---------------------------------------------------------------------------\u001b[0m"
     ]
    }
   ],
   "source": [
    "import resource\n",
    "import os\n",
    "\n",
    "soft, hard = resource.getrlimit(resource.RLIMIT_NOFILE)\n",
    "print('Soft limit starts as  :', soft)\n",
    "\n",
    "resource.setrlimit(resource.RLIMIT_NOFILE, (4, hard))\n",
    "\n",
    "soft, hard = resource.getrlimit(resource.RLIMIT_NOFILE)\n",
    "print('Soft limit changed to :', soft)\n",
    "\n",
    "random = open('/dev/random', 'r')\n",
    "print('random has fd =', random.fileno())\n",
    "try:\n",
    "    null = open('/dev/null', 'w')\n",
    "except IOError as err:\n",
    "    print(err)\n",
    "else:\n",
    "    print('null has fd =', null.fileno())"
   ]
  }
 ],
 "metadata": {
  "kernelspec": {
   "display_name": "Python 3",
   "language": "python",
   "name": "python3"
  },
  "language_info": {
   "codemirror_mode": {
    "name": "ipython",
    "version": 3
   },
   "file_extension": ".py",
   "mimetype": "text/x-python",
   "name": "python",
   "nbconvert_exporter": "python",
   "pygments_lexer": "ipython3",
   "version": "3.6.0"
  }
 },
 "nbformat": 4,
 "nbformat_minor": 2
}
