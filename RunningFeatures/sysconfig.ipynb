{
 "cells": [
  {
   "cell_type": "markdown",
   "metadata": {},
   "source": [
    "# Configuration Variables"
   ]
  },
  {
   "cell_type": "code",
   "execution_count": 1,
   "metadata": {
    "collapsed": false
   },
   "outputs": [
    {
     "name": "stdout",
     "output_type": "stream",
     "text": [
      "Found 658 configuration settings\n",
      "\n",
      "Some highlights:\n",
      "\n",
      " Installation prefixes:\n",
      "  prefix=/Users/gaufung/anaconda\n",
      "  exec_prefix=/Users/gaufung/anaconda\n",
      "\n",
      " Version info:\n",
      "  py_version=3.6.0\n",
      "  py_version_short=3.6\n",
      "  py_version_nodot=36\n",
      "\n",
      " Base directories:\n",
      "  base=/Users/gaufung/anaconda\n",
      "  platbase=/Users/gaufung/anaconda\n",
      "  userbase=/Users/gaufung/.local\n",
      "  srcdir=/Users/gaufung/anaconda/lib/python3.6/config-3.6m-darwin\n",
      "\n",
      " Compiler and linker flags:\n",
      "  LDFLAGS=-L/Users/gaufung/anaconda/lib  -arch x86_64 -L/Users/gaufung/anaconda/lib  -arch x86_64\n",
      "  BASECFLAGS=-Wno-unused-result -Wsign-compare -Wunreachable-code\n",
      "  Py_ENABLE_SHARED=1\n"
     ]
    }
   ],
   "source": [
    "import sysconfig\n",
    "\n",
    "config_values = sysconfig.get_config_vars()\n",
    "print('Found {} configuration settings'.format(\n",
    "    len(config_values.keys())))\n",
    "\n",
    "print('\\nSome highlights:\\n')\n",
    "\n",
    "print(' Installation prefixes:')\n",
    "print('  prefix={prefix}'.format(**config_values))\n",
    "print('  exec_prefix={exec_prefix}'.format(**config_values))\n",
    "\n",
    "print('\\n Version info:')\n",
    "print('  py_version={py_version}'.format(**config_values))\n",
    "print('  py_version_short={py_version_short}'.format(\n",
    "    **config_values))\n",
    "print('  py_version_nodot={py_version_nodot}'.format(\n",
    "    **config_values))\n",
    "\n",
    "print('\\n Base directories:')\n",
    "print('  base={base}'.format(**config_values))\n",
    "print('  platbase={platbase}'.format(**config_values))\n",
    "print('  userbase={userbase}'.format(**config_values))\n",
    "print('  srcdir={srcdir}'.format(**config_values))\n",
    "\n",
    "print('\\n Compiler and linker flags:')\n",
    "print('  LDFLAGS={LDFLAGS}'.format(**config_values))\n",
    "print('  BASECFLAGS={BASECFLAGS}'.format(**config_values))\n",
    "print('  Py_ENABLE_SHARED={Py_ENABLE_SHARED}'.format(\n",
    "    **config_values))\n"
   ]
  }
 ],
 "metadata": {
  "kernelspec": {
   "display_name": "Python 3",
   "language": "python",
   "name": "python3"
  },
  "language_info": {
   "codemirror_mode": {
    "name": "ipython",
    "version": 3
   },
   "file_extension": ".py",
   "mimetype": "text/x-python",
   "name": "python",
   "nbconvert_exporter": "python",
   "pygments_lexer": "ipython3",
   "version": "3.6.0"
  }
 },
 "nbformat": 4,
 "nbformat_minor": 2
}
