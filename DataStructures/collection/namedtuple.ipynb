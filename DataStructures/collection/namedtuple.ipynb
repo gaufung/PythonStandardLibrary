{
 "cells": [
  {
   "cell_type": "markdown",
   "metadata": {},
   "source": [
    "# 1 Defining"
   ]
  },
  {
   "cell_type": "code",
   "execution_count": 1,
   "metadata": {
    "collapsed": false
   },
   "outputs": [
    {
     "name": "stdout",
     "output_type": "stream",
     "text": [
      "\n",
      "Representation Person(name='Bob', age=30)\n"
     ]
    }
   ],
   "source": [
    "import collections\n",
    "Person = collections.namedtuple('Person', 'name age')\n",
    "bob = Person(name='Bob', age=30)\n",
    "print('\\nRepresentation', bob)"
   ]
  },
  {
   "cell_type": "code",
   "execution_count": 2,
   "metadata": {
    "collapsed": false
   },
   "outputs": [
    {
     "name": "stdout",
     "output_type": "stream",
     "text": [
      "\n",
      "Field by name: Jane\n"
     ]
    }
   ],
   "source": [
    "jane = Person(name='Jane', age=29)\n",
    "print('\\nField by name:', jane.name)"
   ]
  },
  {
   "cell_type": "code",
   "execution_count": 3,
   "metadata": {
    "collapsed": false
   },
   "outputs": [
    {
     "name": "stdout",
     "output_type": "stream",
     "text": [
      "\n",
      "Field by index\n",
      "Bob is 30 years old\n",
      "Jane is 29 years old\n"
     ]
    }
   ],
   "source": [
    "print('\\nField by index')\n",
    "for p in [bob, jane]:\n",
    "    print('{} is {} years old'.format(*p))"
   ]
  },
  {
   "cell_type": "markdown",
   "metadata": {},
   "source": [
    "# Invalid Field name"
   ]
  },
  {
   "cell_type": "code",
   "execution_count": 7,
   "metadata": {
    "collapsed": false
   },
   "outputs": [
    {
     "name": "stdout",
     "output_type": "stream",
     "text": [
      "Type names and field names cannot be a keyword: 'class'\n"
     ]
    }
   ],
   "source": [
    "import collections\n",
    "try:\n",
    "    collections.namedtuple('Person', 'name class age')\n",
    "except ValueError as err:\n",
    "    print(err)"
   ]
  },
  {
   "cell_type": "code",
   "execution_count": 8,
   "metadata": {
    "collapsed": false
   },
   "outputs": [
    {
     "name": "stdout",
     "output_type": "stream",
     "text": [
      "Encountered duplicate field name: 'age'\n"
     ]
    }
   ],
   "source": [
    "try:\n",
    "    collections.namedtuple('Person', 'name age age')\n",
    "except ValueError as err:\n",
    "    print(err)"
   ]
  },
  {
   "cell_type": "code",
   "execution_count": 9,
   "metadata": {
    "collapsed": false
   },
   "outputs": [
    {
     "name": "stdout",
     "output_type": "stream",
     "text": [
      "('name', '_1', 'age')\n",
      "('name', 'age', '_2')\n"
     ]
    }
   ],
   "source": [
    "import collections\n",
    "\n",
    "with_class = collections.namedtuple(\n",
    "    'Person', 'name class age',\n",
    "    rename=True)\n",
    "print(with_class._fields)\n",
    "\n",
    "two_ages = collections.namedtuple(\n",
    "    'Person', 'name age age',\n",
    "    rename=True)\n",
    "print(two_ages._fields)"
   ]
  }
 ],
 "metadata": {
  "kernelspec": {
   "display_name": "Python 3",
   "language": "python",
   "name": "python3"
  },
  "language_info": {
   "codemirror_mode": {
    "name": "ipython",
    "version": 3
   },
   "file_extension": ".py",
   "mimetype": "text/x-python",
   "name": "python",
   "nbconvert_exporter": "python",
   "pygments_lexer": "ipython3",
   "version": "3.6.0"
  }
 },
 "nbformat": 4,
 "nbformat_minor": 2
}
