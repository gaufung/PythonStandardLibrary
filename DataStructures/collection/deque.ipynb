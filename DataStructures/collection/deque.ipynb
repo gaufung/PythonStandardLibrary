{
 "cells": [
  {
   "cell_type": "code",
   "execution_count": 1,
   "metadata": {
    "collapsed": false
   },
   "outputs": [
    {
     "name": "stdout",
     "output_type": "stream",
     "text": [
      "Deque deque(['a', 'b', 'c', 'd', 'e', 'f', 'g'])\n",
      "length 7\n",
      "Left end: a\n",
      "Right end: g\n"
     ]
    }
   ],
   "source": [
    "import collections\n",
    "d = collections.deque('abcdefg')\n",
    "print('Deque', d)\n",
    "print('length', len(d))\n",
    "print('Left end:', d[0])\n",
    "print('Right end:', d[-1])"
   ]
  },
  {
   "cell_type": "code",
   "execution_count": 3,
   "metadata": {
    "collapsed": false
   },
   "outputs": [],
   "source": [
    "d.remove('c')"
   ]
  },
  {
   "cell_type": "code",
   "execution_count": 6,
   "metadata": {
    "collapsed": false
   },
   "outputs": [
    {
     "name": "stdout",
     "output_type": "stream",
     "text": [
      "remove(c) deque(['a', 'b', 'd', 'e', 'f', 'g'])\n"
     ]
    }
   ],
   "source": [
    "print('remove(c)', d)"
   ]
  },
  {
   "cell_type": "markdown",
   "metadata": {},
   "source": [
    "# Populating"
   ]
  },
  {
   "cell_type": "code",
   "execution_count": 7,
   "metadata": {
    "collapsed": false
   },
   "outputs": [
    {
     "name": "stdout",
     "output_type": "stream",
     "text": [
      "extend deque(['a', 'b', 'c', 'd', 'e', 'f', 'g'])\n",
      "append deque(['a', 'b', 'c', 'd', 'e', 'f', 'g', 'h'])\n"
     ]
    }
   ],
   "source": [
    "import collections\n",
    "d1 = collections.deque()\n",
    "d1.extend('abcdefg')\n",
    "print('extend', d1)\n",
    "d1.append('h')\n",
    "print('append', d1)"
   ]
  },
  {
   "cell_type": "code",
   "execution_count": 8,
   "metadata": {
    "collapsed": false
   },
   "outputs": [
    {
     "name": "stdout",
     "output_type": "stream",
     "text": [
      "extend left deque([5, 4, 3, 2, 1, 0])\n",
      "append left deque([6, 5, 4, 3, 2, 1, 0])\n"
     ]
    }
   ],
   "source": [
    "d2 = collections.deque()\n",
    "d2.extendleft(range(6))\n",
    "print('extend left', d2)\n",
    "d2.appendleft(6)\n",
    "print('append left', d2)"
   ]
  },
  {
   "cell_type": "markdown",
   "metadata": {},
   "source": [
    "# Consuming"
   ]
  },
  {
   "cell_type": "code",
   "execution_count": 9,
   "metadata": {
    "collapsed": false
   },
   "outputs": [
    {
     "name": "stdout",
     "output_type": "stream",
     "text": [
      "From the right\n",
      "f e d c b a \n",
      "\n",
      " From the left:\n",
      "0 1 2 3 4 5 "
     ]
    }
   ],
   "source": [
    "import collections\n",
    "print('From the right')\n",
    "d = collections.deque('abcdef')\n",
    "while True:\n",
    "    try:\n",
    "        print(d.pop(), end=' ')\n",
    "    except IndexError:\n",
    "        break\n",
    "print()\n",
    "print('\\n From the left:')\n",
    "d = collections.deque(range(6))\n",
    "while True:\n",
    "    try:\n",
    "        print(d.popleft(), end=' ')\n",
    "    except IndexError:\n",
    "        break"
   ]
  },
  {
   "cell_type": "markdown",
   "metadata": {},
   "source": [
    "the deque is thread safe"
   ]
  },
  {
   "cell_type": "code",
   "execution_count": 10,
   "metadata": {
    "collapsed": false
   },
   "outputs": [
    {
     "name": "stdout",
     "output_type": "stream",
     "text": [
      "    Left:0   Right:4\n",
      "\n",
      "   Right:3    Left:1\n",
      "\n",
      "    Left:2   Right done\n",
      "\n",
      "    Left done\n"
     ]
    }
   ],
   "source": [
    "import collections\n",
    "import threading\n",
    "import time\n",
    "\n",
    "candle = collections.deque(range(5))\n",
    "def burn(direction, nextSource):\n",
    "    while True:\n",
    "        try:\n",
    "            next = nextSource()\n",
    "        except IndexError:\n",
    "            break\n",
    "        else:\n",
    "            print('{:>8}:{}'.format(direction, next))\n",
    "            time.sleep(0.1)\n",
    "    print('{:>8} done'.format(direction))\n",
    "    return\n",
    "left = threading.Thread(target=burn, args=('Left', candle.popleft))\n",
    "right = threading.Thread(target=burn, args=('Right', candle.pop))\n",
    "left.start()\n",
    "right.start()\n",
    "\n",
    "left.join()\n",
    "right.join()"
   ]
  },
  {
   "cell_type": "markdown",
   "metadata": {},
   "source": [
    "# Rotating"
   ]
  },
  {
   "cell_type": "code",
   "execution_count": 11,
   "metadata": {
    "collapsed": false
   },
   "outputs": [
    {
     "name": "stdout",
     "output_type": "stream",
     "text": [
      "Normal    : deque([0, 1, 2, 3, 4, 5, 6, 7, 8, 9])\n",
      "Right rotation : deque([8, 9, 0, 1, 2, 3, 4, 5, 6, 7])\n",
      "Left rotation : deque([2, 3, 4, 5, 6, 7, 8, 9, 0, 1])\n"
     ]
    }
   ],
   "source": [
    "import collections\n",
    "d = collections.deque(range(10))\n",
    "print('Normal    :', d)\n",
    "d = collections.deque(range(10))\n",
    "d.rotate(2)\n",
    "print('Right rotation :', d)\n",
    "d = collections.deque(range(10))\n",
    "d.rotate(-2)\n",
    "print('Left rotation :', d)"
   ]
  },
  {
   "cell_type": "markdown",
   "metadata": {},
   "source": [
    "# Constraining the Queue Size"
   ]
  },
  {
   "cell_type": "code",
   "execution_count": 12,
   "metadata": {
    "collapsed": false
   },
   "outputs": [
    {
     "name": "stdout",
     "output_type": "stream",
     "text": [
      "n=  17\n",
      "D1: deque([17], maxlen=3)\n",
      "D2: deque([17], maxlen=3)\n",
      "n=  72\n",
      "D1: deque([17, 72], maxlen=3)\n",
      "D2: deque([72, 17], maxlen=3)\n",
      "n=  97\n",
      "D1: deque([17, 72, 97], maxlen=3)\n",
      "D2: deque([97, 72, 17], maxlen=3)\n",
      "n=  8\n",
      "D1: deque([72, 97, 8], maxlen=3)\n",
      "D2: deque([8, 97, 72], maxlen=3)\n"
     ]
    }
   ],
   "source": [
    "import collections\n",
    "import random\n",
    "random.seed(1)\n",
    "d1 = collections.deque(maxlen=3)\n",
    "d2 = collections.deque(maxlen=3)\n",
    "\n",
    "for i in range(4):\n",
    "    n = random.randint(0, 100)\n",
    "    print('n= ', n)\n",
    "    d1.append(n)\n",
    "    d2.appendleft(n)\n",
    "    print('D1:' ,d1)\n",
    "    print('D2:', d2)"
   ]
  }
 ],
 "metadata": {
  "kernelspec": {
   "display_name": "Python 3",
   "language": "python",
   "name": "python3"
  },
  "language_info": {
   "codemirror_mode": {
    "name": "ipython",
    "version": 3
   },
   "file_extension": ".py",
   "mimetype": "text/x-python",
   "name": "python",
   "nbconvert_exporter": "python",
   "pygments_lexer": "ipython3",
   "version": "3.6.0"
  }
 },
 "nbformat": 4,
 "nbformat_minor": 2
}
