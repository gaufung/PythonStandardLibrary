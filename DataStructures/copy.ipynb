{
 "cells": [
  {
   "cell_type": "markdown",
   "metadata": {},
   "source": [
    "The copy module includes two functions, copy() and deepcopy(), for duplicating existing objects."
   ]
  },
  {
   "cell_type": "markdown",
   "metadata": {},
   "source": [
    "# Shallow Copy"
   ]
  },
  {
   "cell_type": "code",
   "execution_count": 3,
   "metadata": {
    "collapsed": false
   },
   "outputs": [
    {
     "name": "stdout",
     "output_type": "stream",
     "text": [
      "             my_list: [<__main__.MyClass object at 0x108e036a0>]\n",
      "                 dup: [<__main__.MyClass object at 0x108e036a0>]\n",
      "      dup is my_list: False\n",
      "      dup == my_list: True\n",
      "dup[0] is my_list[0]: True\n",
      "dup[0] == my_list[0]: True\n",
      "id(dup[0])==id(dup[0]) True\n"
     ]
    }
   ],
   "source": [
    "import copy\n",
    "import functools\n",
    "\n",
    "\n",
    "@functools.total_ordering\n",
    "class MyClass:\n",
    "\n",
    "    def __init__(self, name):\n",
    "        self.name = name\n",
    "\n",
    "    def __eq__(self, other):\n",
    "        return self.name == other.name\n",
    "\n",
    "    def __gt__(self, other):\n",
    "        return self.name > other.name\n",
    "\n",
    "\n",
    "a = MyClass('a')\n",
    "my_list = [a]\n",
    "dup = copy.copy(my_list)\n",
    "\n",
    "print('             my_list:', my_list)\n",
    "print('                 dup:', dup)\n",
    "print('      dup is my_list:', (dup is my_list))\n",
    "print('      dup == my_list:', (dup == my_list))\n",
    "print('dup[0] is my_list[0]:', (dup[0] is my_list[0]))\n",
    "print('dup[0] == my_list[0]:', (dup[0] == my_list[0]))\n",
    "print('id(dup[0])==id(dup[0])', (id(dup[0])==id(dup[0])))\n"
   ]
  },
  {
   "cell_type": "markdown",
   "metadata": {},
   "source": [
    "# Deep Copy"
   ]
  },
  {
   "cell_type": "code",
   "execution_count": 5,
   "metadata": {
    "collapsed": false
   },
   "outputs": [
    {
     "name": "stdout",
     "output_type": "stream",
     "text": [
      "             my_list: [<__main__.MyClass object at 0x108e10c88>]\n",
      "                 dup: [<__main__.MyClass object at 0x108e10d30>]\n",
      "      dup is my_list: False\n",
      "      dup == my_list: True\n",
      "dup[0] is my_list[0]: False\n",
      "dup[0] == my_list[0]: True\n"
     ]
    }
   ],
   "source": [
    "import copy\n",
    "import functools\n",
    "\n",
    "\n",
    "@functools.total_ordering\n",
    "class MyClass:\n",
    "\n",
    "    def __init__(self, name):\n",
    "        self.name = name\n",
    "\n",
    "    def __eq__(self, other):\n",
    "        return self.name == other.name\n",
    "\n",
    "    def __gt__(self, other):\n",
    "        return self.name > other.name\n",
    "\n",
    "\n",
    "a = MyClass('a')\n",
    "my_list = [a]\n",
    "dup = copy.deepcopy(my_list)\n",
    "\n",
    "print('             my_list:', my_list)\n",
    "print('                 dup:', dup)\n",
    "print('      dup is my_list:', (dup is my_list))\n",
    "print('      dup == my_list:', (dup == my_list))\n",
    "print('dup[0] is my_list[0]:', (dup[0] is my_list[0]))\n",
    "print('dup[0] == my_list[0]:', (dup[0] == my_list[0]))"
   ]
  },
  {
   "cell_type": "markdown",
   "metadata": {},
   "source": [
    "# Customizing Copy Behavior"
   ]
  },
  {
   "cell_type": "code",
   "execution_count": 6,
   "metadata": {
    "collapsed": false
   },
   "outputs": [
    {
     "name": "stdout",
     "output_type": "stream",
     "text": [
      "__copy__()\n",
      "__deepcopy__({})\n"
     ]
    }
   ],
   "source": [
    "import copy\n",
    "import functools\n",
    "\n",
    "\n",
    "@functools.total_ordering\n",
    "class MyClass:\n",
    "\n",
    "    def __init__(self, name):\n",
    "        self.name = name\n",
    "\n",
    "    def __eq__(self, other):\n",
    "        return self.name == other.name\n",
    "\n",
    "    def __gt__(self, other):\n",
    "        return self.name > other.name\n",
    "\n",
    "    def __copy__(self):\n",
    "        print('__copy__()')\n",
    "        return MyClass(self.name)\n",
    "\n",
    "    def __deepcopy__(self, memo):\n",
    "        print('__deepcopy__({})'.format(memo))\n",
    "        return MyClass(copy.deepcopy(self.name, memo))\n",
    "\n",
    "\n",
    "a = MyClass('a')\n",
    "\n",
    "sc = copy.copy(a)\n",
    "dc = copy.deepcopy(a)"
   ]
  },
  {
   "cell_type": "markdown",
   "metadata": {},
   "source": [
    "# Recursion in Deep Copy"
   ]
  },
  {
   "cell_type": "code",
   "execution_count": 7,
   "metadata": {
    "collapsed": false
   },
   "outputs": [
    {
     "name": "stdout",
     "output_type": "stream",
     "text": [
      "\n",
      "Calling __deepcopy__ for Graph(name=root, id=4443932488)\n",
      "  Memo dictionary:\n",
      "    (empty)\n",
      "  Copying to new object Graph(name=root, id=4443878792)\n",
      "\n",
      "Calling __deepcopy__ for Graph(name=a, id=4443932376)\n",
      "  Memo dictionary:\n",
      "    Graph(name=root, id=4443932488): Graph(name=root, id=4443878792)\n",
      "  Copying to new object Graph(name=a, id=4443878904)\n",
      "\n",
      "Calling __deepcopy__ for Graph(name=root, id=4443932488)\n",
      "  Already copied to Graph(name=root, id=4443878792)\n",
      "\n",
      "Calling __deepcopy__ for Graph(name=b, id=4441866080)\n",
      "  Memo dictionary:\n",
      "    Graph(name=root, id=4443932488): Graph(name=root, id=4443878792)\n",
      "    Graph(name=a, id=4443932376): Graph(name=a, id=4443878904)\n",
      "    4443932488: Graph(name=root, id=4443878792)\n",
      "    4443904328: [Graph(name=root, id=4443932488), Graph(name=a, id=4443932376)]\n",
      "    4443932376: Graph(name=a, id=4443878904)\n",
      "  Copying to new object Graph(name=b, id=4443880696)\n"
     ]
    }
   ],
   "source": [
    "import copy\n",
    "\n",
    "\n",
    "class Graph:\n",
    "\n",
    "    def __init__(self, name, connections):\n",
    "        self.name = name\n",
    "        self.connections = connections\n",
    "\n",
    "    def add_connection(self, other):\n",
    "        self.connections.append(other)\n",
    "\n",
    "    def __repr__(self):\n",
    "        return 'Graph(name={}, id={})'.format(\n",
    "            self.name, id(self))\n",
    "\n",
    "    def __deepcopy__(self, memo):\n",
    "        print('\\nCalling __deepcopy__ for {!r}'.format(self))\n",
    "        if self in memo:\n",
    "            existing = memo.get(self)\n",
    "            print('  Already copied to {!r}'.format(existing))\n",
    "            return existing\n",
    "        print('  Memo dictionary:')\n",
    "        if memo:\n",
    "            for k, v in memo.items():\n",
    "                print('    {}: {}'.format(k, v))\n",
    "        else:\n",
    "            print('    (empty)')\n",
    "        dup = Graph(copy.deepcopy(self.name, memo), [])\n",
    "        print('  Copying to new object {}'.format(dup))\n",
    "        memo[self] = dup\n",
    "        for c in self.connections:\n",
    "            dup.add_connection(copy.deepcopy(c, memo))\n",
    "        return dup\n",
    "\n",
    "\n",
    "root = Graph('root', [])\n",
    "a = Graph('a', [root])\n",
    "b = Graph('b', [a, root])\n",
    "root.add_connection(a)\n",
    "root.add_connection(b)\n",
    "\n",
    "dup = copy.deepcopy(root)\n"
   ]
  }
 ],
 "metadata": {
  "kernelspec": {
   "display_name": "Python 3",
   "language": "python",
   "name": "python3"
  },
  "language_info": {
   "codemirror_mode": {
    "name": "ipython",
    "version": 3
   },
   "file_extension": ".py",
   "mimetype": "text/x-python",
   "name": "python",
   "nbconvert_exporter": "python",
   "pygments_lexer": "ipython3",
   "version": "3.6.0"
  }
 },
 "nbformat": 4,
 "nbformat_minor": 2
}
