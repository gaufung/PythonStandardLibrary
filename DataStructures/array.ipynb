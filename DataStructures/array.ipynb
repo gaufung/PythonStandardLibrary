{
 "cells": [
  {
   "cell_type": "markdown",
   "metadata": {},
   "source": [
    "Type code for array\n",
    "\n",
    "code | type | minimum size\n",
    ":---: | :---: | :---: \n",
    "b | int | 1\n",
    "B | int | 1\n",
    "h | signed int | 2\n",
    "H | unsigned int | 2\n",
    "i | sign int | 2\n",
    "I | unsigned int | 2\n",
    "l | signed long | 4\n",
    "L | unsigned long | 4\n",
    "q | signed long long | 8 \n",
    "Q | unsigned long long | 8\n",
    "f | float | 4\n",
    "d | double float | 8"
   ]
  },
  {
   "cell_type": "markdown",
   "metadata": {},
   "source": [
    "# Initilization"
   ]
  },
  {
   "cell_type": "code",
   "execution_count": 7,
   "metadata": {
    "collapsed": false
   },
   "outputs": [
    {
     "name": "stdout",
     "output_type": "stream",
     "text": [
      "As byte string b'this is a array'\n",
      "As array  array('b', [116, 104, 105, 115, 32, 105, 115, 32, 97, 32, 97, 114, 114, 97, 121])\n",
      "As hex b'746869732069732061206172726179'\n"
     ]
    }
   ],
   "source": [
    "import array\n",
    "import binascii\n",
    "s= b'this is a array'\n",
    "a = array.array('b', s)\n",
    "print('As byte string', s)\n",
    "print('As array ', a)\n",
    "print('As hex', binascii.hexlify(a))"
   ]
  },
  {
   "cell_type": "markdown",
   "metadata": {},
   "source": [
    "# Manuipulating Arrays"
   ]
  },
  {
   "cell_type": "code",
   "execution_count": 12,
   "metadata": {
    "collapsed": false
   },
   "outputs": [
    {
     "name": "stdout",
     "output_type": "stream",
     "text": [
      "initialize\n",
      " array('i', [0, 1, 2])\n"
     ]
    }
   ],
   "source": [
    "import array\n",
    "import pprint\n",
    "a = array.array('i', range(3))\n",
    "print('initialize\\n', a)"
   ]
  },
  {
   "cell_type": "code",
   "execution_count": 13,
   "metadata": {
    "collapsed": false
   },
   "outputs": [
    {
     "name": "stdout",
     "output_type": "stream",
     "text": [
      "Extend\n",
      " array('i', [0, 1, 2, 0, 1, 2])\n"
     ]
    }
   ],
   "source": [
    "a.extend(range(3))\n",
    "print('Extend\\n',a)"
   ]
  },
  {
   "cell_type": "code",
   "execution_count": 14,
   "metadata": {
    "collapsed": false
   },
   "outputs": [
    {
     "name": "stdout",
     "output_type": "stream",
     "text": [
      "Slice \n",
      " array('i', [2, 0, 1])\n"
     ]
    }
   ],
   "source": [
    "print('Slice \\n', a[2:5])"
   ]
  },
  {
   "cell_type": "code",
   "execution_count": 15,
   "metadata": {
    "collapsed": false
   },
   "outputs": [
    {
     "name": "stdout",
     "output_type": "stream",
     "text": [
      "Iterartor\n",
      "\n",
      "[(0, 0), (1, 1), (2, 2), (3, 0), (4, 1), (5, 2)]\n"
     ]
    }
   ],
   "source": [
    "print('Iterartor\\n')\n",
    "print(list(enumerate(a)))"
   ]
  },
  {
   "cell_type": "markdown",
   "metadata": {},
   "source": [
    "# Arrays and Files"
   ]
  },
  {
   "cell_type": "code",
   "execution_count": 16,
   "metadata": {
    "collapsed": false
   },
   "outputs": [
    {
     "name": "stdout",
     "output_type": "stream",
     "text": [
      "A1: array('i', [0, 1, 2, 3, 4])\n",
      "Raw Contents: b'0000000001000000020000000300000004000000'\n",
      "A2: array('i', [0, 1, 2, 3, 4])\n"
     ]
    }
   ],
   "source": [
    "import array\n",
    "import binascii\n",
    "import tempfile\n",
    "\n",
    "a = array.array('i', range(5))\n",
    "print('A1:', a)\n",
    "\n",
    "# Write the array of numbers to a temporary file\n",
    "output = tempfile.NamedTemporaryFile()\n",
    "a.tofile(output.file)  # must pass an *actual* file\n",
    "output.flush()\n",
    "\n",
    "# Read the raw data\n",
    "with open(output.name, 'rb') as input:\n",
    "    raw_data = input.read()\n",
    "    print('Raw Contents:', binascii.hexlify(raw_data))\n",
    "\n",
    "    # Read the data into an array\n",
    "    input.seek(0)\n",
    "    a2 = array.array('i')\n",
    "    a2.fromfile(input, len(a))\n",
    "    print('A2:', a2)"
   ]
  },
  {
   "cell_type": "markdown",
   "metadata": {},
   "source": [
    "# Alternative Byte Ordering"
   ]
  },
  {
   "cell_type": "code",
   "execution_count": 17,
   "metadata": {
    "collapsed": false
   },
   "outputs": [
    {
     "name": "stdout",
     "output_type": "stream",
     "text": [
      "      A1 hex           A1       A2 hex           A2\n",
      "------------ ------------ ------------ ------------\n",
      " b'78563412'    305419896  b'12345678'   2018915346\n",
      " b'79563412'    305419897  b'12345679'   2035692562\n",
      " b'7a563412'    305419898  b'1234567a'   2052469778\n",
      " b'7b563412'    305419899  b'1234567b'   2069246994\n",
      " b'7c563412'    305419900  b'1234567c'   2086024210\n"
     ]
    }
   ],
   "source": [
    "import array\n",
    "import binascii\n",
    "\n",
    "\n",
    "def to_hex(a):\n",
    "    chars_per_item = a.itemsize * 2  # 2 hex digits\n",
    "    hex_version = binascii.hexlify(a)\n",
    "    num_chunks = len(hex_version) // chars_per_item\n",
    "    for i in range(num_chunks):\n",
    "        start = i * chars_per_item\n",
    "        end = start + chars_per_item\n",
    "        yield hex_version[start:end]\n",
    "\n",
    "\n",
    "start = int('0x12345678', 16)\n",
    "end = start + 5\n",
    "a1 = array.array('i', range(start, end))\n",
    "a2 = array.array('i', range(start, end))\n",
    "a2.byteswap()\n",
    "\n",
    "fmt = '{:>12} {:>12} {:>12} {:>12}'\n",
    "print(fmt.format('A1 hex', 'A1', 'A2 hex', 'A2'))\n",
    "print(fmt.format('-' * 12, '-' * 12, '-' * 12, '-' * 12))\n",
    "fmt = '{!r:>12} {:12} {!r:>12} {:12}'\n",
    "for values in zip(to_hex(a1), a1, to_hex(a2), a2):\n",
    "    print(fmt.format(*values))"
   ]
  }
 ],
 "metadata": {
  "kernelspec": {
   "display_name": "Python 3",
   "language": "python",
   "name": "python3"
  },
  "language_info": {
   "codemirror_mode": {
    "name": "ipython",
    "version": 3
   },
   "file_extension": ".py",
   "mimetype": "text/x-python",
   "name": "python",
   "nbconvert_exporter": "python",
   "pygments_lexer": "ipython3",
   "version": "3.6.0"
  }
 },
 "nbformat": 4,
 "nbformat_minor": 2
}
