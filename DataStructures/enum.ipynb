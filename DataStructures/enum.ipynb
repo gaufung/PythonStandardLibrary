{
 "cells": [
  {
   "cell_type": "markdown",
   "metadata": {},
   "source": [
    "# 1 Creating Enumerations"
   ]
  },
  {
   "cell_type": "code",
   "execution_count": 1,
   "metadata": {
    "collapsed": true
   },
   "outputs": [],
   "source": [
    "import enum\n",
    "class BugStatus(enum.Enum):\n",
    "    new = 7\n",
    "    incomplete = 6\n",
    "    invalid = 5\n",
    "    wont_fix = 4\n",
    "    in_grogress = 3\n",
    "    fix_committed = 2\n",
    "    fix_released = 1"
   ]
  },
  {
   "cell_type": "code",
   "execution_count": 2,
   "metadata": {
    "collapsed": false
   },
   "outputs": [
    {
     "name": "stdout",
     "output_type": "stream",
     "text": [
      "\n",
      "Member name:wont_fix\n",
      "Member value:4\n"
     ]
    }
   ],
   "source": [
    "print('\\nMember name:{}'.format(BugStatus.wont_fix.name))\n",
    "print('Member value:{}'.format(BugStatus.wont_fix.value))"
   ]
  },
  {
   "cell_type": "markdown",
   "metadata": {},
   "source": [
    "# 2 Iterations"
   ]
  },
  {
   "cell_type": "code",
   "execution_count": 3,
   "metadata": {
    "collapsed": false
   },
   "outputs": [
    {
     "name": "stdout",
     "output_type": "stream",
     "text": [
      "new            =7\n",
      "incomplete     =6\n",
      "invalid        =5\n",
      "wont_fix       =4\n",
      "in_grogress    =3\n",
      "fix_committed  =2\n",
      "fix_released   =1\n"
     ]
    }
   ],
   "source": [
    "for status in BugStatus:\n",
    "    print('{:15}={}'.format(status.name, status.value))"
   ]
  },
  {
   "cell_type": "markdown",
   "metadata": {},
   "source": [
    "# 3 Comparision"
   ]
  },
  {
   "cell_type": "code",
   "execution_count": 4,
   "metadata": {
    "collapsed": false
   },
   "outputs": [
    {
     "name": "stdout",
     "output_type": "stream",
     "text": [
      "Equality: True False\n"
     ]
    }
   ],
   "source": [
    "actual_status = BugStatus.wont_fix\n",
    "desired_status = BugStatus.fix_released\n",
    "print('Equality:', actual_status==actual_status,\n",
    "      actual_status==desired_status)"
   ]
  },
  {
   "cell_type": "code",
   "execution_count": 5,
   "metadata": {
    "collapsed": false
   },
   "outputs": [
    {
     "name": "stdout",
     "output_type": "stream",
     "text": [
      "Identity False True\n"
     ]
    }
   ],
   "source": [
    "print('Identity', actual_status is desired_status,\n",
    "     actual_status is BugStatus.wont_fix)"
   ]
  },
  {
   "cell_type": "code",
   "execution_count": 6,
   "metadata": {
    "collapsed": false
   },
   "outputs": [
    {
     "name": "stdout",
     "output_type": "stream",
     "text": [
      "Cannot sorted\n"
     ]
    }
   ],
   "source": [
    "try:\n",
    "    print('\\n'.join(' '+ s.name for s in sorted(BugStatus)))\n",
    "except TypeError as errr:\n",
    "    print('Cannot sorted')"
   ]
  },
  {
   "cell_type": "markdown",
   "metadata": {},
   "source": [
    "using IntEnum can behave like number"
   ]
  },
  {
   "cell_type": "code",
   "execution_count": 8,
   "metadata": {
    "collapsed": false
   },
   "outputs": [
    {
     "name": "stdout",
     "output_type": "stream",
     "text": [
      " fix_released\n",
      " fix_committed\n",
      " in_grogress\n",
      " wont_fix\n",
      " invalid\n",
      " incomplete\n",
      " new\n"
     ]
    }
   ],
   "source": [
    "import enum\n",
    "class BugStatus(enum.IntEnum):\n",
    "    new = 7\n",
    "    incomplete = 6\n",
    "    invalid = 5\n",
    "    wont_fix = 4\n",
    "    in_grogress = 3\n",
    "    fix_committed = 2\n",
    "    fix_released = 1\n",
    "try:\n",
    "    print('\\n'.join(' '+ s.name for s in sorted(BugStatus)))\n",
    "except TypeError as errr:\n",
    "    print('Cannot sorted')"
   ]
  },
  {
   "cell_type": "markdown",
   "metadata": {},
   "source": [
    "# 4 Unique Enumeration Values"
   ]
  },
  {
   "cell_type": "code",
   "execution_count": 9,
   "metadata": {
    "collapsed": true
   },
   "outputs": [],
   "source": [
    "class BugStatus(enum.Enum):\n",
    "\n",
    "    new = 7\n",
    "    incomplete = 6\n",
    "    invalid = 5\n",
    "    wont_fix = 4\n",
    "    in_progress = 3\n",
    "    fix_committed = 2\n",
    "    fix_released = 1\n",
    "\n",
    "    by_design = 4\n",
    "    closed = 1"
   ]
  },
  {
   "cell_type": "code",
   "execution_count": 10,
   "metadata": {
    "collapsed": false
   },
   "outputs": [
    {
     "name": "stdout",
     "output_type": "stream",
     "text": [
      "new            =7\n",
      "incomplete     =6\n",
      "invalid        =5\n",
      "wont_fix       =4\n",
      "in_progress    =3\n",
      "fix_committed  =2\n",
      "fix_released   =1\n"
     ]
    }
   ],
   "source": [
    "for status in BugStatus:\n",
    "    print('{:15}={}'.format(status.name, status.value))"
   ]
  },
  {
   "cell_type": "code",
   "execution_count": 12,
   "metadata": {
    "collapsed": false
   },
   "outputs": [
    {
     "name": "stdout",
     "output_type": "stream",
     "text": [
      "Equality: True\n"
     ]
    }
   ],
   "source": [
    "print('Equality:', BugStatus.by_design == BugStatus.wont_fix)"
   ]
  },
  {
   "cell_type": "code",
   "execution_count": 13,
   "metadata": {
    "collapsed": false
   },
   "outputs": [
    {
     "name": "stdout",
     "output_type": "stream",
     "text": [
      "Identity True\n"
     ]
    }
   ],
   "source": [
    "print('Identity', BugStatus.closed is BugStatus.fix_released)"
   ]
  },
  {
   "cell_type": "markdown",
   "metadata": {},
   "source": [
    "# 5 Generate Enumerations Programmatically"
   ]
  },
  {
   "cell_type": "code",
   "execution_count": 15,
   "metadata": {
    "collapsed": false
   },
   "outputs": [
    {
     "name": "stdout",
     "output_type": "stream",
     "text": [
      "Member: BugStatus.new\n"
     ]
    }
   ],
   "source": [
    "import enum\n",
    "BugStatus = enum.Enum(\n",
    "    value='BugStatus',\n",
    "    names=\"fix_released fix_committed in_progress wont_fix invalid incomplete new\"\n",
    ")\n",
    "print('Member: {}'.format(BugStatus.new))"
   ]
  },
  {
   "cell_type": "code",
   "execution_count": 16,
   "metadata": {
    "collapsed": false
   },
   "outputs": [
    {
     "name": "stdout",
     "output_type": "stream",
     "text": [
      "\n",
      "All Members\n",
      "fix_released   =1\n",
      "fix_committed  =2\n",
      "in_progress    =3\n",
      "wont_fix       =4\n",
      "invalid        =5\n",
      "incomplete     =6\n",
      "new            =7\n"
     ]
    }
   ],
   "source": [
    "print('\\nAll Members')\n",
    "for status in BugStatus:\n",
    "    print('{:15}={}'.format(status.name, status.value))"
   ]
  },
  {
   "cell_type": "code",
   "execution_count": 17,
   "metadata": {
    "collapsed": false
   },
   "outputs": [
    {
     "name": "stdout",
     "output_type": "stream",
     "text": [
      "All members:\n",
      "new             = 7\n",
      "incomplete      = 6\n",
      "invalid         = 5\n",
      "wont_fix        = 4\n",
      "in_progress     = 3\n",
      "fix_committed   = 2\n",
      "fix_released    = 1\n"
     ]
    }
   ],
   "source": [
    "import enum\n",
    "\n",
    "\n",
    "BugStatus = enum.Enum(\n",
    "    value='BugStatus',\n",
    "    names=[\n",
    "        ('new', 7),\n",
    "        ('incomplete', 6),\n",
    "        ('invalid', 5),\n",
    "        ('wont_fix', 4),\n",
    "        ('in_progress', 3),\n",
    "        ('fix_committed', 2),\n",
    "        ('fix_released', 1),\n",
    "    ],\n",
    ")\n",
    "\n",
    "print('All members:')\n",
    "for status in BugStatus:\n",
    "    print('{:15} = {}'.format(status.name, status.value))"
   ]
  },
  {
   "cell_type": "markdown",
   "metadata": {},
   "source": [
    "# 6 Non-integer member values"
   ]
  },
  {
   "cell_type": "code",
   "execution_count": 18,
   "metadata": {
    "collapsed": false
   },
   "outputs": [
    {
     "name": "stdout",
     "output_type": "stream",
     "text": [
      "Name: BugStatus.in_progress\n",
      "Value: (3, ['new', 'fix_committed'])\n",
      "Custom attribute: ['new', 'fix_committed']\n",
      "Using attribute: True\n"
     ]
    }
   ],
   "source": [
    "import enum\n",
    "\n",
    "\n",
    "class BugStatus(enum.Enum):\n",
    "\n",
    "    new = (7, ['incomplete',\n",
    "               'invalid',\n",
    "               'wont_fix',\n",
    "               'in_progress'])\n",
    "    incomplete = (6, ['new', 'wont_fix'])\n",
    "    invalid = (5, ['new'])\n",
    "    wont_fix = (4, ['new'])\n",
    "    in_progress = (3, ['new', 'fix_committed'])\n",
    "    fix_committed = (2, ['in_progress', 'fix_released'])\n",
    "    fix_released = (1, ['new'])\n",
    "\n",
    "    def __init__(self, num, transitions):\n",
    "        self.num = num\n",
    "        self.transitions = transitions\n",
    "\n",
    "    def can_transition(self, new_state):\n",
    "        return new_state.name in self.transitions\n",
    "\n",
    "\n",
    "print('Name:', BugStatus.in_progress)\n",
    "print('Value:', BugStatus.in_progress.value)\n",
    "print('Custom attribute:', BugStatus.in_progress.transitions)\n",
    "print('Using attribute:',\n",
    "      BugStatus.in_progress.can_transition(BugStatus.new))"
   ]
  }
 ],
 "metadata": {
  "kernelspec": {
   "display_name": "Python 3",
   "language": "python",
   "name": "python3"
  },
  "language_info": {
   "codemirror_mode": {
    "name": "ipython",
    "version": 3
   },
   "file_extension": ".py",
   "mimetype": "text/x-python",
   "name": "python",
   "nbconvert_exporter": "python",
   "pygments_lexer": "ipython3",
   "version": "3.6.0"
  }
 },
 "nbformat": 4,
 "nbformat_minor": 2
}
