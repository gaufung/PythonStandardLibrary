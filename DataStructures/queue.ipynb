{
 "cells": [
  {
   "cell_type": "markdown",
   "metadata": {},
   "source": [
    "# 1 Basic FIFO Queue"
   ]
  },
  {
   "cell_type": "code",
   "execution_count": 1,
   "metadata": {
    "collapsed": false
   },
   "outputs": [
    {
     "name": "stdout",
     "output_type": "stream",
     "text": [
      "0 1 2 3 4 \n"
     ]
    }
   ],
   "source": [
    "import queue\n",
    "q = queue.Queue()\n",
    "for i in range(5):\n",
    "    q.put(i)\n",
    "while not q.empty():\n",
    "    print(q.get(), end=' ')\n",
    "print()"
   ]
  },
  {
   "cell_type": "markdown",
   "metadata": {},
   "source": [
    "# 2 LIFO Queue\n",
    "behave like stack"
   ]
  },
  {
   "cell_type": "code",
   "execution_count": 2,
   "metadata": {
    "collapsed": false
   },
   "outputs": [
    {
     "name": "stdout",
     "output_type": "stream",
     "text": [
      "4 3 2 1 0 \n"
     ]
    }
   ],
   "source": [
    "import queue\n",
    "q = queue.LifoQueue()\n",
    "for i in range(5):\n",
    "    q.put(i)\n",
    "while not q.empty():\n",
    "    print(q.get(), end=' ')\n",
    "print()"
   ]
  },
  {
   "cell_type": "markdown",
   "metadata": {},
   "source": [
    "# 2 Priority Queue"
   ]
  },
  {
   "cell_type": "code",
   "execution_count": 8,
   "metadata": {
    "collapsed": true
   },
   "outputs": [],
   "source": [
    "import functools\n",
    "import queue\n",
    "import threading\n",
    "@functools.total_ordering\n",
    "class Job:\n",
    "\n",
    "    def __init__(self, priority, description):\n",
    "        self.priority = priority\n",
    "        self.description = description\n",
    "        print('New job:', description,'\\n')\n",
    "        return\n",
    "\n",
    "    def __eq__(self, other):\n",
    "        try:\n",
    "            return self.priority == other.priority\n",
    "        except AttributeError:\n",
    "            return NotImplemented\n",
    "\n",
    "    def __lt__(self, other):\n",
    "        try:\n",
    "            return self.priority < other.priority\n",
    "        except AttributeError:\n",
    "            return NotImplemented"
   ]
  },
  {
   "cell_type": "code",
   "execution_count": 10,
   "metadata": {
    "collapsed": false
   },
   "outputs": [
    {
     "name": "stdout",
     "output_type": "stream",
     "text": [
      "New job: Mid-level job \n",
      "\n",
      "New job: Low-level job \n",
      "\n",
      "New job: Important job \n",
      "Processing job:\n",
      " Processing job: Important jobMid-level job  \n",
      "\n",
      "\n",
      "\n",
      "Processing job: Low-level job \n",
      "\n"
     ]
    }
   ],
   "source": [
    "q = queue.PriorityQueue()\n",
    "\n",
    "q.put(Job(3, 'Mid-level job'))\n",
    "q.put(Job(10, 'Low-level job'))\n",
    "q.put(Job(1, 'Important job'))\n",
    "\n",
    "\n",
    "def process_job(q):\n",
    "    while True:\n",
    "        next_job = q.get()\n",
    "        print('Processing job:', next_job.description,'\\n')\n",
    "        q.task_done()\n",
    "\n",
    "\n",
    "workers = [\n",
    "    threading.Thread(target=process_job, args=(q,)),\n",
    "    threading.Thread(target=process_job, args=(q,)),\n",
    "]\n",
    "for w in workers:\n",
    "    w.setDaemon(True)\n",
    "    w.start()\n",
    "\n",
    "q.join()"
   ]
  },
  {
   "cell_type": "markdown",
   "metadata": {},
   "source": [
    "# Producer and Consumer"
   ]
  },
  {
   "cell_type": "code",
   "execution_count": 15,
   "metadata": {
    "collapsed": false
   },
   "outputs": [
    {
     "name": "stderr",
     "output_type": "stream",
     "text": [
      "Exception in thread Thread-18:\n",
      "Traceback (most recent call last):\n",
      "  File \"/Users/gaufung/anaconda/lib/python3.6/threading.py\", line 916, in _bootstrap_inner\n",
      "    self.run()\n",
      "  File \"/Users/gaufung/anaconda/lib/python3.6/threading.py\", line 864, in run\n",
      "    self._target(*self._args, **self._kwargs)\n",
      "  File \"<ipython-input-15-ab6c1d908f6b>\", line 39, in consumer\n",
      "    while true:\n",
      "NameError: name 'true' is not defined\n",
      "\n",
      "Exception in thread Thread-19:\n",
      "Traceback (most recent call last):\n",
      "  File \"/Users/gaufung/anaconda/lib/python3.6/threading.py\", line 916, in _bootstrap_inner\n",
      "    self.run()\n",
      "  File \"/Users/gaufung/anaconda/lib/python3.6/threading.py\", line 864, in run\n",
      "    self._target(*self._args, **self._kwargs)\n",
      "  File \"<ipython-input-15-ab6c1d908f6b>\", line 39, in consumer\n",
      "    while true:\n",
      "NameError: name 'true' is not defined\n",
      "\n"
     ]
    },
    {
     "name": "stdout",
     "output_type": "stream",
     "text": [
      "New job: with priority is :64 \n",
      "\n",
      "New job: with priority is :80 \n",
      "\n",
      "New job: with priority is :45 \n",
      "\n",
      "New job: with priority is :44 \n",
      "\n",
      "New job: with priority is :48 \n",
      "\n",
      "New job: with priority is :85 \n",
      "\n",
      "New job: with priority is :35 \n",
      "\n",
      "New job: with priority is :61 \n",
      "\n",
      "New job: with priority is :54 \n",
      "\n",
      "New job: with priority is :47 \n",
      "\n"
     ]
    }
   ],
   "source": [
    "import functools\n",
    "import queue\n",
    "import threading\n",
    "import random\n",
    "import time \n",
    "\n",
    "\n",
    "@functools.total_ordering\n",
    "class Job:\n",
    "\n",
    "    def __init__(self, priority, description):\n",
    "        self.priority = priority\n",
    "        self.description = description\n",
    "        print('New job:', description,'\\n')\n",
    "        return\n",
    "\n",
    "    def __eq__(self, other):\n",
    "        try:\n",
    "            return self.priority == other.priority\n",
    "        except AttributeError:\n",
    "            return NotImplemented\n",
    "\n",
    "    def __lt__(self, other):\n",
    "        try:\n",
    "            return self.priority < other.priority\n",
    "        except AttributeError:\n",
    "            return NotImplemented\n",
    "\n",
    "q = queue.PriorityQueue()\n",
    "\n",
    "def producer(q, cnt):\n",
    "    while cnt:\n",
    "        priority = random.randint(10, 100)\n",
    "        time.sleep(random.random())\n",
    "        description = 'with priority is :' + str(priority)\n",
    "        q.put(Job(priority, description))\n",
    "        cnt -= 1\n",
    "def consumer(q):\n",
    "    while true:\n",
    "        job = q.get()\n",
    "        print('Processing job',job.description)\n",
    "\n",
    "producer_t = threading.Thread(target=producer, args=(q, 10,))\n",
    "workers = [\n",
    "    threading.Thread(target=consumer, args=(q,)),\n",
    "    threading.Thread(target=consumer, args=(q,))\n",
    "]\n",
    "producer_t.start()\n",
    "for t in workers:\n",
    "    t.start()"
   ]
  },
  {
   "cell_type": "code",
   "execution_count": null,
   "metadata": {
    "collapsed": true
   },
   "outputs": [],
   "source": []
  }
 ],
 "metadata": {
  "kernelspec": {
   "display_name": "Python 3",
   "language": "python",
   "name": "python3"
  },
  "language_info": {
   "codemirror_mode": {
    "name": "ipython",
    "version": 3
   },
   "file_extension": ".py",
   "mimetype": "text/x-python",
   "name": "python",
   "nbconvert_exporter": "python",
   "pygments_lexer": "ipython3",
   "version": "3.6.0"
  }
 },
 "nbformat": 4,
 "nbformat_minor": 2
}
