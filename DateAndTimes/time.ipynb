{
 "cells": [
  {
   "cell_type": "markdown",
   "metadata": {},
   "source": [
    "The time module provides access to several different types of clocks, each useful for different purposes. The standard system calls like time() report the system “wall clock” time. The monotonic() clock can be used to measure elapsed time in a long-running process because it is guaranteed never to move backwards, even if the system time is changed. For performance testing, perf_counter() provides access to the clock with the highest available resolution to make short time measurements more accurate. The CPU time is available through clock(), and process_time() returns the combined processor time and system time."
   ]
  },
  {
   "cell_type": "markdown",
   "metadata": {},
   "source": [
    "# Comparing Clocks"
   ]
  },
  {
   "cell_type": "code",
   "execution_count": 5,
   "metadata": {
    "collapsed": false
   },
   "outputs": [
    {
     "name": "stdout",
     "output_type": "stream",
     "text": [
      "clock:\n",
      "    adjustable    : False\n",
      "    implementation: clock()\n",
      "    monotonic     : True\n",
      "    resolution    : 1e-06\n",
      "    current       : 1.394774\n",
      "\n",
      "monotonic:\n",
      "    adjustable    : False\n",
      "    implementation: mach_absolute_time()\n",
      "    monotonic     : True\n",
      "    resolution    : 1e-09\n",
      "    current       : 1097416.716575929\n",
      "\n",
      "perf_counter:\n",
      "    adjustable    : False\n",
      "    implementation: mach_absolute_time()\n",
      "    monotonic     : True\n",
      "    resolution    : 1e-09\n",
      "    current       : 1097416.716700798\n",
      "\n",
      "process_time:\n",
      "    adjustable    : False\n",
      "    implementation: getrusage(RUSAGE_SELF)\n",
      "    monotonic     : True\n",
      "    resolution    : 1e-06\n",
      "    current       : 1.3963050000000001\n",
      "\n",
      "time:\n",
      "    adjustable    : True\n",
      "    implementation: gettimeofday()\n",
      "    monotonic     : False\n",
      "    resolution    : 1e-06\n",
      "    current       : 1504355935.276109\n",
      "\n"
     ]
    }
   ],
   "source": [
    "import textwrap\n",
    "import time\n",
    "\n",
    "available_clocks = [\n",
    "    ('clock', time.clock),\n",
    "    ('monotonic', time.monotonic),\n",
    "    ('perf_counter', time.perf_counter),\n",
    "    ('process_time', time.process_time),\n",
    "    ('time', time.time),\n",
    "]\n",
    "\n",
    "for clock_name, func in available_clocks:\n",
    "    print(textwrap.dedent('''\\\n",
    "    {name}:\n",
    "        adjustable    : {info.adjustable}\n",
    "        implementation: {info.implementation}\n",
    "        monotonic     : {info.monotonic}\n",
    "        resolution    : {info.resolution}\n",
    "        current       : {current}\n",
    "    ''').format(\n",
    "        name=clock_name,\n",
    "        info=time.get_clock_info(clock_name),\n",
    "        current=func())\n",
    "    )"
   ]
  },
  {
   "cell_type": "markdown",
   "metadata": {},
   "source": [
    "# Wall Clock Time"
   ]
  },
  {
   "cell_type": "code",
   "execution_count": 6,
   "metadata": {
    "collapsed": false
   },
   "outputs": [
    {
     "name": "stdout",
     "output_type": "stream",
     "text": [
      "The Time is: 1504356004.558045\n"
     ]
    }
   ],
   "source": [
    "import time\n",
    "print('The Time is:', time.time())"
   ]
  },
  {
   "cell_type": "code",
   "execution_count": 7,
   "metadata": {
    "collapsed": false
   },
   "outputs": [
    {
     "name": "stdout",
     "output_type": "stream",
     "text": [
      "The time is   : Sat Sep  2 20:41:39 2017\n",
      "15 secs from now: Sat Sep  2 20:41:54 2017\n"
     ]
    }
   ],
   "source": [
    "import time\n",
    "print('The time is   :', time.ctime())\n",
    "later = time.time() + 15\n",
    "print('15 secs from now:', time.ctime(later))"
   ]
  },
  {
   "cell_type": "markdown",
   "metadata": {},
   "source": [
    "# Monotonic Clocks"
   ]
  },
  {
   "cell_type": "code",
   "execution_count": 10,
   "metadata": {
    "collapsed": false
   },
   "outputs": [
    {
     "name": "stdout",
     "output_type": "stream",
     "text": [
      "Start: 1097775.91\n",
      "End: 1097776.01\n",
      "Span:      0.10\n"
     ]
    }
   ],
   "source": [
    "import time\n",
    "start = time.monotonic()\n",
    "time.sleep(0.1)\n",
    "end = time.monotonic()\n",
    "print('Start: {:>9.2f}'.format(start))\n",
    "print('End: {:>9.2f}'.format(end))\n",
    "print('Span: {:>9.2f}'.format(end-start))"
   ]
  },
  {
   "cell_type": "markdown",
   "metadata": {},
   "source": [
    "# Processor Clock Time"
   ]
  },
  {
   "cell_type": "code",
   "execution_count": 13,
   "metadata": {
    "collapsed": false
   },
   "outputs": [
    {
     "name": "stdout",
     "output_type": "stream",
     "text": [
      "Sat Sep  2 20:48:19 2017 : 1504356499.596 1.527\n",
      "Sat Sep  2 20:48:22 2017 : 1504356502.767 4.670\n",
      "Sat Sep  2 20:48:25 2017 : 1504356505.899 7.793\n",
      "Sat Sep  2 20:48:29 2017 : 1504356509.036 10.919\n",
      "Sat Sep  2 20:48:32 2017 : 1504356512.197 14.072\n"
     ]
    }
   ],
   "source": [
    "import hashlib\n",
    "import time\n",
    "data = open('time.ipynb', 'rb').read()\n",
    "for i in range(5):\n",
    "    h = hashlib.sha1()\n",
    "    print(time.ctime(), ': {:0.3f} {:0.3f}'.format(\n",
    "        time.time(), time.clock()))\n",
    "    for i in range(300000):\n",
    "        h.update(data)\n",
    "    cksum=h.digest()"
   ]
  },
  {
   "cell_type": "code",
   "execution_count": 14,
   "metadata": {
    "collapsed": false
   },
   "outputs": [
    {
     "name": "stdout",
     "output_type": "stream",
     "text": [
      "Sat Sep  2 20:49:07 2017 - 1504356547.32 - 17.20\n",
      "Sleeping 3\n",
      "Sat Sep  2 20:49:10 2017 - 1504356550.33 - 17.20\n",
      "Sleeping 2\n",
      "Sat Sep  2 20:49:12 2017 - 1504356552.33 - 17.21\n",
      "Sleeping 1\n",
      "Sat Sep  2 20:49:13 2017 - 1504356553.33 - 17.21\n"
     ]
    }
   ],
   "source": [
    "import time\n",
    "\n",
    "template = '{} - {:0.2f} - {:0.2f}'\n",
    "\n",
    "print(template.format(\n",
    "    time.ctime(), time.time(), time.clock())\n",
    ")\n",
    "\n",
    "for i in range(3, 0, -1):\n",
    "    print('Sleeping', i)\n",
    "    time.sleep(i)\n",
    "    print(template.format(\n",
    "        time.ctime(), time.time(), time.clock())\n",
    "    )"
   ]
  },
  {
   "cell_type": "markdown",
   "metadata": {},
   "source": [
    "# Performance Counter"
   ]
  },
  {
   "cell_type": "code",
   "execution_count": 16,
   "metadata": {
    "collapsed": false
   },
   "outputs": [
    {
     "name": "stdout",
     "output_type": "stream",
     "text": [
      "Sat Sep  2 20:50:45 2017 : 3.028 3.028\n",
      "Sat Sep  2 20:50:48 2017 : 2.864 5.893\n",
      "Sat Sep  2 20:50:50 2017 : 2.911 8.804\n",
      "Sat Sep  2 20:50:53 2017 : 2.848 11.652\n",
      "Sat Sep  2 20:50:56 2017 : 2.874 14.527\n"
     ]
    }
   ],
   "source": [
    "import hashlib\n",
    "import time\n",
    "\n",
    "# Data to use to calculate md5 checksums\n",
    "data = open('time.ipynb', 'rb').read()\n",
    "\n",
    "loop_start = time.perf_counter()\n",
    "\n",
    "for i in range(5):\n",
    "    iter_start = time.perf_counter()\n",
    "    h = hashlib.sha1()\n",
    "    for i in range(300000):\n",
    "        h.update(data)\n",
    "    cksum = h.digest()\n",
    "    now = time.perf_counter()\n",
    "    loop_elapsed = now - loop_start\n",
    "    iter_elapsed = now - iter_start\n",
    "    print(time.ctime(), ': {:0.3f} {:0.3f}'.format(\n",
    "        iter_elapsed, loop_elapsed))\n"
   ]
  },
  {
   "cell_type": "markdown",
   "metadata": {},
   "source": [
    "# Time Components"
   ]
  },
  {
   "cell_type": "code",
   "execution_count": 18,
   "metadata": {
    "collapsed": false
   },
   "outputs": [
    {
     "name": "stdout",
     "output_type": "stream",
     "text": [
      "gmtime:\n",
      "  tm_year : 2017\n",
      "  tm_mon  : 9\n",
      "  tm_mday : 2\n",
      "  tm_hour : 12\n",
      "  tm_min  : 52\n",
      "  tm_sec  : 16\n",
      "  tm_wday : 5\n",
      "  tm_yday : 245\n",
      "  tm_isdst: 0\n",
      "\n",
      "localtime:\n",
      "  tm_year : 2017\n",
      "  tm_mon  : 9\n",
      "  tm_mday : 2\n",
      "  tm_hour : 20\n",
      "  tm_min  : 52\n",
      "  tm_sec  : 16\n",
      "  tm_wday : 5\n",
      "  tm_yday : 245\n",
      "  tm_isdst: 0\n",
      "\n",
      "mktime: 1504356736.0\n"
     ]
    }
   ],
   "source": [
    "import time\n",
    "\n",
    "\n",
    "def show_struct(s):\n",
    "    print('  tm_year :', s.tm_year)\n",
    "    print('  tm_mon  :', s.tm_mon)\n",
    "    print('  tm_mday :', s.tm_mday)\n",
    "    print('  tm_hour :', s.tm_hour)\n",
    "    print('  tm_min  :', s.tm_min)\n",
    "    print('  tm_sec  :', s.tm_sec)\n",
    "    print('  tm_wday :', s.tm_wday)\n",
    "    print('  tm_yday :', s.tm_yday)\n",
    "    print('  tm_isdst:', s.tm_isdst)\n",
    "\n",
    "print('gmtime:')\n",
    "show_struct(time.gmtime())\n",
    "print('\\nlocaltime:')\n",
    "show_struct(time.localtime())\n",
    "print('\\nmktime:', time.mktime(time.localtime()))"
   ]
  },
  {
   "cell_type": "markdown",
   "metadata": {},
   "source": [
    "# Working with Time Zones"
   ]
  },
  {
   "cell_type": "code",
   "execution_count": 19,
   "metadata": {
    "collapsed": false
   },
   "outputs": [
    {
     "name": "stdout",
     "output_type": "stream",
     "text": [
      "Default :\n",
      "  TZ    : (not set)\n",
      "  tzname: ('CST', 'CST')\n",
      "  Zone  : -28800 (-8.0)\n",
      "  DST   : 0\n",
      "  Time  : Sat Sep  2 20:53:53 2017\n",
      "\n",
      "GMT :\n",
      "  TZ    : GMT\n",
      "  tzname: ('GMT', 'GMT')\n",
      "  Zone  : 0 (0.0)\n",
      "  DST   : 0\n",
      "  Time  : Sat Sep  2 12:53:53 2017\n",
      "\n",
      "Europe/Amsterdam :\n",
      "  TZ    : Europe/Amsterdam\n",
      "  tzname: ('CET', 'CEST')\n",
      "  Zone  : -3600 (-1.0)\n",
      "  DST   : 1\n",
      "  Time  : Sat Sep  2 14:53:53 2017\n",
      "\n"
     ]
    }
   ],
   "source": [
    "import time\n",
    "import os\n",
    "\n",
    "\n",
    "def show_zone_info():\n",
    "    print('  TZ    :', os.environ.get('TZ', '(not set)'))\n",
    "    print('  tzname:', time.tzname)\n",
    "    print('  Zone  : {} ({})'.format(\n",
    "        time.timezone, (time.timezone / 3600)))\n",
    "    print('  DST   :', time.daylight)\n",
    "    print('  Time  :', time.ctime())\n",
    "    print()\n",
    "\n",
    "\n",
    "print('Default :')\n",
    "show_zone_info()\n",
    "\n",
    "ZONES = [\n",
    "    'GMT',\n",
    "    'Europe/Amsterdam',\n",
    "]\n",
    "\n",
    "for zone in ZONES:\n",
    "    os.environ['TZ'] = zone\n",
    "    time.tzset()\n",
    "    print(zone, ':')\n",
    "    show_zone_info()"
   ]
  }
 ],
 "metadata": {
  "kernelspec": {
   "display_name": "Python 3",
   "language": "python",
   "name": "python3"
  },
  "language_info": {
   "codemirror_mode": {
    "name": "ipython",
    "version": 3
   },
   "file_extension": ".py",
   "mimetype": "text/x-python",
   "name": "python",
   "nbconvert_exporter": "python",
   "pygments_lexer": "ipython3",
   "version": "3.6.0"
  }
 },
 "nbformat": 4,
 "nbformat_minor": 2
}
