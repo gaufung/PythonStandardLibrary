{
 "cells": [
  {
   "cell_type": "markdown",
   "metadata": {},
   "source": [
    "The gzip module provides a file-like interface to GNU zip files, using zlib to compress and uncompress the data."
   ]
  },
  {
   "cell_type": "markdown",
   "metadata": {},
   "source": [
    "# Writing Compresed Files"
   ]
  },
  {
   "cell_type": "code",
   "execution_count": 2,
   "metadata": {
    "collapsed": false
   },
   "outputs": [
    {
     "name": "stdout",
     "output_type": "stream",
     "text": [
      "example.txt.gz contatins 75 bytes\n"
     ]
    }
   ],
   "source": [
    "import gzip\n",
    "import io\n",
    "import os\n",
    "outfilename = 'example.txt.gz'\n",
    "with gzip.open(outfilename, 'wb') as output:\n",
    "    with io.TextIOWrapper(output,encoding='utf-8') as enc:\n",
    "        enc.write('Content of the example fiel to here.\\n')\n",
    "print(outfilename, 'contatins',os.stat(outfilename).st_size, 'bytes')"
   ]
  },
  {
   "cell_type": "code",
   "execution_count": 3,
   "metadata": {
    "collapsed": false
   },
   "outputs": [
    {
     "data": {
      "text/plain": [
       "0"
      ]
     },
     "execution_count": 3,
     "metadata": {},
     "output_type": "execute_result"
    }
   ],
   "source": [
    "os.system('file -b --mime {}'.format(outfilename))"
   ]
  },
  {
   "cell_type": "markdown",
   "metadata": {},
   "source": [
    "# Reading Compressed Data"
   ]
  },
  {
   "cell_type": "code",
   "execution_count": 4,
   "metadata": {
    "collapsed": false
   },
   "outputs": [
    {
     "name": "stdout",
     "output_type": "stream",
     "text": [
      "Content of the example fiel to here.\n",
      "\n"
     ]
    }
   ],
   "source": [
    "import gzip\n",
    "import io\n",
    "with gzip.open('example.txt.gz', 'rb') as input_file:\n",
    "    with io.TextIOWrapper(input_file, encoding='utf-8') as dec:\n",
    "        print(dec.read())"
   ]
  }
 ],
 "metadata": {
  "kernelspec": {
   "display_name": "Python 3",
   "language": "python",
   "name": "python3"
  },
  "language_info": {
   "codemirror_mode": {
    "name": "ipython",
    "version": 3
   },
   "file_extension": ".py",
   "mimetype": "text/x-python",
   "name": "python",
   "nbconvert_exporter": "python",
   "pygments_lexer": "ipython3",
   "version": "3.6.0"
  }
 },
 "nbformat": 4,
 "nbformat_minor": 2
}
