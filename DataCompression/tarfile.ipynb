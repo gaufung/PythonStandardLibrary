{
 "cells": [
  {
   "cell_type": "markdown",
   "metadata": {},
   "source": [
    "The tarfile module provides read and write access to Unix tar archives, including compressed files. In addition to the POSIX standards, several GNU tar extensions are supported. Unix special file types such as hard and soft links, and device nodes are also handled."
   ]
  },
  {
   "cell_type": "markdown",
   "metadata": {},
   "source": [
    "# Testing Tar Files"
   ]
  },
  {
   "cell_type": "code",
   "execution_count": 4,
   "metadata": {
    "collapsed": false
   },
   "outputs": [
    {
     "name": "stdout",
     "output_type": "stream",
     "text": [
      " zlib_server.py  False\n",
      "    example.tar  True\n",
      "  tarfile.ipynb  False\n",
      "   notthere.tar  [Errno 2] No such file or directory: 'notthere.tar'\n"
     ]
    }
   ],
   "source": [
    "import tarfile\n",
    "\n",
    "for filename in ['zlib_server.py', 'example.tar',\n",
    "                 'tarfile.ipynb', 'notthere.tar']:\n",
    "    try:\n",
    "        print('{:>15}  {}'.format(filename, tarfile.is_tarfile(\n",
    "            filename)))\n",
    "    except IOError as err:\n",
    "        print('{:>15}  {}'.format(filename, err))"
   ]
  },
  {
   "cell_type": "markdown",
   "metadata": {},
   "source": [
    "# Reading Metadata from An archive"
   ]
  },
  {
   "cell_type": "code",
   "execution_count": 5,
   "metadata": {
    "collapsed": false
   },
   "outputs": [
    {
     "name": "stdout",
     "output_type": "stream",
     "text": [
      "['./example.txt.gz', './gzip.ipynb', './tarfile.ipynb', './zlib.ipynb', './zlib_server.py']\n"
     ]
    }
   ],
   "source": [
    "import tarfile\n",
    "with tarfile.open('example.tar', 'r') as t:\n",
    "    print(t.getnames())"
   ]
  },
  {
   "cell_type": "code",
   "execution_count": 6,
   "metadata": {
    "collapsed": false
   },
   "outputs": [
    {
     "name": "stdout",
     "output_type": "stream",
     "text": [
      "./example.txt.gz\n",
      "  Modified: Wed Sep  6 20:48:27 2017\n",
      "  Mode    : 0o644\n",
      "  Type    : b'0'\n",
      "  Size    : 2942 bytes\n",
      "\n",
      "./gzip.ipynb\n",
      "  Modified: Wed Sep  6 20:40:56 2017\n",
      "  Mode    : 0o644\n",
      "  Type    : b'0'\n",
      "  Size    : 2360 bytes\n",
      "\n",
      "./tarfile.ipynb\n",
      "  Modified: Wed Sep  6 20:46:59 2017\n",
      "  Mode    : 0o644\n",
      "  Type    : b'0'\n",
      "  Size    : 1950 bytes\n",
      "\n",
      "./zlib.ipynb\n",
      "  Modified: Wed Sep  6 20:34:27 2017\n",
      "  Mode    : 0o644\n",
      "  Type    : b'0'\n",
      "  Size    : 3568 bytes\n",
      "\n",
      "./zlib_server.py\n",
      "  Modified: Wed Sep  6 20:34:19 2017\n",
      "  Mode    : 0o644\n",
      "  Type    : b'0'\n",
      "  Size    : 2948 bytes\n",
      "\n"
     ]
    }
   ],
   "source": [
    "import tarfile\n",
    "import time\n",
    "\n",
    "with tarfile.open('example.tar', 'r') as t:\n",
    "    for member_info in t.getmembers():\n",
    "        print(member_info.name)\n",
    "        print('  Modified:', time.ctime(member_info.mtime))\n",
    "        print('  Mode    :', oct(member_info.mode))\n",
    "        print('  Type    :', member_info.type)\n",
    "        print('  Size    :', member_info.size, 'bytes')\n",
    "        print()"
   ]
  },
  {
   "cell_type": "code",
   "execution_count": 8,
   "metadata": {
    "collapsed": false
   },
   "outputs": [
    {
     "name": "stdout",
     "output_type": "stream",
     "text": [
      "ERROR: Did not find zlib_server.py in tar archive\n",
      "ERROR: Did not find notthere.txt in tar archive\n"
     ]
    }
   ],
   "source": [
    "import tarfile\n",
    "import time\n",
    "\n",
    "with tarfile.open('example.tar', 'r') as t:\n",
    "    for filename in ['zlib_server.py', 'notthere.txt']:\n",
    "        try:\n",
    "            info = t.getmember(filename)\n",
    "        except KeyError:\n",
    "            print('ERROR: Did not find {} in tar archive'.format(\n",
    "                filename))\n",
    "        else:\n",
    "            print('{} is {:d} bytes'.format(\n",
    "                info.name, info.size))\n"
   ]
  },
  {
   "cell_type": "markdown",
   "metadata": {},
   "source": [
    "# Creating New Archive"
   ]
  },
  {
   "cell_type": "code",
   "execution_count": 9,
   "metadata": {
    "collapsed": false
   },
   "outputs": [
    {
     "name": "stdout",
     "output_type": "stream",
     "text": [
      "creating archive\n",
      "add zlib_server.py\n",
      "\n",
      "Contents:\n",
      "zlib_server.py\n"
     ]
    }
   ],
   "source": [
    "import tarfile\n",
    "print('creating archive')\n",
    "with tarfile.open('tarfile_add.tar', mode='w') as out:\n",
    "    print('add zlib_server.py')\n",
    "    out.add('zlib_server.py')\n",
    "print()\n",
    "print('Contents:')\n",
    "with tarfile.open('tarfile_add.tar', mode='r') as t:\n",
    "    for member_info in t.getmembers():\n",
    "        print(member_info.name)"
   ]
  },
  {
   "cell_type": "markdown",
   "metadata": {},
   "source": [
    "# Appending to Archives"
   ]
  },
  {
   "cell_type": "code",
   "execution_count": 12,
   "metadata": {
    "collapsed": false
   },
   "outputs": [
    {
     "name": "stdout",
     "output_type": "stream",
     "text": [
      "creating archive\n",
      "contents:\n",
      "['gzip.ipynb']\n",
      "adding index.rst\n",
      "contents:\n",
      "['gzip.ipynb', 'zlib.ipynb']\n"
     ]
    }
   ],
   "source": [
    "import tarfile\n",
    "\n",
    "print('creating archive')\n",
    "with tarfile.open('tarfile_append.tar', mode='w') as out:\n",
    "    out.add('gzip.ipynb')\n",
    "\n",
    "print('contents:',)\n",
    "with tarfile.open('tarfile_append.tar', mode='r') as t:\n",
    "    print([m.name for m in t.getmembers()])\n",
    "\n",
    "print('adding index.rst')\n",
    "with tarfile.open('tarfile_append.tar', mode='a') as out:\n",
    "    out.add('zlib.ipynb')\n",
    "\n",
    "print('contents:',)\n",
    "with tarfile.open('tarfile_append.tar', mode='r') as t:\n",
    "    print([m.name for m in t.getmembers()])\n"
   ]
  }
 ],
 "metadata": {
  "kernelspec": {
   "display_name": "Python 3",
   "language": "python",
   "name": "python3"
  },
  "language_info": {
   "codemirror_mode": {
    "name": "ipython",
    "version": 3
   },
   "file_extension": ".py",
   "mimetype": "text/x-python",
   "name": "python",
   "nbconvert_exporter": "python",
   "pygments_lexer": "ipython3",
   "version": "3.6.0"
  }
 },
 "nbformat": 4,
 "nbformat_minor": 2
}
