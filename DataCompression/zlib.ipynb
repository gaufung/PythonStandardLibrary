{
 "cells": [
  {
   "cell_type": "markdown",
   "metadata": {},
   "source": [
    "The zlib module provides a lower-level interface to many of the functions in the zlib compression library from the GNU project.\n",
    "\n"
   ]
  },
  {
   "cell_type": "markdown",
   "metadata": {},
   "source": [
    "# Working with Data in Memory"
   ]
  },
  {
   "cell_type": "code",
   "execution_count": 2,
   "metadata": {
    "collapsed": false
   },
   "outputs": [
    {
     "name": "stdout",
     "output_type": "stream",
     "text": [
      "Original   : 26 b'This is the original text.'\n",
      "Compressed  : 32 b'789c0bc9c82c5600a2928c5485fca2ccf4ccbcc41c8592d48a123d007f2f097e'\n",
      "Decompressed: 26 b'This is the original text.'\n"
     ]
    }
   ],
   "source": [
    "import zlib\n",
    "import binascii\n",
    "origin_data = b'This is the original text.'\n",
    "print('Original   :', len(origin_data), origin_data)\n",
    "compressed = zlib.compress(origin_data)\n",
    "print('Compressed  :', len(compressed), binascii.hexlify(compressed))\n",
    "decompressed = zlib.decompress(compressed)\n",
    "print('Decompressed:', len(decompressed), decompressed)"
   ]
  },
  {
   "cell_type": "code",
   "execution_count": 3,
   "metadata": {
    "collapsed": false
   },
   "outputs": [
    {
     "name": "stdout",
     "output_type": "stream",
     "text": [
      "      len(data)  len(compressed)\n",
      "---------------  ---------------\n",
      "              0                8 *\n",
      "             26               32 *\n",
      "             52               35 \n",
      "             78               35 \n",
      "            104               36 \n"
     ]
    }
   ],
   "source": [
    "import zlib\n",
    "\n",
    "original_data = b'This is the original text.'\n",
    "\n",
    "template = '{:>15}  {:>15}'\n",
    "print(template.format('len(data)', 'len(compressed)'))\n",
    "print(template.format('-' * 15, '-' * 15))\n",
    "\n",
    "for i in range(5):\n",
    "    data = original_data * i\n",
    "    compressed = zlib.compress(data)\n",
    "    highlight = '*' if len(data) < len(compressed) else ''\n",
    "    print(template.format(len(data), len(compressed)), highlight)"
   ]
  },
  {
   "cell_type": "code",
   "execution_count": 4,
   "metadata": {
    "collapsed": false
   },
   "outputs": [
    {
     "name": "stdout",
     "output_type": "stream",
     "text": [
      "Level   Size\n",
      "-----   ----\n",
      "    0  20491\n",
      "    1    172\n",
      "    2    172\n",
      "    3    172\n",
      "    4     98\n",
      "    5     98\n",
      "    6     98\n",
      "    7     98\n",
      "    8     98\n",
      "    9     98\n"
     ]
    }
   ],
   "source": [
    "import zlib\n",
    "\n",
    "input_data = b'Some repeated text.\\n' * 1024\n",
    "template = '{:>5}  {:>5}'\n",
    "\n",
    "print(template.format('Level', 'Size'))\n",
    "print(template.format('-----', '----'))\n",
    "\n",
    "for i in range(0, 10):\n",
    "    data = zlib.compress(input_data, i)\n",
    "    print(template.format(i, len(data)))\n"
   ]
  }
 ],
 "metadata": {
  "kernelspec": {
   "display_name": "Python 3",
   "language": "python",
   "name": "python3"
  },
  "language_info": {
   "codemirror_mode": {
    "name": "ipython",
    "version": 3
   },
   "file_extension": ".py",
   "mimetype": "text/x-python",
   "name": "python",
   "nbconvert_exporter": "python",
   "pygments_lexer": "ipython3",
   "version": "3.6.0"
  }
 },
 "nbformat": 4,
 "nbformat_minor": 2
}
