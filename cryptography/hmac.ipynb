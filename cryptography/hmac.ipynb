{
 "cells": [
  {
   "cell_type": "markdown",
   "metadata": {},
   "source": [
    "The HMAC algorithm can be used to verify the integrity of information passed between applications or stored in a potentially vulnerable location. The basic idea is to generate a cryptographic hash of the actual data combined with a shared secret key. The resulting hash can then be used to check the transmitted or stored message to determine a level of trust, without transmitting the secret key.\n",
    "\n"
   ]
  },
  {
   "cell_type": "markdown",
   "metadata": {},
   "source": [
    "# Signing Message"
   ]
  },
  {
   "cell_type": "code",
   "execution_count": 1,
   "metadata": {
    "collapsed": false
   },
   "outputs": [
    {
     "name": "stdout",
     "output_type": "stream",
     "text": [
      "cdfb1d28631a2623f3fe77e3ffe07dfe\n"
     ]
    }
   ],
   "source": [
    "import hmac\n",
    "\n",
    "digest_maker = hmac.new(b'secret-shared-key-goes-here')\n",
    "\n",
    "with open('hmac.ipynb', 'rb') as f:\n",
    "    while True:\n",
    "        block = f.read(1024)\n",
    "        if not block:\n",
    "            break\n",
    "        digest_maker.update(block)\n",
    "\n",
    "digest = digest_maker.hexdigest()\n",
    "print(digest)"
   ]
  },
  {
   "cell_type": "markdown",
   "metadata": {},
   "source": [
    "# Alternate Digest Types"
   ]
  },
  {
   "cell_type": "code",
   "execution_count": 2,
   "metadata": {
    "collapsed": false
   },
   "outputs": [
    {
     "name": "stdout",
     "output_type": "stream",
     "text": [
      "ccc6f62e632d9277e0b8596e1a7ae4ac7e6ccc57\n"
     ]
    }
   ],
   "source": [
    "import hmac\n",
    "import hashlib\n",
    "\n",
    "digest_maker = hmac.new(\n",
    "    b'secret-shared-key-goes-here',\n",
    "    b'',\n",
    "    hashlib.sha1,\n",
    ")\n",
    "\n",
    "with open('hmac.ipynb', 'rb') as f:\n",
    "    while True:\n",
    "        block = f.read(1024)\n",
    "        if not block:\n",
    "            break\n",
    "        digest_maker.update(block)\n",
    "\n",
    "digest = digest_maker.hexdigest()\n",
    "print(digest)"
   ]
  },
  {
   "cell_type": "markdown",
   "metadata": {},
   "source": [
    "# Applicaitons of Messages Signature"
   ]
  },
  {
   "cell_type": "code",
   "execution_count": 3,
   "metadata": {
    "collapsed": true
   },
   "outputs": [],
   "source": [
    "import hashlib\n",
    "import hmac\n",
    "import io\n",
    "import pickle\n",
    "import pprint\n",
    "\n",
    "\n",
    "def make_digest(message):\n",
    "    \"Return a digest for the message.\"\n",
    "    hash = hmac.new(\n",
    "        b'secret-shared-key-goes-here',\n",
    "        message,\n",
    "        hashlib.sha1,\n",
    "    )\n",
    "    return hash.hexdigest().encode('utf-8')\n",
    "\n",
    "\n",
    "class SimpleObject:\n",
    "    \"\"\"Demonstrate checking digests before unpickling.\n",
    "    \"\"\"\n",
    "\n",
    "    def __init__(self, name):\n",
    "        self.name = name\n",
    "\n",
    "    def __str__(self):\n",
    "        return self.name"
   ]
  },
  {
   "cell_type": "code",
   "execution_count": 4,
   "metadata": {
    "collapsed": false
   },
   "outputs": [
    {
     "name": "stdout",
     "output_type": "stream",
     "text": [
      "WRITING: b'f49cd2bf7922911129e8df37f76f95485a0b52ca 69\\n'\n"
     ]
    },
    {
     "data": {
      "text/plain": [
       "69"
      ]
     },
     "execution_count": 4,
     "metadata": {},
     "output_type": "execute_result"
    }
   ],
   "source": [
    "out_s = io.BytesIO()\n",
    "\n",
    "# Write a valid object to the stream:\n",
    "#  digest\\nlength\\npickle\n",
    "o = SimpleObject('digest matches')\n",
    "pickled_data = pickle.dumps(o)\n",
    "digest = make_digest(pickled_data)\n",
    "header = b'%s %d\\n' % (digest, len(pickled_data))\n",
    "print('WRITING: {}'.format(header))\n",
    "out_s.write(header)\n",
    "out_s.write(pickled_data)"
   ]
  },
  {
   "cell_type": "code",
   "execution_count": 5,
   "metadata": {
    "collapsed": false
   },
   "outputs": [
    {
     "name": "stdout",
     "output_type": "stream",
     "text": [
      "\n",
      "WRITING: b'b01b209e28d7e053408ebe23b90fe5c33bc6a0ec 76\\n'\n"
     ]
    }
   ],
   "source": [
    "# Write an invalid object to the stream\n",
    "o = SimpleObject('digest does not match')\n",
    "pickled_data = pickle.dumps(o)\n",
    "digest = make_digest(b'not the pickled data at all')\n",
    "header = b'%s %d\\n' % (digest, len(pickled_data))\n",
    "print('\\nWRITING: {}'.format(header))\n",
    "out_s.write(header)\n",
    "out_s.write(pickled_data)\n",
    "\n",
    "out_s.flush()\n"
   ]
  },
  {
   "cell_type": "code",
   "execution_count": 6,
   "metadata": {
    "collapsed": false
   },
   "outputs": [
    {
     "name": "stdout",
     "output_type": "stream",
     "text": [
      "\n",
      "READ: b'f49cd2bf7922911129e8df37f76f95485a0b52ca' 69\n",
      "ACTUAL: b'f49cd2bf7922911129e8df37f76f95485a0b52ca'\n",
      "OK: digest matches\n",
      "\n",
      "READ: b'b01b209e28d7e053408ebe23b90fe5c33bc6a0ec' 76\n",
      "ACTUAL: b'2ab061f9a9f749b8dd6f175bf57292e02e95c119'\n",
      "WARNING: Data corruption\n"
     ]
    }
   ],
   "source": [
    "in_s = io.BytesIO(out_s.getvalue())\n",
    "\n",
    "# Read the data\n",
    "while True:\n",
    "    first_line = in_s.readline()\n",
    "    if not first_line:\n",
    "        break\n",
    "    incoming_digest, incoming_length = first_line.split(b' ')\n",
    "    incoming_length = int(incoming_length.decode('utf-8'))\n",
    "    print('\\nREAD:', incoming_digest, incoming_length)\n",
    "    incoming_pickled_data = in_s.read(incoming_length)\n",
    "\n",
    "    actual_digest = make_digest(incoming_pickled_data)\n",
    "    print('ACTUAL:', actual_digest)\n",
    "\n",
    "    if hmac.compare_digest(actual_digest, incoming_digest):\n",
    "        obj = pickle.loads(incoming_pickled_data)\n",
    "        print('OK:', obj)\n",
    "    else:\n",
    "        print('WARNING: Data corruption')"
   ]
  }
 ],
 "metadata": {
  "kernelspec": {
   "display_name": "Python 3",
   "language": "python",
   "name": "python3"
  },
  "language_info": {
   "codemirror_mode": {
    "name": "ipython",
    "version": 3
   },
   "file_extension": ".py",
   "mimetype": "text/x-python",
   "name": "python",
   "nbconvert_exporter": "python",
   "pygments_lexer": "ipython3",
   "version": "3.6.0"
  }
 },
 "nbformat": 4,
 "nbformat_minor": 2
}
