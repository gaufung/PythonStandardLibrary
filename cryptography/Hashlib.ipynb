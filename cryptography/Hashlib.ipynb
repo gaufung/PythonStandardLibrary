{
 "cells": [
  {
   "cell_type": "markdown",
   "metadata": {},
   "source": [
    "The hashlib module defines an API for accessing different cryptographic hashing algorithms. To work with a specific hash algorithm, use the appropriate constructor function or new() to create a hash object. From there, the objects use the same API, no matter what algorithm is being used.\n",
    "\n"
   ]
  },
  {
   "cell_type": "markdown",
   "metadata": {},
   "source": [
    "# Hash Algorithms"
   ]
  },
  {
   "cell_type": "code",
   "execution_count": 1,
   "metadata": {
    "collapsed": false
   },
   "outputs": [
    {
     "name": "stdout",
     "output_type": "stream",
     "text": [
      "Guaranteed:\n",
      "blake2b, blake2s, md5, sha1, sha224, sha256, sha384, sha3_224, sha3_256, sha3_384, sha3_512, sha512, shake_128, shake_256\n",
      "\n",
      "Available:\n",
      "DSA, DSA-SHA, MD4, MD5, MDC2, RIPEMD160, SHA, SHA1, SHA224, SHA256, SHA384, SHA512, blake2b, blake2s, dsaEncryption, dsaWithSHA, ecdsa-with-SHA1, md4, md5, mdc2, ripemd160, sha, sha1, sha224, sha256, sha384, sha3_224, sha3_256, sha3_384, sha3_512, sha512, shake_128, shake_256, whirlpool\n"
     ]
    }
   ],
   "source": [
    "import hashlib\n",
    "\n",
    "\n",
    "print('Guaranteed:\\n{}\\n'.format(\n",
    "    ', '.join(sorted(hashlib.algorithms_guaranteed))))\n",
    "print('Available:\\n{}'.format(\n",
    "    ', '.join(sorted(hashlib.algorithms_available))))"
   ]
  },
  {
   "cell_type": "code",
   "execution_count": 2,
   "metadata": {
    "collapsed": true
   },
   "outputs": [],
   "source": [
    "import hashlib\n",
    "\n",
    "lorem = '''Lorem ipsum dolor sit amet, consectetur adipisicing\n",
    "elit, sed do eiusmod tempor incididunt ut labore et dolore magna\n",
    "aliqua. Ut enim ad minim veniam, quis nostrud exercitation\n",
    "ullamco laboris nisi ut aliquip ex ea commodo consequat. Duis\n",
    "aute irure dolor in reprehenderit in voluptate velit esse cillum\n",
    "dolore eu fugiat nulla pariatur. Excepteur sint occaecat\n",
    "cupidatat non proident, sunt in culpa qui officia deserunt\n",
    "mollit anim id est laborum.'''"
   ]
  },
  {
   "cell_type": "markdown",
   "metadata": {},
   "source": [
    "# MD5 Example"
   ]
  },
  {
   "cell_type": "code",
   "execution_count": 4,
   "metadata": {
    "collapsed": false
   },
   "outputs": [
    {
     "name": "stdout",
     "output_type": "stream",
     "text": [
      "3f2fd2c9e25d60fb0fa5d593b802b7a8\n"
     ]
    }
   ],
   "source": [
    "import hashlib\n",
    "h = hashlib.md5()\n",
    "h.update(lorem.encode('utf8'))\n",
    "print(h.hexdigest())"
   ]
  },
  {
   "cell_type": "markdown",
   "metadata": {},
   "source": [
    "# Sha1 Example"
   ]
  },
  {
   "cell_type": "code",
   "execution_count": 5,
   "metadata": {
    "collapsed": false
   },
   "outputs": [
    {
     "name": "stdout",
     "output_type": "stream",
     "text": [
      "ea360b288b3dd178fe2625f55b2959bf1dba6eef\n"
     ]
    }
   ],
   "source": [
    "import hashlib\n",
    "h = hashlib.sha1()\n",
    "h.update(lorem.encode('utf-8'))\n",
    "print(h.hexdigest())"
   ]
  },
  {
   "cell_type": "markdown",
   "metadata": {},
   "source": [
    "# Change by Name"
   ]
  },
  {
   "cell_type": "code",
   "execution_count": 8,
   "metadata": {
    "collapsed": false
   },
   "outputs": [
    {
     "name": "stdout",
     "output_type": "stream",
     "text": [
      "3c887cc71c67949df29568119cc646f46b9cd2c2b39d456065646bc2fc09ffd8\n"
     ]
    }
   ],
   "source": [
    "import hashlib\n",
    "h = hashlib.new('sha256')\n",
    "h.update(lorem.encode('utf-8'))\n",
    "print(h.hexdigest())"
   ]
  },
  {
   "cell_type": "markdown",
   "metadata": {},
   "source": [
    "# Incresmental Updates"
   ]
  },
  {
   "cell_type": "code",
   "execution_count": 9,
   "metadata": {
    "collapsed": false
   },
   "outputs": [
    {
     "name": "stdout",
     "output_type": "stream",
     "text": [
      "All at once : 3f2fd2c9e25d60fb0fa5d593b802b7a8\n",
      "Line by line: 3f2fd2c9e25d60fb0fa5d593b802b7a8\n",
      "Same        : True\n"
     ]
    }
   ],
   "source": [
    "import hashlib\n",
    "h = hashlib.md5()\n",
    "h.update(lorem.encode('utf-8'))\n",
    "all_at_once = h.hexdigest()\n",
    "\n",
    "\n",
    "def chunkize(size, text):\n",
    "    \"Return parts of the text in size-based increments.\"\n",
    "    start = 0\n",
    "    while start < len(text):\n",
    "        chunk = text[start:start + size]\n",
    "        yield chunk\n",
    "        start += size\n",
    "    return\n",
    "\n",
    "h = hashlib.md5()\n",
    "for chunk in chunkize(64, lorem.encode('utf-8')):\n",
    "    h.update(chunk)\n",
    "line_by_line = h.hexdigest()\n",
    "\n",
    "print('All at once :', all_at_once)\n",
    "print('Line by line:', line_by_line)\n",
    "print('Same        :', (all_at_once == line_by_line))"
   ]
  }
 ],
 "metadata": {
  "kernelspec": {
   "display_name": "Python 3",
   "language": "python",
   "name": "python3"
  },
  "language_info": {
   "codemirror_mode": {
    "name": "ipython",
    "version": 3
   },
   "file_extension": ".py",
   "mimetype": "text/x-python",
   "name": "python",
   "nbconvert_exporter": "python",
   "pygments_lexer": "ipython3",
   "version": "3.6.0"
  }
 },
 "nbformat": 4,
 "nbformat_minor": 2
}
