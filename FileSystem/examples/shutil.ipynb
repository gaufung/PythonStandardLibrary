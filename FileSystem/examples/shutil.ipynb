{
 "cells": [
  {
   "cell_type": "markdown",
   "metadata": {},
   "source": [
    "The *shutil* module include high-level file operations."
   ]
  },
  {
   "cell_type": "markdown",
   "metadata": {},
   "source": [
    "# Copying files"
   ]
  },
  {
   "cell_type": "code",
   "execution_count": 2,
   "metadata": {
    "collapsed": false
   },
   "outputs": [
    {
     "name": "stdout",
     "output_type": "stream",
     "text": [
      "Before:  ['shutil.ipynb']\n",
      "After: ['shutil.copy.ipynb', 'shutil.ipynb']\n"
     ]
    }
   ],
   "source": [
    "import glob\n",
    "import shutil\n",
    "print('Before: ', glob.glob('shutil.*'))\n",
    "shutil.copyfile('shutil.ipynb', 'shutil.copy.ipynb')\n",
    "print('After:' , glob.glob('shutil.*'))"
   ]
  },
  {
   "cell_type": "code",
   "execution_count": 4,
   "metadata": {
    "collapsed": false
   },
   "outputs": [
    {
     "name": "stdout",
     "output_type": "stream",
     "text": [
      "Before: []\n",
      "After: ['examples/shutil.ipynb']\n"
     ]
    }
   ],
   "source": [
    "import glob\n",
    "import os\n",
    "import shutil\n",
    "\n",
    "os.mkdir('examples')\n",
    "print('Before:', glob.glob('examples/*'))\n",
    "shutil.copy('shutil.ipynb', 'examples')\n",
    "print('After:', glob.glob('examples/*'))"
   ]
  },
  {
   "cell_type": "code",
   "execution_count": 8,
   "metadata": {
    "collapsed": false
   },
   "outputs": [
    {
     "name": "stdout",
     "output_type": "stream",
     "text": [
      "Source:\n",
      " mode  0o100644\n",
      " created:  Mon Sep  4 19:12:56 2017\n",
      " accessed:  Mon Sep  4 19:12:56 2017\n",
      " Modified:  Mon Sep  4 19:12:56 2017\n"
     ]
    },
    {
     "ename": "NameError",
     "evalue": "name 'shuitl' is not defined",
     "output_type": "error",
     "traceback": [
      "\u001b[0;31m---------------------------------------------------------------------------\u001b[0m",
      "\u001b[0;31mNameError\u001b[0m                                 Traceback (most recent call last)",
      "\u001b[0;32m<ipython-input-8-7f34d26731c2>\u001b[0m in \u001b[0;36m<module>\u001b[0;34m()\u001b[0m\n\u001b[1;32m     11\u001b[0m \u001b[0mprint\u001b[0m\u001b[0;34m(\u001b[0m\u001b[0;34m'Source:'\u001b[0m\u001b[0;34m)\u001b[0m\u001b[0;34m\u001b[0m\u001b[0m\n\u001b[1;32m     12\u001b[0m \u001b[0mshow_file_info\u001b[0m\u001b[0;34m(\u001b[0m\u001b[0;34m'shutil.ipynb'\u001b[0m\u001b[0;34m)\u001b[0m\u001b[0;34m\u001b[0m\u001b[0m\n\u001b[0;32m---> 13\u001b[0;31m \u001b[0mshuitl\u001b[0m\u001b[0;34m.\u001b[0m\u001b[0mcopy2\u001b[0m\u001b[0;34m(\u001b[0m\u001b[0;34m'shutil.ipynb'\u001b[0m\u001b[0;34m,\u001b[0m \u001b[0;34m'examples'\u001b[0m\u001b[0;34m)\u001b[0m\u001b[0;34m\u001b[0m\u001b[0m\n\u001b[0m\u001b[1;32m     14\u001b[0m \u001b[0mprint\u001b[0m\u001b[0;34m(\u001b[0m\u001b[0;34m'Dest:'\u001b[0m\u001b[0;34m)\u001b[0m\u001b[0;34m\u001b[0m\u001b[0m\n\u001b[1;32m     15\u001b[0m \u001b[0mshow_file_info\u001b[0m\u001b[0;34m(\u001b[0m\u001b[0;34m'examples/shutil.ipynb'\u001b[0m\u001b[0;34m)\u001b[0m\u001b[0;34m\u001b[0m\u001b[0m\n",
      "\u001b[0;31mNameError\u001b[0m: name 'shuitl' is not defined"
     ]
    }
   ],
   "source": [
    "import os\n",
    "import shutil\n",
    "import time\n",
    "def show_file_info(filename):\n",
    "    stat_info = os.stat(filename)\n",
    "    print(' mode ', oct(stat_info.st_mode))\n",
    "    print(' created: ', time.ctime(stat_info.st_ctime))\n",
    "    print(' accessed: ', time.ctime(stat_info.st_atime))\n",
    "    print(' Modified: ', time.ctime(stat_info.st_mtime))\n",
    "os.mkdir('examples')\n",
    "print('Source:')\n",
    "show_file_info('shutil.ipynb')\n",
    "shutil.copy2('shutil.ipynb', 'examples')\n",
    "print('Dest:')\n",
    "show_file_info('examples/shutil.ipynb')"
   ]
  },
  {
   "cell_type": "code",
   "execution_count": null,
   "metadata": {
    "collapsed": true
   },
   "outputs": [],
   "source": []
  }
 ],
 "metadata": {
  "kernelspec": {
   "display_name": "Python 3",
   "language": "python",
   "name": "python3"
  },
  "language_info": {
   "codemirror_mode": {
    "name": "ipython",
    "version": 3
   },
   "file_extension": ".py",
   "mimetype": "text/x-python",
   "name": "python",
   "nbconvert_exporter": "python",
   "pygments_lexer": "ipython3",
   "version": "3.6.0"
  }
 },
 "nbformat": 4,
 "nbformat_minor": 2
}
