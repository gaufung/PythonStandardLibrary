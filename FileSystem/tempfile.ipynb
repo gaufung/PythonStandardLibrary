{
 "cells": [
  {
   "cell_type": "markdown",
   "metadata": {},
   "source": [
    "Creating temporary files with unique names securely, so they cannot be guessed by someone wanting to break the application or steal the data, is challenging. The tempfile module provides several functions for creating temporary file system resources securely. TemporaryFile() opens and returns an unnamed file, NamedTemporaryFile() opens and returns a named file, SpooledTemporaryFile holds its content in memory before writing to disk, and TemporaryDirectory is a context manager that removes the directory when the context is closed.\n",
    "# Temporary File"
   ]
  },
  {
   "cell_type": "code",
   "execution_count": 1,
   "metadata": {
    "collapsed": false
   },
   "outputs": [
    {
     "name": "stdout",
     "output_type": "stream",
     "text": [
      "Building a filename with PID:\n",
      "temp:\n",
      "  <_io.BufferedRandom name='/tmp/guess_my_name.37883.txt'>\n",
      "temp.name:\n",
      "  '/tmp/guess_my_name.37883.txt'\n",
      "\n",
      "TemporaryFile:\n",
      "temp:\n",
      "  <_io.BufferedRandom name=53>\n",
      "temp.name:\n",
      "  53\n"
     ]
    }
   ],
   "source": [
    "import os\n",
    "import tempfile\n",
    "\n",
    "print('Building a filename with PID:')\n",
    "filename = '/tmp/guess_my_name.{}.txt'.format(os.getpid())\n",
    "with open(filename, 'w+b') as temp:\n",
    "    print('temp:')\n",
    "    print('  {!r}'.format(temp))\n",
    "    print('temp.name:')\n",
    "    print('  {!r}'.format(temp.name))\n",
    "\n",
    "# Clean up the temporary file yourself.\n",
    "os.remove(filename)\n",
    "\n",
    "print()\n",
    "print('TemporaryFile:')\n",
    "with tempfile.TemporaryFile() as temp:\n",
    "    print('temp:')\n",
    "    print('  {!r}'.format(temp))\n",
    "    print('temp.name:')\n",
    "    print('  {!r}'.format(temp.name))"
   ]
  },
  {
   "cell_type": "code",
   "execution_count": 2,
   "metadata": {
    "collapsed": false
   },
   "outputs": [
    {
     "name": "stdout",
     "output_type": "stream",
     "text": [
      "b'Some data'\n"
     ]
    }
   ],
   "source": [
    "import os\n",
    "import tempfile\n",
    "\n",
    "with tempfile.TemporaryFile() as temp:\n",
    "    temp.write(b'Some data')\n",
    "\n",
    "    temp.seek(0)\n",
    "    print(temp.read())"
   ]
  },
  {
   "cell_type": "code",
   "execution_count": 3,
   "metadata": {
    "collapsed": false
   },
   "outputs": [
    {
     "name": "stdout",
     "output_type": "stream",
     "text": [
      "first\n",
      "second\n"
     ]
    }
   ],
   "source": [
    "import tempfile\n",
    "\n",
    "with tempfile.TemporaryFile(mode='w+t') as f:\n",
    "    f.writelines(['first\\n', 'second\\n'])\n",
    "\n",
    "    f.seek(0)\n",
    "    for line in f:\n",
    "        print(line.rstrip())"
   ]
  },
  {
   "cell_type": "markdown",
   "metadata": {},
   "source": [
    "# Named File"
   ]
  },
  {
   "cell_type": "code",
   "execution_count": 4,
   "metadata": {
    "collapsed": false
   },
   "outputs": [
    {
     "name": "stdout",
     "output_type": "stream",
     "text": [
      "temp:\n",
      "  <tempfile._TemporaryFileWrapper object at 0x105563828>\n",
      "temp.name:\n",
      "  '/var/folders/k9/2cxh1k2115s_lw4wtq9mzj9m0000gp/T/tmpmao57w23'\n",
      "Exists after close: False\n"
     ]
    }
   ],
   "source": [
    "import os\n",
    "import pathlib\n",
    "import tempfile\n",
    "\n",
    "with tempfile.NamedTemporaryFile() as temp:\n",
    "    print('temp:')\n",
    "    print('  {!r}'.format(temp))\n",
    "    print('temp.name:')\n",
    "    print('  {!r}'.format(temp.name))\n",
    "\n",
    "    f = pathlib.Path(temp.name)\n",
    "\n",
    "print('Exists after close:', f.exists())"
   ]
  },
  {
   "cell_type": "markdown",
   "metadata": {},
   "source": [
    "# Spooled File"
   ]
  },
  {
   "cell_type": "code",
   "execution_count": 6,
   "metadata": {
    "collapsed": false
   },
   "outputs": [
    {
     "name": "stdout",
     "output_type": "stream",
     "text": [
      "temp: <tempfile.SpooledTemporaryFile object at 0x10561e9b0>\n",
      "False <_io.StringIO object at 0x1055f0c18>\n",
      "False <_io.StringIO object at 0x1055f0c18>\n",
      "True <_io.TextIOWrapper name=56 mode='w+t' encoding='utf-8'>\n"
     ]
    }
   ],
   "source": [
    "import tempfile\n",
    "\n",
    "with tempfile.SpooledTemporaryFile(max_size=100,\n",
    "                                   mode='w+t',\n",
    "                                   encoding='utf-8') as temp:\n",
    "    print('temp: {!r}'.format(temp))\n",
    "    for i in range(3):\n",
    "        temp.write('This line is repeated over and over.\\n')\n",
    "        print(temp._rolled, temp._file)"
   ]
  },
  {
   "cell_type": "code",
   "execution_count": 7,
   "metadata": {
    "collapsed": false
   },
   "outputs": [
    {
     "name": "stdout",
     "output_type": "stream",
     "text": [
      "temp: <tempfile.SpooledTemporaryFile object at 0x105630780>\n",
      "False <_io.StringIO object at 0x10554db88>\n",
      "False <_io.StringIO object at 0x10554db88>\n",
      "False <_io.StringIO object at 0x10554db88>\n",
      "rolling over\n",
      "True <_io.TextIOWrapper name=56 mode='w+t' encoding='utf-8'>\n"
     ]
    }
   ],
   "source": [
    "import tempfile\n",
    "\n",
    "with tempfile.SpooledTemporaryFile(max_size=1000,\n",
    "                                   mode='w+t',\n",
    "                                   encoding='utf-8') as temp:\n",
    "    print('temp: {!r}'.format(temp))\n",
    "\n",
    "    for i in range(3):\n",
    "        temp.write('This line is repeated over and over.\\n')\n",
    "        print(temp._rolled, temp._file)\n",
    "    print('rolling over')\n",
    "    temp.rollover()\n",
    "    print(temp._rolled, temp._file)"
   ]
  },
  {
   "cell_type": "markdown",
   "metadata": {},
   "source": [
    "# Temporary Directories"
   ]
  },
  {
   "cell_type": "code",
   "execution_count": 8,
   "metadata": {
    "collapsed": false
   },
   "outputs": [
    {
     "name": "stdout",
     "output_type": "stream",
     "text": [
      "/var/folders/k9/2cxh1k2115s_lw4wtq9mzj9m0000gp/T/tmp5tso4jyq\n",
      "Directory exists after? False\n",
      "Contents after: []\n"
     ]
    }
   ],
   "source": [
    "import pathlib\n",
    "import tempfile\n",
    "\n",
    "with tempfile.TemporaryDirectory() as directory_name:\n",
    "    the_dir = pathlib.Path(directory_name)\n",
    "    print(the_dir)\n",
    "    a_file = the_dir / 'a_file.txt'\n",
    "    a_file.write_text('This file is deleted.')\n",
    "\n",
    "print('Directory exists after?', the_dir.exists())\n",
    "print('Contents after:', list(the_dir.glob('*')))"
   ]
  },
  {
   "cell_type": "markdown",
   "metadata": {},
   "source": [
    "# Predicting Name"
   ]
  },
  {
   "cell_type": "code",
   "execution_count": 9,
   "metadata": {
    "collapsed": false
   },
   "outputs": [
    {
     "name": "stdout",
     "output_type": "stream",
     "text": [
      "temp:\n",
      "   <tempfile._TemporaryFileWrapper object at 0x1055f1f28>\n",
      "temp.name:\n",
      "   /tmp/prefix_aa9_7ivp_suffix\n"
     ]
    }
   ],
   "source": [
    "import tempfile\n",
    "\n",
    "with tempfile.NamedTemporaryFile(suffix='_suffix',\n",
    "                                 prefix='prefix_',\n",
    "                                 dir='/tmp') as temp:\n",
    "    print('temp:')\n",
    "    print('  ', temp)\n",
    "    print('temp.name:')\n",
    "    print('  ', temp.name)"
   ]
  },
  {
   "cell_type": "markdown",
   "metadata": {},
   "source": [
    "# Temporary File Location"
   ]
  },
  {
   "cell_type": "code",
   "execution_count": 10,
   "metadata": {
    "collapsed": false
   },
   "outputs": [
    {
     "name": "stdout",
     "output_type": "stream",
     "text": [
      "gettempdir(): /var/folders/k9/2cxh1k2115s_lw4wtq9mzj9m0000gp/T\n",
      "gettempprefix(): tmp\n"
     ]
    }
   ],
   "source": [
    "import tempfile\n",
    "\n",
    "print('gettempdir():', tempfile.gettempdir())\n",
    "print('gettempprefix():', tempfile.gettempprefix())"
   ]
  }
 ],
 "metadata": {
  "kernelspec": {
   "display_name": "Python 3",
   "language": "python",
   "name": "python3"
  },
  "language_info": {
   "codemirror_mode": {
    "name": "ipython",
    "version": 3
   },
   "file_extension": ".py",
   "mimetype": "text/x-python",
   "name": "python",
   "nbconvert_exporter": "python",
   "pygments_lexer": "ipython3",
   "version": "3.6.0"
  }
 },
 "nbformat": 4,
 "nbformat_minor": 2
}
