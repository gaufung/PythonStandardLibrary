{
 "cells": [
  {
   "cell_type": "markdown",
   "metadata": {},
   "source": [
    "The *shutil* module include high-level file operations."
   ]
  },
  {
   "cell_type": "markdown",
   "metadata": {},
   "source": [
    "# Copying files"
   ]
  },
  {
   "cell_type": "code",
   "execution_count": 2,
   "metadata": {
    "collapsed": false
   },
   "outputs": [
    {
     "name": "stdout",
     "output_type": "stream",
     "text": [
      "Before:  ['shutil.ipynb']\n",
      "After: ['shutil.copy.ipynb', 'shutil.ipynb']\n"
     ]
    }
   ],
   "source": [
    "import glob\n",
    "import shutil\n",
    "print('Before: ', glob.glob('shutil.*'))\n",
    "shutil.copyfile('shutil.ipynb', 'shutil.copy.ipynb')\n",
    "print('After:' , glob.glob('shutil.*'))"
   ]
  },
  {
   "cell_type": "code",
   "execution_count": 4,
   "metadata": {
    "collapsed": false
   },
   "outputs": [
    {
     "name": "stdout",
     "output_type": "stream",
     "text": [
      "Before: []\n",
      "After: ['examples/shutil.ipynb']\n"
     ]
    }
   ],
   "source": [
    "import glob\n",
    "import os\n",
    "import shutil\n",
    "\n",
    "os.mkdir('examples')\n",
    "print('Before:', glob.glob('examples/*'))\n",
    "shutil.copy('shutil.ipynb', 'examples')\n",
    "print('After:', glob.glob('examples/*'))"
   ]
  },
  {
   "cell_type": "code",
   "execution_count": 9,
   "metadata": {
    "collapsed": false
   },
   "outputs": [
    {
     "name": "stdout",
     "output_type": "stream",
     "text": [
      "Source:\n",
      " mode  0o100644\n",
      " created:  Mon Sep  4 19:14:05 2017\n",
      " accessed:  Mon Sep  4 19:14:05 2017\n",
      " Modified:  Mon Sep  4 19:14:05 2017\n",
      "Dest:\n",
      " mode  0o100644\n",
      " created:  Mon Sep  4 19:14:05 2017\n",
      " accessed:  Mon Sep  4 19:14:05 2017\n",
      " Modified:  Mon Sep  4 19:14:05 2017\n"
     ]
    }
   ],
   "source": [
    "import os\n",
    "import shutil\n",
    "import time\n",
    "def show_file_info(filename):\n",
    "    stat_info = os.stat(filename)\n",
    "    print(' mode ', oct(stat_info.st_mode))\n",
    "    print(' created: ', time.ctime(stat_info.st_ctime))\n",
    "    print(' accessed: ', time.ctime(stat_info.st_atime))\n",
    "    print(' Modified: ', time.ctime(stat_info.st_mtime))\n",
    "os.mkdir('examples')\n",
    "print('Source:')\n",
    "show_file_info('shutil.ipynb')\n",
    "shutil.copy2('shutil.ipynb', 'examples')\n",
    "print('Dest:')\n",
    "show_file_info('examples/shutil.ipynb')"
   ]
  },
  {
   "cell_type": "markdown",
   "metadata": {},
   "source": [
    "# Copying File Metadata"
   ]
  },
  {
   "cell_type": "code",
   "execution_count": 10,
   "metadata": {
    "collapsed": false
   },
   "outputs": [
    {
     "name": "stdout",
     "output_type": "stream",
     "text": [
      "Before: 0o100444\n",
      "After: 0o100644\n"
     ]
    }
   ],
   "source": [
    "import os\n",
    "import shutil\n",
    "import subprocess\n",
    "with open('file_to_change.txt', 'wt') as f:\n",
    "    f.write('content')\n",
    "os.chmod('file_to_change.txt', 0o444)\n",
    "print('Before:', oct(os.stat('file_to_change.txt').st_mode))\n",
    "shutil.copymode('shutil.ipynb', 'file_to_change.txt')\n",
    "print('After:', oct(os.stat('file_to_change.txt').st_mode))"
   ]
  },
  {
   "cell_type": "markdown",
   "metadata": {},
   "source": [
    "# Working with Dicretionary Trees"
   ]
  },
  {
   "cell_type": "code",
   "execution_count": 11,
   "metadata": {
    "collapsed": false
   },
   "outputs": [
    {
     "name": "stdout",
     "output_type": "stream",
     "text": [
      "Before: \n",
      "[]\n",
      "After: \n",
      "['/tmp/example/example',\n",
      " '/tmp/example/examples',\n",
      " '/tmp/example/file_to_change.txt',\n",
      " '/tmp/example/filecomp.ipynb',\n",
      " '/tmp/example/fnmatch',\n",
      " '/tmp/example/glob.ipynb',\n",
      " '/tmp/example/io.ipynb',\n",
      " '/tmp/example/lorem.txt',\n",
      " '/tmp/example/lorem_copy.txt',\n",
      " '/tmp/example/mmap.ipynb',\n",
      " '/tmp/example/Path.ipynb',\n",
      " '/tmp/example/shutil.copy.ipynb',\n",
      " '/tmp/example/shutil.ipynb',\n",
      " '/tmp/example/tempfile.ipynb']\n"
     ]
    }
   ],
   "source": [
    "import glob\n",
    "import pprint\n",
    "import shutil\n",
    "print('Before: ')\n",
    "pprint.pprint(glob.glob('/tmp/example/*'))\n",
    "\n",
    "shutil.copytree('../FileSystem', '/tmp/example')\n",
    "\n",
    "print('After: ')\n",
    "pprint.pprint(glob.glob('/tmp/example/*'))"
   ]
  },
  {
   "cell_type": "code",
   "execution_count": 14,
   "metadata": {
    "collapsed": false
   },
   "outputs": [
    {
     "name": "stdout",
     "output_type": "stream",
     "text": [
      "BEFORE:\n",
      "[]\n",
      "\n",
      "copying\n",
      " '../FileSystem/.ipynb_checkpoints/filecomp-checkpoint.ipynb'\n",
      " to '/tmp/example/.ipynb_checkpoints/filecomp-checkpoint.ipynb'\n",
      "copying\n",
      " '../FileSystem/.ipynb_checkpoints/glob-checkpoint.ipynb'\n",
      " to '/tmp/example/.ipynb_checkpoints/glob-checkpoint.ipynb'\n",
      "copying\n",
      " '../FileSystem/.ipynb_checkpoints/io-checkpoint.ipynb'\n",
      " to '/tmp/example/.ipynb_checkpoints/io-checkpoint.ipynb'\n",
      "copying\n",
      " '../FileSystem/.ipynb_checkpoints/mmap-checkpoint.ipynb'\n",
      " to '/tmp/example/.ipynb_checkpoints/mmap-checkpoint.ipynb'\n",
      "copying\n",
      " '../FileSystem/.ipynb_checkpoints/Path-checkpoint.ipynb'\n",
      " to '/tmp/example/.ipynb_checkpoints/Path-checkpoint.ipynb'\n",
      "copying\n",
      " '../FileSystem/.ipynb_checkpoints/shutil-checkpoint.ipynb'\n",
      " to '/tmp/example/.ipynb_checkpoints/shutil-checkpoint.ipynb'\n",
      "copying\n",
      " '../FileSystem/.ipynb_checkpoints/tempfile-checkpoint.ipynb'\n",
      " to '/tmp/example/.ipynb_checkpoints/tempfile-checkpoint.ipynb'\n",
      "copying\n",
      " '../FileSystem/example/dir1/common_dir/dir1/common_file'\n",
      " to '/tmp/example/example/dir1/common_dir/dir1/common_file'\n",
      "copying\n",
      " '../FileSystem/example/dir1/common_dir/dir1/file_in_dir1'\n",
      " to '/tmp/example/example/dir1/common_dir/dir1/file_in_dir1'\n",
      "copying\n",
      " '../FileSystem/example/dir1/common_dir/dir1/file_only_in_dir1'\n",
      " to '/tmp/example/example/dir1/common_dir/dir1/file_only_in_dir1'\n",
      "copying\n",
      " '../FileSystem/example/dir1/common_dir/dir1/not_the_same'\n",
      " to '/tmp/example/example/dir1/common_dir/dir1/not_the_same'\n",
      "copying\n",
      " '../FileSystem/example/dir1/common_dir/dir2/common_file'\n",
      " to '/tmp/example/example/dir1/common_dir/dir2/common_file'\n",
      "copying\n",
      " '../FileSystem/example/dir1/common_dir/dir2/file_only_in_dir2'\n",
      " to '/tmp/example/example/dir1/common_dir/dir2/file_only_in_dir2'\n",
      "copying\n",
      " '../FileSystem/example/dir1/common_dir/dir2/not_the_same'\n",
      " to '/tmp/example/example/dir1/common_dir/dir2/not_the_same'\n",
      "copying\n",
      " '../FileSystem/example/dir1/common_file'\n",
      " to '/tmp/example/example/dir1/common_file'\n",
      "copying\n",
      " '../FileSystem/example/dir1/file_in_dir1'\n",
      " to '/tmp/example/example/dir1/file_in_dir1'\n",
      "copying\n",
      " '../FileSystem/example/dir1/file_only_in_dir1'\n",
      " to '/tmp/example/example/dir1/file_only_in_dir1'\n",
      "copying\n",
      " '../FileSystem/example/dir1/not_the_same'\n",
      " to '/tmp/example/example/dir1/not_the_same'\n",
      "copying\n",
      " '../FileSystem/example/dir2/common_dir/dir1/common_file'\n",
      " to '/tmp/example/example/dir2/common_dir/dir1/common_file'\n",
      "copying\n",
      " '../FileSystem/example/dir2/common_dir/dir1/file_in_dir1'\n",
      " to '/tmp/example/example/dir2/common_dir/dir1/file_in_dir1'\n",
      "copying\n",
      " '../FileSystem/example/dir2/common_dir/dir1/file_only_in_dir1'\n",
      " to '/tmp/example/example/dir2/common_dir/dir1/file_only_in_dir1'\n",
      "copying\n",
      " '../FileSystem/example/dir2/common_dir/dir1/not_the_same'\n",
      " to '/tmp/example/example/dir2/common_dir/dir1/not_the_same'\n",
      "copying\n",
      " '../FileSystem/example/dir2/common_dir/dir2/common_file'\n",
      " to '/tmp/example/example/dir2/common_dir/dir2/common_file'\n",
      "copying\n",
      " '../FileSystem/example/dir2/common_dir/dir2/file_only_in_dir2'\n",
      " to '/tmp/example/example/dir2/common_dir/dir2/file_only_in_dir2'\n",
      "copying\n",
      " '../FileSystem/example/dir2/common_dir/dir2/not_the_same'\n",
      " to '/tmp/example/example/dir2/common_dir/dir2/not_the_same'\n",
      "copying\n",
      " '../FileSystem/example/dir2/common_file'\n",
      " to '/tmp/example/example/dir2/common_file'\n",
      "copying\n",
      " '../FileSystem/example/dir2/file_only_in_dir2'\n",
      " to '/tmp/example/example/dir2/file_only_in_dir2'\n",
      "copying\n",
      " '../FileSystem/example/dir2/not_the_same'\n",
      " to '/tmp/example/example/dir2/not_the_same'\n",
      "copying\n",
      " '../FileSystem/examples/shutil.ipynb'\n",
      " to '/tmp/example/examples/shutil.ipynb'\n",
      "copying\n",
      " '../FileSystem/file_to_change.txt'\n",
      " to '/tmp/example/file_to_change.txt'\n",
      "copying\n",
      " '../FileSystem/filecomp.ipynb'\n",
      " to '/tmp/example/filecomp.ipynb'\n",
      "copying\n",
      " '../FileSystem/glob.ipynb'\n",
      " to '/tmp/example/glob.ipynb'\n",
      "copying\n",
      " '../FileSystem/io.ipynb'\n",
      " to '/tmp/example/io.ipynb'\n",
      "copying\n",
      " '../FileSystem/lorem.txt'\n",
      " to '/tmp/example/lorem.txt'\n",
      "copying\n",
      " '../FileSystem/lorem_copy.txt'\n",
      " to '/tmp/example/lorem_copy.txt'\n",
      "copying\n",
      " '../FileSystem/mmap.ipynb'\n",
      " to '/tmp/example/mmap.ipynb'\n",
      "copying\n",
      " '../FileSystem/Path.ipynb'\n",
      " to '/tmp/example/Path.ipynb'\n",
      "copying\n",
      " '../FileSystem/shutil.copy.ipynb'\n",
      " to '/tmp/example/shutil.copy.ipynb'\n",
      "copying\n",
      " '../FileSystem/shutil.ipynb'\n",
      " to '/tmp/example/shutil.ipynb'\n",
      "copying\n",
      " '../FileSystem/tempfile.ipynb'\n",
      " to '/tmp/example/tempfile.ipynb'\n",
      "\n",
      "AFTER:\n",
      "['/tmp/example/example',\n",
      " '/tmp/example/examples',\n",
      " '/tmp/example/file_to_change.txt',\n",
      " '/tmp/example/filecomp.ipynb',\n",
      " '/tmp/example/fnmatch',\n",
      " '/tmp/example/glob.ipynb',\n",
      " '/tmp/example/io.ipynb',\n",
      " '/tmp/example/lorem.txt',\n",
      " '/tmp/example/lorem_copy.txt',\n",
      " '/tmp/example/mmap.ipynb',\n",
      " '/tmp/example/Path.ipynb',\n",
      " '/tmp/example/shutil.copy.ipynb',\n",
      " '/tmp/example/shutil.ipynb',\n",
      " '/tmp/example/tempfile.ipynb']\n"
     ]
    }
   ],
   "source": [
    "import glob\n",
    "import pprint\n",
    "import shutil\n",
    "\n",
    "\n",
    "def verbose_copy(src, dst):\n",
    "    print('copying\\n {!r}\\n to {!r}'.format(src, dst))\n",
    "    return shutil.copy2(src, dst)\n",
    "\n",
    "\n",
    "print('BEFORE:')\n",
    "pprint.pprint(glob.glob('/tmp/example/*'))\n",
    "print()\n",
    "\n",
    "shutil.copytree(\n",
    "    '../FileSystem', '/tmp/example',\n",
    "    copy_function=verbose_copy,\n",
    "    ignore=shutil.ignore_patterns('*.py'),\n",
    ")\n",
    "\n",
    "print('\\nAFTER:')\n",
    "pprint.pprint(glob.glob('/tmp/example/*'))"
   ]
  },
  {
   "cell_type": "code",
   "execution_count": 15,
   "metadata": {
    "collapsed": false
   },
   "outputs": [
    {
     "name": "stdout",
     "output_type": "stream",
     "text": [
      "Before:\n",
      "['/tmp/example/example',\n",
      " '/tmp/example/examples',\n",
      " '/tmp/example/file_to_change.txt',\n",
      " '/tmp/example/filecomp.ipynb',\n",
      " '/tmp/example/fnmatch',\n",
      " '/tmp/example/glob.ipynb',\n",
      " '/tmp/example/io.ipynb',\n",
      " '/tmp/example/lorem.txt',\n",
      " '/tmp/example/lorem_copy.txt',\n",
      " '/tmp/example/mmap.ipynb',\n",
      " '/tmp/example/Path.ipynb',\n",
      " '/tmp/example/shutil.copy.ipynb',\n",
      " '/tmp/example/shutil.ipynb',\n",
      " '/tmp/example/tempfile.ipynb']\n",
      "\n",
      "After\n",
      "[]\n"
     ]
    }
   ],
   "source": [
    "import glob\n",
    "import pprint\n",
    "import shutil\n",
    "print('Before:')\n",
    "pprint.pprint(glob.glob('/tmp/example/*'))\n",
    "shutil.rmtree('/tmp/example')\n",
    "print('\\nAfter')\n",
    "pprint.pprint(glob.glob('/tmp/example/*'))"
   ]
  },
  {
   "cell_type": "code",
   "execution_count": 16,
   "metadata": {
    "collapsed": false
   },
   "outputs": [
    {
     "name": "stdout",
     "output_type": "stream",
     "text": [
      "Before: ['example', 'example.txt', 'examples']\n",
      "After: ['example', 'example.out', 'examples']\n"
     ]
    }
   ],
   "source": [
    "import glob\n",
    "import shutil\n",
    "with open('example.txt', 'wt') as f:\n",
    "    f.write('content')\n",
    "print('Before:', glob.glob('example*'))\n",
    "shutil.move('example.txt', 'example.out')\n",
    "print('After:', glob.glob('example*'))"
   ]
  },
  {
   "cell_type": "markdown",
   "metadata": {},
   "source": [
    "# Find Files "
   ]
  },
  {
   "cell_type": "code",
   "execution_count": 17,
   "metadata": {
    "collapsed": false
   },
   "outputs": [
    {
     "name": "stdout",
     "output_type": "stream",
     "text": [
      "/usr/local/bin/virtualenv\n"
     ]
    }
   ],
   "source": [
    "import shutil\n",
    "print(shutil.which('virtualenv'))"
   ]
  },
  {
   "cell_type": "code",
   "execution_count": 18,
   "metadata": {
    "collapsed": false
   },
   "outputs": [
    {
     "name": "stdout",
     "output_type": "stream",
     "text": [
      "/usr/bin/java\n"
     ]
    }
   ],
   "source": [
    "print(shutil.which('java'))"
   ]
  },
  {
   "cell_type": "code",
   "execution_count": 20,
   "metadata": {
    "collapsed": false
   },
   "outputs": [
    {
     "name": "stdout",
     "output_type": "stream",
     "text": [
      "None\n"
     ]
    }
   ],
   "source": [
    "print(shutil.which('tox'))"
   ]
  },
  {
   "cell_type": "markdown",
   "metadata": {},
   "source": [
    "# Archives"
   ]
  },
  {
   "cell_type": "code",
   "execution_count": 21,
   "metadata": {
    "collapsed": false
   },
   "outputs": [
    {
     "name": "stdout",
     "output_type": "stream",
     "text": [
      "bztar:bzip2'ed tar-file\n",
      "gztar:gzip'ed tar-file\n",
      "tar  :uncompressed tar file\n",
      "xztar:xz'ed tar-file\n",
      "zip  :ZIP file\n"
     ]
    }
   ],
   "source": [
    "import shutil\n",
    "for fm, description in shutil.get_archive_formats():\n",
    "    print('{:<5}:{}'.format(fm, description))"
   ]
  },
  {
   "cell_type": "code",
   "execution_count": 26,
   "metadata": {
    "collapsed": false
   },
   "outputs": [
    {
     "name": "stdout",
     "output_type": "stream",
     "text": [
      "Creating archive\n",
      "changing into '..'\n",
      "Creating tar archive\n",
      "changing back to '/Users/gaufung/WorkSpace/PythonStandardLibrary/FileSystem'\n",
      "\n",
      "Archive contents\n",
      "FileSystem\n",
      "FileSystem/.ipynb_checkpoints\n",
      "FileSystem/.ipynb_checkpoints/filecomp-checkpoint.ipynb\n",
      "FileSystem/.ipynb_checkpoints/glob-checkpoint.ipynb\n",
      "FileSystem/.ipynb_checkpoints/io-checkpoint.ipynb\n",
      "FileSystem/.ipynb_checkpoints/mmap-checkpoint.ipynb\n",
      "FileSystem/.ipynb_checkpoints/Path-checkpoint.ipynb\n",
      "FileSystem/.ipynb_checkpoints/shutil-checkpoint.ipynb\n",
      "FileSystem/.ipynb_checkpoints/tempfile-checkpoint.ipynb\n",
      "FileSystem/example\n",
      "FileSystem/example/dir1\n",
      "FileSystem/example/dir1/common_dir\n",
      "FileSystem/example/dir1/common_dir/dir1\n",
      "FileSystem/example/dir1/common_dir/dir1/common_dir\n",
      "FileSystem/example/dir1/common_dir/dir1/common_file\n",
      "FileSystem/example/dir1/common_dir/dir1/dir_only_in_dir1\n",
      "FileSystem/example/dir1/common_dir/dir1/file_in_dir1\n",
      "FileSystem/example/dir1/common_dir/dir1/file_only_in_dir1\n",
      "FileSystem/example/dir1/common_dir/dir1/not_the_same\n",
      "FileSystem/example/dir1/common_dir/dir2\n",
      "FileSystem/example/dir1/common_dir/dir2/common_dir\n",
      "FileSystem/example/dir1/common_dir/dir2/common_file\n",
      "FileSystem/example/dir1/common_dir/dir2/dir_only_in_dir2\n",
      "FileSystem/example/dir1/common_dir/dir2/file_in_dir1\n",
      "FileSystem/example/dir1/common_dir/dir2/file_only_in_dir2\n",
      "FileSystem/example/dir1/common_dir/dir2/not_the_same\n",
      "FileSystem/example/dir1/common_file\n",
      "FileSystem/example/dir1/dir_only_in_dir1\n",
      "FileSystem/example/dir1/file_in_dir1\n",
      "FileSystem/example/dir1/file_only_in_dir1\n",
      "FileSystem/example/dir1/not_the_same\n",
      "FileSystem/example/dir2\n",
      "FileSystem/example/dir2/common_dir\n",
      "FileSystem/example/dir2/common_dir/dir1\n",
      "FileSystem/example/dir2/common_dir/dir1/common_dir\n",
      "FileSystem/example/dir2/common_dir/dir1/common_file\n",
      "FileSystem/example/dir2/common_dir/dir1/dir_only_in_dir1\n",
      "FileSystem/example/dir2/common_dir/dir1/file_in_dir1\n",
      "FileSystem/example/dir2/common_dir/dir1/file_only_in_dir1\n",
      "FileSystem/example/dir2/common_dir/dir1/not_the_same\n",
      "FileSystem/example/dir2/common_dir/dir2\n",
      "FileSystem/example/dir2/common_dir/dir2/common_dir\n",
      "FileSystem/example/dir2/common_dir/dir2/common_file\n",
      "FileSystem/example/dir2/common_dir/dir2/dir_only_in_dir2\n",
      "FileSystem/example/dir2/common_dir/dir2/file_in_dir1\n",
      "FileSystem/example/dir2/common_dir/dir2/file_only_in_dir2\n",
      "FileSystem/example/dir2/common_dir/dir2/not_the_same\n",
      "FileSystem/example/dir2/common_file\n",
      "FileSystem/example/dir2/dir_only_in_dir2\n",
      "FileSystem/example/dir2/file_in_dir1\n",
      "FileSystem/example/dir2/file_only_in_dir2\n",
      "FileSystem/example/dir2/not_the_same\n",
      "FileSystem/example.out\n",
      "FileSystem/examples\n",
      "FileSystem/examples/shutil.ipynb\n",
      "FileSystem/file_to_change.txt\n",
      "FileSystem/filecomp.ipynb\n",
      "FileSystem/fnmatch\n",
      "FileSystem/fnmatch/.ipynb_checkpoints\n",
      "FileSystem/fnmatch/fnmatch_filter.py\n",
      "FileSystem/fnmatch/fnmatch_fnmatch.py\n",
      "FileSystem/fnmatch/fnmatch_fnmatchcase.py\n",
      "FileSystem/fnmatch/fnmatch_translate.py\n",
      "FileSystem/glob.ipynb\n",
      "FileSystem/io.ipynb\n",
      "FileSystem/lorem.txt\n",
      "FileSystem/lorem_copy.txt\n",
      "FileSystem/mmap.ipynb\n",
      "FileSystem/Path.ipynb\n",
      "FileSystem/shutil.copy.ipynb\n",
      "FileSystem/shutil.ipynb\n",
      "FileSystem/tempfile.ipynb\n"
     ]
    }
   ],
   "source": [
    "import logging\n",
    "import shutil\n",
    "import sys\n",
    "import tarfile\n",
    "logging.basicConfig(\n",
    "    format='%(message)s',\n",
    "    stream=sys.stdout,\n",
    "    level=logging.DEBUG\n",
    ")\n",
    "logger = logging.getLogger('shutil')\n",
    "print('Creating archive')\n",
    "shutil.make_archive(\n",
    "    'example', 'gztar',\n",
    "    root_dir='..',\n",
    "    base_dir='FileSystem',\n",
    "    logger=logger,\n",
    ")\n",
    "print('\\nArchive contents')\n",
    "with tarfile.open('example.tar.gz', 'r') as t:\n",
    "    for n in t.getnames():\n",
    "        print(n)"
   ]
  },
  {
   "cell_type": "markdown",
   "metadata": {},
   "source": [
    "# File System Space"
   ]
  },
  {
   "cell_type": "code",
   "execution_count": 28,
   "metadata": {
    "collapsed": false
   },
   "outputs": [
    {
     "name": "stdout",
     "output_type": "stream",
     "text": [
      "Total: 120.10 GB  111.85 GiB\n"
     ]
    }
   ],
   "source": [
    "import shutil\n",
    "\n",
    "total_b, used_b, free_b = shutil.disk_usage('.')\n",
    "\n",
    "gib = 2 ** 30  # GiB == gibibyte\n",
    "gb = 10 ** 9   # GB == gigabyte\n",
    "\n",
    "print('Total: {:6.2f} GB  {:6.2f} GiB'.format(\n",
    "    total_b / gb, total_b / gib))"
   ]
  },
  {
   "cell_type": "code",
   "execution_count": 29,
   "metadata": {
    "collapsed": false
   },
   "outputs": [
    {
     "name": "stdout",
     "output_type": "stream",
     "text": [
      "Used :  68.22 GB   63.53 GiB\n",
      "Free :  51.62 GB   48.08 GiB\n"
     ]
    }
   ],
   "source": [
    "print('Used : {:6.2f} GB  {:6.2f} GiB'.format(\n",
    "    used_b / gb, used_b / gib))\n",
    "print('Free : {:6.2f} GB  {:6.2f} GiB'.format(\n",
    "    free_b / gb, free_b / gib))"
   ]
  }
 ],
 "metadata": {
  "kernelspec": {
   "display_name": "Python 3",
   "language": "python",
   "name": "python3"
  },
  "language_info": {
   "codemirror_mode": {
    "name": "ipython",
    "version": 3
   },
   "file_extension": ".py",
   "mimetype": "text/x-python",
   "name": "python",
   "nbconvert_exporter": "python",
   "pygments_lexer": "ipython3",
   "version": "3.6.0"
  }
 },
 "nbformat": 4,
 "nbformat_minor": 2
}
