{
 "cells": [
  {
   "cell_type": "markdown",
   "metadata": {},
   "source": [
    "The codecs module provides stream and file interfaces for transcoding data. It is most commonly used to work with Unicode text, but other encodings are also available for other purposes.\n",
    "\n"
   ]
  },
  {
   "cell_type": "markdown",
   "metadata": {},
   "source": [
    "# Encoding"
   ]
  },
  {
   "cell_type": "code",
   "execution_count": 1,
   "metadata": {
    "collapsed": false
   },
   "outputs": [
    {
     "name": "stdout",
     "output_type": "stream",
     "text": [
      "b'61 62 63 64 65 66'\n"
     ]
    }
   ],
   "source": [
    "import binascii\n",
    "\n",
    "\n",
    "def to_hex(t, nbytes):\n",
    "    \"\"\"Format text t as a sequence of nbyte long values\n",
    "    separated by spaces.\n",
    "    \"\"\"\n",
    "    chars_per_item = nbytes * 2\n",
    "    hex_version = binascii.hexlify(t)\n",
    "    return b' '.join(\n",
    "        hex_version[start:start + chars_per_item]\n",
    "        for start in range(0, len(hex_version), chars_per_item)\n",
    "    )\n",
    "print(to_hex(b'abcdef', 1))"
   ]
  },
  {
   "cell_type": "code",
   "execution_count": 2,
   "metadata": {
    "collapsed": false
   },
   "outputs": [
    {
     "name": "stdout",
     "output_type": "stream",
     "text": [
      "b'6162 6364 6566'\n"
     ]
    }
   ],
   "source": [
    "print(to_hex(b'abcdef', 2))"
   ]
  },
  {
   "cell_type": "code",
   "execution_count": 3,
   "metadata": {
    "collapsed": false
   },
   "outputs": [
    {
     "name": "stdout",
     "output_type": "stream",
     "text": [
      "Raw   : 'français'\n",
      "  'f': LATIN SMALL LETTER F\n",
      "  'r': LATIN SMALL LETTER R\n",
      "  'a': LATIN SMALL LETTER A\n",
      "  'n': LATIN SMALL LETTER N\n",
      "  'ç': LATIN SMALL LETTER C WITH CEDILLA\n",
      "  'a': LATIN SMALL LETTER A\n",
      "  'i': LATIN SMALL LETTER I\n",
      "  's': LATIN SMALL LETTER S\n",
      "UTF-8 : b'66 72 61 6e c3 a7 61 69 73'\n",
      "UTF-16: b'fffe 6600 7200 6100 6e00 e700 6100 6900 7300'\n"
     ]
    }
   ],
   "source": [
    "import unicodedata\n",
    "text = 'français'\n",
    "\n",
    "print('Raw   : {!r}'.format(text))\n",
    "for c in text:\n",
    "    print('  {!r}: {}'.format(c, unicodedata.name(c, c)))\n",
    "print('UTF-8 : {!r}'.format(to_hex(text.encode('utf-8'), 1)))\n",
    "print('UTF-16: {!r}'.format(to_hex(text.encode('utf-16'), 2)))"
   ]
  },
  {
   "cell_type": "code",
   "execution_count": 4,
   "metadata": {
    "collapsed": false
   },
   "outputs": [
    {
     "name": "stdout",
     "output_type": "stream",
     "text": [
      "Original : 'français'\n",
      "Encoded  : b'66 72 61 6e c3 a7 61 69 73' <class 'bytes'>\n",
      "Decoded  : 'français' <class 'str'>\n"
     ]
    }
   ],
   "source": [
    "text = 'français'\n",
    "encoded = text.encode('utf-8')\n",
    "decoded = encoded.decode('utf-8')\n",
    "\n",
    "print('Original :', repr(text))\n",
    "print('Encoded  :', to_hex(encoded, 1), type(encoded))\n",
    "print('Decoded  :', repr(decoded), type(decoded))"
   ]
  },
  {
   "cell_type": "markdown",
   "metadata": {},
   "source": [
    "# Byte Order"
   ]
  },
  {
   "cell_type": "code",
   "execution_count": 5,
   "metadata": {
    "collapsed": false
   },
   "outputs": [
    {
     "name": "stdout",
     "output_type": "stream",
     "text": [
      "BOM          : b'fffe'\n",
      "BOM_BE       : b'feff'\n",
      "BOM_LE       : b'fffe'\n",
      "BOM_UTF8     : b'efbb bf'\n",
      "BOM_UTF16    : b'fffe'\n",
      "BOM_UTF16_BE : b'feff'\n",
      "BOM_UTF16_LE : b'fffe'\n",
      "BOM_UTF32    : b'fffe 0000'\n",
      "BOM_UTF32_BE : b'0000 feff'\n",
      "BOM_UTF32_LE : b'fffe 0000'\n"
     ]
    }
   ],
   "source": [
    "import codecs\n",
    "BOM_TYPES = [\n",
    "    'BOM', 'BOM_BE', 'BOM_LE',\n",
    "    'BOM_UTF8',\n",
    "    'BOM_UTF16', 'BOM_UTF16_BE', 'BOM_UTF16_LE',\n",
    "    'BOM_UTF32', 'BOM_UTF32_BE', 'BOM_UTF32_LE',\n",
    "]\n",
    "\n",
    "for name in BOM_TYPES:\n",
    "    print('{:12} : {}'.format(\n",
    "        name, to_hex(getattr(codecs, name), 2)))"
   ]
  },
  {
   "cell_type": "code",
   "execution_count": 6,
   "metadata": {
    "collapsed": false
   },
   "outputs": [
    {
     "name": "stdout",
     "output_type": "stream",
     "text": [
      "Native order  : b'fffe'\n",
      "Selected order: b'feff'\n",
      "utf_16_be     : b'0066 0072 0061 006e 00e7 0061 0069 0073'\n"
     ]
    }
   ],
   "source": [
    "import codecs\n",
    "# Pick the nonnative version of UTF-16 encoding\n",
    "if codecs.BOM_UTF16 == codecs.BOM_UTF16_BE:\n",
    "    bom = codecs.BOM_UTF16_LE\n",
    "    encoding = 'utf_16_le'\n",
    "else:\n",
    "    bom = codecs.BOM_UTF16_BE\n",
    "    encoding = 'utf_16_be'\n",
    "\n",
    "print('Native order  :', to_hex(codecs.BOM_UTF16, 2))\n",
    "print('Selected order:', to_hex(bom, 2))\n",
    "\n",
    "# Encode the text.\n",
    "encoded_text = 'français'.encode(encoding)\n",
    "print('{:14}: {}'.format(encoding, to_hex(encoded_text, 2)))\n",
    "\n",
    "with open('nonnative-encoded.txt', mode='wb') as f:\n",
    "    # Write the selected byte-order marker.  It is not included\n",
    "    # in the encoded text because the byte order was given\n",
    "    # explicitly when selecting the encoding.\n",
    "    f.write(bom)\n",
    "    # Write the byte string for the encoded text.\n",
    "    f.write(encoded_text)"
   ]
  },
  {
   "cell_type": "code",
   "execution_count": 7,
   "metadata": {
    "collapsed": false
   },
   "outputs": [
    {
     "name": "stdout",
     "output_type": "stream",
     "text": [
      "Raw    : b'feff 0066 0072 0061 006e 00e7 0061 0069 0073'\n",
      "Decoded: 'français'\n"
     ]
    }
   ],
   "source": [
    "with open('nonnative-encoded.txt', mode='rb') as f:\n",
    "    raw_bytes = f.read()\n",
    "\n",
    "print('Raw    :', to_hex(raw_bytes, 2))\n",
    "\n",
    "# Re-open the file and let codecs detect the BOM\n",
    "with codecs.open('nonnative-encoded.txt',\n",
    "                 mode='r',\n",
    "                 encoding='utf-16',\n",
    "                 ) as f:\n",
    "    decoded_text = f.read()\n",
    "\n",
    "print('Decoded:', repr(decoded_text))"
   ]
  },
  {
   "cell_type": "markdown",
   "metadata": {},
   "source": [
    "## Encoding Error"
   ]
  },
  {
   "cell_type": "code",
   "execution_count": 9,
   "metadata": {
    "collapsed": false
   },
   "outputs": [
    {
     "name": "stdout",
     "output_type": "stream",
     "text": [
      "ERROR: 'ascii' codec can't encode character '\\xe7' in position 4: ordinal not in range(128)\n"
     ]
    }
   ],
   "source": [
    "import codecs\n",
    "import sys\n",
    "\n",
    "text = 'français'\n",
    "\n",
    "try:\n",
    "    # Save the data, encoded as ASCII, using the error\n",
    "    # handling mode specified on the command line.\n",
    "    with codecs.open('encode_error.txt', 'w', encoding='ascii') as f:\n",
    "        f.write(text)\n",
    "\n",
    "except UnicodeEncodeError as err:\n",
    "    print('ERROR:', err)\n",
    "\n",
    "else:\n",
    "    # If there was no error writing to the file,\n",
    "    # show what it contains.\n",
    "    with open('encode_error.txt', 'rb') as f:\n",
    "        print('File contents: {!r}'.format(f.read()))"
   ]
  }
 ],
 "metadata": {
  "kernelspec": {
   "display_name": "Python 3",
   "language": "python",
   "name": "python3"
  },
  "language_info": {
   "codemirror_mode": {
    "name": "ipython",
    "version": 3
   },
   "file_extension": ".py",
   "mimetype": "text/x-python",
   "name": "python",
   "nbconvert_exporter": "python",
   "pygments_lexer": "ipython3",
   "version": "3.6.0"
  }
 },
 "nbformat": 4,
 "nbformat_minor": 2
}
