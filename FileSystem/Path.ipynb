{
 "cells": [
  {
   "cell_type": "markdown",
   "metadata": {},
   "source": [
    "**os.path**\n",
    "\n",
    "Writing code to work with files on multiple platforms is easy using the functions included in the os.path module. Even programs not intended to be ported between platforms should use os.path for reliable filename parsing.\n",
    "\n"
   ]
  },
  {
   "cell_type": "markdown",
   "metadata": {},
   "source": [
    "# Parsing Path"
   ]
  },
  {
   "cell_type": "code",
   "execution_count": 1,
   "metadata": {
    "collapsed": false
   },
   "outputs": [
    {
     "name": "stdout",
     "output_type": "stream",
     "text": [
      " '/one/two/three' : ('/one/two', 'three')\n",
      "'/one/two/three/' : ('/one/two/three', '')\n",
      "              '/' : ('/', '')\n",
      "              '.' : ('', '.')\n",
      "               '' : ('', '')\n"
     ]
    }
   ],
   "source": [
    "import os.path\n",
    "\n",
    "PATHS = [\n",
    "    '/one/two/three',\n",
    "    '/one/two/three/',\n",
    "    '/',\n",
    "    '.',\n",
    "    '',\n",
    "]\n",
    "\n",
    "for path in PATHS:\n",
    "    print('{!r:>17} : {}'.format(path, os.path.split(path)))"
   ]
  },
  {
   "cell_type": "code",
   "execution_count": 3,
   "metadata": {
    "collapsed": false
   },
   "outputs": [
    {
     "name": "stdout",
     "output_type": "stream",
     "text": [
      " '/one/two/three':three\n",
      "'/one/two/three/':\n",
      "              '/':\n",
      "              '.':.\n",
      "               '':\n"
     ]
    }
   ],
   "source": [
    "for path in PATHS:\n",
    "    print('{!r:>17}:{}'.format(path, os.path.basename(path)))"
   ]
  },
  {
   "cell_type": "code",
   "execution_count": 4,
   "metadata": {
    "collapsed": false
   },
   "outputs": [
    {
     "name": "stdout",
     "output_type": "stream",
     "text": [
      " '/one/two/three':/one/two\n",
      "'/one/two/three/':/one/two/three\n",
      "              '/':/\n",
      "              '.':\n",
      "               '':\n"
     ]
    }
   ],
   "source": [
    "for path in PATHS:\n",
    "    print('{!r:>17}:{}'.format(path, os.path.dirname(path)))"
   ]
  },
  {
   "cell_type": "code",
   "execution_count": 5,
   "metadata": {
    "collapsed": false
   },
   "outputs": [
    {
     "name": "stdout",
     "output_type": "stream",
     "text": [
      "       'filename.txt' : ('filename', '.txt')\n",
      "           'filename' : ('filename', '')\n",
      "'/path/to/filename.txt' : ('/path/to/filename', '.txt')\n",
      "                  '/' : ('/', '')\n",
      "                   '' : ('', '')\n",
      "  'my-archive.tar.gz' : ('my-archive.tar', '.gz')\n",
      "      'no-extension.' : ('no-extension', '.')\n"
     ]
    }
   ],
   "source": [
    "import os.path\n",
    "\n",
    "PATHS = [\n",
    "    'filename.txt',\n",
    "    'filename',\n",
    "    '/path/to/filename.txt',\n",
    "    '/',\n",
    "    '',\n",
    "    'my-archive.tar.gz',\n",
    "    'no-extension.',\n",
    "]\n",
    "\n",
    "for path in PATHS:\n",
    "    print('{!r:>21} : {!r}'.format(path, os.path.splitext(path)))"
   ]
  },
  {
   "cell_type": "code",
   "execution_count": 6,
   "metadata": {
    "collapsed": false
   },
   "outputs": [
    {
     "name": "stdout",
     "output_type": "stream",
     "text": [
      "PATH: /one/two/three/four\n",
      "PATH: /one/two/threefold\n",
      "PATH: /one/two/three/\n",
      "\n",
      "PREFIX: /one/two/three\n"
     ]
    }
   ],
   "source": [
    "import os.path\n",
    "\n",
    "paths = ['/one/two/three/four',\n",
    "         '/one/two/threefold',\n",
    "         '/one/two/three/',\n",
    "         ]\n",
    "for path in paths:\n",
    "    print('PATH:', path)\n",
    "\n",
    "print()\n",
    "print('PREFIX:', os.path.commonprefix(paths))"
   ]
  },
  {
   "cell_type": "code",
   "execution_count": 7,
   "metadata": {
    "collapsed": false
   },
   "outputs": [
    {
     "name": "stdout",
     "output_type": "stream",
     "text": [
      "PATH: /one/two/three/four\n",
      "PATH: /one/two/threefold\n",
      "PATH: /one/two/three/\n",
      "\n",
      "PREFIX: /one/two\n"
     ]
    }
   ],
   "source": [
    "import os.path\n",
    "\n",
    "paths = ['/one/two/three/four',\n",
    "         '/one/two/threefold',\n",
    "         '/one/two/three/',\n",
    "         ]\n",
    "for path in paths:\n",
    "    print('PATH:', path)\n",
    "\n",
    "print()\n",
    "print('PREFIX:', os.path.commonpath(paths))"
   ]
  },
  {
   "cell_type": "markdown",
   "metadata": {},
   "source": [
    "# Building Path\n",
    "If any argument to join begins with os.sep, all of the previous arguments are discarded and the new one becomes the beginning of the return value."
   ]
  },
  {
   "cell_type": "code",
   "execution_count": 8,
   "metadata": {
    "collapsed": false
   },
   "outputs": [
    {
     "name": "stdout",
     "output_type": "stream",
     "text": [
      "('one', 'two', 'three') : 'one/two/three'\n",
      "('/', 'one', 'two', 'three') : '/one/two/three'\n",
      "('/one', '/two', '/three') : '/three'\n"
     ]
    }
   ],
   "source": [
    "import os.path\n",
    "\n",
    "PATHS = [\n",
    "    ('one', 'two', 'three'),\n",
    "    ('/', 'one', 'two', 'three'),\n",
    "    ('/one', '/two', '/three'),\n",
    "]\n",
    "\n",
    "for parts in PATHS:\n",
    "    print('{} : {!r}'.format(parts, os.path.join(*parts)))"
   ]
  },
  {
   "cell_type": "code",
   "execution_count": 10,
   "metadata": {
    "collapsed": false
   },
   "outputs": [
    {
     "name": "stdout",
     "output_type": "stream",
     "text": [
      "            '~' : '/Users/gaufung'\n",
      "     '~gaufung' : '/Users/gaufung'\n",
      "  '~nosuchuser' : '~nosuchuser'\n"
     ]
    }
   ],
   "source": [
    "import os.path\n",
    "\n",
    "for user in ['', 'gaufung', 'nosuchuser']:\n",
    "    lookup = '~' + user\n",
    "    print('{!r:>15} : {!r}'.format(\n",
    "        lookup, os.path.expanduser(lookup)))"
   ]
  },
  {
   "cell_type": "code",
   "execution_count": 11,
   "metadata": {
    "collapsed": false
   },
   "outputs": [
    {
     "name": "stdout",
     "output_type": "stream",
     "text": [
      "/path/to/VALUE\n"
     ]
    }
   ],
   "source": [
    "import os.path\n",
    "import os\n",
    "\n",
    "os.environ['MYVAR'] = 'VALUE'\n",
    "\n",
    "print(os.path.expandvars('/path/to/$MYVAR'))"
   ]
  },
  {
   "cell_type": "markdown",
   "metadata": {},
   "source": [
    "# Normal Path"
   ]
  },
  {
   "cell_type": "code",
   "execution_count": 12,
   "metadata": {
    "collapsed": false
   },
   "outputs": [
    {
     "name": "stdout",
     "output_type": "stream",
     "text": [
      "     'one//two//three' : 'one/two/three'\n",
      "   'one/./two/./three' : 'one/two/three'\n",
      "'one/../alt/two/three' : 'alt/two/three'\n"
     ]
    }
   ],
   "source": [
    "import os.path\n",
    "\n",
    "PATHS = [\n",
    "    'one//two//three',\n",
    "    'one/./two/./three',\n",
    "    'one/../alt/two/three',\n",
    "]\n",
    "\n",
    "for path in PATHS:\n",
    "    print('{!r:>22} : {!r}'.format(path, os.path.normpath(path)))"
   ]
  },
  {
   "cell_type": "code",
   "execution_count": 13,
   "metadata": {
    "collapsed": false
   },
   "outputs": [
    {
     "name": "stdout",
     "output_type": "stream",
     "text": [
      "                  '.' : '/usr'\n",
      "                 '..' : '/'\n",
      "    './one/two/three' : '/usr/one/two/three'\n",
      "   '../one/two/three' : '/one/two/three'\n"
     ]
    }
   ],
   "source": [
    "import os\n",
    "import os.path\n",
    "\n",
    "os.chdir('/usr')\n",
    "\n",
    "PATHS = [\n",
    "    '.',\n",
    "    '..',\n",
    "    './one/two/three',\n",
    "    '../one/two/three',\n",
    "]\n",
    "\n",
    "for path in PATHS:\n",
    "    print('{!r:>21} : {!r}'.format(path, os.path.abspath(path)))"
   ]
  },
  {
   "cell_type": "markdown",
   "metadata": {},
   "source": [
    "# File Time"
   ]
  },
  {
   "cell_type": "code",
   "execution_count": 20,
   "metadata": {
    "collapsed": false
   },
   "outputs": [
    {
     "name": "stdout",
     "output_type": "stream",
     "text": [
      "File         : ~/WorkSpace/PythonStandardLibrary/FileSystem/Path.ipynb\n",
      "Access time  : Mon Sep  4 14:02:38 2017\n",
      "Modified time: Mon Sep  4 14:02:38 2017\n",
      "Change time  : Mon Sep  4 14:02:38 2017\n",
      "Size         : 9833\n"
     ]
    }
   ],
   "source": [
    "import os.path\n",
    "import time\n",
    "\n",
    "print('File         :', '~/WorkSpace/PythonStandardLibrary/FileSystem/Path.ipynb')\n",
    "print('Access time  :', time.ctime(os.path.getatime('/Users/gaufung/WorkSpace/PythonStandardLibrary/FileSystem/Path.ipynb')))\n",
    "print('Modified time:', time.ctime(os.path.getmtime('/Users/gaufung/WorkSpace/PythonStandardLibrary/FileSystem/Path.ipynb')))\n",
    "print('Change time  :', time.ctime(os.path.getctime('/Users/gaufung/WorkSpace/PythonStandardLibrary/FileSystem/Path.ipynb')))\n",
    "print('Size         :', os.path.getsize('/Users/gaufung/WorkSpace/PythonStandardLibrary/FileSystem/Path.ipynb'))"
   ]
  }
 ],
 "metadata": {
  "kernelspec": {
   "display_name": "Python 3",
   "language": "python",
   "name": "python3"
  },
  "language_info": {
   "codemirror_mode": {
    "name": "ipython",
    "version": 3
   },
   "file_extension": ".py",
   "mimetype": "text/x-python",
   "name": "python",
   "nbconvert_exporter": "python",
   "pygments_lexer": "ipython3",
   "version": "3.6.0"
  }
 },
 "nbformat": 4,
 "nbformat_minor": 2
}
