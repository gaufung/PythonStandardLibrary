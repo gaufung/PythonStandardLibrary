{
 "cells": [
  {
   "cell_type": "markdown",
   "metadata": {},
   "source": [
    "# Example Data"
   ]
  },
  {
   "cell_type": "code",
   "execution_count": 2,
   "metadata": {
    "collapsed": false
   },
   "outputs": [],
   "source": [
    "import os\n",
    "\n",
    "\n",
    "def mkfile(filename, body=None):\n",
    "    with open(filename, 'w') as f:\n",
    "        f.write(body or filename)\n",
    "    return\n",
    "\n",
    "\n",
    "def make_example_dir(top):\n",
    "    if not os.path.exists(top):\n",
    "        os.mkdir(top)\n",
    "    curdir = os.getcwd()\n",
    "    os.chdir(top)\n",
    "\n",
    "    os.mkdir('dir1')\n",
    "    os.mkdir('dir2')\n",
    "\n",
    "    mkfile('dir1/file_only_in_dir1')\n",
    "    mkfile('dir2/file_only_in_dir2')\n",
    "\n",
    "    os.mkdir('dir1/dir_only_in_dir1')\n",
    "    os.mkdir('dir2/dir_only_in_dir2')\n",
    "\n",
    "    os.mkdir('dir1/common_dir')\n",
    "    os.mkdir('dir2/common_dir')\n",
    "\n",
    "    mkfile('dir1/common_file', 'this file is the same')\n",
    "    mkfile('dir2/common_file', 'this file is the same')\n",
    "\n",
    "    mkfile('dir1/not_the_same')\n",
    "    mkfile('dir2/not_the_same')\n",
    "\n",
    "    mkfile('dir1/file_in_dir1', 'This is a file in dir1')\n",
    "    os.mkdir('dir2/file_in_dir1')\n",
    "\n",
    "    os.chdir(curdir)\n",
    "    return\n",
    "\n",
    "os.chdir(os.path.dirname('filecomp.ipynb') or os.getcwd())\n",
    "make_example_dir('example')\n",
    "make_example_dir('example/dir1/common_dir')\n",
    "make_example_dir('example/dir2/common_dir')"
   ]
  },
  {
   "cell_type": "markdown",
   "metadata": {},
   "source": [
    "# Comparing Files"
   ]
  },
  {
   "cell_type": "code",
   "execution_count": 3,
   "metadata": {
    "collapsed": false
   },
   "outputs": [
    {
     "name": "stdout",
     "output_type": "stream",
     "text": [
      "common_file : True True\n",
      "not_the_same: True False\n",
      "identical   : True True\n"
     ]
    }
   ],
   "source": [
    "import filecmp\n",
    "\n",
    "print('common_file :', end=' ')\n",
    "print(filecmp.cmp('example/dir1/common_file',\n",
    "                  'example/dir2/common_file'),\n",
    "      end=' ')\n",
    "print(filecmp.cmp('example/dir1/common_file',\n",
    "                  'example/dir2/common_file',\n",
    "                  shallow=False))\n",
    "\n",
    "print('not_the_same:', end=' ')\n",
    "print(filecmp.cmp('example/dir1/not_the_same',\n",
    "                  'example/dir2/not_the_same'),\n",
    "      end=' ')\n",
    "print(filecmp.cmp('example/dir1/not_the_same',\n",
    "                  'example/dir2/not_the_same',\n",
    "                  shallow=False))\n",
    "\n",
    "print('identical   :', end=' ')\n",
    "print(filecmp.cmp('example/dir1/file_only_in_dir1',\n",
    "                  'example/dir1/file_only_in_dir1'),\n",
    "      end=' ')\n",
    "print(filecmp.cmp('example/dir1/file_only_in_dir1',\n",
    "                  'example/dir1/file_only_in_dir1',\n",
    "                  shallow=False))"
   ]
  },
  {
   "cell_type": "code",
   "execution_count": 4,
   "metadata": {
    "collapsed": false
   },
   "outputs": [
    {
     "name": "stdout",
     "output_type": "stream",
     "text": [
      "Common files: ['file_in_dir1', 'common_file', 'not_the_same']\n",
      "Match       : ['common_file', 'not_the_same']\n",
      "Mismatch    : ['file_in_dir1']\n",
      "Errors      : []\n"
     ]
    }
   ],
   "source": [
    "import filecmp\n",
    "import os\n",
    "\n",
    "# Determine the items that exist in both directories\n",
    "d1_contents = set(os.listdir('example/dir1'))\n",
    "d2_contents = set(os.listdir('example/dir2'))\n",
    "common = list(d1_contents & d2_contents)\n",
    "common_files = [\n",
    "    f\n",
    "    for f in common\n",
    "    if os.path.isfile(os.path.join('example/dir1', f))\n",
    "]\n",
    "print('Common files:', common_files)\n",
    "\n",
    "# Compare the directories\n",
    "match, mismatch, errors = filecmp.cmpfiles(\n",
    "    'example/dir1',\n",
    "    'example/dir2',\n",
    "    common_files,\n",
    ")\n",
    "print('Match       :', match)\n",
    "print('Mismatch    :', mismatch)\n",
    "print('Errors      :', errors)"
   ]
  },
  {
   "cell_type": "markdown",
   "metadata": {},
   "source": [
    "# Comparing Directories"
   ]
  },
  {
   "cell_type": "code",
   "execution_count": 5,
   "metadata": {
    "collapsed": false
   },
   "outputs": [
    {
     "name": "stdout",
     "output_type": "stream",
     "text": [
      "diff example/dir1 example/dir2\n",
      "Only in example/dir1 : ['dir_only_in_dir1', 'file_only_in_dir1']\n",
      "Only in example/dir2 : ['dir_only_in_dir2', 'file_only_in_dir2']\n",
      "Identical files : ['common_file', 'not_the_same']\n",
      "Common subdirectories : ['common_dir']\n",
      "Common funny cases : ['file_in_dir1']\n"
     ]
    }
   ],
   "source": [
    "import filecmp\n",
    "\n",
    "dc = filecmp.dircmp('example/dir1', 'example/dir2')\n",
    "dc.report()"
   ]
  },
  {
   "cell_type": "code",
   "execution_count": 6,
   "metadata": {
    "collapsed": false
   },
   "outputs": [
    {
     "name": "stdout",
     "output_type": "stream",
     "text": [
      "diff example/dir1 example/dir2\n",
      "Only in example/dir1 : ['dir_only_in_dir1', 'file_only_in_dir1']\n",
      "Only in example/dir2 : ['dir_only_in_dir2', 'file_only_in_dir2']\n",
      "Identical files : ['common_file', 'not_the_same']\n",
      "Common subdirectories : ['common_dir']\n",
      "Common funny cases : ['file_in_dir1']\n",
      "\n",
      "diff example/dir1/common_dir example/dir2/common_dir\n",
      "Common subdirectories : ['dir1', 'dir2']\n",
      "\n",
      "diff example/dir1/common_dir/dir1 example/dir2/common_dir/dir1\n",
      "Identical files : ['common_file', 'file_in_dir1', 'file_only_in_dir1', 'not_the_same']\n",
      "Common subdirectories : ['common_dir', 'dir_only_in_dir1']\n",
      "\n",
      "diff example/dir1/common_dir/dir1/common_dir example/dir2/common_dir/dir1/common_dir\n",
      "\n",
      "diff example/dir1/common_dir/dir1/dir_only_in_dir1 example/dir2/common_dir/dir1/dir_only_in_dir1\n",
      "\n",
      "diff example/dir1/common_dir/dir2 example/dir2/common_dir/dir2\n",
      "Identical files : ['common_file', 'file_only_in_dir2', 'not_the_same']\n",
      "Common subdirectories : ['common_dir', 'dir_only_in_dir2', 'file_in_dir1']\n",
      "\n",
      "diff example/dir1/common_dir/dir2/common_dir example/dir2/common_dir/dir2/common_dir\n",
      "\n",
      "diff example/dir1/common_dir/dir2/dir_only_in_dir2 example/dir2/common_dir/dir2/dir_only_in_dir2\n",
      "\n",
      "diff example/dir1/common_dir/dir2/file_in_dir1 example/dir2/common_dir/dir2/file_in_dir1\n"
     ]
    }
   ],
   "source": [
    "import filecmp\n",
    "\n",
    "dc = filecmp.dircmp('example/dir1', 'example/dir2')\n",
    "dc.report_full_closure()"
   ]
  },
  {
   "cell_type": "markdown",
   "metadata": {},
   "source": [
    "# Using Different "
   ]
  },
  {
   "cell_type": "code",
   "execution_count": 7,
   "metadata": {
    "collapsed": false
   },
   "outputs": [
    {
     "name": "stdout",
     "output_type": "stream",
     "text": [
      "Left:\n",
      "['common_dir',\n",
      " 'common_file',\n",
      " 'dir_only_in_dir1',\n",
      " 'file_in_dir1',\n",
      " 'file_only_in_dir1',\n",
      " 'not_the_same']\n",
      "\n",
      "Right:\n",
      "['common_dir',\n",
      " 'common_file',\n",
      " 'dir_only_in_dir2',\n",
      " 'file_in_dir1',\n",
      " 'file_only_in_dir2',\n",
      " 'not_the_same']\n"
     ]
    }
   ],
   "source": [
    "import filecmp\n",
    "import pprint\n",
    "\n",
    "dc = filecmp.dircmp('example/dir1', 'example/dir2')\n",
    "print('Left:')\n",
    "pprint.pprint(dc.left_list)\n",
    "\n",
    "print('\\nRight:')\n",
    "pprint.pprint(dc.right_list)"
   ]
  },
  {
   "cell_type": "code",
   "execution_count": 8,
   "metadata": {
    "collapsed": false
   },
   "outputs": [
    {
     "name": "stdout",
     "output_type": "stream",
     "text": [
      "Left:\n",
      "['common_dir',\n",
      " 'dir_only_in_dir1',\n",
      " 'file_in_dir1',\n",
      " 'file_only_in_dir1',\n",
      " 'not_the_same']\n",
      "\n",
      "Right:\n",
      "['common_dir',\n",
      " 'dir_only_in_dir2',\n",
      " 'file_in_dir1',\n",
      " 'file_only_in_dir2',\n",
      " 'not_the_same']\n"
     ]
    }
   ],
   "source": [
    "import filecmp\n",
    "import pprint\n",
    "\n",
    "dc = filecmp.dircmp('example/dir1', 'example/dir2',\n",
    "                    ignore=['common_file'])\n",
    "\n",
    "print('Left:')\n",
    "pprint.pprint(dc.left_list)\n",
    "\n",
    "print('\\nRight:')\n",
    "pprint.pprint(dc.right_list)"
   ]
  },
  {
   "cell_type": "code",
   "execution_count": 9,
   "metadata": {
    "collapsed": false
   },
   "outputs": [
    {
     "name": "stdout",
     "output_type": "stream",
     "text": [
      "Common:\n",
      "['common_dir', 'common_file', 'file_in_dir1', 'not_the_same']\n",
      "\n",
      "Left:\n",
      "['dir_only_in_dir1', 'file_only_in_dir1']\n",
      "\n",
      "Right:\n",
      "['dir_only_in_dir2', 'file_only_in_dir2']\n"
     ]
    }
   ],
   "source": [
    "import filecmp\n",
    "import pprint\n",
    "\n",
    "dc = filecmp.dircmp('example/dir1', 'example/dir2')\n",
    "print('Common:')\n",
    "pprint.pprint(dc.common)\n",
    "\n",
    "print('\\nLeft:')\n",
    "pprint.pprint(dc.left_only)\n",
    "\n",
    "print('\\nRight:')\n",
    "pprint.pprint(dc.right_only)"
   ]
  },
  {
   "cell_type": "code",
   "execution_count": 10,
   "metadata": {
    "collapsed": false
   },
   "outputs": [
    {
     "name": "stdout",
     "output_type": "stream",
     "text": [
      "Common:\n",
      "['common_dir', 'common_file', 'file_in_dir1', 'not_the_same']\n",
      "\n",
      "Directories:\n",
      "['common_dir']\n",
      "\n",
      "Files:\n",
      "['common_file', 'not_the_same']\n",
      "\n",
      "Funny:\n",
      "['file_in_dir1']\n"
     ]
    }
   ],
   "source": [
    "import filecmp\n",
    "import pprint\n",
    "\n",
    "dc = filecmp.dircmp('example/dir1', 'example/dir2')\n",
    "print('Common:')\n",
    "pprint.pprint(dc.common)\n",
    "\n",
    "print('\\nDirectories:')\n",
    "pprint.pprint(dc.common_dirs)\n",
    "\n",
    "print('\\nFiles:')\n",
    "pprint.pprint(dc.common_files)\n",
    "\n",
    "print('\\nFunny:')\n",
    "pprint.pprint(dc.common_funny)"
   ]
  }
 ],
 "metadata": {
  "kernelspec": {
   "display_name": "Python 3",
   "language": "python",
   "name": "python3"
  },
  "language_info": {
   "codemirror_mode": {
    "name": "ipython",
    "version": 3
   },
   "file_extension": ".py",
   "mimetype": "text/x-python",
   "name": "python",
   "nbconvert_exporter": "python",
   "pygments_lexer": "ipython3",
   "version": "3.6.0"
  }
 },
 "nbformat": 4,
 "nbformat_minor": 2
}
