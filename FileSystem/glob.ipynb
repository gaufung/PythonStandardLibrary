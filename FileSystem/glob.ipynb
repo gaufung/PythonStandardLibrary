{
 "cells": [
  {
   "cell_type": "markdown",
   "metadata": {},
   "source": [
    "Even though the glob API is small, the module packs a lot of power. It is useful in any situation where a program needs to look for a list of files on the file system with names matching a pattern. To create a list of filenames that all have a certain extension, prefix, or any common string in the middle, use glob instead of writing custom code to scan the directory contents."
   ]
  },
  {
   "cell_type": "markdown",
   "metadata": {},
   "source": [
    "# WildCast"
   ]
  },
  {
   "cell_type": "code",
   "execution_count": 1,
   "metadata": {
    "collapsed": false
   },
   "outputs": [
    {
     "name": "stdout",
     "output_type": "stream",
     "text": [
      "./Path.ipynb\n",
      "./glob.ipynb\n"
     ]
    }
   ],
   "source": [
    "import glob\n",
    "for name in sorted(glob.glob('./*')):\n",
    "    print(name)"
   ]
  },
  {
   "cell_type": "code",
   "execution_count": 10,
   "metadata": {
    "collapsed": false
   },
   "outputs": [
    {
     "name": "stdout",
     "output_type": "stream",
     "text": [
      "Name explicitly:\n",
      "/Users/Shared\n",
      "/Users/gaufung\n",
      "Named with wildcard:\n",
      "  /Users/Shared/Apowersoft\n",
      "  /Users/Shared/Paragon Software\n",
      "  /Users/Shared/SC Info\n",
      "  /Users/Shared/adi\n",
      "  /Users/gaufung/Applications\n",
      "  /Users/gaufung/Blog\n",
      "  /Users/gaufung/Calibre Library\n",
      "  /Users/gaufung/Desktop\n",
      "  /Users/gaufung/Documents\n",
      "  /Users/gaufung/Download\n",
      "  /Users/gaufung/Downloads\n",
      "  /Users/gaufung/FarBox\n",
      "  /Users/gaufung/Library\n",
      "  /Users/gaufung/Movies\n",
      "  /Users/gaufung/Music\n",
      "  /Users/gaufung/Pictures\n",
      "  /Users/gaufung/Public\n",
      "  /Users/gaufung/Resource\n",
      "  /Users/gaufung/Software\n",
      "  /Users/gaufung/WorkSpace\n",
      "  /Users/gaufung/anaconda\n",
      "  /Users/gaufung/blog_gaofeng\n",
      "  /Users/gaufung/jupyter-tips-and-tricks\n",
      "  /Users/gaufung/lua-5.3.0\n",
      "  /Users/gaufung/lua-5.3.0.tar.gz\n",
      "  /Users/gaufung/nltk_data\n",
      "  /Users/gaufung/scikit_learn_data\n",
      "  /Users/gaufung/statsmodels_data\n"
     ]
    }
   ],
   "source": [
    "import glob\n",
    "print('Name explicitly:')\n",
    "for name in sorted(glob.glob('/Users/*')):\n",
    "    print(name)\n",
    "print('Named with wildcard:')\n",
    "for name in sorted(glob.glob('/Users/*/*')):\n",
    "    print('  {}'.format(name))"
   ]
  }
 ],
 "metadata": {
  "kernelspec": {
   "display_name": "Python 3",
   "language": "python",
   "name": "python3"
  },
  "language_info": {
   "codemirror_mode": {
    "name": "ipython",
    "version": 3
   },
   "file_extension": ".py",
   "mimetype": "text/x-python",
   "name": "python",
   "nbconvert_exporter": "python",
   "pygments_lexer": "ipython3",
   "version": "3.6.0"
  }
 },
 "nbformat": 4,
 "nbformat_minor": 2
}
