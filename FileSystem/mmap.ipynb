{
 "cells": [
  {
   "cell_type": "markdown",
   "metadata": {},
   "source": [
    "Memory-mapping a file uses the operating system virtual memory system to access the data on the file system directly, instead of using normal I/O functions. Memory-mapping typically improves I/O performance because it does not involve a separate system call for each access and it does not require copying data between buffers – the memory is accessed directly by both the kernel and the user application.\n",
    "\n",
    "Memory-mapped files can be treated as mutable strings or file-like objects, depending on the need. A mapped file supports the expected file API methods, such as close(), flush(), read(), readline(), seek(), tell(), and write(). It also supports the string API, with features such as slicing and methods like find()."
   ]
  },
  {
   "cell_type": "markdown",
   "metadata": {},
   "source": [
    "# Reading"
   ]
  },
  {
   "cell_type": "code",
   "execution_count": 1,
   "metadata": {
    "collapsed": false
   },
   "outputs": [
    {
     "name": "stdout",
     "output_type": "stream",
     "text": [
      "First 10 bytes via read : b'Lorem ipsu'\n",
      "First 10 bytes via slice: b'Lorem ipsu'\n",
      "2nd   10 bytes via read : b'm dolor si'\n"
     ]
    }
   ],
   "source": [
    "import mmap\n",
    "\n",
    "with open('lorem.txt', 'r') as f:\n",
    "    with mmap.mmap(f.fileno(), 0,\n",
    "                   access=mmap.ACCESS_READ) as m:\n",
    "        print('First 10 bytes via read :', m.read(10))\n",
    "        print('First 10 bytes via slice:', m[:10])\n",
    "        print('2nd   10 bytes via read :', m.read(10))"
   ]
  },
  {
   "cell_type": "markdown",
   "metadata": {},
   "source": [
    "# Writing"
   ]
  },
  {
   "cell_type": "code",
   "execution_count": 2,
   "metadata": {
    "collapsed": false
   },
   "outputs": [
    {
     "name": "stdout",
     "output_type": "stream",
     "text": [
      "Looking for    : b'consectetuer'\n",
      "Replacing with : b'reutetcesnoc'\n",
      "Before:\n",
      "b'Lorem ipsum dolor sit amet, consectetuer adipiscing elit.'\n",
      "After :\n",
      "b'Lorem ipsum dolor sit amet, reutetcesnoc adipiscing elit.'\n",
      "File  :\n",
      "Lorem ipsum dolor sit amet, reutetcesnoc adipiscing elit.\n"
     ]
    }
   ],
   "source": [
    "import mmap\n",
    "import shutil\n",
    "\n",
    "# Copy the example file\n",
    "shutil.copyfile('lorem.txt', 'lorem_copy.txt')\n",
    "\n",
    "word = b'consectetuer'\n",
    "reversed = word[::-1]\n",
    "print('Looking for    :', word)\n",
    "print('Replacing with :', reversed)\n",
    "\n",
    "with open('lorem_copy.txt', 'r+') as f:\n",
    "    with mmap.mmap(f.fileno(), 0) as m:\n",
    "        print('Before:\\n{}'.format(m.readline().rstrip()))\n",
    "        m.seek(0)  # rewind\n",
    "\n",
    "        loc = m.find(word)\n",
    "        m[loc:loc + len(word)] = reversed\n",
    "        m.flush()\n",
    "\n",
    "        m.seek(0)  # rewind\n",
    "        print('After :\\n{}'.format(m.readline().rstrip()))\n",
    "\n",
    "        f.seek(0)  # rewind\n",
    "        print('File  :\\n{}'.format(f.readline().rstrip()))"
   ]
  },
  {
   "cell_type": "code",
   "execution_count": 3,
   "metadata": {
    "collapsed": false
   },
   "outputs": [
    {
     "name": "stdout",
     "output_type": "stream",
     "text": [
      "Looking for    : b'consectetuer'\n",
      "Replacing with : b'reutetcesnoc'\n",
      "Before:\n",
      "b'Lorem ipsum dolor sit amet, consectetuer adipiscing elit.'\n",
      "After :\n",
      "b'Lorem ipsum dolor sit amet, reutetcesnoc adipiscing elit.'\n",
      "File  :\n",
      "Lorem ipsum dolor sit amet, reutetcesnoc adipiscing elit.\n"
     ]
    }
   ],
   "source": [
    "# import mmap\n",
    "import shutil\n",
    "\n",
    "# Copy the example file\n",
    "shutil.copyfile('lorem.txt', 'lorem_copy.txt')\n",
    "\n",
    "word = b'consectetuer'\n",
    "reversed = word[::-1]\n",
    "print('Looking for    :', word)\n",
    "print('Replacing with :', reversed)\n",
    "\n",
    "with open('lorem_copy.txt', 'r+') as f:\n",
    "    with mmap.mmap(f.fileno(), 0) as m:\n",
    "        print('Before:\\n{}'.format(m.readline().rstrip()))\n",
    "        m.seek(0)  # rewind\n",
    "\n",
    "        loc = m.find(word)\n",
    "        m[loc:loc + len(word)] = reversed\n",
    "        m.flush()\n",
    "\n",
    "        m.seek(0)  # rewind\n",
    "        print('After :\\n{}'.format(m.readline().rstrip()))\n",
    "\n",
    "        f.seek(0)  # rewind\n",
    "        print('File  :\\n{}'.format(f.readline().rstrip()))"
   ]
  },
  {
   "cell_type": "markdown",
   "metadata": {},
   "source": [
    "# Copying Mode"
   ]
  },
  {
   "cell_type": "code",
   "execution_count": 5,
   "metadata": {
    "collapsed": false
   },
   "outputs": [
    {
     "name": "stdout",
     "output_type": "stream",
     "text": [
      "Memory Before:\n",
      "b'Lorem ipsum dolor sit amet, consectetuer adipiscing elit.'\n",
      "File Before  :\n",
      "Lorem ipsum dolor sit amet, consectetuer adipiscing elit.\n",
      "\n",
      "Memory After :\n",
      "b'Lorem ipsum dolor sit amet, reutetcesnoc adipiscing elit.'\n",
      "File After   :\n",
      "Lorem ipsum dolor sit amet, consectetuer adipiscing elit.\n"
     ]
    }
   ],
   "source": [
    "import mmap\n",
    "import shutil\n",
    "\n",
    "# Copy the example file\n",
    "shutil.copyfile('lorem.txt', 'lorem_copy.txt')\n",
    "\n",
    "word = b'consectetuer'\n",
    "reversed = word[::-1]\n",
    "\n",
    "with open('lorem_copy.txt', 'r+') as f:\n",
    "    with mmap.mmap(f.fileno(), 0,\n",
    "                   access=mmap.ACCESS_COPY) as m:\n",
    "        print('Memory Before:\\n{}'.format(\n",
    "            m.readline().rstrip()))\n",
    "        print('File Before  :\\n{}\\n'.format(\n",
    "            f.readline().rstrip()))\n",
    "\n",
    "        m.seek(0)  # rewind\n",
    "        loc = m.find(word)\n",
    "        m[loc:loc + len(word)] = reversed\n",
    "\n",
    "        m.seek(0)  # rewind\n",
    "        print('Memory After :\\n{}'.format(\n",
    "            m.readline().rstrip()))\n",
    "\n",
    "        f.seek(0)\n",
    "        print('File After   :\\n{}'.format(\n",
    "            f.readline().rstrip()))"
   ]
  },
  {
   "cell_type": "markdown",
   "metadata": {},
   "source": [
    "# Regular Expressions"
   ]
  },
  {
   "cell_type": "code",
   "execution_count": 6,
   "metadata": {
    "collapsed": false
   },
   "outputs": [
    {
     "name": "stdout",
     "output_type": "stream",
     "text": [
      "b'Nulla facilisi.'\n",
      "b'Nulla feugiat augue eleifend nulla.'\n"
     ]
    }
   ],
   "source": [
    "import mmap\n",
    "import re\n",
    "\n",
    "pattern = re.compile(rb'(\\.\\W+)?([^.]?nulla[^.]*?\\.)',\n",
    "                     re.DOTALL | re.IGNORECASE | re.MULTILINE)\n",
    "with open('lorem.txt', 'r') as f:\n",
    "    with mmap.mmap(f.fileno(), 0,\n",
    "                   access=mmap.ACCESS_READ) as m:\n",
    "        for match in pattern.findall(m):\n",
    "            print(match[1].replace(b'\\n', b' '))"
   ]
  }
 ],
 "metadata": {
  "kernelspec": {
   "display_name": "Python 3",
   "language": "python",
   "name": "python3"
  },
  "language_info": {
   "codemirror_mode": {
    "name": "ipython",
    "version": 3
   },
   "file_extension": ".py",
   "mimetype": "text/x-python",
   "name": "python",
   "nbconvert_exporter": "python",
   "pygments_lexer": "ipython3",
   "version": "3.6.0"
  }
 },
 "nbformat": 4,
 "nbformat_minor": 2
}
