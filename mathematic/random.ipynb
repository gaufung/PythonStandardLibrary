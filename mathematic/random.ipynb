{
 "cells": [
  {
   "cell_type": "markdown",
   "metadata": {},
   "source": [
    "# Generating Random Numbers\n",
    "The random() function returns the next random floating point value from the generated sequence. All of the return values fall within the range 0 <= n < 1.0."
   ]
  },
  {
   "cell_type": "code",
   "execution_count": 1,
   "metadata": {
    "collapsed": false
   },
   "outputs": [
    {
     "name": "stdout",
     "output_type": "stream",
     "text": [
      "0.112 0.965 0.453 0.512 0.334 \n"
     ]
    }
   ],
   "source": [
    "import random\n",
    "for i in range(5):\n",
    "    print('%04.3f' % random.random(), end=' ')\n",
    "print()"
   ]
  },
  {
   "cell_type": "code",
   "execution_count": 2,
   "metadata": {
    "collapsed": false
   },
   "outputs": [
    {
     "name": "stdout",
     "output_type": "stream",
     "text": [
      "15.681 75.444 95.950 6.651 57.688 \n"
     ]
    }
   ],
   "source": [
    "import random\n",
    "for i in range(5):\n",
    "    print('{:04.3f}'.format(random.uniform(1, 100)), end=' ')\n",
    "print()"
   ]
  },
  {
   "cell_type": "markdown",
   "metadata": {},
   "source": [
    "# Seeding"
   ]
  },
  {
   "cell_type": "code",
   "execution_count": 3,
   "metadata": {
    "collapsed": false
   },
   "outputs": [
    {
     "name": "stdout",
     "output_type": "stream",
     "text": [
      "0.134 0.847 0.764 0.255 0.495 \n"
     ]
    }
   ],
   "source": [
    "import random\n",
    "\n",
    "random.seed(1)\n",
    "\n",
    "for i in range(5):\n",
    "    print('{:04.3f}'.format(random.random()), end=' ')\n",
    "print()"
   ]
  },
  {
   "cell_type": "code",
   "execution_count": 4,
   "metadata": {
    "collapsed": false
   },
   "outputs": [
    {
     "name": "stdout",
     "output_type": "stream",
     "text": [
      "0.134 0.847 0.764 0.255 0.495 \n"
     ]
    }
   ],
   "source": [
    "import random\n",
    "\n",
    "random.seed(1)\n",
    "\n",
    "for i in range(5):\n",
    "    print('{:04.3f}'.format(random.random()), end=' ')\n",
    "print()"
   ]
  },
  {
   "cell_type": "code",
   "execution_count": 5,
   "metadata": {
    "collapsed": false
   },
   "outputs": [
    {
     "name": "stdout",
     "output_type": "stream",
     "text": [
      "No state.dat, seeding\n",
      "0.134 0.847 0.764 \n",
      "\n",
      "After saving state:\n",
      "0.255 0.495 0.449 \n"
     ]
    }
   ],
   "source": [
    "import random\n",
    "import os\n",
    "import pickle\n",
    "\n",
    "if os.path.exists('state.dat'):\n",
    "    # Restore the previously saved state\n",
    "    print('Found state.dat, initializing random module')\n",
    "    with open('state.dat', 'rb') as f:\n",
    "        state = pickle.load(f)\n",
    "    random.setstate(state)\n",
    "else:\n",
    "    # Use a well-known start state\n",
    "    print('No state.dat, seeding')\n",
    "    random.seed(1)\n",
    "\n",
    "# Produce random values\n",
    "for i in range(3):\n",
    "    print('{:04.3f}'.format(random.random()), end=' ')\n",
    "print()\n",
    "\n",
    "# Save state for next time\n",
    "with open('state.dat', 'wb') as f:\n",
    "    pickle.dump(random.getstate(), f)\n",
    "\n",
    "# Produce more random values\n",
    "print('\\nAfter saving state:')\n",
    "for i in range(3):\n",
    "    print('{:04.3f}'.format(random.random()), end=' ')\n",
    "print()"
   ]
  },
  {
   "cell_type": "markdown",
   "metadata": {},
   "source": [
    "# Random Integer"
   ]
  },
  {
   "cell_type": "code",
   "execution_count": 7,
   "metadata": {
    "collapsed": false
   },
   "outputs": [
    {
     "name": "stdout",
     "output_type": "stream",
     "text": [
      "[1, 100]: 50 56 78 \n",
      "[-5, 5] -5 2 -1 \n"
     ]
    }
   ],
   "source": [
    "import random\n",
    "print('[1, 100]:', end=' ')\n",
    "for i in range(3):\n",
    "    print(random.randint(1, 100), end=' ')\n",
    "print('\\n[-5, 5]', end=' ')\n",
    "for i in range(3):\n",
    "    print(random.randint(-5, 5), end=' ')\n",
    "print()"
   ]
  },
  {
   "cell_type": "code",
   "execution_count": 8,
   "metadata": {
    "collapsed": false
   },
   "outputs": [
    {
     "name": "stdout",
     "output_type": "stream",
     "text": [
      "35 90 15 \n"
     ]
    }
   ],
   "source": [
    "import random\n",
    "\n",
    "for i in range(3):\n",
    "    print(random.randrange(0, 101, 5), end=' ')\n",
    "print()"
   ]
  },
  {
   "cell_type": "markdown",
   "metadata": {},
   "source": [
    "# Picking Random Items"
   ]
  },
  {
   "cell_type": "code",
   "execution_count": 9,
   "metadata": {
    "collapsed": false
   },
   "outputs": [
    {
     "name": "stdout",
     "output_type": "stream",
     "text": [
      "Heads: 5058\n",
      "Tails: 4942\n"
     ]
    }
   ],
   "source": [
    "import random\n",
    "import itertools\n",
    "\n",
    "outcomes = {\n",
    "    'heads': 0,\n",
    "    'tails': 0,\n",
    "}\n",
    "sides = list(outcomes.keys())\n",
    "\n",
    "for i in range(10000):\n",
    "    outcomes[random.choice(sides)] += 1\n",
    "\n",
    "print('Heads:', outcomes['heads'])\n",
    "print('Tails:', outcomes['tails'])"
   ]
  },
  {
   "cell_type": "markdown",
   "metadata": {},
   "source": [
    "# Sampling"
   ]
  },
  {
   "cell_type": "code",
   "execution_count": 12,
   "metadata": {
    "collapsed": false
   },
   "outputs": [
    {
     "name": "stdout",
     "output_type": "stream",
     "text": [
      "    \"collapsed\": false\n",
      "    \"    outcomes[random.choice(sides)] += 1\\n\",\n",
      "    \"        state = pickle.load(f)\\n\",\n",
      "   \"cell_type\": \"markdown\",\n",
      "    \"print()\"\n"
     ]
    }
   ],
   "source": [
    "import random\n",
    "\n",
    "with open('random.ipynb', 'rt') as f:\n",
    "    words = f.readlines()\n",
    "words = [w.rstrip() for w in words]\n",
    "\n",
    "for w in random.sample(words, 5):\n",
    "    print(w)"
   ]
  },
  {
   "cell_type": "markdown",
   "metadata": {},
   "source": [
    "# SystemRandom"
   ]
  },
  {
   "cell_type": "code",
   "execution_count": 13,
   "metadata": {
    "collapsed": false
   },
   "outputs": [
    {
     "name": "stdout",
     "output_type": "stream",
     "text": [
      "Default initializiation:\n",
      "\n",
      "0.363  0.896\n",
      "0.855  0.348\n",
      "0.538  0.539\n",
      "\n",
      "Same seed:\n",
      "\n",
      "0.905  0.900\n",
      "0.754  0.497\n",
      "0.841  0.172\n"
     ]
    }
   ],
   "source": [
    "import random\n",
    "import time\n",
    "\n",
    "print('Default initializiation:\\n')\n",
    "\n",
    "r1 = random.SystemRandom()\n",
    "r2 = random.SystemRandom()\n",
    "\n",
    "for i in range(3):\n",
    "    print('{:04.3f}  {:04.3f}'.format(r1.random(), r2.random()))\n",
    "\n",
    "print('\\nSame seed:\\n')\n",
    "\n",
    "seed = time.time()\n",
    "r1 = random.SystemRandom(seed)\n",
    "r2 = random.SystemRandom(seed)\n",
    "\n",
    "for i in range(3):\n",
    "    print('{:04.3f}  {:04.3f}'.format(r1.random(), r2.random()))"
   ]
  }
 ],
 "metadata": {
  "kernelspec": {
   "display_name": "Python 3",
   "language": "python",
   "name": "python3"
  },
  "language_info": {
   "codemirror_mode": {
    "name": "ipython",
    "version": 3
   },
   "file_extension": ".py",
   "mimetype": "text/x-python",
   "name": "python",
   "nbconvert_exporter": "python",
   "pygments_lexer": "ipython3",
   "version": "3.6.0"
  }
 },
 "nbformat": 4,
 "nbformat_minor": 2
}
