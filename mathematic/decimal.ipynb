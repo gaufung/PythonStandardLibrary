{
 "cells": [
  {
   "cell_type": "markdown",
   "metadata": {},
   "source": [
    "The decimal module implements fixed and floating point arithmetic using the model familiar to most people, rather than the IEEE floating point version implemented by most computer hardware and familiar to programmers. A Decimal instance can represent any number exactly, round up or down, and apply a limit to the number of significant digits."
   ]
  },
  {
   "cell_type": "markdown",
   "metadata": {},
   "source": [
    "# Decimal"
   ]
  },
  {
   "cell_type": "code",
   "execution_count": 2,
   "metadata": {
    "collapsed": false
   },
   "outputs": [
    {
     "name": "stdout",
     "output_type": "stream",
     "text": [
      "Input                    Output                   \n",
      "--------------------------------------------------\n",
      "5                        5                        \n",
      "3.14                     3.14                     \n",
      "0.1                      0.1                      \n",
      "0.100000000000000005551120.10000000000000000555111\n"
     ]
    }
   ],
   "source": [
    "import decimal\n",
    "fmt = '{0:<25}{1:<25}'\n",
    "print(fmt.format('Input', 'Output'))\n",
    "print(fmt.format('-'*25, '-'*25))\n",
    "#Integer\n",
    "print(fmt.format(5, decimal.Decimal(5)))\n",
    "#String\n",
    "print(fmt.format('3.14', decimal.Decimal('3.14')))\n",
    "#Float\n",
    "f = 0.1\n",
    "print(fmt.format(repr(f), decimal.Decimal(str(f))))\n",
    "print('{:0.23g}{:<25}'.format(f, str(decimal.Decimal.from_float(f))[:25]))"
   ]
  },
  {
   "cell_type": "markdown",
   "metadata": {},
   "source": [
    "Decimals can also be created from tuples containing a sign flag"
   ]
  },
  {
   "cell_type": "code",
   "execution_count": 3,
   "metadata": {
    "collapsed": false
   },
   "outputs": [
    {
     "name": "stdout",
     "output_type": "stream",
     "text": [
      "Input  : (1, (1, 1), -2)\n",
      "Decimal: -0.11\n"
     ]
    }
   ],
   "source": [
    "import decimal\n",
    "\n",
    "# Tuple\n",
    "t = (1, (1, 1), -2)\n",
    "print('Input  :', t)\n",
    "print('Decimal:', decimal.Decimal(t))"
   ]
  },
  {
   "cell_type": "markdown",
   "metadata": {},
   "source": [
    "# Formatting"
   ]
  },
  {
   "cell_type": "code",
   "execution_count": 4,
   "metadata": {
    "collapsed": false
   },
   "outputs": [
    {
     "name": "stdout",
     "output_type": "stream",
     "text": [
      "Precision:\n",
      "1\n",
      "1.1\n",
      "1.10\n",
      "1.10000000000000009\n",
      "\n",
      "Width and precision combined:\n",
      "  1.1     1\n",
      " 1.10   1.1\n",
      " 1.10   1.1\n",
      "\n",
      "Zero padding:\n",
      "00001\n",
      "001.1\n",
      "01.10\n"
     ]
    }
   ],
   "source": [
    "import decimal\n",
    "\n",
    "d = decimal.Decimal(1.1)\n",
    "print('Precision:')\n",
    "print('{:.1}'.format(d))\n",
    "print('{:.2}'.format(d))\n",
    "print('{:.3}'.format(d))\n",
    "print('{:.18}'.format(d))\n",
    "\n",
    "print('\\nWidth and precision combined:')\n",
    "print('{:5.1f} {:5.1g}'.format(d, d))\n",
    "print('{:5.2f} {:5.2g}'.format(d, d))\n",
    "print('{:5.2f} {:5.2g}'.format(d, d))\n",
    "\n",
    "print('\\nZero padding:')\n",
    "print('{:05.1}'.format(d))\n",
    "print('{:05.2}'.format(d))\n",
    "print('{:05.3}'.format(d))"
   ]
  },
  {
   "cell_type": "markdown",
   "metadata": {},
   "source": [
    "# Arithmetic"
   ]
  },
  {
   "cell_type": "code",
   "execution_count": 5,
   "metadata": {
    "collapsed": false
   },
   "outputs": [
    {
     "name": "stdout",
     "output_type": "stream",
     "text": [
      "a     = Decimal('5.1')\n",
      "b     = Decimal('3.14')\n",
      "c     = 4\n",
      "d     = 3.14\n",
      "\n",
      "a + b = 8.24\n",
      "a - b = 1.96\n",
      "a * b = 16.014\n",
      "a / b = 1.624203821656050955414012739\n",
      "\n",
      "a + c = 9.1\n",
      "a - c = 1.1\n",
      "a * c = 20.4\n",
      "a / c = 1.275\n",
      "\n",
      "a + d = unsupported operand type(s) for +: 'decimal.Decimal' and 'float'\n"
     ]
    }
   ],
   "source": [
    "import decimal\n",
    "\n",
    "a = decimal.Decimal('5.1')\n",
    "b = decimal.Decimal('3.14')\n",
    "c = 4\n",
    "d = 3.14\n",
    "\n",
    "print('a     =', repr(a))\n",
    "print('b     =', repr(b))\n",
    "print('c     =', repr(c))\n",
    "print('d     =', repr(d))\n",
    "print()\n",
    "\n",
    "print('a + b =', a + b)\n",
    "print('a - b =', a - b)\n",
    "print('a * b =', a * b)\n",
    "print('a / b =', a / b)\n",
    "print()\n",
    "\n",
    "print('a + c =', a + c)\n",
    "print('a - c =', a - c)\n",
    "print('a * c =', a * c)\n",
    "print('a / c =', a / c)\n",
    "print()\n",
    "\n",
    "print('a + d =', end=' ')\n",
    "try:\n",
    "    print(a + d)\n",
    "except TypeError as e:\n",
    "    print(e)\n"
   ]
  },
  {
   "cell_type": "markdown",
   "metadata": {},
   "source": [
    "# Special Value"
   ]
  },
  {
   "cell_type": "code",
   "execution_count": 6,
   "metadata": {
    "collapsed": false
   },
   "outputs": [
    {
     "name": "stdout",
     "output_type": "stream",
     "text": [
      "Infinity -Infinity\n",
      "NaN -NaN\n",
      "0 -0\n",
      "\n",
      "Infinity + 1: Infinity\n",
      "-Infinity + 1: -Infinity\n",
      "False\n",
      "True\n"
     ]
    }
   ],
   "source": [
    "import decimal\n",
    "\n",
    "for value in ['Infinity', 'NaN', '0']:\n",
    "    print(decimal.Decimal(value), decimal.Decimal('-' + value))\n",
    "print()\n",
    "\n",
    "# Math with infinity\n",
    "print('Infinity + 1:', (decimal.Decimal('Infinity') + 1))\n",
    "print('-Infinity + 1:', (decimal.Decimal('-Infinity') + 1))\n",
    "\n",
    "# Print comparing NaN\n",
    "print(decimal.Decimal('NaN') == decimal.Decimal('Infinity'))\n",
    "print(decimal.Decimal('NaN') != decimal.Decimal(1))"
   ]
  },
  {
   "cell_type": "markdown",
   "metadata": {},
   "source": [
    "# Context"
   ]
  },
  {
   "cell_type": "code",
   "execution_count": 7,
   "metadata": {
    "collapsed": false
   },
   "outputs": [
    {
     "name": "stdout",
     "output_type": "stream",
     "text": [
      "Emax     = 999999\n",
      "Emin     = -999999\n",
      "capitals = 1\n",
      "prec     = 28\n",
      "rounding = ROUND_HALF_EVEN\n",
      "flags    =\n",
      "  <class 'decimal.InvalidOperation'>: False\n",
      "  <class 'decimal.FloatOperation'>: True\n",
      "  <class 'decimal.DivisionByZero'>: False\n",
      "  <class 'decimal.Overflow'>: False\n",
      "  <class 'decimal.Underflow'>: False\n",
      "  <class 'decimal.Subnormal'>: False\n",
      "  <class 'decimal.Inexact'>: True\n",
      "  <class 'decimal.Rounded'>: True\n",
      "  <class 'decimal.Clamped'>: False\n",
      "traps    =\n",
      "  <class 'decimal.InvalidOperation'>: True\n",
      "  <class 'decimal.FloatOperation'>: False\n",
      "  <class 'decimal.DivisionByZero'>: True\n",
      "  <class 'decimal.Overflow'>: True\n",
      "  <class 'decimal.Underflow'>: False\n",
      "  <class 'decimal.Subnormal'>: False\n",
      "  <class 'decimal.Inexact'>: False\n",
      "  <class 'decimal.Rounded'>: False\n",
      "  <class 'decimal.Clamped'>: False\n"
     ]
    }
   ],
   "source": [
    "import decimal\n",
    "\n",
    "context = decimal.getcontext()\n",
    "\n",
    "print('Emax     =', context.Emax)\n",
    "print('Emin     =', context.Emin)\n",
    "print('capitals =', context.capitals)\n",
    "print('prec     =', context.prec)\n",
    "print('rounding =', context.rounding)\n",
    "print('flags    =')\n",
    "for f, v in context.flags.items():\n",
    "    print('  {}: {}'.format(f, v))\n",
    "print('traps    =')\n",
    "for t, v in context.traps.items():\n",
    "    print('  {}: {}'.format(t, v))\n"
   ]
  },
  {
   "cell_type": "markdown",
   "metadata": {},
   "source": [
    "## Precision"
   ]
  },
  {
   "cell_type": "code",
   "execution_count": 8,
   "metadata": {
    "collapsed": false
   },
   "outputs": [
    {
     "name": "stdout",
     "output_type": "stream",
     "text": [
      "1 : 0.123456 0.1\n",
      "2 : 0.123456 0.12\n",
      "3 : 0.123456 0.123\n",
      "4 : 0.123456 0.1235\n"
     ]
    }
   ],
   "source": [
    "import decimal\n",
    "\n",
    "d = decimal.Decimal('0.123456')\n",
    "\n",
    "for i in range(1, 5):\n",
    "    decimal.getcontext().prec = i\n",
    "    print(i, ':', d, d * 1)\n"
   ]
  },
  {
   "cell_type": "markdown",
   "metadata": {},
   "source": [
    "## Local Context"
   ]
  },
  {
   "cell_type": "code",
   "execution_count": 9,
   "metadata": {
    "collapsed": false
   },
   "outputs": [
    {
     "name": "stdout",
     "output_type": "stream",
     "text": [
      "Local precision: 2\n",
      "3.14 / 3 = 1.0\n",
      "\n",
      "Default precision: 4\n",
      "3.14 / 3 = 1.047\n"
     ]
    }
   ],
   "source": [
    "import decimal\n",
    "\n",
    "with decimal.localcontext() as c:\n",
    "    c.prec = 2\n",
    "    print('Local precision:', c.prec)\n",
    "    print('3.14 / 3 =', (decimal.Decimal('3.14') / 3))\n",
    "\n",
    "print()\n",
    "print('Default precision:', decimal.getcontext().prec)\n",
    "print('3.14 / 3 =', (decimal.Decimal('3.14') / 3))"
   ]
  },
  {
   "cell_type": "code",
   "execution_count": 10,
   "metadata": {
    "collapsed": false
   },
   "outputs": [
    {
     "name": "stdout",
     "output_type": "stream",
     "text": [
      "PI    : 3.14\n",
      "RESULT: 6.311\n"
     ]
    }
   ],
   "source": [
    "import decimal\n",
    "\n",
    "# Set up a context with limited precision\n",
    "c = decimal.getcontext().copy()\n",
    "c.prec = 3\n",
    "\n",
    "# Create our constant\n",
    "pi = c.create_decimal('3.1415')\n",
    "\n",
    "# The constant value is rounded off\n",
    "print('PI    :', pi)\n",
    "\n",
    "# The result of using the constant uses the global context\n",
    "print('RESULT:', decimal.Decimal('2.01') * pi)"
   ]
  },
  {
   "cell_type": "code",
   "execution_count": null,
   "metadata": {
    "collapsed": true
   },
   "outputs": [],
   "source": []
  }
 ],
 "metadata": {
  "kernelspec": {
   "display_name": "Python 3",
   "language": "python",
   "name": "python3"
  },
  "language_info": {
   "codemirror_mode": {
    "name": "ipython",
    "version": 3
   },
   "file_extension": ".py",
   "mimetype": "text/x-python",
   "name": "python",
   "nbconvert_exporter": "python",
   "pygments_lexer": "ipython3",
   "version": "3.6.0"
  }
 },
 "nbformat": 4,
 "nbformat_minor": 2
}
