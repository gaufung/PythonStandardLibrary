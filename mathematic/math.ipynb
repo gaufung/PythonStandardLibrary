{
 "cells": [
  {
   "cell_type": "markdown",
   "metadata": {},
   "source": [
    "The math module implements many of the IEEE functions that would normally be found in the native platform C libraries for complex mathematical operations using floating point values, including logarithms and trigonometric operations.\n"
   ]
  },
  {
   "cell_type": "markdown",
   "metadata": {},
   "source": [
    "# Special Constants"
   ]
  },
  {
   "cell_type": "code",
   "execution_count": 1,
   "metadata": {
    "collapsed": false
   },
   "outputs": [
    {
     "name": "stdout",
     "output_type": "stream",
     "text": [
      "pi 3.141592653589793\n",
      "e 2.718281828459045\n",
      "nan nan\n",
      "inf inf\n"
     ]
    }
   ],
   "source": [
    "import math\n",
    "print('pi', math.pi)\n",
    "print('e', math.e)\n",
    "print('nan', math.nan)\n",
    "print('inf', math.inf)"
   ]
  },
  {
   "cell_type": "markdown",
   "metadata": {},
   "source": [
    "# Exceptional Value"
   ]
  },
  {
   "cell_type": "code",
   "execution_count": 2,
   "metadata": {
    "collapsed": false
   },
   "outputs": [
    {
     "name": "stdout",
     "output_type": "stream",
     "text": [
      " e  x      x**2   isinf \n",
      "--- ------ ------ ------\n",
      "  0 1      1      False \n",
      " 20 1e+20  1e+40  False \n",
      " 40 1e+40  1e+80  False \n",
      " 60 1e+60  1e+120 False \n",
      " 80 1e+80  1e+160 False \n",
      "100 1e+100 1e+200 False \n",
      "120 1e+120 1e+240 False \n",
      "140 1e+140 1e+280 False \n",
      "160 1e+160 inf    True  \n",
      "180 1e+180 inf    True  \n",
      "200 1e+200 inf    True  \n"
     ]
    }
   ],
   "source": [
    "import math\n",
    "\n",
    "print('{:^3} {:6} {:6} {:6}'.format(\n",
    "    'e', 'x', 'x**2', 'isinf'))\n",
    "print('{:-^3} {:-^6} {:-^6} {:-^6}'.format(\n",
    "    '', '', '', ''))\n",
    "\n",
    "for e in range(0, 201, 20):\n",
    "    x = 10.0 ** e\n",
    "    y = x * x\n",
    "    print('{:3d} {:<6g} {:<6g} {!s:6}'.format(\n",
    "        e, x, y, math.isinf(y),\n",
    "    ))"
   ]
  },
  {
   "cell_type": "code",
   "execution_count": 3,
   "metadata": {
    "collapsed": false
   },
   "outputs": [
    {
     "name": "stdout",
     "output_type": "stream",
     "text": [
      "x= 1e+200\n",
      "x*x= inf\n",
      "x**2=(34, 'Result too large')\n"
     ]
    }
   ],
   "source": [
    "x = 10.0 ** 200\n",
    "print('x=',x)\n",
    "print('x*x=', x*x)\n",
    "print('x**2=', end='')\n",
    "try:\n",
    "    print(x**2)\n",
    "except OverflowError as err:\n",
    "    print(err)"
   ]
  },
  {
   "cell_type": "markdown",
   "metadata": {},
   "source": [
    "# Comparing\n",
    "\n",
    "> abs(a-b) <= max(rel_tol * max(abs(a), abs(b)), abs_tol)"
   ]
  },
  {
   "cell_type": "code",
   "execution_count": 5,
   "metadata": {
    "collapsed": false
   },
   "outputs": [
    {
     "name": "stdout",
     "output_type": "stream",
     "text": [
      "   a        b     rel_tol  abs(a-b) tolerance  close  \n",
      "-------- -------- -------- -------- -------- --------\n",
      " 1000.00   900.00     0.10   100.00   100.00     True\n",
      "  100.00    90.00     0.10    10.00    10.00     True\n",
      "   10.00     9.00     0.10     1.00     1.00     True\n",
      "    1.00     0.90     0.10     0.10     0.10     True\n",
      "    0.10     0.09     0.10     0.01     0.01    False\n"
     ]
    }
   ],
   "source": [
    "import math\n",
    "\n",
    "INPUTS = [\n",
    "    (1000, 900, 0.1),\n",
    "    (100, 90, 0.1),\n",
    "    (10, 9, 0.1),\n",
    "    (1, 0.9, 0.1),\n",
    "    (0.1, 0.09, 0.1),\n",
    "]\n",
    "\n",
    "print('{:^8} {:^8} {:^8} {:^8} {:^8} {:^8}'.format(\n",
    "    'a', 'b', 'rel_tol', 'abs(a-b)', 'tolerance', 'close')\n",
    ")\n",
    "print('{:-^8} {:-^8} {:-^8} {:-^8} {:-^8} {:-^8}'.format(\n",
    "    '-', '-', '-', '-', '-', '-'),\n",
    ")\n",
    "\n",
    "fmt = '{:8.2f} {:8.2f} {:8.2f} {:8.2f} {:8.2f} {!s:>8}'\n",
    "\n",
    "for a, b, rel_tol in INPUTS:\n",
    "    close = math.isclose(a, b, rel_tol=rel_tol)\n",
    "    tolerance = rel_tol * max(abs(a), abs(b))\n",
    "    abs_diff = abs(a - b)\n",
    "    print(fmt.format(a, b, rel_tol, abs_diff, tolerance, close))"
   ]
  },
  {
   "cell_type": "code",
   "execution_count": 6,
   "metadata": {
    "collapsed": false
   },
   "outputs": [
    {
     "name": "stdout",
     "output_type": "stream",
     "text": [
      "   a          b      abs_tol   abs(a-b)   close  \n",
      "-------- ----------- -------- ---------- --------\n",
      "    1.00   1.0000001    1e-08 0.000000100    False\n",
      "    1.00  1.00000001    1e-08 0.000000010     True\n",
      "    1.00 1.000000001    1e-08 0.000000001     True\n"
     ]
    }
   ],
   "source": [
    "import math\n",
    "\n",
    "INPUTS = [\n",
    "    (1.0, 1.0 + 1e-07, 1e-08),\n",
    "    (1.0, 1.0 + 1e-08, 1e-08),\n",
    "    (1.0, 1.0 + 1e-09, 1e-08),\n",
    "]\n",
    "\n",
    "print('{:^8} {:^11} {:^8} {:^10} {:^8}'.format(\n",
    "    'a', 'b', 'abs_tol', 'abs(a-b)', 'close')\n",
    ")\n",
    "print('{:-^8} {:-^11} {:-^8} {:-^10} {:-^8}'.format(\n",
    "    '-', '-', '-', '-', '-'),\n",
    ")\n",
    "\n",
    "for a, b, abs_tol in INPUTS:\n",
    "    close = math.isclose(a, b, abs_tol=abs_tol)\n",
    "    abs_diff = abs(a - b)\n",
    "    print('{:8.2f} {:11} {:8} {:0.9f} {!s:>8}'.format(\n",
    "        a, b, abs_tol, abs_diff, close))"
   ]
  },
  {
   "cell_type": "markdown",
   "metadata": {},
   "source": [
    "# Converting Floating Point values to Integers"
   ]
  },
  {
   "cell_type": "code",
   "execution_count": 7,
   "metadata": {
    "collapsed": false
   },
   "outputs": [
    {
     "name": "stdout",
     "output_type": "stream",
     "text": [
      "  i    int  trunk floor ceil \n",
      "----- ----- ----- ----- -----\n",
      " -1.5  -1.0  -1.0  -2.0  -1.0\n",
      " -0.8   0.0   0.0  -1.0   0.0\n",
      " -0.5   0.0   0.0  -1.0   0.0\n",
      " -0.2   0.0   0.0  -1.0   0.0\n",
      "  0.0   0.0   0.0   0.0   0.0\n",
      "  0.2   0.0   0.0   0.0   1.0\n",
      "  0.5   0.0   0.0   0.0   1.0\n",
      "  0.8   0.0   0.0   0.0   1.0\n",
      "  1.0   1.0   1.0   1.0   1.0\n"
     ]
    }
   ],
   "source": [
    "import math\n",
    "\n",
    "HEADINGS = ('i', 'int', 'trunk', 'floor', 'ceil')\n",
    "print('{:^5} {:^5} {:^5} {:^5} {:^5}'.format(*HEADINGS))\n",
    "print('{:-^5} {:-^5} {:-^5} {:-^5} {:-^5}'.format(\n",
    "    '', '', '', '', '',\n",
    "))\n",
    "\n",
    "fmt = '{:5.1f} {:5.1f} {:5.1f} {:5.1f} {:5.1f}'\n",
    "\n",
    "TEST_VALUES = [\n",
    "    -1.5,\n",
    "    -0.8,\n",
    "    -0.5,\n",
    "    -0.2,\n",
    "    0,\n",
    "    0.2,\n",
    "    0.5,\n",
    "    0.8,\n",
    "    1,\n",
    "]\n",
    "\n",
    "for i in TEST_VALUES:\n",
    "    print(fmt.format(\n",
    "        i,\n",
    "        int(i),\n",
    "        math.trunc(i),\n",
    "        math.floor(i),\n",
    "        math.ceil(i),\n",
    "    ))"
   ]
  },
  {
   "cell_type": "markdown",
   "metadata": {},
   "source": [
    "# Commonly Used Calculations"
   ]
  },
  {
   "cell_type": "code",
   "execution_count": 8,
   "metadata": {
    "collapsed": false
   },
   "outputs": [
    {
     "name": "stdout",
     "output_type": "stream",
     "text": [
      "Input values: [0.1, 0.1, 0.1, 0.1, 0.1, 0.1, 0.1, 0.1, 0.1, 0.1]\n",
      "sum()       : 0.99999999999999988898\n",
      "for-loop    : 0.99999999999999988898\n",
      "math.fsum() : 1.00000000000000000000\n"
     ]
    }
   ],
   "source": [
    "import math\n",
    "\n",
    "values = [0.1] * 10\n",
    "\n",
    "print('Input values:', values)\n",
    "\n",
    "print('sum()       : {:.20f}'.format(sum(values)))\n",
    "\n",
    "s = 0.0\n",
    "for i in values:\n",
    "    s += i\n",
    "print('for-loop    : {:.20f}'.format(s))\n",
    "\n",
    "print('math.fsum() : {:.20f}'.format(math.fsum(values)))"
   ]
  },
  {
   "cell_type": "markdown",
   "metadata": {},
   "source": [
    "# Angle"
   ]
  },
  {
   "cell_type": "code",
   "execution_count": 9,
   "metadata": {
    "collapsed": false
   },
   "outputs": [
    {
     "name": "stdout",
     "output_type": "stream",
     "text": [
      "Degrees Radians Expected\n",
      "------- ------- -------\n",
      "      0    0.00    0.00\n",
      "     30    0.52    0.52\n",
      "     45    0.79    0.79\n",
      "     60    1.05    1.05\n",
      "     90    1.57    1.57\n",
      "    180    3.14    3.14\n",
      "    270    4.71    4.71\n",
      "    360    6.28    6.28\n"
     ]
    }
   ],
   "source": [
    "import math\n",
    "\n",
    "print('{:^7} {:^7} {:^7}'.format(\n",
    "    'Degrees', 'Radians', 'Expected'))\n",
    "print('{:-^7} {:-^7} {:-^7}'.format(\n",
    "    '', '', ''))\n",
    "\n",
    "INPUTS = [\n",
    "    (0, 0),\n",
    "    (30, math.pi / 6),\n",
    "    (45, math.pi / 4),\n",
    "    (60, math.pi / 3),\n",
    "    (90, math.pi / 2),\n",
    "    (180, math.pi),\n",
    "    (270, 3 / 2.0 * math.pi),\n",
    "    (360, 2 * math.pi),\n",
    "]\n",
    "\n",
    "for deg, expected in INPUTS:\n",
    "    print('{:7d} {:7.2f} {:7.2f}'.format(\n",
    "        deg,\n",
    "        math.radians(deg),\n",
    "        expected,\n",
    "    ))"
   ]
  },
  {
   "cell_type": "code",
   "execution_count": 10,
   "metadata": {
    "collapsed": false
   },
   "outputs": [
    {
     "name": "stdout",
     "output_type": "stream",
     "text": [
      "Radians  Degrees  Expected\n",
      "-------- -------- --------\n",
      "    0.00     0.00     0.00\n",
      "    0.52    30.00    30.00\n",
      "    0.79    45.00    45.00\n",
      "    1.05    60.00    60.00\n",
      "    1.57    90.00    90.00\n",
      "    3.14   180.00   180.00\n",
      "    4.71   270.00   270.00\n",
      "    6.28   360.00   360.00\n"
     ]
    }
   ],
   "source": [
    "import math\n",
    "\n",
    "INPUTS = [\n",
    "    (0, 0),\n",
    "    (math.pi / 6, 30),\n",
    "    (math.pi / 4, 45),\n",
    "    (math.pi / 3, 60),\n",
    "    (math.pi / 2, 90),\n",
    "    (math.pi, 180),\n",
    "    (3 * math.pi / 2, 270),\n",
    "    (2 * math.pi, 360),\n",
    "]\n",
    "\n",
    "print('{:^8} {:^8} {:^8}'.format(\n",
    "    'Radians', 'Degrees', 'Expected'))\n",
    "print('{:-^8} {:-^8} {:-^8}'.format('', '', ''))\n",
    "for rad, expected in INPUTS:\n",
    "    print('{:8.2f} {:8.2f} {:8.2f}'.format(\n",
    "        rad,\n",
    "        math.degrees(rad),\n",
    "        expected,\n",
    "    ))"
   ]
  }
 ],
 "metadata": {
  "kernelspec": {
   "display_name": "Python 3",
   "language": "python",
   "name": "python3"
  },
  "language_info": {
   "codemirror_mode": {
    "name": "ipython",
    "version": 3
   },
   "file_extension": ".py",
   "mimetype": "text/x-python",
   "name": "python",
   "nbconvert_exporter": "python",
   "pygments_lexer": "ipython3",
   "version": "3.6.0"
  }
 },
 "nbformat": 4,
 "nbformat_minor": 2
}
