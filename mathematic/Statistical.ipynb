{
 "cells": [
  {
   "cell_type": "markdown",
   "metadata": {},
   "source": [
    "# Averages"
   ]
  },
  {
   "cell_type": "code",
   "execution_count": 1,
   "metadata": {
    "collapsed": false
   },
   "outputs": [
    {
     "name": "stdout",
     "output_type": "stream",
     "text": [
      "5.33\n"
     ]
    }
   ],
   "source": [
    "from statistics import *\n",
    "\n",
    "data = [1, 2, 2, 5, 10, 12]\n",
    "\n",
    "print('{:0.2f}'.format(mean(data)))"
   ]
  },
  {
   "cell_type": "code",
   "execution_count": 3,
   "metadata": {
    "collapsed": false
   },
   "outputs": [
    {
     "name": "stdout",
     "output_type": "stream",
     "text": [
      "3\n"
     ]
    }
   ],
   "source": [
    "from statistics import *\n",
    "\n",
    "data = [1, 3, 3, 5, 10, 12]\n",
    "\n",
    "print(mode(data))"
   ]
  },
  {
   "cell_type": "code",
   "execution_count": 4,
   "metadata": {
    "collapsed": false
   },
   "outputs": [
    {
     "name": "stdout",
     "output_type": "stream",
     "text": [
      "median     : 3.50\n",
      "low        : 2.00\n",
      "high       : 5.00\n"
     ]
    }
   ],
   "source": [
    "from statistics import *\n",
    "\n",
    "data = [1, 2, 2, 5, 10, 12]\n",
    "\n",
    "print('median     : {:0.2f}'.format(median(data)))\n",
    "print('low        : {:0.2f}'.format(median_low(data)))\n",
    "print('high       : {:0.2f}'.format(median_high(data)))"
   ]
  },
  {
   "cell_type": "markdown",
   "metadata": {},
   "source": [
    "# Variance"
   ]
  },
  {
   "cell_type": "code",
   "execution_count": 5,
   "metadata": {
    "collapsed": false
   },
   "outputs": [
    {
     "name": "stdout",
     "output_type": "stream",
     "text": [
      "Basic statistics:\n",
      "  count     :   4\n",
      "  min       :  92.00\n",
      "  max       : 458.00\n",
      "  mean      : 314.75\n",
      "\n",
      "Population variance:\n",
      "  pstdev    : 153.22\n",
      "  pvariance : 23475.69\n",
      "\n",
      "Estimated variance for sample:\n",
      "  count     :   2\n",
      "  stdev     : 113.84\n",
      "  variance  : 12960.50\n"
     ]
    }
   ],
   "source": [
    "from statistics import *\n",
    "import subprocess\n",
    "\n",
    "\n",
    "def get_line_lengths():\n",
    "    cmd = 'wc -l ../[a-z]*/*.ipynb'\n",
    "    out = subprocess.check_output(\n",
    "        cmd, shell=True).decode('utf-8')\n",
    "    for line in out.splitlines():\n",
    "        parts = line.split()\n",
    "        if parts[1].strip().lower() == 'total':\n",
    "            break\n",
    "        nlines = int(parts[0].strip())\n",
    "        if not nlines:\n",
    "            continue  # skip empty files\n",
    "        yield (nlines, parts[1].strip())\n",
    "\n",
    "\n",
    "data = list(get_line_lengths())\n",
    "\n",
    "lengths = [d[0] for d in data]\n",
    "sample = lengths[::2]\n",
    "\n",
    "print('Basic statistics:')\n",
    "print('  count     : {:3d}'.format(len(lengths)))\n",
    "print('  min       : {:6.2f}'.format(min(lengths)))\n",
    "print('  max       : {:6.2f}'.format(max(lengths)))\n",
    "print('  mean      : {:6.2f}'.format(mean(lengths)))\n",
    "\n",
    "print('\\nPopulation variance:')\n",
    "print('  pstdev    : {:6.2f}'.format(pstdev(lengths)))\n",
    "print('  pvariance : {:6.2f}'.format(pvariance(lengths)))\n",
    "\n",
    "print('\\nEstimated variance for sample:')\n",
    "print('  count     : {:3d}'.format(len(sample)))\n",
    "print('  stdev     : {:6.2f}'.format(stdev(sample)))\n",
    "print('  variance  : {:6.2f}'.format(variance(sample)))"
   ]
  },
  {
   "cell_type": "code",
   "execution_count": null,
   "metadata": {
    "collapsed": true
   },
   "outputs": [],
   "source": []
  }
 ],
 "metadata": {
  "kernelspec": {
   "display_name": "Python 3",
   "language": "python",
   "name": "python3"
  },
  "language_info": {
   "codemirror_mode": {
    "name": "ipython",
    "version": 3
   },
   "file_extension": ".py",
   "mimetype": "text/x-python",
   "name": "python",
   "nbconvert_exporter": "python",
   "pygments_lexer": "ipython3",
   "version": "3.6.0"
  }
 },
 "nbformat": 4,
 "nbformat_minor": 2
}
