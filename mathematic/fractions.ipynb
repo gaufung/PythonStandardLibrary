{
 "cells": [
  {
   "cell_type": "markdown",
   "metadata": {},
   "source": [
    "# Creating Fraction Instance"
   ]
  },
  {
   "cell_type": "code",
   "execution_count": 1,
   "metadata": {
    "collapsed": false
   },
   "outputs": [
    {
     "name": "stdout",
     "output_type": "stream",
     "text": [
      "1/2=1/2\n",
      "2/4=1/2\n",
      "3/6=1/2\n"
     ]
    }
   ],
   "source": [
    "import fractions\n",
    "for n, d in [(1,2),(2,4),(3,6)]:\n",
    "    f = fractions.Fraction(n,d)\n",
    "    print('{}/{}={}'.format(n,d,f))"
   ]
  },
  {
   "cell_type": "code",
   "execution_count": 2,
   "metadata": {
    "collapsed": false
   },
   "outputs": [
    {
     "name": "stdout",
     "output_type": "stream",
     "text": [
      "1/2=1/2\n",
      "2/4=1/2\n",
      "3/6=1/2\n"
     ]
    }
   ],
   "source": [
    "import fractions\n",
    "for s in ['1/2', '2/4', '3/6']:\n",
    "    f = fractions.Fraction(s)\n",
    "    print('{}={}'.format(s, f))"
   ]
  },
  {
   "cell_type": "code",
   "execution_count": 4,
   "metadata": {
    "collapsed": false
   },
   "outputs": [
    {
     "name": "stdout",
     "output_type": "stream",
     "text": [
      " 0.5=1/2\n",
      " 1.5=3/2\n",
      " 2.0=2\n",
      "5e-1=1/2\n"
     ]
    }
   ],
   "source": [
    "import fractions\n",
    "for s in ['0.5', '1.5', '2.0', '5e-1']:\n",
    "    f = fractions.Fraction(s)\n",
    "    print('{0:>4}={1}'.format(s, f))"
   ]
  },
  {
   "cell_type": "code",
   "execution_count": 5,
   "metadata": {
    "collapsed": false
   },
   "outputs": [
    {
     "name": "stdout",
     "output_type": "stream",
     "text": [
      "0.1=3602879701896397/36028797018963968\n",
      "0.5=1/2\n",
      "1.5=3/2\n",
      "2.0=2\n"
     ]
    }
   ],
   "source": [
    "import fractions\n",
    "for v in [0.1, 0.5, 1.5, 2.0]:\n",
    "    print('{}={}'.format(v, fractions.Fraction(v)))"
   ]
  },
  {
   "cell_type": "code",
   "execution_count": 6,
   "metadata": {
    "collapsed": false
   },
   "outputs": [
    {
     "name": "stdout",
     "output_type": "stream",
     "text": [
      "0.1=1/10\n",
      "0.5=1/2\n",
      "1.5=3/2\n",
      "2.0=2\n"
     ]
    }
   ],
   "source": [
    "import decimal\n",
    "import fractions\n",
    "values= [\n",
    "    decimal.Decimal('0.1'),\n",
    "    decimal.Decimal('0.5'),\n",
    "    decimal.Decimal('1.5'),\n",
    "    decimal.Decimal('2.0'),\n",
    "]\n",
    "for v in values:\n",
    "    print('{}={}'.format(v, fractions.Fraction(v)))"
   ]
  },
  {
   "cell_type": "markdown",
   "metadata": {},
   "source": [
    "# Arithmetic"
   ]
  },
  {
   "cell_type": "code",
   "execution_count": 8,
   "metadata": {
    "collapsed": false
   },
   "outputs": [
    {
     "name": "stdout",
     "output_type": "stream",
     "text": [
      "1/2 + 3/4 = 5/4\n",
      "1/2 - 3/4 = -1/4\n",
      "1/2 * 3/4 = 3/8\n",
      "1/2 / 3/4 = 2/3\n"
     ]
    }
   ],
   "source": [
    "import fractions\n",
    "f1 = fractions.Fraction(1,2)\n",
    "f2 = fractions.Fraction(3,4)\n",
    "print('{} + {} = {}'.format(f1, f2, f1 + f2))\n",
    "print('{} - {} = {}'.format(f1, f2, f1 - f2))\n",
    "print('{} * {} = {}'.format(f1, f2, f1 * f2))\n",
    "print('{} / {} = {}'.format(f1, f2, f1 / f2))"
   ]
  },
  {
   "cell_type": "markdown",
   "metadata": {},
   "source": [
    "# Approximating Values"
   ]
  },
  {
   "cell_type": "code",
   "execution_count": 9,
   "metadata": {
    "collapsed": false
   },
   "outputs": [
    {
     "name": "stdout",
     "output_type": "stream",
     "text": [
      "PI     = 3.141592653589793\n",
      "No limit= 3141592653589793/1000000000000000\n"
     ]
    }
   ],
   "source": [
    "import fractions\n",
    "import math\n",
    "print('PI     =', math.pi)\n",
    "f_pi = fractions.Fraction(str(math.pi))\n",
    "print('No limit=', f_pi)"
   ]
  },
  {
   "cell_type": "code",
   "execution_count": 10,
   "metadata": {
    "collapsed": false
   },
   "outputs": [
    {
     "name": "stdout",
     "output_type": "stream",
     "text": [
      "       1=3\n",
      "       6=19/6\n",
      "      11=22/7\n",
      "      60=179/57\n",
      "      70=201/64\n",
      "      90=267/85\n",
      "     100=311/99\n"
     ]
    }
   ],
   "source": [
    "for i in [1,6,11,60,70,90,100]:\n",
    "    limited = f_pi.limit_denominator(i)\n",
    "    print('{0:8}={1}'.format(i, limited))"
   ]
  }
 ],
 "metadata": {
  "kernelspec": {
   "display_name": "Python 3",
   "language": "python",
   "name": "python3"
  },
  "language_info": {
   "codemirror_mode": {
    "name": "ipython",
    "version": 3
   },
   "file_extension": ".py",
   "mimetype": "text/x-python",
   "name": "python",
   "nbconvert_exporter": "python",
   "pygments_lexer": "ipython3",
   "version": "3.6.0"
  }
 },
 "nbformat": 4,
 "nbformat_minor": 2
}
