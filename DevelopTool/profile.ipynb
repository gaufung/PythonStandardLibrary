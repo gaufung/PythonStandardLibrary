{
 "cells": [
  {
   "cell_type": "markdown",
   "metadata": {},
   "source": [
    "he profile module provides APIs for collecting and analyzing statistics about how Python source consumes processor resources.\n",
    "\n"
   ]
  },
  {
   "cell_type": "markdown",
   "metadata": {},
   "source": [
    "# Running the Profiler"
   ]
  },
  {
   "cell_type": "code",
   "execution_count": 1,
   "metadata": {
    "collapsed": false
   },
   "outputs": [
    {
     "name": "stdout",
     "output_type": "stream",
     "text": [
      "[0, 1, 1, 2, 3, 5, 8, 13, 21, 34, 55, 89, 144, 233, 377, 610, 987, 1597, 2584, 4181, 6765]\n",
      "\n",
      "         57402 function calls (112 primitive calls) in 0.124 seconds\n",
      "\n",
      "   Ordered by: standard name\n",
      "\n",
      "   ncalls  tottime  percall  cumtime  percall filename:lineno(function)\n",
      "        4    0.000    0.000    0.000    0.000 :0(acquire)\n",
      "       21    0.000    0.000    0.000    0.000 :0(append)\n",
      "        1    0.000    0.000    0.124    0.124 :0(exec)\n",
      "       20    0.000    0.000    0.000    0.000 :0(extend)\n",
      "        3    0.000    0.000    0.000    0.000 :0(getpid)\n",
      "        3    0.000    0.000    0.000    0.000 :0(isinstance)\n",
      "        2    0.000    0.000    0.000    0.000 :0(print)\n",
      "        1    0.000    0.000    0.000    0.000 :0(setprofile)\n",
      "        4    0.000    0.000    0.000    0.000 :0(urandom)\n",
      " 57291/21    0.124    0.000    0.124    0.006 <ipython-input-1-10e2efe3abf3>:2(fib)\n",
      "     21/1    0.000    0.000    0.124    0.124 <ipython-input-1-10e2efe3abf3>:8(fib_seq)\n",
      "        1    0.000    0.000    0.124    0.124 <string>:1(<module>)\n",
      "        4    0.000    0.000    0.000    0.000 iostream.py:180(schedule)\n",
      "        3    0.000    0.000    0.000    0.000 iostream.py:285(_is_master_process)\n",
      "        3    0.000    0.000    0.000    0.000 iostream.py:298(_schedule_flush)\n",
      "        3    0.000    0.000    0.000    0.000 iostream.py:361(write)\n",
      "        4    0.000    0.000    0.000    0.000 iostream.py:89(_event_pipe)\n",
      "        1    0.000    0.000    0.124    0.124 profile:0(print(fib_seq(20));print())\n",
      "        0    0.000             0.000          profile:0(profiler)\n",
      "        4    0.000    0.000    0.000    0.000 threading.py:1062(_wait_for_tstate_lock)\n",
      "        4    0.000    0.000    0.000    0.000 threading.py:1104(is_alive)\n",
      "        4    0.000    0.000    0.000    0.000 threading.py:506(is_set)\n",
      "\n",
      "\n"
     ]
    }
   ],
   "source": [
    "import profile\n",
    "def fib(n):\n",
    "    if n <2:\n",
    "        return n\n",
    "    else:\n",
    "        return fib(n-2) + fib(n-1)\n",
    "\n",
    "def fib_seq(n):\n",
    "    seq = []\n",
    "    if n > 0:\n",
    "        seq.extend(fib_seq(n-1))\n",
    "    seq.append(fib(n))\n",
    "    return seq\n",
    "\n",
    "profile.run('print(fib_seq(20));print()')"
   ]
  },
  {
   "cell_type": "code",
   "execution_count": 2,
   "metadata": {
    "collapsed": false
   },
   "outputs": [
    {
     "name": "stdout",
     "output_type": "stream",
     "text": [
      "[0, 1, 1, 2, 3, 5, 8, 13, 21, 34, 55, 89, 144, 233, 377, 610, 987, 1597, 2584, 4181, 6765]\n",
      "\n",
      "         132 function calls (112 primitive calls) in 0.001 seconds\n",
      "\n",
      "   Ordered by: standard name\n",
      "\n",
      "   ncalls  tottime  percall  cumtime  percall filename:lineno(function)\n",
      "        4    0.000    0.000    0.000    0.000 :0(acquire)\n",
      "       21    0.000    0.000    0.000    0.000 :0(append)\n",
      "        1    0.000    0.000    0.001    0.001 :0(exec)\n",
      "       20    0.000    0.000    0.000    0.000 :0(extend)\n",
      "        3    0.000    0.000    0.000    0.000 :0(getpid)\n",
      "        3    0.000    0.000    0.000    0.000 :0(isinstance)\n",
      "        2    0.000    0.000    0.001    0.000 :0(print)\n",
      "        1    0.000    0.000    0.000    0.000 :0(setprofile)\n",
      "        4    0.000    0.000    0.000    0.000 :0(urandom)\n",
      "     21/1    0.000    0.000    0.000    0.000 <ipython-input-2-65d58e243a01>:17(fib_seq)\n",
      "       21    0.000    0.000    0.000    0.000 <ipython-input-2-65d58e243a01>:5(fib)\n",
      "        1    0.000    0.000    0.001    0.001 <string>:1(<module>)\n",
      "        4    0.001    0.000    0.001    0.000 iostream.py:180(schedule)\n",
      "        3    0.000    0.000    0.000    0.000 iostream.py:285(_is_master_process)\n",
      "        3    0.000    0.000    0.000    0.000 iostream.py:298(_schedule_flush)\n",
      "        3    0.000    0.000    0.001    0.000 iostream.py:361(write)\n",
      "        4    0.000    0.000    0.000    0.000 iostream.py:89(_event_pipe)\n",
      "        1    0.000    0.000    0.001    0.001 profile:0(print(fib_seq(20));print())\n",
      "        0    0.000             0.000          profile:0(profiler)\n",
      "        4    0.000    0.000    0.000    0.000 threading.py:1062(_wait_for_tstate_lock)\n",
      "        4    0.000    0.000    0.000    0.000 threading.py:1104(is_alive)\n",
      "        4    0.000    0.000    0.000    0.000 threading.py:506(is_set)\n",
      "\n",
      "\n"
     ]
    }
   ],
   "source": [
    "import functools\n",
    "import profile\n",
    "\n",
    "\n",
    "@functools.lru_cache(maxsize=None)\n",
    "def fib(n):\n",
    "    # from literateprograms.org\n",
    "    # http://bit.ly/hlOQ5m\n",
    "    if n == 0:\n",
    "        return 0\n",
    "    elif n == 1:\n",
    "        return 1\n",
    "    else:\n",
    "        return fib(n - 1) + fib(n - 2)\n",
    "\n",
    "\n",
    "def fib_seq(n):\n",
    "    seq = []\n",
    "    if n > 0:\n",
    "        seq.extend(fib_seq(n - 1))\n",
    "    seq.append(fib(n))\n",
    "    return seq\n",
    "\n",
    "profile.run('print(fib_seq(20));print()')"
   ]
  },
  {
   "cell_type": "code",
   "execution_count": 3,
   "metadata": {
    "collapsed": false
   },
   "outputs": [
    {
     "name": "stdout",
     "output_type": "stream",
     "text": [
      "[0, 1, 1, 2, 3, 5, 8, 13, 21, 34, 55, 89, 144, 233, 377, 610, 987, 1597, 2584, 4181, 6765]\n",
      "\n",
      "         111 function calls (91 primitive calls) in 0.001 seconds\n",
      "\n",
      "   Ordered by: standard name\n",
      "\n",
      "   ncalls  tottime  percall  cumtime  percall filename:lineno(function)\n",
      "        4    0.000    0.000    0.000    0.000 :0(acquire)\n",
      "       21    0.000    0.000    0.000    0.000 :0(append)\n",
      "        1    0.000    0.000    0.001    0.001 :0(exec)\n",
      "       20    0.000    0.000    0.000    0.000 :0(extend)\n",
      "        3    0.000    0.000    0.000    0.000 :0(getpid)\n",
      "        3    0.000    0.000    0.000    0.000 :0(isinstance)\n",
      "        2    0.000    0.000    0.001    0.000 :0(print)\n",
      "        1    0.000    0.000    0.000    0.000 :0(setprofile)\n",
      "        4    0.000    0.000    0.000    0.000 :0(urandom)\n",
      "     21/1    0.000    0.000    0.000    0.000 <ipython-input-2-65d58e243a01>:17(fib_seq)\n",
      "        1    0.000    0.000    0.001    0.001 <string>:1(<module>)\n",
      "        4    0.000    0.000    0.001    0.000 iostream.py:180(schedule)\n",
      "        3    0.000    0.000    0.000    0.000 iostream.py:285(_is_master_process)\n",
      "        3    0.000    0.000    0.000    0.000 iostream.py:298(_schedule_flush)\n",
      "        3    0.000    0.000    0.001    0.000 iostream.py:361(write)\n",
      "        4    0.000    0.000    0.000    0.000 iostream.py:89(_event_pipe)\n",
      "        1    0.000    0.000    0.001    0.001 profile:0(print(fib_seq(n)); print())\n",
      "        0    0.000             0.000          profile:0(profiler)\n",
      "        4    0.000    0.000    0.000    0.000 threading.py:1062(_wait_for_tstate_lock)\n",
      "        4    0.000    0.000    0.000    0.000 threading.py:1104(is_alive)\n",
      "        4    0.000    0.000    0.000    0.000 threading.py:506(is_set)\n",
      "\n",
      "\n"
     ]
    }
   ],
   "source": [
    "profile.runctx('print(fib_seq(n)); print()', globals(), {'n':20})"
   ]
  },
  {
   "cell_type": "markdown",
   "metadata": {},
   "source": [
    "# Pstas:Saving and working with statistics"
   ]
  },
  {
   "cell_type": "code",
   "execution_count": 4,
   "metadata": {
    "collapsed": false
   },
   "outputs": [
    {
     "name": "stdout",
     "output_type": "stream",
     "text": [
      "0 [0, 1, 1, 2, 3, 5, 8, 13, 21, 34, 55, 89, 144, 233, 377, 610, 987, 1597, 2584, 4181, 6765]\n",
      "1 [0, 1, 1, 2, 3, 5, 8, 13, 21, 34, 55, 89, 144, 233, 377, 610, 987, 1597, 2584, 4181, 6765]\n",
      "2 [0, 1, 1, 2, 3, 5, 8, 13, 21, 34, 55, 89, 144, 233, 377, 610, 987, 1597, 2584, 4181, 6765]\n",
      "3 [0, 1, 1, 2, 3, 5, 8, 13, 21, 34, 55, 89, 144, 233, 377, 610, 987, 1597, 2584, 4181, 6765]\n",
      "4 [0, 1, 1, 2, 3, 5, 8, 13, 21, 34, 55, 89, 144, 233, 377, 610, 987, 1597, 2584, 4181, 6765]\n",
      "Sat Sep  9 09:56:16 2017    profile_stats_0.stats\n",
      "Sat Sep  9 09:56:16 2017    profile_stats_1.stats\n",
      "Sat Sep  9 09:56:16 2017    profile_stats_2.stats\n",
      "Sat Sep  9 09:56:16 2017    profile_stats_3.stats\n",
      "Sat Sep  9 09:56:16 2017    profile_stats_4.stats\n",
      "\n",
      "         577 function calls (477 primitive calls) in 0.002 seconds\n",
      "\n",
      "   Ordered by: cumulative time\n",
      "\n",
      "   ncalls  tottime  percall  cumtime  percall filename:lineno(function)\n",
      "        5    0.000    0.000    0.002    0.000 {built-in method builtins.exec}\n",
      "        5    0.000    0.000    0.002    0.000 <string>:1(<module>)\n",
      "        5    0.000    0.000    0.002    0.000 {built-in method builtins.print}\n",
      "       20    0.000    0.000    0.002    0.000 iostream.py:361(write)\n",
      "       21    0.000    0.000    0.001    0.000 iostream.py:180(schedule)\n",
      "       21    0.001    0.000    0.001    0.000 {built-in method posix.urandom}\n",
      "    105/5    0.000    0.000    0.000    0.000 <ipython-input-2-65d58e243a01>:17(fib_seq)\n",
      "       21    0.000    0.000    0.000    0.000 threading.py:1104(is_alive)\n",
      "       20    0.000    0.000    0.000    0.000 iostream.py:298(_schedule_flush)\n",
      "       21    0.000    0.000    0.000    0.000 threading.py:1062(_wait_for_tstate_lock)\n",
      "       20    0.000    0.000    0.000    0.000 iostream.py:285(_is_master_process)\n",
      "       21    0.000    0.000    0.000    0.000 {method 'acquire' of '_thread.lock' objects}\n",
      "       21    0.000    0.000    0.000    0.000 iostream.py:89(_event_pipe)\n",
      "      100    0.000    0.000    0.000    0.000 {method 'extend' of 'list' objects}\n",
      "      105    0.000    0.000    0.000    0.000 {method 'append' of 'list' objects}\n",
      "       21    0.000    0.000    0.000    0.000 threading.py:506(is_set)\n",
      "       20    0.000    0.000    0.000    0.000 {built-in method posix.getpid}\n",
      "       20    0.000    0.000    0.000    0.000 {built-in method builtins.isinstance}\n",
      "        5    0.000    0.000    0.000    0.000 {method 'disable' of '_lsprof.Profiler' objects}\n",
      "\n",
      "\n"
     ]
    },
    {
     "data": {
      "text/plain": [
       "<pstats.Stats at 0x103397668>"
      ]
     },
     "execution_count": 4,
     "metadata": {},
     "output_type": "execute_result"
    }
   ],
   "source": [
    "import cProfile as profile\n",
    "import pstats\n",
    "\n",
    "# Create 5 set of stats\n",
    "for i in range(5):\n",
    "    filename = 'profile_stats_{}.stats'.format(i)\n",
    "    profile.run('print({}, fib_seq(20))'.format(i), filename)\n",
    "\n",
    "# Read all 5 stats files into a single object\n",
    "stats = pstats.Stats('profile_stats_0.stats')\n",
    "for i in range(1, 5):\n",
    "    stats.add('profile_stats_{}.stats'.format(i))\n",
    "\n",
    "# Clean up filenames for the report\n",
    "stats.strip_dirs()\n",
    "\n",
    "# Sort the statistics by the cumulative time spent\n",
    "# in the function\n",
    "stats.sort_stats('cumulative')\n",
    "\n",
    "stats.print_stats()"
   ]
  }
 ],
 "metadata": {
  "kernelspec": {
   "display_name": "Python 3",
   "language": "python",
   "name": "python3"
  },
  "language_info": {
   "codemirror_mode": {
    "name": "ipython",
    "version": 3
   },
   "file_extension": ".py",
   "mimetype": "text/x-python",
   "name": "python",
   "nbconvert_exporter": "python",
   "pygments_lexer": "ipython3",
   "version": "3.6.0"
  }
 },
 "nbformat": 4,
 "nbformat_minor": 2
}
