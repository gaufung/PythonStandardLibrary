{
 "cells": [
  {
   "cell_type": "markdown",
   "metadata": {},
   "source": [
    "# 1 partial"
   ]
  },
  {
   "cell_type": "code",
   "execution_count": 5,
   "metadata": {
    "collapsed": false
   },
   "outputs": [
    {
     "name": "stdout",
     "output_type": "stream",
     "text": [
      "myfunc:\n",
      " object: <function myfunc at 0x10cc0f950>\n",
      " __name__: myfunc\n",
      " __doc__ 'Docstring for myfunc'\n",
      "raw wrapper:\n",
      " object: functools.partial(<function myfunc at 0x10cc0f950>, b=4)\n",
      " __name__: (no __name__)\n",
      " __doc__ 'partial(func, *args, **keywords) - new function with partial application\\n    of the given arguments and keywords.\\n'\n",
      "Updating wrapper:\n",
      " assign: ('__module__', '__name__', '__qualname__', '__doc__', '__annotations__')\n",
      " update: ('__dict__',)\n",
      "\n",
      "updated wrapper:\n",
      " object: functools.partial(<function myfunc at 0x10cc0f950>, b=4)\n",
      " __name__: myfunc\n",
      " __doc__ 'Docstring for myfunc'\n"
     ]
    }
   ],
   "source": [
    "import functools\n",
    "def myfunc(a, b=2):\n",
    "    '''Docstring for myfunc'''\n",
    "    print('called myfunc with ', (a, b))\n",
    "\n",
    "def show_details(name, f, is_partical=False):\n",
    "    '''Show details of a callable function'''\n",
    "    print('{}:'.format(name))\n",
    "    print(' object:', f)\n",
    "    print(' __name__:', end=' ')\n",
    "    try:\n",
    "        print(f.__name__)\n",
    "    except AttributeError:\n",
    "        print('(no __name__)')\n",
    "    print(' __doc__', repr(f.__doc__))\n",
    "    return\n",
    "\n",
    "show_details('myfunc', myfunc)\n",
    "p1 = functools.partial(myfunc, b=4)\n",
    "show_detail('raw wrapper', p1)\n",
    "print('Updating wrapper:')\n",
    "print(' assign:', functools.WRAPPER_ASSIGNMENTS)\n",
    "print(' update:', functools.WRAPPER_UPDATES)\n",
    "print()\n",
    "functools.update_wrapper(p1, myfunc)\n",
    "show_details('updated wrapper', p1)"
   ]
  },
  {
   "cell_type": "markdown",
   "metadata": {},
   "source": [
    "besides function, *partial* can also be used callables"
   ]
  },
  {
   "cell_type": "code",
   "execution_count": 7,
   "metadata": {
    "collapsed": false
   },
   "outputs": [
    {
     "name": "stdout",
     "output_type": "stream",
     "text": [
      "instance:\n",
      " object: <__main__.Myclass object at 0x10cb3b940>\n",
      " __name__: (no __name__)\n",
      " __doc__ None\n",
      " called object with (<__main__.Myclass object at 0x10cb3b940>, 'e goes here', 6)\n",
      "\n",
      "instance wrapper:\n",
      " object: <__main__.Myclass object at 0x10cb3b940>\n",
      " __name__: (no __name__)\n",
      " __doc__ None\n",
      " called object with (<__main__.Myclass object at 0x10cb3b940>, 'default', 6)\n"
     ]
    }
   ],
   "source": [
    "class Myclass(object):\n",
    "    def __call__(self, e, f=6):\n",
    "        '''Docstring for Myclass.__call__'''\n",
    "        print(' called object with', (self, e, f))\n",
    "\n",
    "o = Myclass()\n",
    "show_details('instance', o)\n",
    "o('e goes here')\n",
    "print()\n",
    "p = functools.partial(o, e='default')\n",
    "functools.update_wrapper(p, o)\n",
    "show_details('instance wrapper', o)\n",
    "p()"
   ]
  },
  {
   "cell_type": "markdown",
   "metadata": {},
   "source": [
    "# 2 Comparison"
   ]
  },
  {
   "cell_type": "code",
   "execution_count": 14,
   "metadata": {
    "collapsed": false
   },
   "outputs": [
    {
     "name": "stdout",
     "output_type": "stream",
     "text": [
      "Methods:\n",
      "\n",
      "[('__eq__', <function MyObject.__eq__ at 0x10cc447b8>),\n",
      " ('__ge__', <function _ge_from_gt at 0x10b0277b8>),\n",
      " ('__gt__', <function MyObject.__gt__ at 0x10cc44840>),\n",
      " ('__init__', <function MyObject.__init__ at 0x10cc44620>),\n",
      " ('__le__', <function _le_from_gt at 0x10b027840>),\n",
      " ('__lt__', <function _lt_from_gt at 0x10b027730>)]\n",
      "\n",
      "Comparisons:\n",
      "\n",
      "a < b :\n",
      "  testing __gt__(1, 2)\n",
      "  testing __eq__(1, 2)\n",
      "  result of a < b: True\n",
      "\n",
      "a <= b:\n",
      "  testing __gt__(1, 2)\n",
      "  result of a <= b: True\n",
      "\n",
      "a == b:\n",
      "  testing __eq__(1, 2)\n",
      "  result of a == b: False\n",
      "\n",
      "a >= b:\n",
      "  testing __gt__(1, 2)\n",
      "  testing __eq__(1, 2)\n",
      "  result of a >= b: False\n",
      "\n",
      "a > b :\n",
      "  testing __gt__(1, 2)\n",
      "  result of a > b: False\n"
     ]
    }
   ],
   "source": [
    "import functools\n",
    "import inspect\n",
    "from pprint import pprint\n",
    "\n",
    "\n",
    "@functools.total_ordering\n",
    "class MyObject(object):\n",
    "\n",
    "    def __init__(self, val):\n",
    "        self.val = val\n",
    "\n",
    "    def __eq__(self, other):\n",
    "        print('  testing __eq__({}, {})'.format(\n",
    "            self.val, other.val))\n",
    "        return self.val == other.val\n",
    "\n",
    "    def __gt__(self, other):\n",
    "        print('  testing __gt__({}, {})'.format(\n",
    "            self.val, other.val))\n",
    "        return self.val > other.val\n",
    "\n",
    "\n",
    "print('Methods:\\n')\n",
    "pprint(inspect.getmembers(MyObject, inspect.isfunction))\n",
    "\n",
    "a = MyObject(1)\n",
    "b = MyObject(2)\n",
    "\n",
    "print('\\nComparisons:')\n",
    "for expr in ['a < b', 'a <= b', 'a == b', 'a >= b', 'a > b']:\n",
    "    print('\\n{:<6}:'.format(expr))\n",
    "    result = eval(expr)\n",
    "    print('  result of {}: {}'.format(expr, result))"
   ]
  },
  {
   "cell_type": "markdown",
   "metadata": {},
   "source": [
    "Sort() function in Python 3 supports **cmp** no longer."
   ]
  },
  {
   "cell_type": "code",
   "execution_count": 15,
   "metadata": {
    "collapsed": false
   },
   "outputs": [
    {
     "name": "stdout",
     "output_type": "stream",
     "text": [
      "key_wrapper(MyObject(5)) -> <functools.KeyWrapper object at 0x10caeb590>\n",
      "key_wrapper(MyObject(4)) -> <functools.KeyWrapper object at 0x10caeb7d0>\n",
      "key_wrapper(MyObject(3)) -> <functools.KeyWrapper object at 0x10caebaf0>\n",
      "key_wrapper(MyObject(2)) -> <functools.KeyWrapper object at 0x10caeb990>\n",
      "key_wrapper(MyObject(1)) -> <functools.KeyWrapper object at 0x10caebc90>\n",
      "comparing MyObject(4) and MyObject(5)\n",
      "comparing MyObject(3) and MyObject(4)\n",
      "comparing MyObject(2) and MyObject(3)\n",
      "comparing MyObject(1) and MyObject(2)\n",
      "MyObject(1)\n",
      "MyObject(2)\n",
      "MyObject(3)\n",
      "MyObject(4)\n",
      "MyObject(5)\n"
     ]
    }
   ],
   "source": [
    "import functools\n",
    "\n",
    "\n",
    "class MyObject:\n",
    "\n",
    "    def __init__(self, val):\n",
    "        self.val = val\n",
    "\n",
    "    def __str__(self):\n",
    "        return 'MyObject({})'.format(self.val)\n",
    "\n",
    "\n",
    "def compare_obj(a, b):\n",
    "    \"\"\"Old-style comparison function.\n",
    "    \"\"\"\n",
    "    print('comparing {} and {}'.format(a, b))\n",
    "    if a.val < b.val:\n",
    "        return -1\n",
    "    elif a.val > b.val:\n",
    "        return 1\n",
    "    return 0\n",
    "\n",
    "\n",
    "# Make a key function using cmp_to_key()\n",
    "get_key = functools.cmp_to_key(compare_obj)\n",
    "\n",
    "def get_key_wrapper(o):\n",
    "    \"Wrapper function for get_key to allow for print statements.\"\n",
    "    new_key = get_key(o)\n",
    "    print('key_wrapper({}) -> {!r}'.format(o, new_key))\n",
    "    return new_key\n",
    "\n",
    "\n",
    "objs = [MyObject(x) for x in range(5, 0, -1)]\n",
    "\n",
    "for o in sorted(objs, key=get_key_wrapper):\n",
    "    print(o)"
   ]
  },
  {
   "cell_type": "markdown",
   "metadata": {},
   "source": [
    "# 3 Caching"
   ]
  },
  {
   "cell_type": "code",
   "execution_count": 16,
   "metadata": {
    "collapsed": false
   },
   "outputs": [
    {
     "name": "stdout",
     "output_type": "stream",
     "text": [
      "First set of calls:\n",
      "expensive(0, 0)\n",
      "expensive(0, 1)\n",
      "expensive(1, 0)\n",
      "expensive(1, 1)\n",
      "CacheInfo(hits=0, misses=4, maxsize=128, currsize=4)\n",
      "\n",
      "Second set of calls:\n",
      "expensive(0, 2)\n",
      "expensive(1, 2)\n",
      "expensive(2, 0)\n",
      "expensive(2, 1)\n",
      "expensive(2, 2)\n",
      "CacheInfo(hits=4, misses=9, maxsize=128, currsize=9)\n",
      "\n",
      "Clearing cache:\n",
      "CacheInfo(hits=0, misses=0, maxsize=128, currsize=0)\n",
      "\n",
      "Third set of calls:\n",
      "expensive(0, 0)\n",
      "expensive(0, 1)\n",
      "expensive(1, 0)\n",
      "expensive(1, 1)\n",
      "CacheInfo(hits=0, misses=4, maxsize=128, currsize=4)\n"
     ]
    }
   ],
   "source": [
    "import functools\n",
    "\n",
    "\n",
    "@functools.lru_cache()\n",
    "def expensive(a, b):\n",
    "    print('expensive({}, {})'.format(a, b))\n",
    "    return a * b\n",
    "\n",
    "\n",
    "MAX = 2\n",
    "\n",
    "print('First set of calls:')\n",
    "for i in range(MAX):\n",
    "    for j in range(MAX):\n",
    "        expensive(i, j)\n",
    "print(expensive.cache_info())\n",
    "\n",
    "print('\\nSecond set of calls:')\n",
    "for i in range(MAX + 1):\n",
    "    for j in range(MAX + 1):\n",
    "        expensive(i, j)\n",
    "print(expensive.cache_info())\n",
    "\n",
    "print('\\nClearing cache:')\n",
    "expensive.cache_clear()\n",
    "print(expensive.cache_info())\n",
    "\n",
    "print('\\nThird set of calls:')\n",
    "for i in range(MAX):\n",
    "    for j in range(MAX):\n",
    "        expensive(i, j)\n",
    "print(expensive.cache_info())"
   ]
  },
  {
   "cell_type": "markdown",
   "metadata": {},
   "source": [
    "To prevent the cache from growing without bounds in a long-running process, it is given a maximum size. The default is 128 entries, but that can be changed for each cache using the maxsize argument."
   ]
  },
  {
   "cell_type": "markdown",
   "metadata": {},
   "source": [
    "# 4 Reducing"
   ]
  },
  {
   "cell_type": "code",
   "execution_count": 22,
   "metadata": {
    "collapsed": false
   },
   "outputs": [
    {
     "name": "stdout",
     "output_type": "stream",
     "text": [
      "range(1, 5)\n",
      "do_reduce(1,2)\n",
      "do_reduce(3,3)\n",
      "do_reduce(6,4)\n",
      "result is 10\n"
     ]
    }
   ],
   "source": [
    "import functools\n",
    "def do_reduce(a,b):\n",
    "    print('do_reduce({},{})'.format(a, b))\n",
    "    return a+b\n",
    "\n",
    "data = range(1, 5)\n",
    "print(data)\n",
    "result = functools.reduce(do_reduce, data)\n",
    "print('result is {}'.format(result))"
   ]
  },
  {
   "cell_type": "markdown",
   "metadata": {},
   "source": [
    "with initializes"
   ]
  },
  {
   "cell_type": "code",
   "execution_count": 23,
   "metadata": {
    "collapsed": false
   },
   "outputs": [
    {
     "name": "stdout",
     "output_type": "stream",
     "text": [
      "range(1, 5)\n",
      "do_reduce(99, 1)\n",
      "do_reduce(100, 2)\n",
      "do_reduce(102, 3)\n",
      "do_reduce(105, 4)\n",
      "result: 109\n"
     ]
    }
   ],
   "source": [
    "import functools\n",
    "\n",
    "\n",
    "def do_reduce(a, b):\n",
    "    print('do_reduce({}, {})'.format(a, b))\n",
    "    return a + b\n",
    "\n",
    "\n",
    "data = range(1, 5)\n",
    "print(data)\n",
    "result = functools.reduce(do_reduce, data, 99)\n",
    "print('result: {}'.format(result))"
   ]
  },
  {
   "cell_type": "markdown",
   "metadata": {},
   "source": [
    "# 5 Generic Method"
   ]
  },
  {
   "cell_type": "code",
   "execution_count": 24,
   "metadata": {
    "collapsed": false
   },
   "outputs": [
    {
     "name": "stdout",
     "output_type": "stream",
     "text": [
      "default myfunc('string argument')\n",
      "myfunc_int(1)\n",
      "default myfunc(2.3)\n",
      "myfunc_list()\n",
      "  a\n",
      "  b\n",
      "  c\n"
     ]
    }
   ],
   "source": [
    "import functools\n",
    "\n",
    "\n",
    "@functools.singledispatch\n",
    "def myfunc(arg):\n",
    "    print('default myfunc({!r})'.format(arg))\n",
    "\n",
    "\n",
    "@myfunc.register(int)\n",
    "def myfunc_int(arg):\n",
    "    print('myfunc_int({})'.format(arg))\n",
    "\n",
    "\n",
    "@myfunc.register(list)\n",
    "def myfunc_list(arg):\n",
    "    print('myfunc_list()')\n",
    "    for item in arg:\n",
    "        print('  {}'.format(item))\n",
    "\n",
    "\n",
    "myfunc('string argument')\n",
    "myfunc(1)\n",
    "myfunc(2.3)\n",
    "myfunc(['a', 'b', 'c'])"
   ]
  }
 ],
 "metadata": {
  "kernelspec": {
   "display_name": "Python 3",
   "language": "python",
   "name": "python3"
  },
  "language_info": {
   "codemirror_mode": {
    "name": "ipython",
    "version": 3
   },
   "file_extension": ".py",
   "mimetype": "text/x-python",
   "name": "python",
   "nbconvert_exporter": "python",
   "pygments_lexer": "ipython3",
   "version": "3.6.0"
  }
 },
 "nbformat": 4,
 "nbformat_minor": 2
}
