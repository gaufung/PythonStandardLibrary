{
 "cells": [
  {
   "cell_type": "markdown",
   "metadata": {},
   "source": [
    "# 1 Logical Operator"
   ]
  },
  {
   "cell_type": "code",
   "execution_count": 2,
   "metadata": {
    "collapsed": false
   },
   "outputs": [
    {
     "name": "stdout",
     "output_type": "stream",
     "text": [
      "not_(a) False\n",
      "truth(a) True\n",
      "is_(a, b) False\n",
      "is_not(a, b) True\n"
     ]
    }
   ],
   "source": [
    "from operator import *\n",
    "a = -1 \n",
    "b = 5\n",
    "print('not_(a)', not_(a))\n",
    "print('truth(a)', truth(a))\n",
    "print('is_(a, b)', is_(a,b))\n",
    "print('is_not(a, b)', is_not(a,b))"
   ]
  },
  {
   "cell_type": "code",
   "execution_count": 3,
   "metadata": {
    "collapsed": false
   },
   "outputs": [
    {
     "name": "stdout",
     "output_type": "stream",
     "text": [
      "a = 1\n",
      "b = 5.0\n",
      "lt(a, b): True\n",
      "le(a, b): True\n",
      "eq(a, b): False\n",
      "ne(a, b): True\n",
      "ge(a, b): False\n",
      "gt(a, b): False\n"
     ]
    }
   ],
   "source": [
    "from operator import *\n",
    "\n",
    "a = 1\n",
    "b = 5.0\n",
    "\n",
    "print('a =', a)\n",
    "print('b =', b)\n",
    "for func in (lt, le, eq, ne, ge, gt):\n",
    "    print('{}(a, b): {}'.format(func.__name__, func(a, b)))"
   ]
  },
  {
   "cell_type": "markdown",
   "metadata": {},
   "source": [
    "# 2 Arithmetic Operators"
   ]
  },
  {
   "cell_type": "code",
   "execution_count": 4,
   "metadata": {
    "collapsed": false
   },
   "outputs": [
    {
     "name": "stdout",
     "output_type": "stream",
     "text": [
      "a = -1\n",
      "b = 5.0\n",
      "c = 2\n",
      "d = 6\n",
      "\n",
      "Positive/Negative:\n",
      "abs(a): 1\n",
      "neg(a): 1\n",
      "neg(b): -5.0\n",
      "pos(a): -1\n",
      "pos(b): 5.0\n",
      "\n",
      "Arithmetic:\n",
      "add(a, b)     : 4.0\n",
      "floordiv(a, b): -1.0\n",
      "floordiv(d, c): 3\n",
      "mod(a, b)     : 4.0\n",
      "mul(a, b)     : -5.0\n",
      "pow(c, d)     : 64\n",
      "sub(b, a)     : 6.0\n",
      "truediv(a, b) : -0.2\n",
      "truediv(d, c) : 3.0\n",
      "\n",
      "Bitwise:\n",
      "and_(c, d)  : 2\n",
      "invert(c)   : -3\n",
      "lshift(c, d): 128\n",
      "or_(c, d)   : 6\n",
      "rshift(d, c): 1\n",
      "xor(c, d)   : 4\n"
     ]
    }
   ],
   "source": [
    "from operator import *\n",
    "\n",
    "a = -1\n",
    "b = 5.0\n",
    "c = 2\n",
    "d = 6\n",
    "\n",
    "print('a =', a)\n",
    "print('b =', b)\n",
    "print('c =', c)\n",
    "print('d =', d)\n",
    "\n",
    "print('\\nPositive/Negative:')\n",
    "print('abs(a):', abs(a))\n",
    "print('neg(a):', neg(a))\n",
    "print('neg(b):', neg(b))\n",
    "print('pos(a):', pos(a))\n",
    "print('pos(b):', pos(b))\n",
    "\n",
    "print('\\nArithmetic:')\n",
    "print('add(a, b)     :', add(a, b))\n",
    "print('floordiv(a, b):', floordiv(a, b))\n",
    "print('floordiv(d, c):', floordiv(d, c))\n",
    "print('mod(a, b)     :', mod(a, b))\n",
    "print('mul(a, b)     :', mul(a, b))\n",
    "print('pow(c, d)     :', pow(c, d))\n",
    "print('sub(b, a)     :', sub(b, a))\n",
    "print('truediv(a, b) :', truediv(a, b))\n",
    "print('truediv(d, c) :', truediv(d, c))\n",
    "\n",
    "print('\\nBitwise:')\n",
    "print('and_(c, d)  :', and_(c, d))\n",
    "print('invert(c)   :', invert(c))\n",
    "print('lshift(c, d):', lshift(c, d))\n",
    "print('or_(c, d)   :', or_(c, d))\n",
    "print('rshift(d, c):', rshift(d, c))\n",
    "print('xor(c, d)   :', xor(c, d))"
   ]
  },
  {
   "cell_type": "markdown",
   "metadata": {},
   "source": [
    "# 3 Sequence Operators"
   ]
  },
  {
   "cell_type": "code",
   "execution_count": 5,
   "metadata": {
    "collapsed": false
   },
   "outputs": [
    {
     "name": "stdout",
     "output_type": "stream",
     "text": [
      "a = [1, 2, 3]\n",
      "b = ['a', 'b', 'c']\n",
      "\n",
      "Constructive:\n",
      "  concat(a, b): [1, 2, 3, 'a', 'b', 'c']\n",
      "\n",
      "Searching:\n",
      "  contains(a, 1)  : True\n",
      "  contains(b, \"d\"): False\n",
      "  countOf(a, 1)   : 1\n",
      "  countOf(b, \"d\") : 0\n",
      "  indexOf(a, 5)   : 0\n",
      "\n",
      "Access Items:\n",
      "  getitem(b, 1)                  : b\n",
      "  getitem(b, slice(1, 3))        : ['b', 'c']\n",
      "  setitem(b, 1, \"d\")             : ['a', 'd', 'c']\n",
      "  setitem(a, slice(1, 3), [4, 5]): [1, 4, 5]\n",
      "\n",
      "Destructive:\n",
      "  delitem(b, 1)          : ['a', 'c']\n",
      "  delitem(a, slice(1, 3)): [1]\n"
     ]
    }
   ],
   "source": [
    "from operator import *\n",
    "\n",
    "a = [1, 2, 3]\n",
    "b = ['a', 'b', 'c']\n",
    "\n",
    "print('a =', a)\n",
    "print('b =', b)\n",
    "\n",
    "print('\\nConstructive:')\n",
    "print('  concat(a, b):', concat(a, b))\n",
    "\n",
    "print('\\nSearching:')\n",
    "print('  contains(a, 1)  :', contains(a, 1))\n",
    "print('  contains(b, \"d\"):', contains(b, \"d\"))\n",
    "print('  countOf(a, 1)   :', countOf(a, 1))\n",
    "print('  countOf(b, \"d\") :', countOf(b, \"d\"))\n",
    "print('  indexOf(a, 5)   :', indexOf(a, 1))\n",
    "\n",
    "print('\\nAccess Items:')\n",
    "print('  getitem(b, 1)                  :',\n",
    "      getitem(b, 1))\n",
    "print('  getitem(b, slice(1, 3))        :',\n",
    "      getitem(b, slice(1, 3)))\n",
    "print('  setitem(b, 1, \"d\")             :', end=' ')\n",
    "setitem(b, 1, \"d\")\n",
    "print(b)\n",
    "print('  setitem(a, slice(1, 3), [4, 5]):', end=' ')\n",
    "setitem(a, slice(1, 3), [4, 5])\n",
    "print(a)\n",
    "\n",
    "print('\\nDestructive:')\n",
    "print('  delitem(b, 1)          :', end=' ')\n",
    "delitem(b, 1)\n",
    "print(b)\n",
    "print('  delitem(a, slice(1, 3)):', end=' ')\n",
    "delitem(a, slice(1, 3))\n",
    "print(a)"
   ]
  },
  {
   "cell_type": "markdown",
   "metadata": {},
   "source": [
    "# 4 Combining Operators and Custom Classes"
   ]
  },
  {
   "cell_type": "code",
   "execution_count": 6,
   "metadata": {
    "collapsed": false
   },
   "outputs": [
    {
     "name": "stdout",
     "output_type": "stream",
     "text": [
      "Comparison:\n",
      "Testing MyObj(1) < MyObj(2)\n",
      "True\n",
      "\n",
      "Arithmetic:\n",
      "Adding MyObj(1) + MyObj(2)\n",
      "MyObj(3)\n"
     ]
    }
   ],
   "source": [
    "from operator import *\n",
    "\n",
    "\n",
    "class MyObj:\n",
    "    \"\"\"Example for operator overloading\"\"\"\n",
    "\n",
    "    def __init__(self, val):\n",
    "        super(MyObj, self).__init__()\n",
    "        self.val = val\n",
    "\n",
    "    def __str__(self):\n",
    "        return 'MyObj({})'.format(self.val)\n",
    "\n",
    "    def __lt__(self, other):\n",
    "        \"\"\"compare for less-than\"\"\"\n",
    "        print('Testing {} < {}'.format(self, other))\n",
    "        return self.val < other.val\n",
    "\n",
    "    def __add__(self, other):\n",
    "        \"\"\"add values\"\"\"\n",
    "        print('Adding {} + {}'.format(self, other))\n",
    "        return MyObj(self.val + other.val)\n",
    "\n",
    "\n",
    "a = MyObj(1)\n",
    "b = MyObj(2)\n",
    "\n",
    "print('Comparison:')\n",
    "print(a<b)\n",
    "\n",
    "print('\\nArithmetic:')\n",
    "print(a+b)"
   ]
  }
 ],
 "metadata": {
  "kernelspec": {
   "display_name": "Python 3",
   "language": "python",
   "name": "python3"
  },
  "language_info": {
   "codemirror_mode": {
    "name": "ipython",
    "version": 3
   },
   "file_extension": ".py",
   "mimetype": "text/x-python",
   "name": "python",
   "nbconvert_exporter": "python",
   "pygments_lexer": "ipython3",
   "version": "3.6.0"
  }
 },
 "nbformat": 4,
 "nbformat_minor": 2
}
