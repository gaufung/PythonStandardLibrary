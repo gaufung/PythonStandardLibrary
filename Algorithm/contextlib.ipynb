{
 "cells": [
  {
   "cell_type": "markdown",
   "metadata": {},
   "source": [
    "# 1 Context Manager API"
   ]
  },
  {
   "cell_type": "code",
   "execution_count": 2,
   "metadata": {
    "collapsed": false
   },
   "outputs": [
    {
     "name": "stdout",
     "output_type": "stream",
     "text": [
      "__enter__\n",
      "Do working in the context\n",
      "__exit__\n"
     ]
    }
   ],
   "source": [
    "class Context(object):\n",
    "    def __init(self):\n",
    "        print('__init__')\n",
    "    def __enter__(self):\n",
    "        print('__enter__')\n",
    "        return self\n",
    "    def __exit__(self, exc_type, exc_val, exc_tb):\n",
    "        print('__exit__')\n",
    "\n",
    "with Context():\n",
    "    print('Do working in the context')"
   ]
  },
  {
   "cell_type": "code",
   "execution_count": 3,
   "metadata": {
    "collapsed": false
   },
   "outputs": [
    {
     "name": "stdout",
     "output_type": "stream",
     "text": [
      "Context.__init__()\n",
      "Context.__enter__()\n",
      "WithinContext.__init__(<__main__.Context object at 0x1099a66a0>)\n",
      "WithinContext.do_something()\n",
      "Context.__exit__()\n"
     ]
    }
   ],
   "source": [
    "class WithinContext:\n",
    "\n",
    "    def __init__(self, context):\n",
    "        print('WithinContext.__init__({})'.format(context))\n",
    "\n",
    "    def do_something(self):\n",
    "        print('WithinContext.do_something()')\n",
    "\n",
    "    def __del__(self):\n",
    "        print('WithinContext.__del__')\n",
    "\n",
    "\n",
    "class Context:\n",
    "\n",
    "    def __init__(self):\n",
    "        print('Context.__init__()')\n",
    "\n",
    "    def __enter__(self):\n",
    "        print('Context.__enter__()')\n",
    "        return WithinContext(self)\n",
    "\n",
    "    def __exit__(self, exc_type, exc_val, exc_tb):\n",
    "        print('Context.__exit__()')\n",
    "\n",
    "\n",
    "with Context() as c:\n",
    "    c.do_something()"
   ]
  },
  {
   "cell_type": "markdown",
   "metadata": {},
   "source": [
    "Exception rasied"
   ]
  },
  {
   "cell_type": "code",
   "execution_count": 4,
   "metadata": {
    "collapsed": false
   },
   "outputs": [
    {
     "name": "stdout",
     "output_type": "stream",
     "text": [
      "__init__(True)\n",
      "__enter__()\n",
      "__exit__()\n",
      "  exc_type = <class 'RuntimeError'>\n",
      "  exc_val  = error message handled\n",
      "  exc_tb   = <traceback object at 0x10999df48>\n",
      "\n",
      "__init__(False)\n",
      "__enter__()\n",
      "__exit__()\n",
      "  exc_type = <class 'RuntimeError'>\n",
      "  exc_val  = error message propagated\n",
      "  exc_tb   = <traceback object at 0x10999dec8>\n"
     ]
    },
    {
     "ename": "RuntimeError",
     "evalue": "error message propagated",
     "output_type": "error",
     "traceback": [
      "\u001b[0;31m---------------------------------------------------------------------------\u001b[0m",
      "\u001b[0;31mRuntimeError\u001b[0m                              Traceback (most recent call last)",
      "\u001b[0;32m<ipython-input-4-c2f64363f95f>\u001b[0m in \u001b[0;36m<module>\u001b[0;34m()\u001b[0m\n\u001b[1;32m     23\u001b[0m \u001b[0;34m\u001b[0m\u001b[0m\n\u001b[1;32m     24\u001b[0m \u001b[0;32mwith\u001b[0m \u001b[0mContext\u001b[0m\u001b[0;34m(\u001b[0m\u001b[0;32mFalse\u001b[0m\u001b[0;34m)\u001b[0m\u001b[0;34m:\u001b[0m\u001b[0;34m\u001b[0m\u001b[0m\n\u001b[0;32m---> 25\u001b[0;31m     \u001b[0;32mraise\u001b[0m \u001b[0mRuntimeError\u001b[0m\u001b[0;34m(\u001b[0m\u001b[0;34m'error message propagated'\u001b[0m\u001b[0;34m)\u001b[0m\u001b[0;34m\u001b[0m\u001b[0m\n\u001b[0m",
      "\u001b[0;31mRuntimeError\u001b[0m: error message propagated"
     ]
    }
   ],
   "source": [
    "class Context:\n",
    "\n",
    "    def __init__(self, handle_error):\n",
    "        print('__init__({})'.format(handle_error))\n",
    "        self.handle_error = handle_error\n",
    "\n",
    "    def __enter__(self):\n",
    "        print('__enter__()')\n",
    "        return self\n",
    "\n",
    "    def __exit__(self, exc_type, exc_val, exc_tb):\n",
    "        print('__exit__()')\n",
    "        print('  exc_type =', exc_type)\n",
    "        print('  exc_val  =', exc_val)\n",
    "        print('  exc_tb   =', exc_tb)\n",
    "        return self.handle_error\n",
    "\n",
    "\n",
    "with Context(True):\n",
    "    raise RuntimeError('error message handled')\n",
    "\n",
    "print()\n",
    "\n",
    "with Context(False):\n",
    "    raise RuntimeError('error message propagated')"
   ]
  },
  {
   "cell_type": "markdown",
   "metadata": {},
   "source": [
    "# 2 Context as Funciton decorators"
   ]
  },
  {
   "cell_type": "code",
   "execution_count": 5,
   "metadata": {
    "collapsed": false
   },
   "outputs": [
    {
     "name": "stdout",
     "output_type": "stream",
     "text": [
      "__init__(as decorator)\n",
      "\n",
      "__init__(as context manager)\n",
      "__enter__(as context manager)\n",
      "Doing work in the context\n",
      "__exit__(as context manager)\n",
      "\n",
      "__enter__(as decorator)\n",
      "Doing work in the wrapped function\n",
      "__exit__(as decorator)\n"
     ]
    }
   ],
   "source": [
    "import contextlib\n",
    "\n",
    "\n",
    "class Context(contextlib.ContextDecorator):\n",
    "\n",
    "    def __init__(self, how_used):\n",
    "        self.how_used = how_used\n",
    "        print('__init__({})'.format(how_used))\n",
    "\n",
    "    def __enter__(self):\n",
    "        print('__enter__({})'.format(self.how_used))\n",
    "        return self\n",
    "\n",
    "    def __exit__(self, exc_type, exc_val, exc_tb):\n",
    "        print('__exit__({})'.format(self.how_used))\n",
    "\n",
    "\n",
    "@Context('as decorator')\n",
    "def func(message):\n",
    "    print(message)\n",
    "\n",
    "\n",
    "print()\n",
    "with Context('as context manager'):\n",
    "    print('Doing work in the context')\n",
    "\n",
    "print()\n",
    "func('Doing work in the wrapped function')"
   ]
  },
  {
   "cell_type": "markdown",
   "metadata": {},
   "source": [
    "# 3 From Generator to Context Manager"
   ]
  },
  {
   "cell_type": "code",
   "execution_count": 7,
   "metadata": {
    "collapsed": false
   },
   "outputs": [
    {
     "name": "stdout",
     "output_type": "stream",
     "text": [
      "Normal:\n",
      "  entering\n",
      "  inside with statement: {}\n",
      "  exiting\n",
      "\n",
      "Handled error:\n",
      "  entering\n",
      "  ERROR: showing example of handling an error\n",
      "  exiting\n",
      "\n",
      "Unhandled error:\n",
      "  entering\n",
      "ERROR: this exception is not handled\n",
      "  exiting\n"
     ]
    }
   ],
   "source": [
    "import contextlib\n",
    "\n",
    "\n",
    "@contextlib.contextmanager\n",
    "def make_context():\n",
    "    print('  entering')\n",
    "    try:\n",
    "        yield {}\n",
    "    except RuntimeError as err:\n",
    "        print('  ERROR:', err)\n",
    "    except ValueError as err:\n",
    "        print( 'ERROR:', err)\n",
    "    finally:\n",
    "        print('  exiting')\n",
    "\n",
    "\n",
    "print('Normal:')\n",
    "with make_context() as value:\n",
    "    print('  inside with statement:', value)\n",
    "\n",
    "print('\\nHandled error:')\n",
    "with make_context() as value:\n",
    "    raise RuntimeError('showing example of handling an error')\n",
    "\n",
    "print('\\nUnhandled error:')\n",
    "with make_context() as value:\n",
    "    raise ValueError('this exception is not handled')"
   ]
  },
  {
   "cell_type": "markdown",
   "metadata": {},
   "source": [
    "# 4 Ignoring Exceptions"
   ]
  },
  {
   "cell_type": "code",
   "execution_count": 11,
   "metadata": {
    "collapsed": false
   },
   "outputs": [
    {
     "name": "stdout",
     "output_type": "stream",
     "text": [
      "trying non-idempotent operation\n",
      "done\n"
     ]
    }
   ],
   "source": [
    "import contextlib\n",
    "\n",
    "\n",
    "class NonFatalError(Exception):\n",
    "    pass\n",
    "\n",
    "\n",
    "def non_idempotent_operation():\n",
    "    raise NonFatalError(\n",
    "        'The operation failed because of existing state'\n",
    "    )\n",
    "\n",
    "\n",
    "with contextlib.suppress(NonFatalError):\n",
    "    print('trying non-idempotent operation')\n",
    "    non_idempotent_operation()\n",
    "    print('succeeded!')\n",
    "\n",
    "print('done')"
   ]
  },
  {
   "cell_type": "code",
   "execution_count": null,
   "metadata": {
    "collapsed": true
   },
   "outputs": [],
   "source": []
  }
 ],
 "metadata": {
  "kernelspec": {
   "display_name": "Python 3",
   "language": "python",
   "name": "python3"
  },
  "language_info": {
   "codemirror_mode": {
    "name": "ipython",
    "version": 3
   },
   "file_extension": ".py",
   "mimetype": "text/x-python",
   "name": "python",
   "nbconvert_exporter": "python",
   "pygments_lexer": "ipython3",
   "version": "3.6.0"
  }
 },
 "nbformat": 4,
 "nbformat_minor": 2
}
