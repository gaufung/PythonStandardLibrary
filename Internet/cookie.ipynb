{
 "cells": [
  {
   "cell_type": "code",
   "execution_count": 1,
   "metadata": {
    "collapsed": true
   },
   "outputs": [],
   "source": [
    "from http import cookies"
   ]
  },
  {
   "cell_type": "code",
   "execution_count": 2,
   "metadata": {
    "collapsed": false
   },
   "outputs": [
    {
     "name": "stdout",
     "output_type": "stream",
     "text": [
      "Set-Cookie: mycookie=mycookie\n"
     ]
    }
   ],
   "source": [
    "c = cookies.SimpleCookie()\n",
    "c['mycookie']='mycookie'\n",
    "print(c)"
   ]
  },
  {
   "cell_type": "markdown",
   "metadata": {},
   "source": [
    "# Morsels"
   ]
  },
  {
   "cell_type": "code",
   "execution_count": 5,
   "metadata": {
    "collapsed": false
   },
   "outputs": [
    {
     "name": "stdout",
     "output_type": "stream",
     "text": [
      "Set-Cookie: encoded_value_cookie=\"\\\"cookie\\054value\\073\\\"\"; Comment=Has escaped punctuation\r\n",
      "Set-Cookie: expires_at_time=cookie_value; expires=Sat, 14 Feb 2009 19:30:14\r\n",
      "Set-Cookie: restricted_cookie=cookie_value; Domain=PyMOTW; Path=/sub/path; Secure\r\n",
      "Set-Cookie: with_max_age=\"expires in 5 minutes\"; Max-Age=300\n",
      "\n",
      "key= encoded_value_cookie\n",
      "   value= \"cookie,value;\"\n",
      "   coded_value= \"\\\"cookie\\054value\\073\\\"\"\n",
      "  comment =Has escaped punctuation\n",
      "\n",
      "key= restricted_cookie\n",
      "   value= cookie_value\n",
      "   coded_value= cookie_value\n",
      "  path =/sub/path\n",
      "  domain =PyMOTW\n",
      "  secure =True\n",
      "\n",
      "key= with_max_age\n",
      "   value= expires in 5 minutes\n",
      "   coded_value= \"expires in 5 minutes\"\n",
      "  max-age =300\n",
      "\n",
      "key= expires_at_time\n",
      "   value= cookie_value\n",
      "   coded_value= cookie_value\n",
      "  expires =Sat, 14 Feb 2009 19:30:14\n"
     ]
    }
   ],
   "source": [
    "from http import cookies\n",
    "import datetime\n",
    "def show_cookies(c):\n",
    "    print(c)\n",
    "    for key, morsel in c.items():\n",
    "        print()\n",
    "        print('key=', morsel.key)\n",
    "        print('   value=', morsel.value)\n",
    "        print('   coded_value=', morsel.coded_value)\n",
    "        for name in morsel.keys():\n",
    "            if morsel[name]:\n",
    "                print('  {} ={}'.format(name, morsel[name]))\n",
    "c= cookies.SimpleCookie()\n",
    "c['encoded_value_cookie'] = '\"cookie,value;\"'\n",
    "c['encoded_value_cookie']['comment'] = 'Has escaped punctuation'\n",
    "\n",
    "# A cookie that only applies to part of a site\n",
    "c['restricted_cookie'] = 'cookie_value'\n",
    "c['restricted_cookie']['path'] = '/sub/path'\n",
    "c['restricted_cookie']['domain'] = 'PyMOTW'\n",
    "c['restricted_cookie']['secure'] = True\n",
    "\n",
    "# A cookie that expires in 5 minutes\n",
    "c['with_max_age'] = 'expires in 5 minutes'\n",
    "c['with_max_age']['max-age'] = 300  # seconds\n",
    "\n",
    "# A cookie that expires at a specific time\n",
    "c['expires_at_time'] = 'cookie_value'\n",
    "time_to_live = datetime.timedelta(hours=1)\n",
    "expires = (datetime.datetime(2009, 2, 14, 18, 30, 14) +\n",
    "           time_to_live)\n",
    "expires_at_time = expires.strftime('%a, %d %b %Y %H:%M:%S')\n",
    "c['expires_at_time']['expires'] = expires_at_time\n",
    "\n",
    "show_cookies(c)"
   ]
  }
 ],
 "metadata": {
  "kernelspec": {
   "display_name": "Python 3",
   "language": "python",
   "name": "python3"
  },
  "language_info": {
   "codemirror_mode": {
    "name": "ipython",
    "version": 3
   },
   "file_extension": ".py",
   "mimetype": "text/x-python",
   "name": "python",
   "nbconvert_exporter": "python",
   "pygments_lexer": "ipython3",
   "version": "3.6.0"
  }
 },
 "nbformat": 4,
 "nbformat_minor": 2
}
