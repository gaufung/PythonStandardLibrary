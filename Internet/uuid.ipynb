{
 "cells": [
  {
   "cell_type": "code",
   "execution_count": 1,
   "metadata": {
    "collapsed": false
   },
   "outputs": [
    {
     "name": "stdout",
     "output_type": "stream",
     "text": [
      "0xacbc32d43241\n"
     ]
    }
   ],
   "source": [
    "import uuid\n",
    "print(hex(uuid.getnode()))"
   ]
  },
  {
   "cell_type": "code",
   "execution_count": null,
   "metadata": {
    "collapsed": true
   },
   "outputs": [],
   "source": [
    "hostnames = ['www.doughellmann.com','blog.doughellmann.com']\n",
    "for name in hostnames:\n",
    "    print(name)\n",
    "    print('MD5', uuid.uuid3(uuid.NAMESPACE_DNS,name))\n",
    "    print('SHA-1',uuid.uuid5(uuid.name))"
   ]
  }
 ],
 "metadata": {
  "kernelspec": {
   "display_name": "Python 3",
   "language": "python",
   "name": "python3"
  },
  "language_info": {
   "codemirror_mode": {
    "name": "ipython",
    "version": 3
   },
   "file_extension": ".py",
   "mimetype": "text/x-python",
   "name": "python",
   "nbconvert_exporter": "python",
   "pygments_lexer": "ipython3",
   "version": "3.6.0"
  }
 },
 "nbformat": 4,
 "nbformat_minor": 2
}
