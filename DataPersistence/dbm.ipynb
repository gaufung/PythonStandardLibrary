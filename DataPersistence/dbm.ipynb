{
 "cells": [
  {
   "cell_type": "markdown",
   "metadata": {},
   "source": [
    "# Creating a New Database"
   ]
  },
  {
   "cell_type": "code",
   "execution_count": 1,
   "metadata": {
    "collapsed": true
   },
   "outputs": [],
   "source": [
    "import dbm\n",
    "\n",
    "with dbm.open('/tmp/example.db', 'n') as db:\n",
    "    db['key'] = 'value'\n",
    "    db['today'] = 'Sunday'\n",
    "    db['author'] = 'Doug'"
   ]
  },
  {
   "cell_type": "code",
   "execution_count": 2,
   "metadata": {
    "collapsed": false
   },
   "outputs": [
    {
     "name": "stdout",
     "output_type": "stream",
     "text": [
      "dbm.ndbm\n"
     ]
    }
   ],
   "source": [
    "import dbm\n",
    "\n",
    "print(dbm.whichdb('/tmp/example.db'))"
   ]
  },
  {
   "cell_type": "markdown",
   "metadata": {},
   "source": [
    "# Open the existing Database"
   ]
  },
  {
   "cell_type": "code",
   "execution_count": 3,
   "metadata": {
    "collapsed": false
   },
   "outputs": [
    {
     "name": "stdout",
     "output_type": "stream",
     "text": [
      "keys(): [b'key', b'today', b'author']\n",
      "iterating: b'key' b'value'\n",
      "iterating: b'today' b'Sunday'\n",
      "iterating: b'author' b'Doug'\n",
      "db[\"author\"] = b'Doug'\n"
     ]
    }
   ],
   "source": [
    "import dbm\n",
    "\n",
    "with dbm.open('/tmp/example.db', 'r') as db:\n",
    "    print('keys():', db.keys())\n",
    "    for k in db.keys():\n",
    "        print('iterating:', k, db[k])\n",
    "    print('db[\"author\"] =', db['author'])"
   ]
  },
  {
   "cell_type": "markdown",
   "metadata": {},
   "source": [
    "# Error Cases"
   ]
  },
  {
   "cell_type": "code",
   "execution_count": 4,
   "metadata": {
    "collapsed": false
   },
   "outputs": [
    {
     "name": "stdout",
     "output_type": "stream",
     "text": [
      "dbm mappings have bytes or string keys only\n"
     ]
    }
   ],
   "source": [
    "import dbm\n",
    "\n",
    "with dbm.open('/tmp/example.db', 'w') as db:\n",
    "    try:\n",
    "        db[1] = 'one'\n",
    "    except TypeError as err:\n",
    "        print(err)"
   ]
  },
  {
   "cell_type": "code",
   "execution_count": 5,
   "metadata": {
    "collapsed": false
   },
   "outputs": [
    {
     "name": "stdout",
     "output_type": "stream",
     "text": [
      "dbm mappings have byte or string elements only\n"
     ]
    }
   ],
   "source": [
    "import dbm\n",
    "\n",
    "with dbm.open('/tmp/example.db', 'w') as db:\n",
    "    try:\n",
    "        db['one'] = 1\n",
    "    except TypeError as err:\n",
    "        print(err)"
   ]
  }
 ],
 "metadata": {
  "kernelspec": {
   "display_name": "Python 3",
   "language": "python",
   "name": "python3"
  },
  "language_info": {
   "codemirror_mode": {
    "name": "ipython",
    "version": 3
   },
   "file_extension": ".py",
   "mimetype": "text/x-python",
   "name": "python",
   "nbconvert_exporter": "python",
   "pygments_lexer": "ipython3",
   "version": "3.6.0"
  }
 },
 "nbformat": 4,
 "nbformat_minor": 2
}
