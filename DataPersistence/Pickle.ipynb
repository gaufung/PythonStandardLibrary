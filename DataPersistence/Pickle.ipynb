{
 "cells": [
  {
   "cell_type": "markdown",
   "metadata": {},
   "source": [
    "The pickle module implements an algorithm for turning an arbitrary Python object into a series of bytes. This process is also called serializing the object. The byte stream representing the object can then be transmitted or stored, and later reconstructed to create a new object with the same characteristics."
   ]
  },
  {
   "cell_type": "markdown",
   "metadata": {},
   "source": [
    "# Encoding and decoding Data in String"
   ]
  },
  {
   "cell_type": "code",
   "execution_count": 1,
   "metadata": {
    "collapsed": false
   },
   "outputs": [
    {
     "name": "stdout",
     "output_type": "stream",
     "text": [
      "DATA: [{'a': 'A', 'b': 2, 'c': 3.0}]\n",
      "PICKLE: b'\\x80\\x03]q\\x00}q\\x01(X\\x01\\x00\\x00\\x00aq\\x02X\\x01\\x00\\x00\\x00Aq\\x03X\\x01\\x00\\x00\\x00bq\\x04K\\x02X\\x01\\x00\\x00\\x00cq\\x05G@\\x08\\x00\\x00\\x00\\x00\\x00\\x00ua.'\n"
     ]
    }
   ],
   "source": [
    "import pickle\n",
    "import pprint\n",
    "\n",
    "data = [{'a': 'A', 'b': 2, 'c': 3.0}]\n",
    "print('DATA:', end=' ')\n",
    "pprint.pprint(data)\n",
    "\n",
    "data_string = pickle.dumps(data)\n",
    "print('PICKLE: {!r}'.format(data_string))"
   ]
  },
  {
   "cell_type": "code",
   "execution_count": 4,
   "metadata": {
    "collapsed": false
   },
   "outputs": [
    {
     "name": "stdout",
     "output_type": "stream",
     "text": [
      "BEFORE:  [{'a': 'A', 'b': 2, 'c': 3.0}]\n",
      "AFTER :  [{'a': 'A', 'b': 2, 'c': 3.0}]\n",
      "SAME? : False\n",
      "EQUAL?: True\n"
     ]
    }
   ],
   "source": [
    "import pickle\n",
    "import pprint\n",
    "\n",
    "data1 = [{'a': 'A', 'b': 2, 'c': 3.0}]\n",
    "print('BEFORE: ', end=' ')\n",
    "pprint.pprint(data1)\n",
    "\n",
    "data1_string = pickle.dumps(data1)\n",
    "data2 = pickle.loads(data1_string)\n",
    "print('AFTER : ', end=' ')\n",
    "pprint.pprint(data2)\n",
    "\n",
    "print('SAME? :', (data1 is data2))\n",
    "print('EQUAL?:', (data1 == data2))"
   ]
  },
  {
   "cell_type": "markdown",
   "metadata": {},
   "source": [
    "# Working with Stream"
   ]
  },
  {
   "cell_type": "code",
   "execution_count": 5,
   "metadata": {
    "collapsed": false
   },
   "outputs": [
    {
     "name": "stdout",
     "output_type": "stream",
     "text": [
      "WRITING : pickle (elkcip)\n",
      "WRITING : preserve (evreserp)\n",
      "WRITING : last (tsal)\n",
      "READ    : pickle (elkcip)\n",
      "READ    : preserve (evreserp)\n",
      "READ    : last (tsal)\n"
     ]
    }
   ],
   "source": [
    "import io\n",
    "import pickle\n",
    "import pprint\n",
    "\n",
    "\n",
    "class SimpleObject:\n",
    "\n",
    "    def __init__(self, name):\n",
    "        self.name = name\n",
    "        self.name_backwards = name[::-1]\n",
    "        return\n",
    "\n",
    "\n",
    "data = []\n",
    "data.append(SimpleObject('pickle'))\n",
    "data.append(SimpleObject('preserve'))\n",
    "data.append(SimpleObject('last'))\n",
    "\n",
    "# Simulate a file.\n",
    "out_s = io.BytesIO()\n",
    "\n",
    "# Write to the stream\n",
    "for o in data:\n",
    "    print('WRITING : {} ({})'.format(o.name, o.name_backwards))\n",
    "    pickle.dump(o, out_s)\n",
    "    out_s.flush()\n",
    "\n",
    "# Set up a read-able stream\n",
    "in_s = io.BytesIO(out_s.getvalue())\n",
    "\n",
    "# Read the data\n",
    "while True:\n",
    "    try:\n",
    "        o = pickle.load(in_s)\n",
    "    except EOFError:\n",
    "        break\n",
    "    else:\n",
    "        print('READ    : {} ({})'.format(\n",
    "            o.name, o.name_backwards))"
   ]
  },
  {
   "cell_type": "markdown",
   "metadata": {},
   "source": [
    "# Problem with Reconstructing Objects"
   ]
  },
  {
   "cell_type": "code",
   "execution_count": 6,
   "metadata": {
    "collapsed": false
   },
   "outputs": [
    {
     "name": "stdout",
     "output_type": "stream",
     "text": [
      "WRITING: pickle (elkcip)\n",
      "WRITING: preserve (evreserp)\n",
      "WRITING: last (tsal)\n"
     ]
    }
   ],
   "source": [
    "import pickle\n",
    "import sys\n",
    "\n",
    "\n",
    "class SimpleObject:\n",
    "\n",
    "    def __init__(self, name):\n",
    "        self.name = name\n",
    "        l = list(name)\n",
    "        l.reverse()\n",
    "        self.name_backwards = ''.join(l)\n",
    "data = []\n",
    "data.append(SimpleObject('pickle'))\n",
    "data.append(SimpleObject('preserve'))\n",
    "data.append(SimpleObject('last'))\n",
    "\n",
    "filename ='test.dat'\n",
    "\n",
    "with open(filename, 'wb') as out_s:\n",
    "    for o in data:\n",
    "        print('WRITING: {} ({})'.format(\n",
    "            o.name, o.name_backwards))\n",
    "        pickle.dump(o, out_s)"
   ]
  },
  {
   "cell_type": "code",
   "execution_count": 7,
   "metadata": {
    "collapsed": false
   },
   "outputs": [
    {
     "name": "stdout",
     "output_type": "stream",
     "text": [
      "READ: pickle (elkcip)\n",
      "READ: preserve (evreserp)\n",
      "READ: last (tsal)\n"
     ]
    }
   ],
   "source": [
    "with open(filename, 'rb') as in_s:\n",
    "    while True:\n",
    "        try:\n",
    "            o = pickle.load(in_s)\n",
    "        except EOFError:\n",
    "            break\n",
    "        else:\n",
    "            print('READ: {} ({})'.format(\n",
    "                o.name, o.name_backwards))"
   ]
  }
 ],
 "metadata": {
  "kernelspec": {
   "display_name": "Python 3",
   "language": "python",
   "name": "python3"
  },
  "language_info": {
   "codemirror_mode": {
    "name": "ipython",
    "version": 3
   },
   "file_extension": ".py",
   "mimetype": "text/x-python",
   "name": "python",
   "nbconvert_exporter": "python",
   "pygments_lexer": "ipython3",
   "version": "3.6.0"
  }
 },
 "nbformat": 4,
 "nbformat_minor": 2
}
