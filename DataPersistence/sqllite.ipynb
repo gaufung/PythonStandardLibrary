{
 "cells": [
  {
   "cell_type": "markdown",
   "metadata": {},
   "source": [
    "The sqlite3 module implements a Python DB-API 2.0 compliant interface to SQLite, an in-process relational database. SQLite is designed to be embedded in applications, instead of using a separate database server program such as MySQL, PostgreSQL, or Oracle. It is fast, rigorously tested, and flexible, making it suitable for prototyping and production deployment for some applications."
   ]
  },
  {
   "cell_type": "markdown",
   "metadata": {},
   "source": [
    "# Creating a Database"
   ]
  },
  {
   "cell_type": "code",
   "execution_count": 1,
   "metadata": {
    "collapsed": false
   },
   "outputs": [
    {
     "name": "stdout",
     "output_type": "stream",
     "text": [
      "Need to create schema\n"
     ]
    }
   ],
   "source": [
    "import os\n",
    "import sqlite3\n",
    "db_filename = 'todo.db'\n",
    "db_is_new = not os.path.exists(db_filename)\n",
    "conn = sqlite3.connect(db_filename)\n",
    "if db_is_new:\n",
    "    print('Need to create schema')\n",
    "else:\n",
    "    print('Database exists, assume schme does, too.')\n",
    "conn.close()"
   ]
  },
  {
   "cell_type": "code",
   "execution_count": 5,
   "metadata": {
    "collapsed": false
   },
   "outputs": [
    {
     "name": "stdout",
     "output_type": "stream",
     "text": [
      "test_shelf.db.db  todo.db\r\n"
     ]
    }
   ],
   "source": [
    "%ls *.db"
   ]
  },
  {
   "cell_type": "code",
   "execution_count": 8,
   "metadata": {
    "collapsed": false
   },
   "outputs": [
    {
     "name": "stdout",
     "output_type": "stream",
     "text": [
      "Creating scheme\n",
      "Inserting inital data\n"
     ]
    }
   ],
   "source": [
    "%rm -rf todo.db\n",
    "import os\n",
    "import sqlite3\n",
    "db_filename= 'todo.db'\n",
    "scheme_filename = 'todo_schema.sql'\n",
    "db_is_new = not os.path.exists(db_filename)\n",
    "with sqlite3.connect(db_filename) as conn:\n",
    "    if db_is_new:\n",
    "        print('Creating scheme')\n",
    "        with open(scheme_filename, 'rt') as f:\n",
    "            scheme = f.read()\n",
    "        conn.executescript(scheme)\n",
    "        print('Inserting inital data')\n",
    "        conn.executescript(\"\"\"\n",
    "        insert into project (name, description, deadline)\n",
    "        values ('pymotw', 'Python Module of the Week',\n",
    "                '2016-11-01');\n",
    "\n",
    "        insert into task (details, status, deadline, project)\n",
    "        values ('write about select', 'done', '2016-04-25',\n",
    "                'pymotw');\n",
    "\n",
    "        insert into task (details, status, deadline, project)\n",
    "        values ('write about random', 'waiting', '2016-08-22',\n",
    "                'pymotw');\n",
    "\n",
    "        insert into task (details, status, deadline, project)\n",
    "        values ('write about sqlite3', 'active', '2017-07-31',\n",
    "                'pymotw');\n",
    "        \"\"\")\n",
    "    else:\n",
    "        print('Database exists, assume scheme does, too.')"
   ]
  },
  {
   "cell_type": "markdown",
   "metadata": {},
   "source": [
    "# Retriving the Data"
   ]
  },
  {
   "cell_type": "code",
   "execution_count": 11,
   "metadata": {
    "collapsed": false
   },
   "outputs": [
    {
     "name": "stdout",
     "output_type": "stream",
     "text": [
      " 1 [1] write about select        [done    ] (2016-04-25)\n",
      " 2 [1] write about random        [waiting ] (2016-08-22)\n",
      " 3 [1] write about sqlite3       [active  ] (2017-07-31)\n"
     ]
    }
   ],
   "source": [
    "import sqlite3\n",
    "\n",
    "db_filename = 'todo.db'\n",
    "\n",
    "with sqlite3.connect(db_filename) as conn:\n",
    "    cursor = conn.cursor()\n",
    "\n",
    "    cursor.execute(\"\"\"\n",
    "    select id, priority, details, status, deadline from task\n",
    "    where project = 'pymotw'\n",
    "    \"\"\")\n",
    "\n",
    "    for row in cursor.fetchall():\n",
    "        task_id, priority, details, status, deadline = row\n",
    "        print('{:2d} [{:d}] {:<25} [{:<8}] ({})'.format(\n",
    "            task_id, priority, details, status, deadline))"
   ]
  },
  {
   "cell_type": "code",
   "execution_count": 12,
   "metadata": {
    "collapsed": false
   },
   "outputs": [
    {
     "name": "stdout",
     "output_type": "stream",
     "text": [
      "Project details for Python Module of the Week (pymotw)\n",
      "  due 2016-11-01\n",
      "\n",
      "Next 5 tasks:\n",
      " 1 [1] write about select        [done    ] (2016-04-25)\n",
      " 2 [1] write about random        [waiting ] (2016-08-22)\n",
      " 3 [1] write about sqlite3       [active  ] (2017-07-31)\n"
     ]
    }
   ],
   "source": [
    "import sqlite3\n",
    "\n",
    "db_filename = 'todo.db'\n",
    "\n",
    "with sqlite3.connect(db_filename) as conn:\n",
    "    cursor = conn.cursor()\n",
    "\n",
    "    cursor.execute(\"\"\"\n",
    "    select name, description, deadline from project\n",
    "    where name = 'pymotw'\n",
    "    \"\"\")\n",
    "    name, description, deadline = cursor.fetchone()\n",
    "\n",
    "    print('Project details for {} ({})\\n  due {}'.format(\n",
    "        description, name, deadline))\n",
    "\n",
    "    cursor.execute(\"\"\"\n",
    "    select id, priority, details, status, deadline from task\n",
    "    where project = 'pymotw' order by deadline\n",
    "    \"\"\")\n",
    "\n",
    "    print('\\nNext 5 tasks:')\n",
    "    for row in cursor.fetchmany(5):\n",
    "        task_id, priority, details, status, deadline = row\n",
    "        print('{:2d} [{:d}] {:<25} [{:<8}] ({})'.format(\n",
    "            task_id, priority, details, status, deadline))"
   ]
  },
  {
   "cell_type": "markdown",
   "metadata": {},
   "source": [
    "# Query Metadata\n",
    "The DB-API 2.0 specification says that after execute() has been called, the Cursor should set its description attribute to hold information about the data that will be returned by the fetch methods. The API specification say that the description value is a sequence of tuples containing the column name, type, display size, internal size, precision, scale, and a flag that says whether null values are accepted."
   ]
  },
  {
   "cell_type": "code",
   "execution_count": 13,
   "metadata": {
    "collapsed": false
   },
   "outputs": [
    {
     "name": "stdout",
     "output_type": "stream",
     "text": [
      "Task table has these columns:\n",
      "('id', None, None, None, None, None, None)\n",
      "('priority', None, None, None, None, None, None)\n",
      "('details', None, None, None, None, None, None)\n",
      "('status', None, None, None, None, None, None)\n",
      "('deadline', None, None, None, None, None, None)\n",
      "('completed_on', None, None, None, None, None, None)\n",
      "('project', None, None, None, None, None, None)\n"
     ]
    }
   ],
   "source": [
    "import sqlite3\n",
    "\n",
    "db_filename = 'todo.db'\n",
    "\n",
    "with sqlite3.connect(db_filename) as conn:\n",
    "    cursor = conn.cursor()\n",
    "\n",
    "    cursor.execute(\"\"\"\n",
    "    select * from task where project = 'pymotw'\n",
    "    \"\"\")\n",
    "\n",
    "    print('Task table has these columns:')\n",
    "    for colinfo in cursor.description:\n",
    "        print(colinfo)"
   ]
  },
  {
   "cell_type": "markdown",
   "metadata": {},
   "source": [
    "# Row Object"
   ]
  },
  {
   "cell_type": "code",
   "execution_count": 14,
   "metadata": {
    "collapsed": false
   },
   "outputs": [
    {
     "name": "stdout",
     "output_type": "stream",
     "text": [
      "Project details for Python Module of the Week (pymotw)\n",
      "  due 2016-11-01\n",
      "\n",
      "Next 5 tasks:\n",
      " 1 [1] write about select        [done    ] (2016-04-25)\n",
      " 2 [1] write about random        [waiting ] (2016-08-22)\n",
      " 3 [1] write about sqlite3       [active  ] (2017-07-31)\n"
     ]
    }
   ],
   "source": [
    "import sqlite3\n",
    "\n",
    "db_filename = 'todo.db'\n",
    "\n",
    "with sqlite3.connect(db_filename) as conn:\n",
    "    # Change the row factory to use Row\n",
    "    conn.row_factory = sqlite3.Row\n",
    "\n",
    "    cursor = conn.cursor()\n",
    "\n",
    "    cursor.execute(\"\"\"\n",
    "    select name, description, deadline from project\n",
    "    where name = 'pymotw'\n",
    "    \"\"\")\n",
    "    name, description, deadline = cursor.fetchone()\n",
    "\n",
    "    print('Project details for {} ({})\\n  due {}'.format(\n",
    "        description, name, deadline))\n",
    "\n",
    "    cursor.execute(\"\"\"\n",
    "    select id, priority, status, deadline, details from task\n",
    "    where project = 'pymotw' order by deadline\n",
    "    \"\"\")\n",
    "\n",
    "    print('\\nNext 5 tasks:')\n",
    "    for row in cursor.fetchmany(5):\n",
    "        print('{:2d} [{:d}] {:<25} [{:<8}] ({})'.format(\n",
    "            row['id'], row['priority'], row['details'],\n",
    "            row['status'], row['deadline'],\n",
    "        ))"
   ]
  },
  {
   "cell_type": "markdown",
   "metadata": {},
   "source": [
    "# Using Variables and Queries\n",
    "## Positional Parameters"
   ]
  },
  {
   "cell_type": "code",
   "execution_count": 15,
   "metadata": {
    "collapsed": false
   },
   "outputs": [
    {
     "name": "stdout",
     "output_type": "stream",
     "text": [
      " 1 [1] write about select        [done    ] (2016-04-25)\n",
      " 2 [1] write about random        [waiting ] (2016-08-22)\n",
      " 3 [1] write about sqlite3       [active  ] (2017-07-31)\n"
     ]
    }
   ],
   "source": [
    "import sqlite3\n",
    "import sys\n",
    "\n",
    "db_filename = 'todo.db'\n",
    "project_name = \"pymotw\"\n",
    "\n",
    "with sqlite3.connect(db_filename) as conn:\n",
    "    cursor = conn.cursor()\n",
    "\n",
    "    query = \"\"\"\n",
    "    select id, priority, details, status, deadline from task\n",
    "    where project = ?\n",
    "    \"\"\"\n",
    "\n",
    "    cursor.execute(query, (project_name,))\n",
    "\n",
    "    for row in cursor.fetchall():\n",
    "        task_id, priority, details, status, deadline = row\n",
    "        print('{:2d} [{:d}] {:<25} [{:<8}] ({})'.format(\n",
    "            task_id, priority, details, status, deadline))"
   ]
  },
  {
   "cell_type": "markdown",
   "metadata": {},
   "source": [
    "## Named Parameters"
   ]
  },
  {
   "cell_type": "code",
   "execution_count": 16,
   "metadata": {
    "collapsed": false
   },
   "outputs": [
    {
     "name": "stdout",
     "output_type": "stream",
     "text": [
      " 1 [1] write about select        [done    ] (2016-04-25)\n",
      " 2 [1] write about random        [waiting ] (2016-08-22)\n",
      " 3 [1] write about sqlite3       [active  ] (2017-07-31)\n"
     ]
    }
   ],
   "source": [
    "import sqlite3\n",
    "import sys\n",
    "\n",
    "db_filename = 'todo.db'\n",
    "project_name = \"pymotw\"\n",
    "\n",
    "with sqlite3.connect(db_filename) as conn:\n",
    "    cursor = conn.cursor()\n",
    "\n",
    "    query = \"\"\"\n",
    "    select id, priority, details, status, deadline from task\n",
    "    where project = :project_name\n",
    "    order by deadline, priority\n",
    "    \"\"\"\n",
    "\n",
    "    cursor.execute(query, {'project_name': project_name})\n",
    "\n",
    "    for row in cursor.fetchall():\n",
    "        task_id, priority, details, status, deadline = row\n",
    "        print('{:2d} [{:d}] {:<25} [{:<8}] ({})'.format(\n",
    "            task_id, priority, details, status, deadline))"
   ]
  },
  {
   "cell_type": "markdown",
   "metadata": {},
   "source": [
    "# Bulk Loading"
   ]
  },
  {
   "cell_type": "code",
   "execution_count": 17,
   "metadata": {
    "collapsed": true
   },
   "outputs": [],
   "source": [
    "import csv\n",
    "import sqlite3\n",
    "import sys\n",
    "\n",
    "db_filename = 'todo.db'\n",
    "data_filename = 'task.csv'\n",
    "\n",
    "SQL = \"\"\"\n",
    "insert into task (details, priority, status, deadline, project)\n",
    "values (:details, :priority, 'active', :deadline, :project)\n",
    "\"\"\"\n",
    "\n",
    "with open(data_filename, 'rt') as csv_file:\n",
    "    csv_reader = csv.DictReader(csv_file)\n",
    "\n",
    "    with sqlite3.connect(db_filename) as conn:\n",
    "        cursor = conn.cursor()\n",
    "        cursor.executemany(SQL, csv_reader)"
   ]
  },
  {
   "cell_type": "markdown",
   "metadata": {},
   "source": [
    "# Transactions"
   ]
  },
  {
   "cell_type": "code",
   "execution_count": 18,
   "metadata": {
    "collapsed": false
   },
   "outputs": [
    {
     "name": "stdout",
     "output_type": "stream",
     "text": [
      "Before changes:\n",
      "   pymotw\n",
      "\n",
      "After changes in conn1:\n",
      "   pymotw\n",
      "   virtualenvwrapper\n",
      "\n",
      "Before commit:\n",
      "   pymotw\n",
      "\n",
      "After commit:\n",
      "   pymotw\n",
      "   virtualenvwrapper\n"
     ]
    }
   ],
   "source": [
    "import sqlite3\n",
    "\n",
    "db_filename = 'todo.db'\n",
    "\n",
    "\n",
    "def show_projects(conn):\n",
    "    cursor = conn.cursor()\n",
    "    cursor.execute('select name, description from project')\n",
    "    for name, desc in cursor.fetchall():\n",
    "        print('  ', name)\n",
    "\n",
    "\n",
    "with sqlite3.connect(db_filename) as conn1:\n",
    "    print('Before changes:')\n",
    "    show_projects(conn1)\n",
    "\n",
    "    # Insert in one cursor\n",
    "    cursor1 = conn1.cursor()\n",
    "    cursor1.execute(\"\"\"\n",
    "    insert into project (name, description, deadline)\n",
    "    values ('virtualenvwrapper', 'Virtualenv Extensions',\n",
    "            '2011-01-01')\n",
    "    \"\"\")\n",
    "\n",
    "    print('\\nAfter changes in conn1:')\n",
    "    show_projects(conn1)\n",
    "\n",
    "    # Select from another connection, without committing first\n",
    "    print('\\nBefore commit:')\n",
    "    with sqlite3.connect(db_filename) as conn2:\n",
    "        show_projects(conn2)\n",
    "\n",
    "    # Commit then select from another connection\n",
    "    conn1.commit()\n",
    "    print('\\nAfter commit:')\n",
    "    with sqlite3.connect(db_filename) as conn3:\n",
    "        show_projects(conn3)"
   ]
  },
  {
   "cell_type": "markdown",
   "metadata": {},
   "source": [
    "# Discarding Changes"
   ]
  },
  {
   "cell_type": "code",
   "execution_count": 19,
   "metadata": {
    "collapsed": false
   },
   "outputs": [
    {
     "name": "stdout",
     "output_type": "stream",
     "text": [
      "Before changes:\n",
      "   pymotw\n",
      "   virtualenvwrapper\n",
      "\n",
      "After delete:\n",
      "   pymotw\n",
      "ERROR: simulated error\n",
      "\n",
      "After rollback:\n",
      "   pymotw\n",
      "   virtualenvwrapper\n"
     ]
    }
   ],
   "source": [
    "import sqlite3\n",
    "\n",
    "db_filename = 'todo.db'\n",
    "\n",
    "\n",
    "def show_projects(conn):\n",
    "    cursor = conn.cursor()\n",
    "    cursor.execute('select name, description from project')\n",
    "    for name, desc in cursor.fetchall():\n",
    "        print('  ', name)\n",
    "\n",
    "\n",
    "with sqlite3.connect(db_filename) as conn:\n",
    "\n",
    "    print('Before changes:')\n",
    "    show_projects(conn)\n",
    "\n",
    "    try:\n",
    "\n",
    "        # Insert\n",
    "        cursor = conn.cursor()\n",
    "        cursor.execute(\"\"\"delete from project\n",
    "                       where name = 'virtualenvwrapper'\n",
    "                       \"\"\")\n",
    "\n",
    "        # Show the settings\n",
    "        print('\\nAfter delete:')\n",
    "        show_projects(conn)\n",
    "\n",
    "        # Pretend the processing caused an error\n",
    "        raise RuntimeError('simulated error')\n",
    "\n",
    "    except Exception as err:\n",
    "        # Discard the changes\n",
    "        print('ERROR:', err)\n",
    "        conn.rollback()\n",
    "\n",
    "    else:\n",
    "        # Save the changes\n",
    "        conn.commit()\n",
    "\n",
    "    # Show the results\n",
    "    print('\\nAfter rollback:')\n",
    "    show_projects(conn)"
   ]
  },
  {
   "cell_type": "markdown",
   "metadata": {},
   "source": [
    "# Custom Aggregation\n",
    "An aggregation function collects many pieces of individual data and summarizes it in some way. Examples of built-in aggregation functions are avg() (average), min(), max(), and count().\n",
    "\n",
    "The API for aggregators used by sqlite3 is defined in terms of a class with two methods. The step() method is called once for each data value as the query is processed. The finalize() method is called one time at the end of the query and should return the aggregate value. This example implements an aggregator for the arithmetic mode. It returns the value that appears most frequently in the input."
   ]
  },
  {
   "cell_type": "code",
   "execution_count": 20,
   "metadata": {
    "collapsed": false
   },
   "outputs": [
    {
     "name": "stdout",
     "output_type": "stream",
     "text": [
      "step('2016-04-25')\n",
      "step('2016-08-22')\n",
      "step('2017-07-31')\n",
      "step('2016-11-30')\n",
      "step('2016-08-20')\n",
      "step('2016-11-01')\n",
      "finalize() -> '2016-04-25' (1 times)\n",
      "mode(deadline) is: 2016-04-25\n"
     ]
    }
   ],
   "source": [
    "import sqlite3\n",
    "import collections\n",
    "\n",
    "db_filename = 'todo.db'\n",
    "\n",
    "\n",
    "class Mode:\n",
    "\n",
    "    def __init__(self):\n",
    "        self.counter = collections.Counter()\n",
    "\n",
    "    def step(self, value):\n",
    "        print('step({!r})'.format(value))\n",
    "        self.counter[value] += 1\n",
    "\n",
    "    def finalize(self):\n",
    "        result, count = self.counter.most_common(1)[0]\n",
    "        print('finalize() -> {!r} ({} times)'.format(\n",
    "            result, count))\n",
    "        return result\n",
    "\n",
    "\n",
    "with sqlite3.connect(db_filename) as conn:\n",
    "    conn.create_aggregate('mode', 1, Mode)\n",
    "\n",
    "    cursor = conn.cursor()\n",
    "    cursor.execute(\"\"\"\n",
    "    select mode(deadline) from task where project = 'pymotw'\n",
    "    \"\"\")\n",
    "    row = cursor.fetchone()\n",
    "    print('mode(deadline) is:', row[0])"
   ]
  }
 ],
 "metadata": {
  "kernelspec": {
   "display_name": "Python 3",
   "language": "python",
   "name": "python3"
  },
  "language_info": {
   "codemirror_mode": {
    "name": "ipython",
    "version": 3
   },
   "file_extension": ".py",
   "mimetype": "text/x-python",
   "name": "python",
   "nbconvert_exporter": "python",
   "pygments_lexer": "ipython3",
   "version": "3.6.0"
  }
 },
 "nbformat": 4,
 "nbformat_minor": 2
}
