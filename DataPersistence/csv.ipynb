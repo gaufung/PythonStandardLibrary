{
 "cells": [
  {
   "cell_type": "markdown",
   "metadata": {},
   "source": [
    "The csv module can be used to work with data exported from spreadsheets and databases into text files formatted with fields and records, commonly referred to as comma-separated value (CSV) format because commas are often used to separate the fields in a record.\n",
    "\n"
   ]
  },
  {
   "cell_type": "markdown",
   "metadata": {},
   "source": [
    "# writing"
   ]
  },
  {
   "cell_type": "code",
   "execution_count": 2,
   "metadata": {
    "collapsed": false
   },
   "outputs": [
    {
     "name": "stdout",
     "output_type": "stream",
     "text": [
      "Title 1,Title 2,Title 3,Title 4\n",
      "1,a,08/01/07,å\n",
      "2,b,08/02/07,∫\n",
      "3,c,08/03/07,ç\n",
      "\n"
     ]
    }
   ],
   "source": [
    "import csv\n",
    "import sys\n",
    "\n",
    "unicode_chars = 'å∫ç'\n",
    "\n",
    "with open('data.csv', 'wt') as f:\n",
    "    writer = csv.writer(f)\n",
    "    writer.writerow(('Title 1', 'Title 2', 'Title 3', 'Title 4'))\n",
    "    for i in range(3):\n",
    "        row = (\n",
    "            i + 1,\n",
    "            chr(ord('a') + i),\n",
    "            '08/{:02d}/07'.format(i + 1),\n",
    "            unicode_chars[i],\n",
    "        )\n",
    "        writer.writerow(row)\n",
    "\n",
    "print(open(\"data.csv\", 'rt').read())\n"
   ]
  },
  {
   "cell_type": "markdown",
   "metadata": {},
   "source": [
    "# reading"
   ]
  },
  {
   "cell_type": "code",
   "execution_count": 3,
   "metadata": {
    "collapsed": false
   },
   "outputs": [
    {
     "name": "stdout",
     "output_type": "stream",
     "text": [
      "['Title 1', 'Title 2', 'Title 3', 'Title 4']\n",
      "['1', 'a', '08/01/07', 'å']\n",
      "['2', 'b', '08/02/07', '∫']\n",
      "['3', 'c', '08/03/07', 'ç']\n"
     ]
    }
   ],
   "source": [
    "import csv\n",
    "import sys\n",
    "\n",
    "with open('data.csv', 'rt') as f:\n",
    "    reader = csv.reader(f)\n",
    "    for row in reader:\n",
    "        print(row)"
   ]
  },
  {
   "cell_type": "markdown",
   "metadata": {},
   "source": [
    "# Dialect"
   ]
  },
  {
   "cell_type": "code",
   "execution_count": 4,
   "metadata": {
    "collapsed": false
   },
   "outputs": [
    {
     "name": "stdout",
     "output_type": "stream",
     "text": [
      "['excel', 'excel-tab', 'unix']\n"
     ]
    }
   ],
   "source": [
    "import csv\n",
    "\n",
    "print(csv.list_dialects())"
   ]
  },
  {
   "cell_type": "markdown",
   "metadata": {},
   "source": [
    "# Creating Dialect"
   ]
  },
  {
   "cell_type": "code",
   "execution_count": 6,
   "metadata": {
    "collapsed": false
   },
   "outputs": [
    {
     "name": "stdout",
     "output_type": "stream",
     "text": [
      "['Title 1 ', ' \"Title 2\" ', ' \"Title 3\"']\n",
      "['1 ', ' \"first line\"']\n",
      "['second line ', ' 08/18/17']\n"
     ]
    }
   ],
   "source": [
    "import csv\n",
    "\n",
    "csv.register_dialect('pipes', delimiter='|')\n",
    "\n",
    "with open('testdata.pipes', 'r') as f:\n",
    "    reader = csv.reader(f, dialect='pipes')\n",
    "    for row in reader:\n",
    "        print(row)"
   ]
  }
 ],
 "metadata": {
  "kernelspec": {
   "display_name": "Python 3",
   "language": "python",
   "name": "python3"
  },
  "language_info": {
   "codemirror_mode": {
    "name": "ipython",
    "version": 3
   },
   "file_extension": ".py",
   "mimetype": "text/x-python",
   "name": "python",
   "nbconvert_exporter": "python",
   "pygments_lexer": "ipython3",
   "version": "3.6.0"
  }
 },
 "nbformat": 4,
 "nbformat_minor": 2
}
