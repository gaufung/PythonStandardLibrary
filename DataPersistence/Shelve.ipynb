{
 "cells": [
  {
   "cell_type": "markdown",
   "metadata": {},
   "source": [
    "The shelve module can be used as a simple persistent storage option for Python objects when a relational database is not required. The shelf is accessed by keys, just as with a dictionary. The values are pickled and written to a database created and managed by dbm."
   ]
  },
  {
   "cell_type": "markdown",
   "metadata": {},
   "source": [
    "# Creating a new Shelf"
   ]
  },
  {
   "cell_type": "code",
   "execution_count": 1,
   "metadata": {
    "collapsed": true
   },
   "outputs": [],
   "source": [
    "import shelve\n",
    "with shelve.open('test_shelf.db') as s:\n",
    "     s['key1'] = {\n",
    "        'int': 10,\n",
    "        'float': 9.5,\n",
    "        'string': 'Sample data',\n",
    "    }"
   ]
  },
  {
   "cell_type": "code",
   "execution_count": 2,
   "metadata": {
    "collapsed": false
   },
   "outputs": [
    {
     "name": "stdout",
     "output_type": "stream",
     "text": [
      "{'int': 10, 'float': 9.5, 'string': 'Sample data'}\n"
     ]
    }
   ],
   "source": [
    "import shelve\n",
    "\n",
    "with shelve.open('test_shelf.db') as s:\n",
    "    existing = s['key1']\n",
    "\n",
    "print(existing)"
   ]
  },
  {
   "cell_type": "code",
   "execution_count": 3,
   "metadata": {
    "collapsed": false
   },
   "outputs": [
    {
     "name": "stdout",
     "output_type": "stream",
     "text": [
      "Existing: {'int': 10, 'float': 9.5, 'string': 'Sample data'}\n",
      "ERROR: cannot add item to database\n"
     ]
    }
   ],
   "source": [
    "import dbm\n",
    "import shelve\n",
    "\n",
    "with shelve.open('test_shelf.db', flag='r') as s:\n",
    "    print('Existing:', s['key1'])\n",
    "    try:\n",
    "        s['key1'] = 'new value'\n",
    "    except dbm.error as err:\n",
    "        print('ERROR: {}'.format(err))"
   ]
  },
  {
   "cell_type": "markdown",
   "metadata": {},
   "source": [
    "# Write Back"
   ]
  },
  {
   "cell_type": "code",
   "execution_count": 4,
   "metadata": {
    "collapsed": false
   },
   "outputs": [
    {
     "name": "stdout",
     "output_type": "stream",
     "text": [
      "{'int': 10, 'float': 9.5, 'string': 'Sample data'}\n",
      "{'int': 10, 'float': 9.5, 'string': 'Sample data'}\n"
     ]
    }
   ],
   "source": [
    "import shelve\n",
    "\n",
    "with shelve.open('test_shelf.db') as s:\n",
    "    print(s['key1'])\n",
    "    s['key1']['new_value'] = 'this was not here before'\n",
    "\n",
    "with shelve.open('test_shelf.db', writeback=True) as s:\n",
    "    print(s['key1'])"
   ]
  },
  {
   "cell_type": "code",
   "execution_count": 5,
   "metadata": {
    "collapsed": false
   },
   "outputs": [
    {
     "name": "stdout",
     "output_type": "stream",
     "text": [
      "Initial data:\n",
      "{'float': 9.5, 'int': 10, 'string': 'Sample data'}\n",
      "\n",
      "Modified:\n",
      "{'float': 9.5,\n",
      " 'int': 10,\n",
      " 'new_value': 'this was not here before',\n",
      " 'string': 'Sample data'}\n",
      "\n",
      "Preserved:\n",
      "{'float': 9.5,\n",
      " 'int': 10,\n",
      " 'new_value': 'this was not here before',\n",
      " 'string': 'Sample data'}\n"
     ]
    }
   ],
   "source": [
    "import shelve\n",
    "import pprint\n",
    "\n",
    "with shelve.open('test_shelf.db', writeback=True) as s:\n",
    "    print('Initial data:')\n",
    "    pprint.pprint(s['key1'])\n",
    "\n",
    "    s['key1']['new_value'] = 'this was not here before'\n",
    "    print('\\nModified:')\n",
    "    pprint.pprint(s['key1'])\n",
    "\n",
    "with shelve.open('test_shelf.db', writeback=True) as s:\n",
    "    print('\\nPreserved:')\n",
    "    pprint.pprint(s['key1'])\n"
   ]
  }
 ],
 "metadata": {
  "kernelspec": {
   "display_name": "Python 3",
   "language": "python",
   "name": "python3"
  },
  "language_info": {
   "codemirror_mode": {
    "name": "ipython",
    "version": 3
   },
   "file_extension": ".py",
   "mimetype": "text/x-python",
   "name": "python",
   "nbconvert_exporter": "python",
   "pygments_lexer": "ipython3",
   "version": "3.6.0"
  }
 },
 "nbformat": 4,
 "nbformat_minor": 2
}
