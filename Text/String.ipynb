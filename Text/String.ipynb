{
 "cells": [
  {
   "cell_type": "markdown",
   "metadata": {},
   "source": [
    "# 1 funcitons"
   ]
  },
  {
   "cell_type": "code",
   "execution_count": 2,
   "metadata": {
    "collapsed": false
   },
   "outputs": [
    {
     "name": "stdout",
     "output_type": "stream",
     "text": [
      "hello, i came from China University of Mining and technology\n",
      "Hello, I Came From China University Of Mining And Technology\n"
     ]
    }
   ],
   "source": [
    "import string\n",
    "s = 'hello, i came from China University of Mining and technology'\n",
    "print(s)\n",
    "print(string.capwords(s))"
   ]
  },
  {
   "cell_type": "code",
   "execution_count": 3,
   "metadata": {
    "collapsed": false
   },
   "outputs": [
    {
     "name": "stdout",
     "output_type": "stream",
     "text": [
      "Template: \n",
      "Variable : foo\n",
      "Escape : $\n",
      "Variable in text : fooiable\n",
      "\n"
     ]
    }
   ],
   "source": [
    "import string\n",
    "values = {'var':'foo'}\n",
    "t = string.Template('''\n",
    "Variable : $var\n",
    "Escape : $$\n",
    "Variable in text : ${var}iable\n",
    "''')\n",
    "print('Template:', t.substitute(values))"
   ]
  },
  {
   "cell_type": "code",
   "execution_count": 5,
   "metadata": {
    "collapsed": false
   },
   "outputs": [
    {
     "name": "stdout",
     "output_type": "stream",
     "text": [
      "Interploation \n",
      "variable : foo\n",
      "escape : %\n",
      "variable in text :fooiable\n",
      "\n"
     ]
    }
   ],
   "source": [
    "s = '''\n",
    "variable : %(var)s\n",
    "escape : %%\n",
    "variable in text :%(var)siable\n",
    "'''\n",
    "print('Interploation', s % values)"
   ]
  },
  {
   "cell_type": "code",
   "execution_count": 7,
   "metadata": {
    "collapsed": false
   },
   "outputs": [
    {
     "name": "stdout",
     "output_type": "stream",
     "text": [
      "Fomat: \n",
      "varibale : foo\n",
      "Escape : {}\n",
      "Variable in text : fooiable\n",
      "\n"
     ]
    }
   ],
   "source": [
    "s = '''\n",
    "varibale : {var}\n",
    "Escape : {{}}\n",
    "Variable in text : {var}iable\n",
    "'''\n",
    "print('Fomat:', s.format(**values))"
   ]
  },
  {
   "cell_type": "markdown",
   "metadata": {},
   "source": [
    "using safe_substitute method "
   ]
  },
  {
   "cell_type": "code",
   "execution_count": 8,
   "metadata": {
    "collapsed": false
   },
   "outputs": [
    {
     "name": "stdout",
     "output_type": "stream",
     "text": [
      "safe_substitute foo is here but $missing is not provided\n"
     ]
    }
   ],
   "source": [
    "import string\n",
    "values = {'var':'foo'}\n",
    "t = string.Template('$var is here but $missing is not provided')\n",
    "print('safe_substitute', t.safe_substitute(values))"
   ]
  },
  {
   "cell_type": "markdown",
   "metadata": {},
   "source": [
    "# 2 Advance Templates"
   ]
  },
  {
   "cell_type": "code",
   "execution_count": 9,
   "metadata": {
    "collapsed": false
   },
   "outputs": [
    {
     "name": "stdout",
     "output_type": "stream",
     "text": [
      "Modified ID pattern\n",
      "\n",
      "Delimiter : %\n",
      "Replaced : replaced\n",
      "Ignore : %notunderscores\n",
      "\n"
     ]
    }
   ],
   "source": [
    "import string\n",
    "class MyTemplate(string.Template):\n",
    "    delimiter = '%'\n",
    "    idpattern = '[a-z]+_[a-z]+'\n",
    "\n",
    "template_text = '''\n",
    "Delimiter : %%\n",
    "Replaced : %with_underscore\n",
    "Ignore : %notunderscores\n",
    "'''\n",
    "d = {\n",
    "    'with_underscore' : 'replaced',\n",
    "    'notunderscore' : 'not replaced'\n",
    "}\n",
    "t = MyTemplate(template_text)\n",
    "print('Modified ID pattern')\n",
    "print(t.safe_substitute(d))"
   ]
  },
  {
   "cell_type": "code",
   "execution_count": 10,
   "metadata": {
    "collapsed": false
   },
   "outputs": [
    {
     "name": "stdout",
     "output_type": "stream",
     "text": [
      "\n",
      "    \\$(?:\n",
      "      (?P<escaped>\\$) |   # Escape sequence of two delimiters\n",
      "      (?P<named>[_a-z][_a-z0-9]*)      |   # delimiter and a Python identifier\n",
      "      {(?P<braced>[_a-z][_a-z0-9]*)}   |   # delimiter and a braced identifier\n",
      "      (?P<invalid>)              # Other ill-formed delimiter exprs\n",
      "    )\n",
      "    \n"
     ]
    }
   ],
   "source": [
    "import string\n",
    "t = string.Template('$var')\n",
    "print(t.pattern.pattern)"
   ]
  },
  {
   "cell_type": "code",
   "execution_count": 12,
   "metadata": {
    "collapsed": false
   },
   "outputs": [
    {
     "name": "stdout",
     "output_type": "stream",
     "text": [
      "MATCHES: [('{{', '', '', ''), ('', 'var', '', '')]\n",
      "Substitude: \n",
      "{{ \n",
      "replacement\n",
      "\n"
     ]
    }
   ],
   "source": [
    "import re\n",
    "import string\n",
    "class MyTemplate(string.Template):\n",
    "    delimiter = '{{'\n",
    "    pattern = r'''\n",
    "    \\{\\{(?:\n",
    "    (?P<escaped>\\{\\{)|\n",
    "    (?P<named>[_a-z][_a-z0-9]*)\\}\\}|\n",
    "    (?P<braced>[_a-z][_a-z0-9]*)\\}\\}|\n",
    "    (?P<invalid>)\n",
    "    )\n",
    "    '''\n",
    "t = MyTemplate('''\n",
    "{{{{ \n",
    "{{var}}\n",
    "''')\n",
    "print('MATCHES:', t.pattern.findall(t.template))\n",
    "print('Substitude:', t.safe_substitute(var='replacement'))"
   ]
  },
  {
   "cell_type": "markdown",
   "metadata": {},
   "source": [
    "# 2 Constants"
   ]
  },
  {
   "cell_type": "code",
   "execution_count": 14,
   "metadata": {
    "collapsed": false
   },
   "outputs": [
    {
     "name": "stdout",
     "output_type": "stream",
     "text": [
      "ascii_letters='abcdefghijklmnopqrstuvwxyzABCDEFGHIJKLMNOPQRSTUVWXYZ'\n",
      "\n",
      "ascii_lowercase='abcdefghijklmnopqrstuvwxyz'\n",
      "\n",
      "ascii_uppercase='ABCDEFGHIJKLMNOPQRSTUVWXYZ'\n",
      "\n",
      "digits='0123456789'\n",
      "\n",
      "hexdigits='0123456789abcdefABCDEF'\n",
      "\n",
      "octdigits='01234567'\n",
      "\n",
      "printable='0123456789abcdefghijklmnopqrstuvwxyzABCDEFGHIJKLMNOPQRSTUVWXYZ!\"#$%&\\'()*+,-./:;<=>?@[\\\\]^_`{|}~ \\t\\n\\r\\x0b\\x0c'\n",
      "\n",
      "punctuation='!\"#$%&\\'()*+,-./:;<=>?@[\\\\]^_`{|}~'\n",
      "\n",
      "whitespace=' \\t\\n\\r\\x0b\\x0c'\n",
      "\n"
     ]
    }
   ],
   "source": [
    "import inspect\n",
    "import string\n",
    "def is_str(value):\n",
    "    return isinstance(value, str)\n",
    "for name, value in inspect.getmembers(string, is_str):\n",
    "    if name.startswith('_'):\n",
    "        continue\n",
    "    print('%s=%r\\n' % (name, value))"
   ]
  }
 ],
 "metadata": {
  "kernelspec": {
   "display_name": "Python 3",
   "language": "python",
   "name": "python3"
  },
  "language_info": {
   "codemirror_mode": {
    "name": "ipython",
    "version": 3
   },
   "file_extension": ".py",
   "mimetype": "text/x-python",
   "name": "python",
   "nbconvert_exporter": "python",
   "pygments_lexer": "ipython3",
   "version": "3.6.0"
  }
 },
 "nbformat": 4,
 "nbformat_minor": 2
}
