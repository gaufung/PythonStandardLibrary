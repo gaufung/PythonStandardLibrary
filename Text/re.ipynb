{
 "cells": [
  {
   "cell_type": "markdown",
   "metadata": {},
   "source": [
    "# 1 Finding Patterns in Text"
   ]
  },
  {
   "cell_type": "code",
   "execution_count": 4,
   "metadata": {
    "collapsed": false
   },
   "outputs": [
    {
     "name": "stdout",
     "output_type": "stream",
     "text": [
      "Found \"this\" \n",
      " in \"Does this text match the pattern\" from 5 to 9 (\"this\")\n"
     ]
    }
   ],
   "source": [
    "import re\n",
    "pattern = 'this'\n",
    "text = 'Does this text match the pattern'\n",
    "match = re.search(pattern, text)\n",
    "s = match.start()\n",
    "e = match.end()\n",
    "print('Found \"{}\" \\n in \"{}\" from {} to {} (\"{}\")'.format(match.re.pattern,match.string, s, e, text[s:e]))"
   ]
  },
  {
   "cell_type": "markdown",
   "metadata": {},
   "source": [
    "# 2 Compiling Expressions"
   ]
  },
  {
   "cell_type": "code",
   "execution_count": 6,
   "metadata": {
    "collapsed": false
   },
   "outputs": [
    {
     "name": "stdout",
     "output_type": "stream",
     "text": [
      "Text: 'Does this text match the pattern'\n",
      "\n",
      "Seeking \"this\"->match!\n",
      "Seeking \"that\"->no match\n"
     ]
    }
   ],
   "source": [
    "import re\n",
    "regexes = [\n",
    "    re.compile(p)\n",
    "    for p in ['this', 'that']\n",
    "]\n",
    "text = 'Does this text match the pattern'\n",
    "print('Text: {!r}\\n'.format(text))\n",
    "for regex in regexes:\n",
    "    print('Seeking \"{}\"->'.format(regex.pattern), end= '')\n",
    "    if regex.search(text):\n",
    "        print('match!')\n",
    "    else:\n",
    "        print('no match')"
   ]
  },
  {
   "cell_type": "markdown",
   "metadata": {},
   "source": [
    "# 3 Multiple Matches"
   ]
  },
  {
   "cell_type": "code",
   "execution_count": 7,
   "metadata": {
    "collapsed": false
   },
   "outputs": [
    {
     "name": "stdout",
     "output_type": "stream",
     "text": [
      "Found 'ab'\n",
      "Found 'ab'\n"
     ]
    }
   ],
   "source": [
    "import re\n",
    "text = 'abbaaabbbbaaaaa'\n",
    "pattern = 'ab'\n",
    "for match in re.findall(pattern, text):\n",
    "    print('Found {!r}'.format(match))"
   ]
  },
  {
   "cell_type": "code",
   "execution_count": 8,
   "metadata": {
    "collapsed": false
   },
   "outputs": [
    {
     "name": "stdout",
     "output_type": "stream",
     "text": [
      "Found at 0:2\n",
      "Found at 5:7\n"
     ]
    }
   ],
   "source": [
    "for match in re.finditer(pattern, text):\n",
    "    s = match.start()\n",
    "    e = match.end()\n",
    "    print('Found at {:d}:{:d}'.format(s,e))"
   ]
  },
  {
   "cell_type": "markdown",
   "metadata": {},
   "source": [
    "# 4 Repetition"
   ]
  },
  {
   "cell_type": "code",
   "execution_count": 10,
   "metadata": {
    "collapsed": false
   },
   "outputs": [
    {
     "name": "stdout",
     "output_type": "stream",
     "text": [
      "'ab*' (a followdd by zero or more b)\n",
      "\n",
      "  'abbaabbba'\n",
      "  'abb'\n",
      "  ...'a'\n",
      "  ....'abbb'\n",
      "  ........'a'\n",
      "\n",
      "'ab+' (a followed by one or more b)\n",
      "\n",
      "  'abbaabbba'\n",
      "  'abb'\n",
      "  ....'abbb'\n",
      "\n",
      "'ab?' (a followed by zero or one b)\n",
      "\n",
      "  'abbaabbba'\n",
      "  'ab'\n",
      "  ...'a'\n",
      "  ....'ab'\n",
      "  ........'a'\n",
      "\n",
      "'ab{3}' (a followed by three b)\n",
      "\n",
      "  'abbaabbba'\n",
      "  ....'abbb'\n",
      "\n",
      "'ab{2,3}' (a followed by two or three b)\n",
      "\n",
      "  'abbaabbba'\n",
      "  'abb'\n",
      "  ....'abbb'\n",
      "\n"
     ]
    }
   ],
   "source": [
    "import re\n",
    "def test_patterns(text, patterns):\n",
    "    \"\"\"Given source text and a list of patterns, look for\n",
    "    matches for each pattern within the text and print\n",
    "    them to stdout.\n",
    "    \"\"\"\n",
    "    # Look for each pattern in the text and print the results\n",
    "    for pattern, desc in patterns:\n",
    "        print(\"'{}' ({})\\n\".format(pattern, desc))\n",
    "        print(\"  '{}'\".format(text))\n",
    "        for match in re.finditer(pattern, text):\n",
    "            s = match.start()\n",
    "            e = match.end()\n",
    "            substr = text[s:e]\n",
    "            n_backslashes = text[:s].count('\\\\')\n",
    "            prefix = '.' * (s + n_backslashes)\n",
    "            print(\"  {}'{}'\".format(prefix, substr))\n",
    "        print()\n",
    "    return\n",
    "\n",
    "test_patterns('abbaabbba',\n",
    "              [\n",
    "                  ('ab*','a followdd by zero or more b'),\n",
    "                  ('ab+','a followed by one or more b'),\n",
    "                  ('ab?', 'a followed by zero or one b'),\n",
    "                  ('ab{3}','a followed by three b'),\n",
    "                  ('ab{2,3}', 'a followed by two or three b')\n",
    "              ]\n",
    ")"
   ]
  },
  {
   "cell_type": "markdown",
   "metadata": {},
   "source": [
    "When processing a repetition instruction, re will usually consume as much of the input as possible while matching the pattern. This so-called greedy behavior may result in fewer individual matches, or the matches may include more of the input text than intended. Greediness can be turned off by following the repetition instruction with ?."
   ]
  },
  {
   "cell_type": "code",
   "execution_count": 11,
   "metadata": {
    "collapsed": false
   },
   "outputs": [
    {
     "name": "stdout",
     "output_type": "stream",
     "text": [
      "'ab*?' (a followdd by zero or more b)\n",
      "\n",
      "  'abbaabbba'\n",
      "  'a'\n",
      "  ...'a'\n",
      "  ....'a'\n",
      "  ........'a'\n",
      "\n",
      "'ab+?' (a followed by one or more b)\n",
      "\n",
      "  'abbaabbba'\n",
      "  'ab'\n",
      "  ....'ab'\n",
      "\n",
      "'ab??' (a followed by zero or one b)\n",
      "\n",
      "  'abbaabbba'\n",
      "  'a'\n",
      "  ...'a'\n",
      "  ....'a'\n",
      "  ........'a'\n",
      "\n",
      "'ab{3}?' (a followed by three b)\n",
      "\n",
      "  'abbaabbba'\n",
      "  ....'abbb'\n",
      "\n",
      "'ab{2,3}?' (a followed by two or three b)\n",
      "\n",
      "  'abbaabbba'\n",
      "  'abb'\n",
      "  ....'abb'\n",
      "\n"
     ]
    }
   ],
   "source": [
    "test_patterns('abbaabbba',\n",
    "              [\n",
    "                  ('ab*?','a followdd by zero or more b'),\n",
    "                  ('ab+?','a followed by one or more b'),\n",
    "                  ('ab??', 'a followed by zero or one b'),\n",
    "                  ('ab{3}?','a followed by three b'),\n",
    "                  ('ab{2,3}?', 'a followed by two or three b')\n",
    "              ]\n",
    ")"
   ]
  },
  {
   "cell_type": "markdown",
   "metadata": {},
   "source": [
    "# 5 character Sets"
   ]
  },
  {
   "cell_type": "code",
   "execution_count": 12,
   "metadata": {
    "collapsed": false
   },
   "outputs": [
    {
     "name": "stdout",
     "output_type": "stream",
     "text": [
      "'[ab]' (either a or b)\n",
      "\n",
      "  'abbaabbba'\n",
      "  'a'\n",
      "  .'b'\n",
      "  ..'b'\n",
      "  ...'a'\n",
      "  ....'a'\n",
      "  .....'b'\n",
      "  ......'b'\n",
      "  .......'b'\n",
      "  ........'a'\n",
      "\n",
      "'a[ab]+' (a followed by one or more a or b)\n",
      "\n",
      "  'abbaabbba'\n",
      "  'abbaabbba'\n",
      "\n",
      "'a[ab]+?' (a followed by one or more a or b, not greedy)\n",
      "\n",
      "  'abbaabbba'\n",
      "  'ab'\n",
      "  ...'aa'\n",
      "\n"
     ]
    }
   ],
   "source": [
    "test_patterns(\n",
    "    'abbaabbba',\n",
    "    [\n",
    "        ('[ab]', 'either a or b'),\n",
    "        ('a[ab]+', 'a followed by one or more a or b'),\n",
    "        ('a[ab]+?', 'a followed by one or more a or b, not greedy'),\n",
    "    ]\n",
    ")"
   ]
  },
  {
   "cell_type": "code",
   "execution_count": 13,
   "metadata": {
    "collapsed": false
   },
   "outputs": [
    {
     "name": "stdout",
     "output_type": "stream",
     "text": [
      "'[^-. ]+' (sequence withouct -, ., or space)\n",
      "\n",
      "  'This is some text -- with punctuation'\n",
      "  'This'\n",
      "  .....'is'\n",
      "  ........'some'\n",
      "  .............'text'\n",
      "  .....................'with'\n",
      "  ..........................'punctuation'\n",
      "\n"
     ]
    }
   ],
   "source": [
    "test_patterns(\n",
    "    'This is some text -- with punctuation',\n",
    "    [\n",
    "        ('[^-. ]+', 'sequence withouct -, ., or space')\n",
    "    ]\n",
    ")"
   ]
  },
  {
   "cell_type": "code",
   "execution_count": 14,
   "metadata": {
    "collapsed": false
   },
   "outputs": [
    {
     "name": "stdout",
     "output_type": "stream",
     "text": [
      "'[a-z]+' (sequence of lowercase letters)\n",
      "\n",
      "  'This is some text -- with punctuation'\n",
      "  .'his'\n",
      "  .....'is'\n",
      "  ........'some'\n",
      "  .............'text'\n",
      "  .....................'with'\n",
      "  ..........................'punctuation'\n",
      "\n",
      "'[A-Z]+' (sequecne of uppercase letters)\n",
      "\n",
      "  'This is some text -- with punctuation'\n",
      "  'T'\n",
      "\n",
      "'[a-zA-Z]+' (sequecne of letters of either case)\n",
      "\n",
      "  'This is some text -- with punctuation'\n",
      "  'This'\n",
      "  .....'is'\n",
      "  ........'some'\n",
      "  .............'text'\n",
      "  .....................'with'\n",
      "  ..........................'punctuation'\n",
      "\n",
      "'[A-Z][a-z]+' (one uppercase followed by lowercase)\n",
      "\n",
      "  'This is some text -- with punctuation'\n",
      "  'This'\n",
      "\n"
     ]
    }
   ],
   "source": [
    "test_patterns(\n",
    "    'This is some text -- with punctuation',\n",
    "    [\n",
    "        ('[a-z]+', 'sequence of lowercase letters'),\n",
    "        ('[A-Z]+', 'sequecne of uppercase letters'),\n",
    "        ('[a-zA-Z]+', 'sequecne of letters of either case'),\n",
    "        ('[A-Z][a-z]+', 'one uppercase followed by lowercase')\n",
    "    ]\n",
    ")"
   ]
  },
  {
   "cell_type": "code",
   "execution_count": 15,
   "metadata": {
    "collapsed": false
   },
   "outputs": [
    {
     "name": "stdout",
     "output_type": "stream",
     "text": [
      "'a.' (a followed by any one character)\n",
      "\n",
      "  'abbaabbba'\n",
      "  'ab'\n",
      "  ...'aa'\n",
      "\n",
      "'b.' (b followed by any one character)\n",
      "\n",
      "  'abbaabbba'\n",
      "  .'bb'\n",
      "  .....'bb'\n",
      "  .......'ba'\n",
      "\n",
      "'a.*b' (a followed by anything, end in b)\n",
      "\n",
      "  'abbaabbba'\n",
      "  'abbaabbb'\n",
      "\n",
      "'a.*?b' (a followed by anythin, end in b)\n",
      "\n",
      "  'abbaabbba'\n",
      "  'ab'\n",
      "  ...'aab'\n",
      "\n"
     ]
    }
   ],
   "source": [
    "test_patterns(\n",
    "    'abbaabbba',\n",
    "    [\n",
    "        ('a.', 'a followed by any one character'),\n",
    "        ('b.', 'b followed by any one character'),\n",
    "        ('a.*b', 'a followed by anything, end in b'),\n",
    "        ('a.*?b', 'a followed by anythin, end in b')\n",
    "    ]\n",
    ")"
   ]
  },
  {
   "cell_type": "markdown",
   "metadata": {},
   "source": [
    "# 5 Escape Codes\n",
    "\n",
    "code | Meaning\n",
    "-- | -- \n",
    "\\d | a digit\n",
    "\\D | a non-digit\n",
    "\\s | whitespace(tab,space, newline, etc)\n",
    "\\S | non-whitespace\n",
    "\\w | alphanumeric\n",
    "\\W | non-alphanumeric"
   ]
  },
  {
   "cell_type": "code",
   "execution_count": 16,
   "metadata": {
    "collapsed": false
   },
   "outputs": [
    {
     "name": "stdout",
     "output_type": "stream",
     "text": [
      "'\\d+' (sequece of digits)\n",
      "\n",
      "  'A prime #1 example!'\n",
      "  .........'1'\n",
      "\n",
      "'\\D+' (sequence of non-digits)\n",
      "\n",
      "  'A prime #1 example!'\n",
      "  'A prime #'\n",
      "  ..........' example!'\n",
      "\n",
      "'\\s+' (sequence of whitespace)\n",
      "\n",
      "  'A prime #1 example!'\n",
      "  .' '\n",
      "  .......' '\n",
      "  ..........' '\n",
      "\n",
      "'\\S+' (sequence of non-whitespace)\n",
      "\n",
      "  'A prime #1 example!'\n",
      "  'A'\n",
      "  ..'prime'\n",
      "  ........'#1'\n",
      "  ...........'example!'\n",
      "\n",
      "'\\w+' (alphanumeric characters)\n",
      "\n",
      "  'A prime #1 example!'\n",
      "  'A'\n",
      "  ..'prime'\n",
      "  .........'1'\n",
      "  ...........'example'\n",
      "\n",
      "'\\W+' (non-alphanumeric)\n",
      "\n",
      "  'A prime #1 example!'\n",
      "  .' '\n",
      "  .......' #'\n",
      "  ..........' '\n",
      "  ..................'!'\n",
      "\n"
     ]
    }
   ],
   "source": [
    "test_patterns(\n",
    "    'A prime #1 example!',\n",
    "    [\n",
    "        (r'\\d+', 'sequece of digits'),\n",
    "        (r'\\D+', 'sequence of non-digits'),\n",
    "        (r'\\s+', 'sequence of whitespace'),\n",
    "        (r'\\S+', 'sequence of non-whitespace'),\n",
    "        (r'\\w+', 'alphanumeric characters'),\n",
    "        (r'\\W+', 'non-alphanumeric')\n",
    "    ]\n",
    ")"
   ]
  },
  {
   "cell_type": "markdown",
   "metadata": {},
   "source": [
    "# 6 Anchoring\n",
    "\n",
    "code | Meaning\n",
    "-- | -- \n",
    "^ | start of string, or line\n",
    "$ | end of string, or line\n",
    "\\A | start of string\n",
    "\\Z | end of string\n",
    "\\b | empty string at begining or end of a word\n",
    "\\B | empty string not at begining or end of word"
   ]
  },
  {
   "cell_type": "code",
   "execution_count": 19,
   "metadata": {
    "collapsed": false
   },
   "outputs": [
    {
     "name": "stdout",
     "output_type": "stream",
     "text": [
      "'^\\w+' (word at start of string)\n",
      "\n",
      "  'This is some text -- with punctuation.'\n",
      "  'This'\n",
      "\n",
      "'\\A\\w+' (word at start of string)\n",
      "\n",
      "  'This is some text -- with punctuation.'\n",
      "  'This'\n",
      "\n",
      "'\\w+\\S*$' (word near end of string)\n",
      "\n",
      "  'This is some text -- with punctuation.'\n",
      "  ..........................'punctuation.'\n",
      "\n",
      "'\\w+\\S*\\Z' (word near end of string)\n",
      "\n",
      "  'This is some text -- with punctuation.'\n",
      "  ..........................'punctuation.'\n",
      "\n",
      "'\\w*t\\w*' (word containing t)\n",
      "\n",
      "  'This is some text -- with punctuation.'\n",
      "  .............'text'\n",
      "  .....................'with'\n",
      "  ..........................'punctuation'\n",
      "\n",
      "'\\bt\\w+' (t at start of word)\n",
      "\n",
      "  'This is some text -- with punctuation.'\n",
      "  .............'text'\n",
      "\n",
      "'\\w+t\\b' (t at end of word)\n",
      "\n",
      "  'This is some text -- with punctuation.'\n",
      "  .............'text'\n",
      "\n",
      "'\\Bt\\B' (t, not start or end of word)\n",
      "\n",
      "  'This is some text -- with punctuation.'\n",
      "  .......................'t'\n",
      "  ..............................'t'\n",
      "  .................................'t'\n",
      "\n"
     ]
    }
   ],
   "source": [
    "test_patterns(\n",
    "    'This is some text -- with punctuation.',\n",
    "    [(r'^\\w+', 'word at start of string'),\n",
    "     (r'\\A\\w+', 'word at start of string'),\n",
    "     (r'\\w+\\S*$', 'word near end of string'),\n",
    "     (r'\\w+\\S*\\Z', 'word near end of string'),\n",
    "     (r'\\w*t\\w*', 'word containing t'),\n",
    "     (r'\\bt\\w+', 't at start of word'),\n",
    "     (r'\\w+t\\b', 't at end of word'),\n",
    "     (r'\\Bt\\B', 't, not start or end of word')],\n",
    ")Constraining the Search"
   ]
  },
  {
   "cell_type": "markdown",
   "metadata": {},
   "source": [
    "# 7 Constraining the Search"
   ]
  },
  {
   "cell_type": "code",
   "execution_count": 20,
   "metadata": {
    "collapsed": false
   },
   "outputs": [
    {
     "name": "stdout",
     "output_type": "stream",
     "text": [
      "Text   : This is some text --with punctuation.\n",
      "pattern: is\n",
      "Match None\n",
      "Search <_sre.SRE_Match object; span=(2, 4), match='is'>\n"
     ]
    }
   ],
   "source": [
    "import re\n",
    "text = 'This is some text --with punctuation.'\n",
    "pattern = 'is'\n",
    "print('Text   :',text)\n",
    "print('pattern:', pattern)\n",
    "\n",
    "m = re.match(pattern, text)\n",
    "print('Match', m)\n",
    "s = re.search(pattern ,text)\n",
    "print('Search', s)"
   ]
  },
  {
   "cell_type": "markdown",
   "metadata": {},
   "source": [
    "# 8 Dissecting Matches with groups"
   ]
  },
  {
   "cell_type": "code",
   "execution_count": 21,
   "metadata": {
    "collapsed": false
   },
   "outputs": [
    {
     "name": "stdout",
     "output_type": "stream",
     "text": [
      "'a(ab)' (a followed by literal ab)\n",
      "\n",
      "  'abbaaabbbbaaaaa'\n",
      "  ....'aab'\n",
      "\n",
      "'a(a*b*)' (a followed by 0-n a and 0-b b)\n",
      "\n",
      "  'abbaaabbbbaaaaa'\n",
      "  'abb'\n",
      "  ...'aaabbbb'\n",
      "  ..........'aaaaa'\n",
      "\n",
      "'a(ab)*' (a followed by 0-n ab)\n",
      "\n",
      "  'abbaaabbbbaaaaa'\n",
      "  'a'\n",
      "  ...'a'\n",
      "  ....'aab'\n",
      "  ..........'a'\n",
      "  ...........'a'\n",
      "  ............'a'\n",
      "  .............'a'\n",
      "  ..............'a'\n",
      "\n",
      "'a(ab)+' (a followed by 1-n ab)\n",
      "\n",
      "  'abbaaabbbbaaaaa'\n",
      "  ....'aab'\n",
      "\n"
     ]
    }
   ],
   "source": [
    "test_patterns(\n",
    "    'abbaaabbbbaaaaa',\n",
    "    [\n",
    "        ('a(ab)', 'a followed by literal ab'),\n",
    "        ('a(a*b*)','a followed by 0-n a and 0-b b'),\n",
    "        ('a(ab)*', 'a followed by 0-n ab'),\n",
    "        ('a(ab)+', 'a followed by 1-n ab')\n",
    "    ]\n",
    ")"
   ]
  },
  {
   "cell_type": "code",
   "execution_count": 25,
   "metadata": {
    "collapsed": false
   },
   "outputs": [
    {
     "name": "stdout",
     "output_type": "stream",
     "text": [
      "This is some text -- with punctuation\n",
      "\n",
      "'^(\\w+)' (word at start of string)\n",
      "\n",
      "   ('This',)\n",
      "\n",
      "'(\\w+)\\S*$' (word at end, with optional punctuation)\n",
      "\n",
      "   ('punctuation',)\n",
      "\n",
      "'(\\bt\\w+)\\W+(\\w+)' (word starting with t, another word)\n",
      "\n",
      "   ('text', 'with')\n",
      "\n",
      "'(\\w+t)\\b' (word ending with t)\n",
      "\n",
      "   ('text',)\n",
      "\n"
     ]
    }
   ],
   "source": [
    "import re\n",
    "text = 'This is some text -- with punctuation'\n",
    "print(text)\n",
    "print()\n",
    "\n",
    "patterns = [\n",
    "    (r'^(\\w+)', 'word at start of string'),\n",
    "    (r'(\\w+)\\S*$', 'word at end, with optional punctuation'),\n",
    "    (r'(\\bt\\w+)\\W+(\\w+)', 'word starting with t, another word'),\n",
    "    (r'(\\w+t)\\b', 'word ending with t')\n",
    "]\n",
    "for pattern, desc in patterns:\n",
    "    regex = re.compile(pattern)\n",
    "    match = regex.search(text)\n",
    "    print(\"'{}' ({})\\n\".format(pattern, desc))\n",
    "    print('  ', match.groups())\n",
    "    print()"
   ]
  },
  {
   "cell_type": "code",
   "execution_count": 30,
   "metadata": {
    "collapsed": false
   },
   "outputs": [
    {
     "name": "stdout",
     "output_type": "stream",
     "text": [
      "This is some text -- with punctuation\n",
      "\n",
      "'(?P<first_word>\\w+)'\n",
      "   ('This',)\n",
      "   {'first_word': 'This'}\n",
      "\n",
      "'(?P<last_word>\\w+)\\S*$'\n",
      "   ('punctuation',)\n",
      "   {'last_word': 'punctuation'}\n",
      "\n",
      "'(?P<t_word>\\bt\\w+)\\W+(?P<other_word>\\w+)'\n",
      "   ('text', 'with')\n",
      "   {'t_word': 'text', 'other_word': 'with'}\n",
      "\n",
      "'(?P<ends_with_t>\\w+t)\\b'\n",
      "   ('text',)\n",
      "   {'ends_with_t': 'text'}\n",
      "\n"
     ]
    }
   ],
   "source": [
    "import re\n",
    "text = 'This is some text -- with punctuation'\n",
    "print(text)\n",
    "print()\n",
    "\n",
    "patterns = [\n",
    "    r'(?P<first_word>\\w+)',\n",
    "    r'(?P<last_word>\\w+)\\S*$',\n",
    "    r'(?P<t_word>\\bt\\w+)\\W+(?P<other_word>\\w+)',\n",
    "    r'(?P<ends_with_t>\\w+t)\\b'\n",
    "]\n",
    "\n",
    "for pattern in patterns:\n",
    "    regex = re.compile(pattern)\n",
    "    match = regex.search(text)\n",
    "    print(\"'{}'\".format(pattern))\n",
    "    print('  ', match.groups())\n",
    "    print('  ', match.groupdict())\n",
    "    print()"
   ]
  },
  {
   "cell_type": "markdown",
   "metadata": {
    "collapsed": true
   },
   "source": [
    "# 8 Search Options"
   ]
  },
  {
   "cell_type": "markdown",
   "metadata": {},
   "source": [
    "## 8.1 Case-insensitive match"
   ]
  },
  {
   "cell_type": "code",
   "execution_count": 31,
   "metadata": {
    "collapsed": false
   },
   "outputs": [
    {
     "name": "stdout",
     "output_type": "stream",
     "text": [
      "Text:\n",
      "  'This is some text -- with punctuation.'\n",
      "Pattern:\n",
      "  \\bT\\w+\n",
      "Case-sensitive:\n",
      "  'This'\n",
      "Case-insensitive:\n",
      "  'This'\n",
      "  'text'\n"
     ]
    }
   ],
   "source": [
    "import re\n",
    "\n",
    "text = 'This is some text -- with punctuation.'\n",
    "pattern = r'\\bT\\w+'\n",
    "with_case = re.compile(pattern)\n",
    "without_case = re.compile(pattern, re.IGNORECASE)\n",
    "\n",
    "print('Text:\\n  {!r}'.format(text))\n",
    "print('Pattern:\\n  {}'.format(pattern))\n",
    "print('Case-sensitive:')\n",
    "for match in with_case.findall(text):\n",
    "    print('  {!r}'.format(match))\n",
    "print('Case-insensitive:')\n",
    "for match in without_case.findall(text):\n",
    "    print('  {!r}'.format(match))"
   ]
  },
  {
   "cell_type": "markdown",
   "metadata": {},
   "source": [
    "## 8.1 Input with mulitline"
   ]
  },
  {
   "cell_type": "code",
   "execution_count": 32,
   "metadata": {
    "collapsed": false
   },
   "outputs": [
    {
     "name": "stdout",
     "output_type": "stream",
     "text": [
      "Text:\n",
      "  'This is some text -- with punctuation.\\nA second line.'\n",
      "Pattern:\n",
      "  (^\\w+)|(\\w+\\S*$)\n",
      "Single Line :\n",
      "  ('This', '')\n",
      "  ('', 'line.')\n",
      "Multline    :\n",
      "  ('This', '')\n",
      "  ('', 'punctuation.')\n",
      "  ('A', '')\n",
      "  ('', 'line.')\n"
     ]
    }
   ],
   "source": [
    "import re\n",
    "\n",
    "text = 'This is some text -- with punctuation.\\nA second line.'\n",
    "pattern = r'(^\\w+)|(\\w+\\S*$)'\n",
    "single_line = re.compile(pattern)\n",
    "multiline = re.compile(pattern, re.MULTILINE)\n",
    "\n",
    "print('Text:\\n  {!r}'.format(text))\n",
    "print('Pattern:\\n  {}'.format(pattern))\n",
    "print('Single Line :')\n",
    "for match in single_line.findall(text):\n",
    "    print('  {!r}'.format(match))\n",
    "print('Multline    :')\n",
    "for match in multiline.findall(text):\n",
    "    print('  {!r}'.format(match))"
   ]
  },
  {
   "cell_type": "markdown",
   "metadata": {},
   "source": [
    "# 9 Unicode"
   ]
  },
  {
   "cell_type": "code",
   "execution_count": 35,
   "metadata": {
    "collapsed": false
   },
   "outputs": [
    {
     "name": "stdout",
     "output_type": "stream",
     "text": [
      "Text    : Français złoty Österreich 中国矿业大学\n",
      "Pattern : \\w+\n",
      "ASCII   : ['Fran', 'ais', 'z', 'oty', 'sterreich']\n",
      "Unicode : ['Français', 'złoty', 'Österreich', '中国矿业大学']\n"
     ]
    }
   ],
   "source": [
    "import re\n",
    "\n",
    "text = u'Français złoty Österreich 中国矿业大学'\n",
    "pattern = r'\\w+'\n",
    "ascii_pattern = re.compile(pattern, re.ASCII)\n",
    "unicode_pattern = re.compile(pattern)\n",
    "\n",
    "print('Text    :', text)\n",
    "print('Pattern :', pattern)\n",
    "print('ASCII   :', list(ascii_pattern.findall(text)))\n",
    "print('Unicode :', list(unicode_pattern.findall(text)))"
   ]
  },
  {
   "cell_type": "markdown",
   "metadata": {},
   "source": [
    "# 10 Verbose Expression Syntax"
   ]
  },
  {
   "cell_type": "code",
   "execution_count": 36,
   "metadata": {
    "collapsed": false
   },
   "outputs": [
    {
     "name": "stdout",
     "output_type": "stream",
     "text": [
      "first.last@example.com          Matches\n",
      "first.last+category@gmail.com   Matches\n",
      "valid-address@mail.example.com  Matches\n",
      "not-valid@example.foo           No match\n"
     ]
    }
   ],
   "source": [
    "import re\n",
    "\n",
    "address = re.compile(\n",
    "    '''\n",
    "    [\\w\\d.+-]+       # username\n",
    "    @\n",
    "    ([\\w\\d.]+\\.)+    # domain name prefix\n",
    "    (com|org|edu)    # TODO: support more top-level domains\n",
    "    ''',\n",
    "    re.VERBOSE)\n",
    "\n",
    "candidates = [\n",
    "    u'first.last@example.com',\n",
    "    u'first.last+category@gmail.com',\n",
    "    u'valid-address@mail.example.com',\n",
    "    u'not-valid@example.foo',\n",
    "]\n",
    "\n",
    "for candidate in candidates:\n",
    "    match = address.search(candidate)\n",
    "    print('{:<30}  {}'.format(\n",
    "        candidate, 'Matches' if match else 'No match'),\n",
    "    )"
   ]
  },
  {
   "cell_type": "markdown",
   "metadata": {},
   "source": [
    "# 11 Modifying Strings with Patterns"
   ]
  },
  {
   "cell_type": "code",
   "execution_count": 38,
   "metadata": {
    "collapsed": false
   },
   "outputs": [
    {
     "name": "stdout",
     "output_type": "stream",
     "text": [
      "Text: Make this **bold**.  This **too**.\n",
      "Bold: Make this <b>bold</b>.  This <b>too</b>.\n"
     ]
    }
   ],
   "source": [
    "import re\n",
    "\n",
    "bold = re.compile(r'\\*{2}(.*?)\\*{2}')\n",
    "\n",
    "text = 'Make this **bold**.  This **too**.'\n",
    "\n",
    "print('Text:', text)\n",
    "print('Bold:', bold.sub(r'<b>\\1</b>', text))\n"
   ]
  },
  {
   "cell_type": "code",
   "execution_count": 39,
   "metadata": {
    "collapsed": false
   },
   "outputs": [
    {
     "name": "stdout",
     "output_type": "stream",
     "text": [
      "Text: Make this **bold**.  This **too**.\n",
      "Bold: Make this <b>bold</b>.  This <b>too</b>.\n"
     ]
    }
   ],
   "source": [
    "import re\n",
    "\n",
    "bold = re.compile(r'\\*{2}(?P<bold_text>.*?)\\*{2}')\n",
    "\n",
    "text = 'Make this **bold**.  This **too**.'\n",
    "\n",
    "print('Text:', text)\n",
    "print('Bold:', bold.sub(r'<b>\\g<bold_text></b>', text))"
   ]
  },
  {
   "cell_type": "markdown",
   "metadata": {},
   "source": [
    "# 12 Spliting with patterns"
   ]
  },
  {
   "cell_type": "code",
   "execution_count": 40,
   "metadata": {
    "collapsed": false
   },
   "outputs": [
    {
     "name": "stdout",
     "output_type": "stream",
     "text": [
      "With findall:\n",
      "0 ('Paragraph one\\non two lines.', '\\n\\n')\n",
      "\n",
      "1 ('Paragraph two.', '\\n\\n\\n')\n",
      "\n",
      "2 ('Paragraph three.', '')\n",
      "\n",
      "\n",
      "With split:\n",
      "0 'Paragraph one\\non two lines.'\n",
      "\n",
      "1 'Paragraph two.'\n",
      "\n",
      "2 'Paragraph three.'\n",
      "\n"
     ]
    }
   ],
   "source": [
    "import re\n",
    "\n",
    "text = '''Paragraph one\n",
    "on two lines.\n",
    "\n",
    "Paragraph two.\n",
    "\n",
    "\n",
    "Paragraph three.'''\n",
    "\n",
    "print('With findall:')\n",
    "for num, para in enumerate(re.findall(r'(.+?)(\\n{2,}|$)',\n",
    "                                      text,\n",
    "                                      flags=re.DOTALL)):\n",
    "    print(num, repr(para))\n",
    "    print()\n",
    "\n",
    "print()\n",
    "print('With split:')\n",
    "for num, para in enumerate(re.split(r'\\n{2,}', text)):\n",
    "    print(num, repr(para))\n",
    "    print()"
   ]
  }
 ],
 "metadata": {
  "kernelspec": {
   "display_name": "Python 3",
   "language": "python",
   "name": "python3"
  },
  "language_info": {
   "codemirror_mode": {
    "name": "ipython",
    "version": 3
   },
   "file_extension": ".py",
   "mimetype": "text/x-python",
   "name": "python",
   "nbconvert_exporter": "python",
   "pygments_lexer": "ipython3",
   "version": "3.6.0"
  }
 },
 "nbformat": 4,
 "nbformat_minor": 2
}
