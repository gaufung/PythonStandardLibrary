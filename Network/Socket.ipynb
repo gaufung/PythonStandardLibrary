{
 "cells": [
  {
   "cell_type": "markdown",
   "metadata": {},
   "source": [
    "# 1 Host"
   ]
  },
  {
   "cell_type": "code",
   "execution_count": 1,
   "metadata": {
    "collapsed": false
   },
   "outputs": [
    {
     "name": "stdout",
     "output_type": "stream",
     "text": [
      "gaofeng.local\n"
     ]
    }
   ],
   "source": [
    "import socket\n",
    "print(socket.gethostname())"
   ]
  },
  {
   "cell_type": "code",
   "execution_count": 2,
   "metadata": {
    "collapsed": false
   },
   "outputs": [
    {
     "name": "stdout",
     "output_type": "stream",
     "text": [
      "apu:[Errno 8] nodename nor servname provided, or not known\n",
      "gaufung.me:119.28.1.66\n",
      "www.python.org:151.101.76.223\n"
     ]
    }
   ],
   "source": [
    "HOSTS = [\n",
    "    'apu',\n",
    "    'gaufung.me',\n",
    "    'www.python.org'\n",
    "]\n",
    "for host in HOSTS:\n",
    "    try:\n",
    "        print('{}:{}'.format(host, socket.gethostbyname(host)))\n",
    "    except socket.error as msg:\n",
    "        print('{}:{}'.format(host,msg))"
   ]
  },
  {
   "cell_type": "code",
   "execution_count": 3,
   "metadata": {
    "collapsed": false
   },
   "outputs": [
    {
     "name": "stdout",
     "output_type": "stream",
     "text": [
      "apu\n",
      " Error [Errno 8] nodename nor servname provided, or not known\n",
      "\n",
      "gaufung.me\n",
      "  Hostname gaufung.me\n",
      "  Aliases []\n",
      "  Addresses ['119.28.1.66']\n",
      "\n",
      "www.python.org\n",
      "  Hostname python.map.fastly.net\n",
      "  Aliases ['www.python.org']\n",
      "  Addresses ['151.101.76.223']\n",
      "\n"
     ]
    }
   ],
   "source": [
    "for host in HOSTS:\n",
    "    print(host)\n",
    "    try:\n",
    "        name, aliases, addresses = socket.gethostbyname_ex(host)\n",
    "        print('  Hostname', name)\n",
    "        print('  Aliases', aliases)\n",
    "        print('  Addresses', addresses)\n",
    "    except socket.error as msg:\n",
    "        print(' Error', msg)\n",
    "    print()"
   ]
  },
  {
   "cell_type": "code",
   "execution_count": 6,
   "metadata": {
    "collapsed": false
   },
   "outputs": [
    {
     "name": "stdout",
     "output_type": "stream",
     "text": [
      "www.python.org:www.python.org\n"
     ]
    }
   ],
   "source": [
    "domain_name = 'www.python.org'\n",
    "print('{}:{}'.format(domain_name, socket.getfqdn(domain_name)))"
   ]
  },
  {
   "cell_type": "code",
   "execution_count": 7,
   "metadata": {
    "collapsed": false
   },
   "outputs": [
    {
     "name": "stdout",
     "output_type": "stream",
     "text": [
      " Hostname localhost\n",
      " aliases ['1.0.0.127.in-addr.arpa']\n",
      " address ['151.101.76.223']\n"
     ]
    }
   ],
   "source": [
    "hostname, aliases, address = socket.gethostbyaddr('127.0.0.1')\n",
    "print(' Hostname', hostname)\n",
    "print(' aliases', aliases)\n",
    "print(' address', addresses)"
   ]
  },
  {
   "cell_type": "markdown",
   "metadata": {},
   "source": [
    "# 2 Find Server Infomation"
   ]
  },
  {
   "cell_type": "code",
   "execution_count": 10,
   "metadata": {
    "collapsed": false
   },
   "outputs": [
    {
     "name": "stdout",
     "output_type": "stream",
     "text": [
      "  http:80\n",
      " https:443\n",
      "   ftp:21\n",
      "gopher:70\n",
      "  smtp:25\n",
      "  imap:143\n",
      " imaps:993\n",
      "  pop3:110\n",
      " pop3s:995\n"
     ]
    }
   ],
   "source": [
    "import socket\n",
    "from urllib.parse import urlparse\n",
    "URLS = [\n",
    "    'http://www.python.org',\n",
    "    'https://www.mybank.com',\n",
    "    'ftp://prep.ai.mit.edu',\n",
    "    'gopher://gopher.micro.umn.edu',\n",
    "    'smtp://mail.example.com',\n",
    "    'imap://mail.example.com',\n",
    "    'imaps://mail.example.com',\n",
    "    'pop3://pop.example.com',\n",
    "    'pop3s://pop.example.com',\n",
    "]\n",
    "for url in URLS:\n",
    "    parsed_url = urlparse(url)\n",
    "    port = socket.getservbyname(parsed_url.scheme)\n",
    "    print('{:>6}:{}'.format(parsed_url.scheme, port))"
   ]
  },
  {
   "cell_type": "code",
   "execution_count": 11,
   "metadata": {
    "collapsed": false
   },
   "outputs": [
    {
     "name": "stdout",
     "output_type": "stream",
     "text": [
      "http://example.com/\n",
      "https://example.com/\n",
      "ftp://example.com/\n",
      "gopher://example.com/\n",
      "smtp://example.com/\n",
      "imap://example.com/\n",
      "imaps://example.com/\n",
      "pop3://example.com/\n",
      "pop3s://example.com/\n"
     ]
    }
   ],
   "source": [
    "import socket\n",
    "from urllib.parse import urlunparse\n",
    "\n",
    "for port in [80, 443, 21, 70, 25, 143, 993, 110, 995]:\n",
    "    url = '{}://example.com/'.format(socket.getservbyport(port))\n",
    "    print(url)"
   ]
  },
  {
   "cell_type": "code",
   "execution_count": 14,
   "metadata": {
    "collapsed": false
   },
   "outputs": [
    {
     "name": "stdout",
     "output_type": "stream",
     "text": [
      "icmp ->  1 (socket.IPPROTO_ICMP =  1)\n",
      " udp -> 17 (socket.IPPROTO_UDP  = 17)\n",
      " tcp ->  6 (socket.IPPROTO_TCP  =  6)\n"
     ]
    }
   ],
   "source": [
    "import socket\n",
    "def get_constant(prefix):\n",
    "    return {\n",
    "        getattr(socket, n):n\n",
    "        for n in dir(socket)\n",
    "        if n.startswith(prefix)\n",
    "    }\n",
    "protocals = get_constant('IPPROTO_')\n",
    "for name in ['icmp','udp','tcp']:\n",
    "    proto_num = socket.getprotobyname(name)\n",
    "    const_name = protocals[proto_num]\n",
    "    print('{:>4} -> {:2d} (socket.{:<12} = {:2d})'.format(\n",
    "        name, proto_num, const_name,\n",
    "        getattr(socket, const_name)))"
   ]
  },
  {
   "cell_type": "markdown",
   "metadata": {},
   "source": [
    "# 3 Looking Up Server Addresses"
   ]
  },
  {
   "cell_type": "code",
   "execution_count": 16,
   "metadata": {
    "collapsed": false
   },
   "outputs": [
    {
     "name": "stdout",
     "output_type": "stream",
     "text": [
      "Family        : AF_INET\n",
      "Type          : SOCK_DGRAM\n",
      "Protocol      : IPPROTO_UDP\n",
      "Canonical name: \n",
      "Socket address: ('151.101.76.223', 80)\n",
      "\n",
      "Family        : AF_INET\n",
      "Type          : SOCK_STREAM\n",
      "Protocol      : IPPROTO_TCP\n",
      "Canonical name: \n",
      "Socket address: ('151.101.76.223', 80)\n",
      "\n",
      "Family        : AF_INET6\n",
      "Type          : SOCK_DGRAM\n",
      "Protocol      : IPPROTO_UDP\n",
      "Canonical name: \n",
      "Socket address: ('2a04:4e42:12::223', 80, 0, 0)\n",
      "\n",
      "Family        : AF_INET6\n",
      "Type          : SOCK_STREAM\n",
      "Protocol      : IPPROTO_TCP\n",
      "Canonical name: \n",
      "Socket address: ('2a04:4e42:12::223', 80, 0, 0)\n",
      "\n"
     ]
    }
   ],
   "source": [
    "import socket\n",
    "\n",
    "def get_constants(prefix):\n",
    "    \"\"\"Create a dictionary mapping socket module\n",
    "    constants to their names.\n",
    "    \"\"\"\n",
    "    return {\n",
    "        getattr(socket, n): n\n",
    "        for n in dir(socket)\n",
    "        if n.startswith(prefix)\n",
    "    }\n",
    "families = get_constants('AF_')\n",
    "types = get_constants('SOCK_')\n",
    "protocols = get_constants('IPPROTO_')\n",
    "for response in socket.getaddrinfo('www.python.org', 'http'):\n",
    "\n",
    "    # Unpack the response tuple\n",
    "    family, socktype, proto, canonname, sockaddr = response\n",
    "\n",
    "    print('Family        :', families[family])\n",
    "    print('Type          :', types[socktype])\n",
    "    print('Protocol      :', protocols[proto])\n",
    "    print('Canonical name:', canonname)\n",
    "    print('Socket address:', sockaddr)\n",
    "    print()"
   ]
  },
  {
   "cell_type": "markdown",
   "metadata": {},
   "source": [
    "# 4 IP Address Representations"
   ]
  },
  {
   "cell_type": "code",
   "execution_count": 19,
   "metadata": {
    "collapsed": false
   },
   "outputs": [
    {
     "name": "stdout",
     "output_type": "stream",
     "text": [
      "Original: 192.168.1.1\n",
      "Packed  : b'c0a80101'\n",
      "Unpacked: 192.168.1.1\n",
      "\n",
      "Original: 127.0.0.1\n",
      "Packed  : b'7f000001'\n",
      "Unpacked: 127.0.0.1\n",
      "\n"
     ]
    }
   ],
   "source": [
    "import binascii\n",
    "import socket\n",
    "import struct\n",
    "import sys\n",
    "\n",
    "for string_address in ['192.168.1.1', '127.0.0.1']:\n",
    "    packed = socket.inet_aton(string_address)\n",
    "    print('Original:', string_address)\n",
    "    print('Packed  :', binascii.hexlify(packed))\n",
    "    print('Unpacked:', socket.inet_ntoa(packed))\n",
    "    print()"
   ]
  }
 ],
 "metadata": {
  "kernelspec": {
   "display_name": "Python 3",
   "language": "python",
   "name": "python3"
  },
  "language_info": {
   "codemirror_mode": {
    "name": "ipython",
    "version": 3
   },
   "file_extension": ".py",
   "mimetype": "text/x-python",
   "name": "python",
   "nbconvert_exporter": "python",
   "pygments_lexer": "ipython3",
   "version": "3.6.0"
  }
 },
 "nbformat": 4,
 "nbformat_minor": 2
}
